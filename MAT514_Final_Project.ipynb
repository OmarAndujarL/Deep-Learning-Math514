{
  "cells": [
    {
      "cell_type": "markdown",
      "metadata": {
        "id": "view-in-github",
        "colab_type": "text"
      },
      "source": [
        "<a href=\"https://colab.research.google.com/github/OmarAndujarL/Deep-Learning-Math514/blob/main/MAT514_Final_Project.ipynb\" target=\"_parent\"><img src=\"https://colab.research.google.com/assets/colab-badge.svg\" alt=\"Open In Colab\"/></a>"
      ]
    },
    {
      "cell_type": "markdown",
      "metadata": {
        "id": "3nLkarqJDDlM"
      },
      "source": [
        "# I. Data Preprocessing\n",
        "\n"
      ]
    },
    {
      "cell_type": "markdown",
      "metadata": {
        "id": "gPN3YIoWxaDv"
      },
      "source": [
        "## Download Required Packages"
      ]
    },
    {
      "cell_type": "code",
      "source": [
        "#New tensorflow api\n",
        "!pip install tf-nightly"
      ],
      "metadata": {
        "colab": {
          "base_uri": "https://localhost:8080/"
        },
        "id": "Zsb2HEZ1IdJV",
        "outputId": "be4b54c6-6b28-47ba-915e-004ebb9a22df"
      },
      "execution_count": null,
      "outputs": [
        {
          "output_type": "stream",
          "name": "stdout",
          "text": [
            "Looking in indexes: https://pypi.org/simple, https://us-python.pkg.dev/colab-wheels/public/simple/\n",
            "Collecting tf-nightly\n",
            "  Downloading tf_nightly-2.14.0.dev20230509-cp310-cp310-manylinux_2_17_x86_64.manylinux2014_x86_64.whl (527.7 MB)\n",
            "\u001b[2K     \u001b[90m━━━━━━━━━━━━━━━━━━━━━━━━━━━━━━━━━━━━━━━\u001b[0m \u001b[32m527.7/527.7 MB\u001b[0m \u001b[31m2.8 MB/s\u001b[0m eta \u001b[36m0:00:00\u001b[0m\n",
            "\u001b[?25hRequirement already satisfied: absl-py>=1.0.0 in /usr/local/lib/python3.10/dist-packages (from tf-nightly) (1.4.0)\n",
            "Requirement already satisfied: astunparse>=1.6.0 in /usr/local/lib/python3.10/dist-packages (from tf-nightly) (1.6.3)\n",
            "Requirement already satisfied: flatbuffers>=23.1.21 in /usr/local/lib/python3.10/dist-packages (from tf-nightly) (23.3.3)\n",
            "Requirement already satisfied: gast<=0.4.0,>=0.2.1 in /usr/local/lib/python3.10/dist-packages (from tf-nightly) (0.4.0)\n",
            "Requirement already satisfied: google-pasta>=0.1.1 in /usr/local/lib/python3.10/dist-packages (from tf-nightly) (0.2.0)\n",
            "Requirement already satisfied: grpcio<2.0,>=1.24.3 in /usr/local/lib/python3.10/dist-packages (from tf-nightly) (1.54.0)\n",
            "Requirement already satisfied: h5py>=2.9.0 in /usr/local/lib/python3.10/dist-packages (from tf-nightly) (3.8.0)\n",
            "Collecting keras-nightly~=2.14.0.dev (from tf-nightly)\n",
            "  Downloading keras_nightly-2.14.0.dev2023050907-py3-none-any.whl (1.7 MB)\n",
            "\u001b[2K     \u001b[90m━━━━━━━━━━━━━━━━━━━━━━━━━━━━━━━━━━━━━━━━\u001b[0m \u001b[32m1.7/1.7 MB\u001b[0m \u001b[31m25.3 MB/s\u001b[0m eta \u001b[36m0:00:00\u001b[0m\n",
            "\u001b[?25hRequirement already satisfied: libclang>=13.0.0 in /usr/local/lib/python3.10/dist-packages (from tf-nightly) (16.0.0)\n",
            "Requirement already satisfied: numpy>=1.22 in /usr/local/lib/python3.10/dist-packages (from tf-nightly) (1.22.4)\n",
            "Requirement already satisfied: opt-einsum>=2.3.2 in /usr/local/lib/python3.10/dist-packages (from tf-nightly) (3.3.0)\n",
            "Requirement already satisfied: packaging in /usr/local/lib/python3.10/dist-packages (from tf-nightly) (23.1)\n",
            "Requirement already satisfied: protobuf!=4.21.0,!=4.21.1,!=4.21.2,!=4.21.3,!=4.21.4,!=4.21.5,<5.0.0dev,>=3.20.3 in /usr/local/lib/python3.10/dist-packages (from tf-nightly) (3.20.3)\n",
            "Requirement already satisfied: setuptools in /usr/local/lib/python3.10/dist-packages (from tf-nightly) (67.7.2)\n",
            "Requirement already satisfied: six>=1.12.0 in /usr/local/lib/python3.10/dist-packages (from tf-nightly) (1.16.0)\n",
            "Collecting tb-nightly~=2.14.0.a (from tf-nightly)\n",
            "  Downloading tb_nightly-2.14.0a20230509-py3-none-any.whl (5.6 MB)\n",
            "\u001b[2K     \u001b[90m━━━━━━━━━━━━━━━━━━━━━━━━━━━━━━━━━━━━━━━━\u001b[0m \u001b[32m5.6/5.6 MB\u001b[0m \u001b[31m107.5 MB/s\u001b[0m eta \u001b[36m0:00:00\u001b[0m\n",
            "\u001b[?25hRequirement already satisfied: termcolor>=1.1.0 in /usr/local/lib/python3.10/dist-packages (from tf-nightly) (2.3.0)\n",
            "Collecting tf-estimator-nightly~=2.14.0.dev (from tf-nightly)\n",
            "  Downloading tf_estimator_nightly-2.14.0.dev2023050908-py2.py3-none-any.whl (440 kB)\n",
            "\u001b[2K     \u001b[90m━━━━━━━━━━━━━━━━━━━━━━━━━━━━━━━━━━━━━━\u001b[0m \u001b[32m441.0/441.0 kB\u001b[0m \u001b[31m46.1 MB/s\u001b[0m eta \u001b[36m0:00:00\u001b[0m\n",
            "\u001b[?25hRequirement already satisfied: typing-extensions>=3.6.6 in /usr/local/lib/python3.10/dist-packages (from tf-nightly) (4.5.0)\n",
            "Requirement already satisfied: wrapt<1.15,>=1.11.0 in /usr/local/lib/python3.10/dist-packages (from tf-nightly) (1.14.1)\n",
            "Requirement already satisfied: tensorflow-io-gcs-filesystem>=0.23.1 in /usr/local/lib/python3.10/dist-packages (from tf-nightly) (0.32.0)\n",
            "Requirement already satisfied: wheel<1.0,>=0.23.0 in /usr/local/lib/python3.10/dist-packages (from astunparse>=1.6.0->tf-nightly) (0.40.0)\n",
            "Requirement already satisfied: google-auth<3,>=1.6.3 in /usr/local/lib/python3.10/dist-packages (from tb-nightly~=2.14.0.a->tf-nightly) (2.17.3)\n",
            "Requirement already satisfied: google-auth-oauthlib<1.1,>=0.5 in /usr/local/lib/python3.10/dist-packages (from tb-nightly~=2.14.0.a->tf-nightly) (1.0.0)\n",
            "Requirement already satisfied: markdown>=2.6.8 in /usr/local/lib/python3.10/dist-packages (from tb-nightly~=2.14.0.a->tf-nightly) (3.4.3)\n",
            "Requirement already satisfied: requests<3,>=2.21.0 in /usr/local/lib/python3.10/dist-packages (from tb-nightly~=2.14.0.a->tf-nightly) (2.27.1)\n",
            "Requirement already satisfied: tensorboard-data-server<0.8.0,>=0.7.0 in /usr/local/lib/python3.10/dist-packages (from tb-nightly~=2.14.0.a->tf-nightly) (0.7.0)\n",
            "Requirement already satisfied: werkzeug>=1.0.1 in /usr/local/lib/python3.10/dist-packages (from tb-nightly~=2.14.0.a->tf-nightly) (2.3.0)\n",
            "Requirement already satisfied: cachetools<6.0,>=2.0.0 in /usr/local/lib/python3.10/dist-packages (from google-auth<3,>=1.6.3->tb-nightly~=2.14.0.a->tf-nightly) (5.3.0)\n",
            "Requirement already satisfied: pyasn1-modules>=0.2.1 in /usr/local/lib/python3.10/dist-packages (from google-auth<3,>=1.6.3->tb-nightly~=2.14.0.a->tf-nightly) (0.3.0)\n",
            "Requirement already satisfied: rsa<5,>=3.1.4 in /usr/local/lib/python3.10/dist-packages (from google-auth<3,>=1.6.3->tb-nightly~=2.14.0.a->tf-nightly) (4.9)\n",
            "Requirement already satisfied: requests-oauthlib>=0.7.0 in /usr/local/lib/python3.10/dist-packages (from google-auth-oauthlib<1.1,>=0.5->tb-nightly~=2.14.0.a->tf-nightly) (1.3.1)\n",
            "Requirement already satisfied: urllib3<1.27,>=1.21.1 in /usr/local/lib/python3.10/dist-packages (from requests<3,>=2.21.0->tb-nightly~=2.14.0.a->tf-nightly) (1.26.15)\n",
            "Requirement already satisfied: certifi>=2017.4.17 in /usr/local/lib/python3.10/dist-packages (from requests<3,>=2.21.0->tb-nightly~=2.14.0.a->tf-nightly) (2022.12.7)\n",
            "Requirement already satisfied: charset-normalizer~=2.0.0 in /usr/local/lib/python3.10/dist-packages (from requests<3,>=2.21.0->tb-nightly~=2.14.0.a->tf-nightly) (2.0.12)\n",
            "Requirement already satisfied: idna<4,>=2.5 in /usr/local/lib/python3.10/dist-packages (from requests<3,>=2.21.0->tb-nightly~=2.14.0.a->tf-nightly) (3.4)\n",
            "Requirement already satisfied: MarkupSafe>=2.1.1 in /usr/local/lib/python3.10/dist-packages (from werkzeug>=1.0.1->tb-nightly~=2.14.0.a->tf-nightly) (2.1.2)\n",
            "Requirement already satisfied: pyasn1<0.6.0,>=0.4.6 in /usr/local/lib/python3.10/dist-packages (from pyasn1-modules>=0.2.1->google-auth<3,>=1.6.3->tb-nightly~=2.14.0.a->tf-nightly) (0.5.0)\n",
            "Requirement already satisfied: oauthlib>=3.0.0 in /usr/local/lib/python3.10/dist-packages (from requests-oauthlib>=0.7.0->google-auth-oauthlib<1.1,>=0.5->tb-nightly~=2.14.0.a->tf-nightly) (3.2.2)\n",
            "Installing collected packages: tf-estimator-nightly, keras-nightly, tb-nightly, tf-nightly\n",
            "Successfully installed keras-nightly-2.14.0.dev2023050907 tb-nightly-2.14.0a20230509 tf-estimator-nightly-2.14.0.dev2023050908 tf-nightly-2.14.0.dev20230509\n"
          ]
        }
      ]
    },
    {
      "cell_type": "code",
      "execution_count": null,
      "metadata": {
        "colab": {
          "base_uri": "https://localhost:8080/"
        },
        "id": "plV2U_D-oLSk",
        "outputId": "6535440c-8e06-47ae-d6c4-2bf86dd3ac7a"
      },
      "outputs": [
        {
          "output_type": "stream",
          "name": "stdout",
          "text": [
            "Looking in indexes: https://pypi.org/simple, https://us-python.pkg.dev/colab-wheels/public/simple/\n",
            "Collecting yahoo_fin\n",
            "  Downloading yahoo_fin-0.8.9.1-py3-none-any.whl (10 kB)\n",
            "Collecting requests-html (from yahoo_fin)\n",
            "  Downloading requests_html-0.10.0-py3-none-any.whl (13 kB)\n",
            "Collecting feedparser (from yahoo_fin)\n",
            "  Downloading feedparser-6.0.10-py3-none-any.whl (81 kB)\n",
            "\u001b[2K     \u001b[90m━━━━━━━━━━━━━━━━━━━━━━━━━━━━━━━━━━━━━━━━\u001b[0m \u001b[32m81.1/81.1 kB\u001b[0m \u001b[31m4.6 MB/s\u001b[0m eta \u001b[36m0:00:00\u001b[0m\n",
            "\u001b[?25hRequirement already satisfied: requests in /usr/local/lib/python3.10/dist-packages (from yahoo_fin) (2.27.1)\n",
            "Requirement already satisfied: pandas in /usr/local/lib/python3.10/dist-packages (from yahoo_fin) (1.5.3)\n",
            "Collecting sgmllib3k (from feedparser->yahoo_fin)\n",
            "  Downloading sgmllib3k-1.0.0.tar.gz (5.8 kB)\n",
            "  Preparing metadata (setup.py) ... \u001b[?25l\u001b[?25hdone\n",
            "Requirement already satisfied: python-dateutil>=2.8.1 in /usr/local/lib/python3.10/dist-packages (from pandas->yahoo_fin) (2.8.2)\n",
            "Requirement already satisfied: pytz>=2020.1 in /usr/local/lib/python3.10/dist-packages (from pandas->yahoo_fin) (2022.7.1)\n",
            "Requirement already satisfied: numpy>=1.21.0 in /usr/local/lib/python3.10/dist-packages (from pandas->yahoo_fin) (1.22.4)\n",
            "Requirement already satisfied: urllib3<1.27,>=1.21.1 in /usr/local/lib/python3.10/dist-packages (from requests->yahoo_fin) (1.26.15)\n",
            "Requirement already satisfied: certifi>=2017.4.17 in /usr/local/lib/python3.10/dist-packages (from requests->yahoo_fin) (2022.12.7)\n",
            "Requirement already satisfied: charset-normalizer~=2.0.0 in /usr/local/lib/python3.10/dist-packages (from requests->yahoo_fin) (2.0.12)\n",
            "Requirement already satisfied: idna<4,>=2.5 in /usr/local/lib/python3.10/dist-packages (from requests->yahoo_fin) (3.4)\n",
            "Collecting pyquery (from requests-html->yahoo_fin)\n",
            "  Downloading pyquery-2.0.0-py3-none-any.whl (22 kB)\n",
            "Collecting fake-useragent (from requests-html->yahoo_fin)\n",
            "  Downloading fake_useragent-1.1.3-py3-none-any.whl (50 kB)\n",
            "\u001b[2K     \u001b[90m━━━━━━━━━━━━━━━━━━━━━━━━━━━━━━━━━━━━━━━━\u001b[0m \u001b[32m50.5/50.5 kB\u001b[0m \u001b[31m5.5 MB/s\u001b[0m eta \u001b[36m0:00:00\u001b[0m\n",
            "\u001b[?25hCollecting parse (from requests-html->yahoo_fin)\n",
            "  Downloading parse-1.19.0.tar.gz (30 kB)\n",
            "  Preparing metadata (setup.py) ... \u001b[?25l\u001b[?25hdone\n",
            "Collecting bs4 (from requests-html->yahoo_fin)\n",
            "  Downloading bs4-0.0.1.tar.gz (1.1 kB)\n",
            "  Preparing metadata (setup.py) ... \u001b[?25l\u001b[?25hdone\n",
            "Collecting w3lib (from requests-html->yahoo_fin)\n",
            "  Downloading w3lib-2.1.1-py3-none-any.whl (21 kB)\n",
            "Collecting pyppeteer>=0.0.14 (from requests-html->yahoo_fin)\n",
            "  Downloading pyppeteer-1.0.2-py3-none-any.whl (83 kB)\n",
            "\u001b[2K     \u001b[90m━━━━━━━━━━━━━━━━━━━━━━━━━━━━━━━━━━━━━━━━\u001b[0m \u001b[32m83.4/83.4 kB\u001b[0m \u001b[31m8.9 MB/s\u001b[0m eta \u001b[36m0:00:00\u001b[0m\n",
            "\u001b[?25hRequirement already satisfied: appdirs<2.0.0,>=1.4.3 in /usr/local/lib/python3.10/dist-packages (from pyppeteer>=0.0.14->requests-html->yahoo_fin) (1.4.4)\n",
            "Collecting importlib-metadata>=1.4 (from pyppeteer>=0.0.14->requests-html->yahoo_fin)\n",
            "  Downloading importlib_metadata-6.6.0-py3-none-any.whl (22 kB)\n",
            "Collecting pyee<9.0.0,>=8.1.0 (from pyppeteer>=0.0.14->requests-html->yahoo_fin)\n",
            "  Downloading pyee-8.2.2-py2.py3-none-any.whl (12 kB)\n",
            "Requirement already satisfied: tqdm<5.0.0,>=4.42.1 in /usr/local/lib/python3.10/dist-packages (from pyppeteer>=0.0.14->requests-html->yahoo_fin) (4.65.0)\n",
            "Collecting websockets<11.0,>=10.0 (from pyppeteer>=0.0.14->requests-html->yahoo_fin)\n",
            "  Downloading websockets-10.4-cp310-cp310-manylinux_2_5_x86_64.manylinux1_x86_64.manylinux_2_17_x86_64.manylinux2014_x86_64.whl (106 kB)\n",
            "\u001b[2K     \u001b[90m━━━━━━━━━━━━━━━━━━━━━━━━━━━━━━━━━━━━━━\u001b[0m \u001b[32m106.8/106.8 kB\u001b[0m \u001b[31m10.7 MB/s\u001b[0m eta \u001b[36m0:00:00\u001b[0m\n",
            "\u001b[?25hRequirement already satisfied: six>=1.5 in /usr/local/lib/python3.10/dist-packages (from python-dateutil>=2.8.1->pandas->yahoo_fin) (1.16.0)\n",
            "Requirement already satisfied: beautifulsoup4 in /usr/local/lib/python3.10/dist-packages (from bs4->requests-html->yahoo_fin) (4.11.2)\n",
            "Requirement already satisfied: lxml>=2.1 in /usr/local/lib/python3.10/dist-packages (from pyquery->requests-html->yahoo_fin) (4.9.2)\n",
            "Collecting cssselect>=1.2.0 (from pyquery->requests-html->yahoo_fin)\n",
            "  Downloading cssselect-1.2.0-py2.py3-none-any.whl (18 kB)\n",
            "Requirement already satisfied: zipp>=0.5 in /usr/local/lib/python3.10/dist-packages (from importlib-metadata>=1.4->pyppeteer>=0.0.14->requests-html->yahoo_fin) (3.15.0)\n",
            "Requirement already satisfied: soupsieve>1.2 in /usr/local/lib/python3.10/dist-packages (from beautifulsoup4->bs4->requests-html->yahoo_fin) (2.4.1)\n",
            "Building wheels for collected packages: bs4, parse, sgmllib3k\n",
            "  Building wheel for bs4 (setup.py) ... \u001b[?25l\u001b[?25hdone\n",
            "  Created wheel for bs4: filename=bs4-0.0.1-py3-none-any.whl size=1257 sha256=795aa54f3c544b9dafa6914f89ba5b8adabae1e6960381a9e524a6cd4313ac5e\n",
            "  Stored in directory: /root/.cache/pip/wheels/25/42/45/b773edc52acb16cd2db4cf1a0b47117e2f69bb4eb300ed0e70\n",
            "  Building wheel for parse (setup.py) ... \u001b[?25l\u001b[?25hdone\n",
            "  Created wheel for parse: filename=parse-1.19.0-py3-none-any.whl size=24570 sha256=3c419944f06d204c726c65731721cbb2d128f076edb2c646ce20248f36eb2cf9\n",
            "  Stored in directory: /root/.cache/pip/wheels/70/4b/f0/eaf5a8de646d8676dc25caa01949b9f9d883b8fa2efb435bc3\n",
            "  Building wheel for sgmllib3k (setup.py) ... \u001b[?25l\u001b[?25hdone\n",
            "  Created wheel for sgmllib3k: filename=sgmllib3k-1.0.0-py3-none-any.whl size=6046 sha256=c73cc5ff5209862224a144295af8c1455b926aec490da2130567a2f0c2c74669\n",
            "  Stored in directory: /root/.cache/pip/wheels/f0/69/93/a47e9d621be168e9e33c7ce60524393c0b92ae83cf6c6e89c5\n",
            "Successfully built bs4 parse sgmllib3k\n",
            "Installing collected packages: sgmllib3k, pyee, parse, fake-useragent, websockets, w3lib, importlib-metadata, feedparser, cssselect, pyquery, pyppeteer, bs4, requests-html, yahoo_fin\n",
            "Successfully installed bs4-0.0.1 cssselect-1.2.0 fake-useragent-1.1.3 feedparser-6.0.10 importlib-metadata-6.6.0 parse-1.19.0 pyee-8.2.2 pyppeteer-1.0.2 pyquery-2.0.0 requests-html-0.10.0 sgmllib3k-1.0.0 w3lib-2.1.1 websockets-10.4 yahoo_fin-0.8.9.1\n",
            "Looking in indexes: https://pypi.org/simple, https://us-python.pkg.dev/colab-wheels/public/simple/\n",
            "Requirement already satisfied: yfinance in /usr/local/lib/python3.10/dist-packages (0.2.18)\n",
            "Requirement already satisfied: pandas>=1.3.0 in /usr/local/lib/python3.10/dist-packages (from yfinance) (1.5.3)\n",
            "Requirement already satisfied: numpy>=1.16.5 in /usr/local/lib/python3.10/dist-packages (from yfinance) (1.22.4)\n",
            "Requirement already satisfied: requests>=2.26 in /usr/local/lib/python3.10/dist-packages (from yfinance) (2.27.1)\n",
            "Requirement already satisfied: multitasking>=0.0.7 in /usr/local/lib/python3.10/dist-packages (from yfinance) (0.0.11)\n",
            "Requirement already satisfied: lxml>=4.9.1 in /usr/local/lib/python3.10/dist-packages (from yfinance) (4.9.2)\n",
            "Requirement already satisfied: appdirs>=1.4.4 in /usr/local/lib/python3.10/dist-packages (from yfinance) (1.4.4)\n",
            "Requirement already satisfied: pytz>=2022.5 in /usr/local/lib/python3.10/dist-packages (from yfinance) (2022.7.1)\n",
            "Requirement already satisfied: frozendict>=2.3.4 in /usr/local/lib/python3.10/dist-packages (from yfinance) (2.3.7)\n",
            "Requirement already satisfied: cryptography>=3.3.2 in /usr/local/lib/python3.10/dist-packages (from yfinance) (40.0.2)\n",
            "Requirement already satisfied: beautifulsoup4>=4.11.1 in /usr/local/lib/python3.10/dist-packages (from yfinance) (4.11.2)\n",
            "Requirement already satisfied: html5lib>=1.1 in /usr/local/lib/python3.10/dist-packages (from yfinance) (1.1)\n",
            "Requirement already satisfied: soupsieve>1.2 in /usr/local/lib/python3.10/dist-packages (from beautifulsoup4>=4.11.1->yfinance) (2.4.1)\n",
            "Requirement already satisfied: cffi>=1.12 in /usr/local/lib/python3.10/dist-packages (from cryptography>=3.3.2->yfinance) (1.15.1)\n",
            "Requirement already satisfied: six>=1.9 in /usr/local/lib/python3.10/dist-packages (from html5lib>=1.1->yfinance) (1.16.0)\n",
            "Requirement already satisfied: webencodings in /usr/local/lib/python3.10/dist-packages (from html5lib>=1.1->yfinance) (0.5.1)\n",
            "Requirement already satisfied: python-dateutil>=2.8.1 in /usr/local/lib/python3.10/dist-packages (from pandas>=1.3.0->yfinance) (2.8.2)\n",
            "Requirement already satisfied: urllib3<1.27,>=1.21.1 in /usr/local/lib/python3.10/dist-packages (from requests>=2.26->yfinance) (1.26.15)\n",
            "Requirement already satisfied: certifi>=2017.4.17 in /usr/local/lib/python3.10/dist-packages (from requests>=2.26->yfinance) (2022.12.7)\n",
            "Requirement already satisfied: charset-normalizer~=2.0.0 in /usr/local/lib/python3.10/dist-packages (from requests>=2.26->yfinance) (2.0.12)\n",
            "Requirement already satisfied: idna<4,>=2.5 in /usr/local/lib/python3.10/dist-packages (from requests>=2.26->yfinance) (3.4)\n",
            "Requirement already satisfied: pycparser in /usr/local/lib/python3.10/dist-packages (from cffi>=1.12->cryptography>=3.3.2->yfinance) (2.21)\n"
          ]
        }
      ],
      "source": [
        "#Downlaod Package\n",
        "!pip install yahoo_fin\n",
        "!pip install yfinance"
      ]
    },
    {
      "cell_type": "markdown",
      "metadata": {
        "id": "-kTbFbYKxhKC"
      },
      "source": [
        "## Loading Packages"
      ]
    },
    {
      "cell_type": "code",
      "execution_count": null,
      "metadata": {
        "colab": {
          "base_uri": "https://localhost:8080/"
        },
        "id": "E6dud1x5oBwO",
        "outputId": "fe92742e-006d-4d53-dde3-ce143b1bda8a"
      },
      "outputs": [
        {
          "output_type": "stream",
          "name": "stdout",
          "text": [
            "2.14.0-dev20230509\n"
          ]
        }
      ],
      "source": [
        "import numpy as np\n",
        "import pandas as pd\n",
        "import matplotlib.pyplot as plt\n",
        "from math import *\n",
        "import scipy.stats as st\n",
        "from yahoo_fin import options\n",
        "import yfinance as yf\n",
        "from datetime import datetime,timedelta\n",
        "from scipy.stats import norm\n",
        "import seaborn as sns\n",
        "import tensorflow as tf\n",
        "from tensorflow import keras\n",
        "from tensorflow.keras import layers\n",
        "from tensorflow.keras.layers.experimental import preprocessing\n",
        "from scipy.optimize import minimize\n",
        "print(tf.__version__)"
      ]
    },
    {
      "cell_type": "markdown",
      "metadata": {
        "id": "rsAH_grzxrHz"
      },
      "source": [
        "## Data Access"
      ]
    },
    {
      "cell_type": "code",
      "execution_count": null,
      "metadata": {
        "id": "_8TPkTBQoDev"
      },
      "outputs": [],
      "source": [
        "#Symbols\n",
        "tick='^SPX'\n",
        "index='^GSPC'\n",
        "sp500 = yf.Ticker(index)\n",
        "expirations=options.get_expiration_dates(tick)"
      ]
    },
    {
      "cell_type": "code",
      "execution_count": null,
      "metadata": {
        "id": "pUPyt1Ubormj"
      },
      "outputs": [],
      "source": [
        "info = {}\n",
        "for date in expirations:\n",
        "  #Somehow there is an error with this date\n",
        "    if date!='March 20, 2026':\n",
        "        info[date] = options.get_options_chain(tick,date)\n",
        "\n",
        "Calls=[]\n",
        "Puts=[]\n",
        "for date in expirations:\n",
        "    if date!='March 20, 2026':\n",
        "        Calls.append(info[date]['calls'][['Contract Name','Last Trade Date','Strike','Last Price']])\n",
        "        Puts.append(info[date]['puts'][['Contract Name','Last Trade Date','Strike','Last Price']])"
      ]
    },
    {
      "cell_type": "code",
      "execution_count": null,
      "metadata": {
        "id": "lss01OB3ovKO"
      },
      "outputs": [],
      "source": [
        "Cs=pd.concat(Calls)\n",
        "Cs=Cs.reset_index()\n",
        "Cs=Cs.drop('index',axis=1)\n",
        "\n",
        "Ps=pd.concat(Puts)\n",
        "Ps=Ps.reset_index()\n",
        "Ps=Ps.drop('index',axis=1)\n",
        "\n",
        "#We only interested in the year-month-date\n",
        "Cs['Date']=Cs['Last Trade Date'].map(lambda x:x[0:10])\n",
        "Ps['Date']=Ps['Last Trade Date'].map(lambda x:x[0:10])"
      ]
    },
    {
      "cell_type": "markdown",
      "metadata": {
        "id": "X2UjWWltyFRC"
      },
      "source": [
        "## Initial Look of the Dataset"
      ]
    },
    {
      "cell_type": "markdown",
      "source": [
        "Calls dataset"
      ],
      "metadata": {
        "id": "C4kpLFOTgmNU"
      }
    },
    {
      "cell_type": "code",
      "execution_count": null,
      "metadata": {
        "colab": {
          "base_uri": "https://localhost:8080/",
          "height": 424
        },
        "id": "rI0CaYBuQqng",
        "outputId": "b03875d3-ba0c-4e0b-f4e1-24148643bce2"
      },
      "outputs": [
        {
          "output_type": "execute_result",
          "data": {
            "text/plain": [
              "            Contract Name         Last Trade Date   Strike  Last Price  \\\n",
              "0     SPXW230509C02200000   2023-05-03 3:01PM EDT   2200.0     1937.60   \n",
              "1     SPXW230509C02400000   2023-04-18 1:51PM EDT   2400.0     1761.10   \n",
              "2     SPXW230509C02600000   2023-04-18 1:51PM EDT   2600.0     1561.62   \n",
              "3     SPXW230509C03000000   2023-05-03 3:17PM EDT   3000.0     1117.20   \n",
              "4     SPXW230509C03200000   2023-05-09 3:26PM EDT   3200.0      924.55   \n",
              "...                   ...                     ...      ...         ...   \n",
              "5321   SPX271217C08800000   2022-12-30 1:35PM EDT   8800.0       27.88   \n",
              "5322   SPX271217C09200000  2023-03-28 11:29AM EDT   9200.0       12.40   \n",
              "5323   SPX271217C09600000  2023-04-28 11:44AM EDT   9600.0       13.42   \n",
              "5324   SPX271217C10000000  2023-04-28 11:44AM EDT  10000.0       10.37   \n",
              "5325   SPX271217C12000000   2023-05-09 3:58PM EDT  12000.0        3.80   \n",
              "\n",
              "            Date  \n",
              "0     2023-05-03  \n",
              "1     2023-04-18  \n",
              "2     2023-04-18  \n",
              "3     2023-05-03  \n",
              "4     2023-05-09  \n",
              "...          ...  \n",
              "5321  2022-12-30  \n",
              "5322  2023-03-28  \n",
              "5323  2023-04-28  \n",
              "5324  2023-04-28  \n",
              "5325  2023-05-09  \n",
              "\n",
              "[5326 rows x 5 columns]"
            ],
            "text/html": [
              "\n",
              "  <div id=\"df-d74b7787-7f75-4483-92f3-1e410649da09\">\n",
              "    <div class=\"colab-df-container\">\n",
              "      <div>\n",
              "<style scoped>\n",
              "    .dataframe tbody tr th:only-of-type {\n",
              "        vertical-align: middle;\n",
              "    }\n",
              "\n",
              "    .dataframe tbody tr th {\n",
              "        vertical-align: top;\n",
              "    }\n",
              "\n",
              "    .dataframe thead th {\n",
              "        text-align: right;\n",
              "    }\n",
              "</style>\n",
              "<table border=\"1\" class=\"dataframe\">\n",
              "  <thead>\n",
              "    <tr style=\"text-align: right;\">\n",
              "      <th></th>\n",
              "      <th>Contract Name</th>\n",
              "      <th>Last Trade Date</th>\n",
              "      <th>Strike</th>\n",
              "      <th>Last Price</th>\n",
              "      <th>Date</th>\n",
              "    </tr>\n",
              "  </thead>\n",
              "  <tbody>\n",
              "    <tr>\n",
              "      <th>0</th>\n",
              "      <td>SPXW230509C02200000</td>\n",
              "      <td>2023-05-03 3:01PM EDT</td>\n",
              "      <td>2200.0</td>\n",
              "      <td>1937.60</td>\n",
              "      <td>2023-05-03</td>\n",
              "    </tr>\n",
              "    <tr>\n",
              "      <th>1</th>\n",
              "      <td>SPXW230509C02400000</td>\n",
              "      <td>2023-04-18 1:51PM EDT</td>\n",
              "      <td>2400.0</td>\n",
              "      <td>1761.10</td>\n",
              "      <td>2023-04-18</td>\n",
              "    </tr>\n",
              "    <tr>\n",
              "      <th>2</th>\n",
              "      <td>SPXW230509C02600000</td>\n",
              "      <td>2023-04-18 1:51PM EDT</td>\n",
              "      <td>2600.0</td>\n",
              "      <td>1561.62</td>\n",
              "      <td>2023-04-18</td>\n",
              "    </tr>\n",
              "    <tr>\n",
              "      <th>3</th>\n",
              "      <td>SPXW230509C03000000</td>\n",
              "      <td>2023-05-03 3:17PM EDT</td>\n",
              "      <td>3000.0</td>\n",
              "      <td>1117.20</td>\n",
              "      <td>2023-05-03</td>\n",
              "    </tr>\n",
              "    <tr>\n",
              "      <th>4</th>\n",
              "      <td>SPXW230509C03200000</td>\n",
              "      <td>2023-05-09 3:26PM EDT</td>\n",
              "      <td>3200.0</td>\n",
              "      <td>924.55</td>\n",
              "      <td>2023-05-09</td>\n",
              "    </tr>\n",
              "    <tr>\n",
              "      <th>...</th>\n",
              "      <td>...</td>\n",
              "      <td>...</td>\n",
              "      <td>...</td>\n",
              "      <td>...</td>\n",
              "      <td>...</td>\n",
              "    </tr>\n",
              "    <tr>\n",
              "      <th>5321</th>\n",
              "      <td>SPX271217C08800000</td>\n",
              "      <td>2022-12-30 1:35PM EDT</td>\n",
              "      <td>8800.0</td>\n",
              "      <td>27.88</td>\n",
              "      <td>2022-12-30</td>\n",
              "    </tr>\n",
              "    <tr>\n",
              "      <th>5322</th>\n",
              "      <td>SPX271217C09200000</td>\n",
              "      <td>2023-03-28 11:29AM EDT</td>\n",
              "      <td>9200.0</td>\n",
              "      <td>12.40</td>\n",
              "      <td>2023-03-28</td>\n",
              "    </tr>\n",
              "    <tr>\n",
              "      <th>5323</th>\n",
              "      <td>SPX271217C09600000</td>\n",
              "      <td>2023-04-28 11:44AM EDT</td>\n",
              "      <td>9600.0</td>\n",
              "      <td>13.42</td>\n",
              "      <td>2023-04-28</td>\n",
              "    </tr>\n",
              "    <tr>\n",
              "      <th>5324</th>\n",
              "      <td>SPX271217C10000000</td>\n",
              "      <td>2023-04-28 11:44AM EDT</td>\n",
              "      <td>10000.0</td>\n",
              "      <td>10.37</td>\n",
              "      <td>2023-04-28</td>\n",
              "    </tr>\n",
              "    <tr>\n",
              "      <th>5325</th>\n",
              "      <td>SPX271217C12000000</td>\n",
              "      <td>2023-05-09 3:58PM EDT</td>\n",
              "      <td>12000.0</td>\n",
              "      <td>3.80</td>\n",
              "      <td>2023-05-09</td>\n",
              "    </tr>\n",
              "  </tbody>\n",
              "</table>\n",
              "<p>5326 rows × 5 columns</p>\n",
              "</div>\n",
              "      <button class=\"colab-df-convert\" onclick=\"convertToInteractive('df-d74b7787-7f75-4483-92f3-1e410649da09')\"\n",
              "              title=\"Convert this dataframe to an interactive table.\"\n",
              "              style=\"display:none;\">\n",
              "        \n",
              "  <svg xmlns=\"http://www.w3.org/2000/svg\" height=\"24px\"viewBox=\"0 0 24 24\"\n",
              "       width=\"24px\">\n",
              "    <path d=\"M0 0h24v24H0V0z\" fill=\"none\"/>\n",
              "    <path d=\"M18.56 5.44l.94 2.06.94-2.06 2.06-.94-2.06-.94-.94-2.06-.94 2.06-2.06.94zm-11 1L8.5 8.5l.94-2.06 2.06-.94-2.06-.94L8.5 2.5l-.94 2.06-2.06.94zm10 10l.94 2.06.94-2.06 2.06-.94-2.06-.94-.94-2.06-.94 2.06-2.06.94z\"/><path d=\"M17.41 7.96l-1.37-1.37c-.4-.4-.92-.59-1.43-.59-.52 0-1.04.2-1.43.59L10.3 9.45l-7.72 7.72c-.78.78-.78 2.05 0 2.83L4 21.41c.39.39.9.59 1.41.59.51 0 1.02-.2 1.41-.59l7.78-7.78 2.81-2.81c.8-.78.8-2.07 0-2.86zM5.41 20L4 18.59l7.72-7.72 1.47 1.35L5.41 20z\"/>\n",
              "  </svg>\n",
              "      </button>\n",
              "      \n",
              "  <style>\n",
              "    .colab-df-container {\n",
              "      display:flex;\n",
              "      flex-wrap:wrap;\n",
              "      gap: 12px;\n",
              "    }\n",
              "\n",
              "    .colab-df-convert {\n",
              "      background-color: #E8F0FE;\n",
              "      border: none;\n",
              "      border-radius: 50%;\n",
              "      cursor: pointer;\n",
              "      display: none;\n",
              "      fill: #1967D2;\n",
              "      height: 32px;\n",
              "      padding: 0 0 0 0;\n",
              "      width: 32px;\n",
              "    }\n",
              "\n",
              "    .colab-df-convert:hover {\n",
              "      background-color: #E2EBFA;\n",
              "      box-shadow: 0px 1px 2px rgba(60, 64, 67, 0.3), 0px 1px 3px 1px rgba(60, 64, 67, 0.15);\n",
              "      fill: #174EA6;\n",
              "    }\n",
              "\n",
              "    [theme=dark] .colab-df-convert {\n",
              "      background-color: #3B4455;\n",
              "      fill: #D2E3FC;\n",
              "    }\n",
              "\n",
              "    [theme=dark] .colab-df-convert:hover {\n",
              "      background-color: #434B5C;\n",
              "      box-shadow: 0px 1px 3px 1px rgba(0, 0, 0, 0.15);\n",
              "      filter: drop-shadow(0px 1px 2px rgba(0, 0, 0, 0.3));\n",
              "      fill: #FFFFFF;\n",
              "    }\n",
              "  </style>\n",
              "\n",
              "      <script>\n",
              "        const buttonEl =\n",
              "          document.querySelector('#df-d74b7787-7f75-4483-92f3-1e410649da09 button.colab-df-convert');\n",
              "        buttonEl.style.display =\n",
              "          google.colab.kernel.accessAllowed ? 'block' : 'none';\n",
              "\n",
              "        async function convertToInteractive(key) {\n",
              "          const element = document.querySelector('#df-d74b7787-7f75-4483-92f3-1e410649da09');\n",
              "          const dataTable =\n",
              "            await google.colab.kernel.invokeFunction('convertToInteractive',\n",
              "                                                     [key], {});\n",
              "          if (!dataTable) return;\n",
              "\n",
              "          const docLinkHtml = 'Like what you see? Visit the ' +\n",
              "            '<a target=\"_blank\" href=https://colab.research.google.com/notebooks/data_table.ipynb>data table notebook</a>'\n",
              "            + ' to learn more about interactive tables.';\n",
              "          element.innerHTML = '';\n",
              "          dataTable['output_type'] = 'display_data';\n",
              "          await google.colab.output.renderOutput(dataTable, element);\n",
              "          const docLink = document.createElement('div');\n",
              "          docLink.innerHTML = docLinkHtml;\n",
              "          element.appendChild(docLink);\n",
              "        }\n",
              "      </script>\n",
              "    </div>\n",
              "  </div>\n",
              "  "
            ]
          },
          "metadata": {},
          "execution_count": 8
        }
      ],
      "source": [
        "Cs"
      ]
    },
    {
      "cell_type": "markdown",
      "source": [
        "Puts dataset"
      ],
      "metadata": {
        "id": "zMgV7_L4goVf"
      }
    },
    {
      "cell_type": "code",
      "execution_count": null,
      "metadata": {
        "colab": {
          "base_uri": "https://localhost:8080/",
          "height": 424
        },
        "id": "_y0iWZPIzSD9",
        "outputId": "293b21e5-e7fb-4913-c444-fc24c8fdb077"
      },
      "outputs": [
        {
          "output_type": "execute_result",
          "data": {
            "text/plain": [
              "            Contract Name         Last Trade Date   Strike  Last Price  \\\n",
              "0     SPXW230509P01200000   2023-05-03 1:42PM EDT   1200.0        0.05   \n",
              "1     SPXW230509P02200000   2023-04-18 1:51PM EDT   2200.0        0.05   \n",
              "2     SPXW230509P02400000   2023-04-18 1:51PM EDT   2400.0        0.07   \n",
              "3     SPXW230509P02600000   2023-04-26 4:04PM EDT   2600.0        0.05   \n",
              "4     SPXW230509P02800000  2023-04-28 12:49PM EDT   2800.0        0.05   \n",
              "...                   ...                     ...      ...         ...   \n",
              "6305   SPX271217P08000000  2023-04-25 12:25PM EDT   8000.0     2941.60   \n",
              "6306   SPX271217P08400000   2023-04-12 9:30AM EDT   8400.0     3263.45   \n",
              "6307   SPX271217P09600000  2023-03-10 11:51AM EDT   9600.0     4320.90   \n",
              "6308   SPX271217P10000000  2023-03-10 11:51AM EDT  10000.0     4649.25   \n",
              "6309   SPX271217P12000000   2022-12-23 4:16PM EDT  12000.0     6297.16   \n",
              "\n",
              "            Date  \n",
              "0     2023-05-03  \n",
              "1     2023-04-18  \n",
              "2     2023-04-18  \n",
              "3     2023-04-26  \n",
              "4     2023-04-28  \n",
              "...          ...  \n",
              "6305  2023-04-25  \n",
              "6306  2023-04-12  \n",
              "6307  2023-03-10  \n",
              "6308  2023-03-10  \n",
              "6309  2022-12-23  \n",
              "\n",
              "[6310 rows x 5 columns]"
            ],
            "text/html": [
              "\n",
              "  <div id=\"df-4b8830ac-715e-43f8-95f7-c55af69f23c8\">\n",
              "    <div class=\"colab-df-container\">\n",
              "      <div>\n",
              "<style scoped>\n",
              "    .dataframe tbody tr th:only-of-type {\n",
              "        vertical-align: middle;\n",
              "    }\n",
              "\n",
              "    .dataframe tbody tr th {\n",
              "        vertical-align: top;\n",
              "    }\n",
              "\n",
              "    .dataframe thead th {\n",
              "        text-align: right;\n",
              "    }\n",
              "</style>\n",
              "<table border=\"1\" class=\"dataframe\">\n",
              "  <thead>\n",
              "    <tr style=\"text-align: right;\">\n",
              "      <th></th>\n",
              "      <th>Contract Name</th>\n",
              "      <th>Last Trade Date</th>\n",
              "      <th>Strike</th>\n",
              "      <th>Last Price</th>\n",
              "      <th>Date</th>\n",
              "    </tr>\n",
              "  </thead>\n",
              "  <tbody>\n",
              "    <tr>\n",
              "      <th>0</th>\n",
              "      <td>SPXW230509P01200000</td>\n",
              "      <td>2023-05-03 1:42PM EDT</td>\n",
              "      <td>1200.0</td>\n",
              "      <td>0.05</td>\n",
              "      <td>2023-05-03</td>\n",
              "    </tr>\n",
              "    <tr>\n",
              "      <th>1</th>\n",
              "      <td>SPXW230509P02200000</td>\n",
              "      <td>2023-04-18 1:51PM EDT</td>\n",
              "      <td>2200.0</td>\n",
              "      <td>0.05</td>\n",
              "      <td>2023-04-18</td>\n",
              "    </tr>\n",
              "    <tr>\n",
              "      <th>2</th>\n",
              "      <td>SPXW230509P02400000</td>\n",
              "      <td>2023-04-18 1:51PM EDT</td>\n",
              "      <td>2400.0</td>\n",
              "      <td>0.07</td>\n",
              "      <td>2023-04-18</td>\n",
              "    </tr>\n",
              "    <tr>\n",
              "      <th>3</th>\n",
              "      <td>SPXW230509P02600000</td>\n",
              "      <td>2023-04-26 4:04PM EDT</td>\n",
              "      <td>2600.0</td>\n",
              "      <td>0.05</td>\n",
              "      <td>2023-04-26</td>\n",
              "    </tr>\n",
              "    <tr>\n",
              "      <th>4</th>\n",
              "      <td>SPXW230509P02800000</td>\n",
              "      <td>2023-04-28 12:49PM EDT</td>\n",
              "      <td>2800.0</td>\n",
              "      <td>0.05</td>\n",
              "      <td>2023-04-28</td>\n",
              "    </tr>\n",
              "    <tr>\n",
              "      <th>...</th>\n",
              "      <td>...</td>\n",
              "      <td>...</td>\n",
              "      <td>...</td>\n",
              "      <td>...</td>\n",
              "      <td>...</td>\n",
              "    </tr>\n",
              "    <tr>\n",
              "      <th>6305</th>\n",
              "      <td>SPX271217P08000000</td>\n",
              "      <td>2023-04-25 12:25PM EDT</td>\n",
              "      <td>8000.0</td>\n",
              "      <td>2941.60</td>\n",
              "      <td>2023-04-25</td>\n",
              "    </tr>\n",
              "    <tr>\n",
              "      <th>6306</th>\n",
              "      <td>SPX271217P08400000</td>\n",
              "      <td>2023-04-12 9:30AM EDT</td>\n",
              "      <td>8400.0</td>\n",
              "      <td>3263.45</td>\n",
              "      <td>2023-04-12</td>\n",
              "    </tr>\n",
              "    <tr>\n",
              "      <th>6307</th>\n",
              "      <td>SPX271217P09600000</td>\n",
              "      <td>2023-03-10 11:51AM EDT</td>\n",
              "      <td>9600.0</td>\n",
              "      <td>4320.90</td>\n",
              "      <td>2023-03-10</td>\n",
              "    </tr>\n",
              "    <tr>\n",
              "      <th>6308</th>\n",
              "      <td>SPX271217P10000000</td>\n",
              "      <td>2023-03-10 11:51AM EDT</td>\n",
              "      <td>10000.0</td>\n",
              "      <td>4649.25</td>\n",
              "      <td>2023-03-10</td>\n",
              "    </tr>\n",
              "    <tr>\n",
              "      <th>6309</th>\n",
              "      <td>SPX271217P12000000</td>\n",
              "      <td>2022-12-23 4:16PM EDT</td>\n",
              "      <td>12000.0</td>\n",
              "      <td>6297.16</td>\n",
              "      <td>2022-12-23</td>\n",
              "    </tr>\n",
              "  </tbody>\n",
              "</table>\n",
              "<p>6310 rows × 5 columns</p>\n",
              "</div>\n",
              "      <button class=\"colab-df-convert\" onclick=\"convertToInteractive('df-4b8830ac-715e-43f8-95f7-c55af69f23c8')\"\n",
              "              title=\"Convert this dataframe to an interactive table.\"\n",
              "              style=\"display:none;\">\n",
              "        \n",
              "  <svg xmlns=\"http://www.w3.org/2000/svg\" height=\"24px\"viewBox=\"0 0 24 24\"\n",
              "       width=\"24px\">\n",
              "    <path d=\"M0 0h24v24H0V0z\" fill=\"none\"/>\n",
              "    <path d=\"M18.56 5.44l.94 2.06.94-2.06 2.06-.94-2.06-.94-.94-2.06-.94 2.06-2.06.94zm-11 1L8.5 8.5l.94-2.06 2.06-.94-2.06-.94L8.5 2.5l-.94 2.06-2.06.94zm10 10l.94 2.06.94-2.06 2.06-.94-2.06-.94-.94-2.06-.94 2.06-2.06.94z\"/><path d=\"M17.41 7.96l-1.37-1.37c-.4-.4-.92-.59-1.43-.59-.52 0-1.04.2-1.43.59L10.3 9.45l-7.72 7.72c-.78.78-.78 2.05 0 2.83L4 21.41c.39.39.9.59 1.41.59.51 0 1.02-.2 1.41-.59l7.78-7.78 2.81-2.81c.8-.78.8-2.07 0-2.86zM5.41 20L4 18.59l7.72-7.72 1.47 1.35L5.41 20z\"/>\n",
              "  </svg>\n",
              "      </button>\n",
              "      \n",
              "  <style>\n",
              "    .colab-df-container {\n",
              "      display:flex;\n",
              "      flex-wrap:wrap;\n",
              "      gap: 12px;\n",
              "    }\n",
              "\n",
              "    .colab-df-convert {\n",
              "      background-color: #E8F0FE;\n",
              "      border: none;\n",
              "      border-radius: 50%;\n",
              "      cursor: pointer;\n",
              "      display: none;\n",
              "      fill: #1967D2;\n",
              "      height: 32px;\n",
              "      padding: 0 0 0 0;\n",
              "      width: 32px;\n",
              "    }\n",
              "\n",
              "    .colab-df-convert:hover {\n",
              "      background-color: #E2EBFA;\n",
              "      box-shadow: 0px 1px 2px rgba(60, 64, 67, 0.3), 0px 1px 3px 1px rgba(60, 64, 67, 0.15);\n",
              "      fill: #174EA6;\n",
              "    }\n",
              "\n",
              "    [theme=dark] .colab-df-convert {\n",
              "      background-color: #3B4455;\n",
              "      fill: #D2E3FC;\n",
              "    }\n",
              "\n",
              "    [theme=dark] .colab-df-convert:hover {\n",
              "      background-color: #434B5C;\n",
              "      box-shadow: 0px 1px 3px 1px rgba(0, 0, 0, 0.15);\n",
              "      filter: drop-shadow(0px 1px 2px rgba(0, 0, 0, 0.3));\n",
              "      fill: #FFFFFF;\n",
              "    }\n",
              "  </style>\n",
              "\n",
              "      <script>\n",
              "        const buttonEl =\n",
              "          document.querySelector('#df-4b8830ac-715e-43f8-95f7-c55af69f23c8 button.colab-df-convert');\n",
              "        buttonEl.style.display =\n",
              "          google.colab.kernel.accessAllowed ? 'block' : 'none';\n",
              "\n",
              "        async function convertToInteractive(key) {\n",
              "          const element = document.querySelector('#df-4b8830ac-715e-43f8-95f7-c55af69f23c8');\n",
              "          const dataTable =\n",
              "            await google.colab.kernel.invokeFunction('convertToInteractive',\n",
              "                                                     [key], {});\n",
              "          if (!dataTable) return;\n",
              "\n",
              "          const docLinkHtml = 'Like what you see? Visit the ' +\n",
              "            '<a target=\"_blank\" href=https://colab.research.google.com/notebooks/data_table.ipynb>data table notebook</a>'\n",
              "            + ' to learn more about interactive tables.';\n",
              "          element.innerHTML = '';\n",
              "          dataTable['output_type'] = 'display_data';\n",
              "          await google.colab.output.renderOutput(dataTable, element);\n",
              "          const docLink = document.createElement('div');\n",
              "          docLink.innerHTML = docLinkHtml;\n",
              "          element.appendChild(docLink);\n",
              "        }\n",
              "      </script>\n",
              "    </div>\n",
              "  </div>\n",
              "  "
            ]
          },
          "metadata": {},
          "execution_count": 9
        }
      ],
      "source": [
        "Ps"
      ]
    },
    {
      "cell_type": "markdown",
      "metadata": {
        "id": "6BbcmqDBzYe7"
      },
      "source": [
        "## Calculate Moneyness"
      ]
    },
    {
      "cell_type": "code",
      "execution_count": null,
      "metadata": {
        "id": "QW9BLMAEqE5u"
      },
      "outputs": [],
      "source": [
        "#In this part, we will get the closing price of the underlying, which is S&P 500 index  from the earlist trade day of option to current time.\n",
        "td=Cs['Last Trade Date'].sort_values()\n",
        "td.iloc[0][0:10]\n",
        "\n",
        "beg=td.iloc[0][0:10]\n",
        "end=datetime.now()\n",
        "end=end+timedelta(5)\n",
        "end=datetime.strftime(end,'%Y-%m-%d')\n",
        "Prices=sp500.history(start=beg,end=end)['Close']"
      ]
    },
    {
      "cell_type": "code",
      "execution_count": null,
      "metadata": {
        "id": "gehcjStao4vz"
      },
      "outputs": [],
      "source": [
        "#Calculate Moneyness\n",
        "#In this case, Moneyness is simply Strike/Price, K/S\n",
        "M_c=[]\n",
        "M_p=[]\n",
        "for i in range(len(Cs)):\n",
        "    if Cs.loc[i].Date in Prices.index:\n",
        "        M_c.append(Cs.loc[i]['Strike']/Prices[(Cs.loc[i]['Date'])])\n",
        "    else:\n",
        "        M_c.append(np.nan)\n",
        "\n",
        "for i in range(len(Ps)):\n",
        "    if Ps.loc[i].Date in Prices.index:\n",
        "        M_p.append(Ps.loc[i]['Strike']/Prices[(Ps.loc[i]['Date'])])\n",
        "    else:\n",
        "        M_p.append(np.nan)"
      ]
    },
    {
      "cell_type": "code",
      "execution_count": null,
      "metadata": {
        "id": "ueF7DqoTo739"
      },
      "outputs": [],
      "source": [
        "#Add the feature Moneyness to the two dataset\n",
        "Cs['Moneyness']=M_c\n",
        "Ps['Moneyness']=M_p"
      ]
    },
    {
      "cell_type": "code",
      "execution_count": null,
      "metadata": {
        "colab": {
          "base_uri": "https://localhost:8080/"
        },
        "id": "GOq8U6vVo9cl",
        "outputId": "bbdf97a3-4aad-4b91-c3a1-720c4d822930"
      },
      "outputs": [
        {
          "output_type": "execute_result",
          "data": {
            "text/plain": [
              "(Contract Name      0\n",
              " Last Trade Date    0\n",
              " Strike             0\n",
              " Last Price         0\n",
              " Date               0\n",
              " Moneyness          8\n",
              " dtype: int64,\n",
              " Contract Name      0\n",
              " Last Trade Date    0\n",
              " Strike             0\n",
              " Last Price         0\n",
              " Date               0\n",
              " Moneyness          4\n",
              " dtype: int64)"
            ]
          },
          "metadata": {},
          "execution_count": 13
        }
      ],
      "source": [
        "#Check na, because there are observations that traded in weekends, but the market doesn't open during weekends\n",
        "Cs.isna().sum(),Ps.isna().sum()"
      ]
    },
    {
      "cell_type": "code",
      "execution_count": null,
      "metadata": {
        "id": "iLb7FjOyo_A5"
      },
      "outputs": [],
      "source": [
        "#Drop nas\n",
        "Cs=Cs.dropna()\n",
        "Ps=Ps.dropna()"
      ]
    },
    {
      "cell_type": "markdown",
      "metadata": {
        "id": "wJJZt66-zdjb"
      },
      "source": [
        "## Calculate Time to Maturity"
      ]
    },
    {
      "cell_type": "code",
      "execution_count": null,
      "metadata": {
        "id": "X2IzzeLjpAtg"
      },
      "outputs": [],
      "source": [
        "#calculate time to maturity\n",
        "#Time to Maturity can be calculated as the T(expiration day) - t(current time)\n",
        "tau_c=[];tau_p=[]\n",
        "for i in range(len(Cs)):\n",
        "    contract=Cs.iloc[i]['Contract Name']\n",
        "    date=Cs.iloc[i].Date\n",
        "    date= datetime.strptime(date,'%Y-%m-%d')\n",
        "    if contract[0:4]=='SPXW':\n",
        "        exp=contract[4:10]\n",
        "        exp=datetime.strptime(exp, '%y%m%d')\n",
        "        tau_c.append((exp-date).days/365)\n",
        "    elif contract[0:3]=='SPX':\n",
        "        exp=contract[3:9]\n",
        "        exp=datetime.strptime(exp, '%y%m%d')\n",
        "        tau_c.append((exp-date).days/365)\n",
        "    else:\n",
        "        tau_c.append(np.nan)\n",
        "        \n",
        "for i in range(len(Ps)):\n",
        "    contract=Ps.iloc[i]['Contract Name']\n",
        "    date=Ps.iloc[i].Date\n",
        "    date= datetime.strptime(date,'%Y-%m-%d')\n",
        "    if contract[0:4]=='SPXW':\n",
        "        exp=contract[4:10]\n",
        "        exp=datetime.strptime(exp, '%y%m%d')\n",
        "        tau_p.append((exp-date).days/365)\n",
        "    elif contract[0:3]=='SPX':\n",
        "        exp=contract[3:9]\n",
        "        exp=datetime.strptime(exp, '%y%m%d')\n",
        "        tau_p.append((exp-date).days/365)\n",
        "    else:\n",
        "        tau_p.append(np.nan)"
      ]
    },
    {
      "cell_type": "code",
      "execution_count": null,
      "metadata": {
        "colab": {
          "base_uri": "https://localhost:8080/"
        },
        "id": "mioUt4DHpCXw",
        "outputId": "0a1876f0-f760-495d-f845-58e139219df5"
      },
      "outputs": [
        {
          "output_type": "stream",
          "name": "stderr",
          "text": [
            "<ipython-input-16-9f615404bf89>:2: SettingWithCopyWarning: \n",
            "A value is trying to be set on a copy of a slice from a DataFrame.\n",
            "Try using .loc[row_indexer,col_indexer] = value instead\n",
            "\n",
            "See the caveats in the documentation: https://pandas.pydata.org/pandas-docs/stable/user_guide/indexing.html#returning-a-view-versus-a-copy\n",
            "  Cs['Tau']=tau_c\n",
            "<ipython-input-16-9f615404bf89>:3: SettingWithCopyWarning: \n",
            "A value is trying to be set on a copy of a slice from a DataFrame.\n",
            "Try using .loc[row_indexer,col_indexer] = value instead\n",
            "\n",
            "See the caveats in the documentation: https://pandas.pydata.org/pandas-docs/stable/user_guide/indexing.html#returning-a-view-versus-a-copy\n",
            "  Ps['Tau']=tau_p\n"
          ]
        }
      ],
      "source": [
        "#Add the feature Time to Maturity to the two datasets\n",
        "Cs['Tau']=tau_c\n",
        "Ps['Tau']=tau_p"
      ]
    },
    {
      "cell_type": "code",
      "execution_count": null,
      "metadata": {
        "colab": {
          "base_uri": "https://localhost:8080/"
        },
        "id": "fduN-ECaqwGW",
        "outputId": "d7e8f7aa-64bf-4206-efae-c6c6c4f4f363"
      },
      "outputs": [
        {
          "output_type": "execute_result",
          "data": {
            "text/plain": [
              "(Contract Name      0\n",
              " Last Trade Date    0\n",
              " Strike             0\n",
              " Last Price         0\n",
              " Date               0\n",
              " Moneyness          0\n",
              " Tau                0\n",
              " dtype: int64,\n",
              " Contract Name      0\n",
              " Last Trade Date    0\n",
              " Strike             0\n",
              " Last Price         0\n",
              " Date               0\n",
              " Moneyness          0\n",
              " Tau                0\n",
              " dtype: int64)"
            ]
          },
          "metadata": {},
          "execution_count": 17
        }
      ],
      "source": [
        "#if there are weird date, we will get nas, but it seems that we have cleaned data\n",
        "Cs.isna().sum(),Ps.isna().sum()"
      ]
    },
    {
      "cell_type": "code",
      "execution_count": null,
      "metadata": {
        "colab": {
          "base_uri": "https://localhost:8080/"
        },
        "id": "erLQN0cWH9TW",
        "outputId": "3b736053-70e7-4639-982a-8282f8fcb186"
      },
      "outputs": [
        {
          "output_type": "stream",
          "name": "stderr",
          "text": [
            "<ipython-input-18-187b255242bb>:8: SettingWithCopyWarning: \n",
            "A value is trying to be set on a copy of a slice from a DataFrame.\n",
            "Try using .loc[row_indexer,col_indexer] = value instead\n",
            "\n",
            "See the caveats in the documentation: https://pandas.pydata.org/pandas-docs/stable/user_guide/indexing.html#returning-a-view-versus-a-copy\n",
            "  Cs['S0']=S0_C\n",
            "<ipython-input-18-187b255242bb>:9: SettingWithCopyWarning: \n",
            "A value is trying to be set on a copy of a slice from a DataFrame.\n",
            "Try using .loc[row_indexer,col_indexer] = value instead\n",
            "\n",
            "See the caveats in the documentation: https://pandas.pydata.org/pandas-docs/stable/user_guide/indexing.html#returning-a-view-versus-a-copy\n",
            "  Ps['S0']=S0_P\n"
          ]
        }
      ],
      "source": [
        "#We will ned the feature current price for Black-scholes Model, so we add it to the dataframe\n",
        "S0_C=[]\n",
        "S0_P=[]\n",
        "for i in range(len(Cs)):\n",
        "  S0_C.append(Prices[Cs.iloc[i].Date])\n",
        "for i in range(len(Ps)):\n",
        "  S0_P.append(Prices[Ps.iloc[i].Date])\n",
        "Cs['S0']=S0_C\n",
        "Ps['S0']=S0_P"
      ]
    },
    {
      "cell_type": "markdown",
      "metadata": {
        "id": "PbxAhwPbzl-1"
      },
      "source": [
        "## Final Dataset for Black-Scholes Model"
      ]
    },
    {
      "cell_type": "code",
      "execution_count": null,
      "metadata": {
        "colab": {
          "base_uri": "https://localhost:8080/",
          "height": 468
        },
        "id": "ENfXDXTrIwaV",
        "outputId": "38a48cbb-5632-4104-f4c3-905fe2f9a892"
      },
      "outputs": [
        {
          "output_type": "execute_result",
          "data": {
            "text/plain": [
              "            Contract Name         Last Trade Date   Strike  Last Price  \\\n",
              "0     SPXW230509C02200000   2023-05-03 3:01PM EDT   2200.0     1937.60   \n",
              "1     SPXW230509C02400000   2023-04-18 1:51PM EDT   2400.0     1761.10   \n",
              "2     SPXW230509C02600000   2023-04-18 1:51PM EDT   2600.0     1561.62   \n",
              "3     SPXW230509C03000000   2023-05-03 3:17PM EDT   3000.0     1117.20   \n",
              "4     SPXW230509C03200000   2023-05-09 3:26PM EDT   3200.0      924.55   \n",
              "...                   ...                     ...      ...         ...   \n",
              "5321   SPX271217C08800000   2022-12-30 1:35PM EDT   8800.0       27.88   \n",
              "5322   SPX271217C09200000  2023-03-28 11:29AM EDT   9200.0       12.40   \n",
              "5323   SPX271217C09600000  2023-04-28 11:44AM EDT   9600.0       13.42   \n",
              "5324   SPX271217C10000000  2023-04-28 11:44AM EDT  10000.0       10.37   \n",
              "5325   SPX271217C12000000   2023-05-09 3:58PM EDT  12000.0        3.80   \n",
              "\n",
              "            Date  Moneyness       Tau           S0  \n",
              "0     2023-05-03   0.537799  0.016438  4090.750000  \n",
              "1     2023-04-18   0.577635  0.057534  4154.870117  \n",
              "2     2023-04-18   0.625772  0.057534  4154.870117  \n",
              "3     2023-05-03   0.733362  0.016438  4090.750000  \n",
              "4     2023-05-09   0.776856  0.000000  4119.169922  \n",
              "...          ...        ...       ...          ...  \n",
              "5321  2022-12-30   2.291965  4.967123  3839.500000  \n",
              "5322  2023-03-28   2.316639  4.726027  3971.270020  \n",
              "5323  2023-04-28   2.302445  4.641096  4169.479980  \n",
              "5324  2023-04-28   2.398381  4.641096  4169.479980  \n",
              "5325  2023-05-09   2.913208  4.610959  4119.169922  \n",
              "\n",
              "[5318 rows x 8 columns]"
            ],
            "text/html": [
              "\n",
              "  <div id=\"df-b7be61ac-c590-49e3-b5f8-9fc28b67ad57\">\n",
              "    <div class=\"colab-df-container\">\n",
              "      <div>\n",
              "<style scoped>\n",
              "    .dataframe tbody tr th:only-of-type {\n",
              "        vertical-align: middle;\n",
              "    }\n",
              "\n",
              "    .dataframe tbody tr th {\n",
              "        vertical-align: top;\n",
              "    }\n",
              "\n",
              "    .dataframe thead th {\n",
              "        text-align: right;\n",
              "    }\n",
              "</style>\n",
              "<table border=\"1\" class=\"dataframe\">\n",
              "  <thead>\n",
              "    <tr style=\"text-align: right;\">\n",
              "      <th></th>\n",
              "      <th>Contract Name</th>\n",
              "      <th>Last Trade Date</th>\n",
              "      <th>Strike</th>\n",
              "      <th>Last Price</th>\n",
              "      <th>Date</th>\n",
              "      <th>Moneyness</th>\n",
              "      <th>Tau</th>\n",
              "      <th>S0</th>\n",
              "    </tr>\n",
              "  </thead>\n",
              "  <tbody>\n",
              "    <tr>\n",
              "      <th>0</th>\n",
              "      <td>SPXW230509C02200000</td>\n",
              "      <td>2023-05-03 3:01PM EDT</td>\n",
              "      <td>2200.0</td>\n",
              "      <td>1937.60</td>\n",
              "      <td>2023-05-03</td>\n",
              "      <td>0.537799</td>\n",
              "      <td>0.016438</td>\n",
              "      <td>4090.750000</td>\n",
              "    </tr>\n",
              "    <tr>\n",
              "      <th>1</th>\n",
              "      <td>SPXW230509C02400000</td>\n",
              "      <td>2023-04-18 1:51PM EDT</td>\n",
              "      <td>2400.0</td>\n",
              "      <td>1761.10</td>\n",
              "      <td>2023-04-18</td>\n",
              "      <td>0.577635</td>\n",
              "      <td>0.057534</td>\n",
              "      <td>4154.870117</td>\n",
              "    </tr>\n",
              "    <tr>\n",
              "      <th>2</th>\n",
              "      <td>SPXW230509C02600000</td>\n",
              "      <td>2023-04-18 1:51PM EDT</td>\n",
              "      <td>2600.0</td>\n",
              "      <td>1561.62</td>\n",
              "      <td>2023-04-18</td>\n",
              "      <td>0.625772</td>\n",
              "      <td>0.057534</td>\n",
              "      <td>4154.870117</td>\n",
              "    </tr>\n",
              "    <tr>\n",
              "      <th>3</th>\n",
              "      <td>SPXW230509C03000000</td>\n",
              "      <td>2023-05-03 3:17PM EDT</td>\n",
              "      <td>3000.0</td>\n",
              "      <td>1117.20</td>\n",
              "      <td>2023-05-03</td>\n",
              "      <td>0.733362</td>\n",
              "      <td>0.016438</td>\n",
              "      <td>4090.750000</td>\n",
              "    </tr>\n",
              "    <tr>\n",
              "      <th>4</th>\n",
              "      <td>SPXW230509C03200000</td>\n",
              "      <td>2023-05-09 3:26PM EDT</td>\n",
              "      <td>3200.0</td>\n",
              "      <td>924.55</td>\n",
              "      <td>2023-05-09</td>\n",
              "      <td>0.776856</td>\n",
              "      <td>0.000000</td>\n",
              "      <td>4119.169922</td>\n",
              "    </tr>\n",
              "    <tr>\n",
              "      <th>...</th>\n",
              "      <td>...</td>\n",
              "      <td>...</td>\n",
              "      <td>...</td>\n",
              "      <td>...</td>\n",
              "      <td>...</td>\n",
              "      <td>...</td>\n",
              "      <td>...</td>\n",
              "      <td>...</td>\n",
              "    </tr>\n",
              "    <tr>\n",
              "      <th>5321</th>\n",
              "      <td>SPX271217C08800000</td>\n",
              "      <td>2022-12-30 1:35PM EDT</td>\n",
              "      <td>8800.0</td>\n",
              "      <td>27.88</td>\n",
              "      <td>2022-12-30</td>\n",
              "      <td>2.291965</td>\n",
              "      <td>4.967123</td>\n",
              "      <td>3839.500000</td>\n",
              "    </tr>\n",
              "    <tr>\n",
              "      <th>5322</th>\n",
              "      <td>SPX271217C09200000</td>\n",
              "      <td>2023-03-28 11:29AM EDT</td>\n",
              "      <td>9200.0</td>\n",
              "      <td>12.40</td>\n",
              "      <td>2023-03-28</td>\n",
              "      <td>2.316639</td>\n",
              "      <td>4.726027</td>\n",
              "      <td>3971.270020</td>\n",
              "    </tr>\n",
              "    <tr>\n",
              "      <th>5323</th>\n",
              "      <td>SPX271217C09600000</td>\n",
              "      <td>2023-04-28 11:44AM EDT</td>\n",
              "      <td>9600.0</td>\n",
              "      <td>13.42</td>\n",
              "      <td>2023-04-28</td>\n",
              "      <td>2.302445</td>\n",
              "      <td>4.641096</td>\n",
              "      <td>4169.479980</td>\n",
              "    </tr>\n",
              "    <tr>\n",
              "      <th>5324</th>\n",
              "      <td>SPX271217C10000000</td>\n",
              "      <td>2023-04-28 11:44AM EDT</td>\n",
              "      <td>10000.0</td>\n",
              "      <td>10.37</td>\n",
              "      <td>2023-04-28</td>\n",
              "      <td>2.398381</td>\n",
              "      <td>4.641096</td>\n",
              "      <td>4169.479980</td>\n",
              "    </tr>\n",
              "    <tr>\n",
              "      <th>5325</th>\n",
              "      <td>SPX271217C12000000</td>\n",
              "      <td>2023-05-09 3:58PM EDT</td>\n",
              "      <td>12000.0</td>\n",
              "      <td>3.80</td>\n",
              "      <td>2023-05-09</td>\n",
              "      <td>2.913208</td>\n",
              "      <td>4.610959</td>\n",
              "      <td>4119.169922</td>\n",
              "    </tr>\n",
              "  </tbody>\n",
              "</table>\n",
              "<p>5318 rows × 8 columns</p>\n",
              "</div>\n",
              "      <button class=\"colab-df-convert\" onclick=\"convertToInteractive('df-b7be61ac-c590-49e3-b5f8-9fc28b67ad57')\"\n",
              "              title=\"Convert this dataframe to an interactive table.\"\n",
              "              style=\"display:none;\">\n",
              "        \n",
              "  <svg xmlns=\"http://www.w3.org/2000/svg\" height=\"24px\"viewBox=\"0 0 24 24\"\n",
              "       width=\"24px\">\n",
              "    <path d=\"M0 0h24v24H0V0z\" fill=\"none\"/>\n",
              "    <path d=\"M18.56 5.44l.94 2.06.94-2.06 2.06-.94-2.06-.94-.94-2.06-.94 2.06-2.06.94zm-11 1L8.5 8.5l.94-2.06 2.06-.94-2.06-.94L8.5 2.5l-.94 2.06-2.06.94zm10 10l.94 2.06.94-2.06 2.06-.94-2.06-.94-.94-2.06-.94 2.06-2.06.94z\"/><path d=\"M17.41 7.96l-1.37-1.37c-.4-.4-.92-.59-1.43-.59-.52 0-1.04.2-1.43.59L10.3 9.45l-7.72 7.72c-.78.78-.78 2.05 0 2.83L4 21.41c.39.39.9.59 1.41.59.51 0 1.02-.2 1.41-.59l7.78-7.78 2.81-2.81c.8-.78.8-2.07 0-2.86zM5.41 20L4 18.59l7.72-7.72 1.47 1.35L5.41 20z\"/>\n",
              "  </svg>\n",
              "      </button>\n",
              "      \n",
              "  <style>\n",
              "    .colab-df-container {\n",
              "      display:flex;\n",
              "      flex-wrap:wrap;\n",
              "      gap: 12px;\n",
              "    }\n",
              "\n",
              "    .colab-df-convert {\n",
              "      background-color: #E8F0FE;\n",
              "      border: none;\n",
              "      border-radius: 50%;\n",
              "      cursor: pointer;\n",
              "      display: none;\n",
              "      fill: #1967D2;\n",
              "      height: 32px;\n",
              "      padding: 0 0 0 0;\n",
              "      width: 32px;\n",
              "    }\n",
              "\n",
              "    .colab-df-convert:hover {\n",
              "      background-color: #E2EBFA;\n",
              "      box-shadow: 0px 1px 2px rgba(60, 64, 67, 0.3), 0px 1px 3px 1px rgba(60, 64, 67, 0.15);\n",
              "      fill: #174EA6;\n",
              "    }\n",
              "\n",
              "    [theme=dark] .colab-df-convert {\n",
              "      background-color: #3B4455;\n",
              "      fill: #D2E3FC;\n",
              "    }\n",
              "\n",
              "    [theme=dark] .colab-df-convert:hover {\n",
              "      background-color: #434B5C;\n",
              "      box-shadow: 0px 1px 3px 1px rgba(0, 0, 0, 0.15);\n",
              "      filter: drop-shadow(0px 1px 2px rgba(0, 0, 0, 0.3));\n",
              "      fill: #FFFFFF;\n",
              "    }\n",
              "  </style>\n",
              "\n",
              "      <script>\n",
              "        const buttonEl =\n",
              "          document.querySelector('#df-b7be61ac-c590-49e3-b5f8-9fc28b67ad57 button.colab-df-convert');\n",
              "        buttonEl.style.display =\n",
              "          google.colab.kernel.accessAllowed ? 'block' : 'none';\n",
              "\n",
              "        async function convertToInteractive(key) {\n",
              "          const element = document.querySelector('#df-b7be61ac-c590-49e3-b5f8-9fc28b67ad57');\n",
              "          const dataTable =\n",
              "            await google.colab.kernel.invokeFunction('convertToInteractive',\n",
              "                                                     [key], {});\n",
              "          if (!dataTable) return;\n",
              "\n",
              "          const docLinkHtml = 'Like what you see? Visit the ' +\n",
              "            '<a target=\"_blank\" href=https://colab.research.google.com/notebooks/data_table.ipynb>data table notebook</a>'\n",
              "            + ' to learn more about interactive tables.';\n",
              "          element.innerHTML = '';\n",
              "          dataTable['output_type'] = 'display_data';\n",
              "          await google.colab.output.renderOutput(dataTable, element);\n",
              "          const docLink = document.createElement('div');\n",
              "          docLink.innerHTML = docLinkHtml;\n",
              "          element.appendChild(docLink);\n",
              "        }\n",
              "      </script>\n",
              "    </div>\n",
              "  </div>\n",
              "  "
            ]
          },
          "metadata": {},
          "execution_count": 19
        }
      ],
      "source": [
        "#final dataset for Black-Scholes Model\n",
        "Cs"
      ]
    },
    {
      "cell_type": "code",
      "execution_count": null,
      "metadata": {
        "colab": {
          "base_uri": "https://localhost:8080/",
          "height": 468
        },
        "id": "3gBExgDczM_1",
        "outputId": "3bbe5846-99f8-4ae9-8ca8-7ec07f3e631f"
      },
      "outputs": [
        {
          "output_type": "execute_result",
          "data": {
            "text/plain": [
              "            Contract Name         Last Trade Date   Strike  Last Price  \\\n",
              "0     SPXW230509P01200000   2023-05-03 1:42PM EDT   1200.0        0.05   \n",
              "1     SPXW230509P02200000   2023-04-18 1:51PM EDT   2200.0        0.05   \n",
              "2     SPXW230509P02400000   2023-04-18 1:51PM EDT   2400.0        0.07   \n",
              "3     SPXW230509P02600000   2023-04-26 4:04PM EDT   2600.0        0.05   \n",
              "4     SPXW230509P02800000  2023-04-28 12:49PM EDT   2800.0        0.05   \n",
              "...                   ...                     ...      ...         ...   \n",
              "6305   SPX271217P08000000  2023-04-25 12:25PM EDT   8000.0     2941.60   \n",
              "6306   SPX271217P08400000   2023-04-12 9:30AM EDT   8400.0     3263.45   \n",
              "6307   SPX271217P09600000  2023-03-10 11:51AM EDT   9600.0     4320.90   \n",
              "6308   SPX271217P10000000  2023-03-10 11:51AM EDT  10000.0     4649.25   \n",
              "6309   SPX271217P12000000   2022-12-23 4:16PM EDT  12000.0     6297.16   \n",
              "\n",
              "            Date  Moneyness       Tau           S0  \n",
              "0     2023-05-03   0.293345  0.016438  4090.750000  \n",
              "1     2023-04-18   0.529499  0.057534  4154.870117  \n",
              "2     2023-04-18   0.577635  0.057534  4154.870117  \n",
              "3     2023-04-26   0.641027  0.035616  4055.989990  \n",
              "4     2023-04-28   0.671547  0.030137  4169.479980  \n",
              "...          ...        ...       ...          ...  \n",
              "6305  2023-04-25   1.964815  4.649315  4071.629883  \n",
              "6306  2023-04-12   2.052811  4.684932  4091.949951  \n",
              "6307  2023-03-10   2.486023  4.775342  3861.590088  \n",
              "6308  2023-03-10   2.589607  4.775342  3861.590088  \n",
              "6309  2022-12-23   3.121082  4.986301  3844.820068  \n",
              "\n",
              "[6306 rows x 8 columns]"
            ],
            "text/html": [
              "\n",
              "  <div id=\"df-f229a39e-d8da-49db-beef-e9429b6454a3\">\n",
              "    <div class=\"colab-df-container\">\n",
              "      <div>\n",
              "<style scoped>\n",
              "    .dataframe tbody tr th:only-of-type {\n",
              "        vertical-align: middle;\n",
              "    }\n",
              "\n",
              "    .dataframe tbody tr th {\n",
              "        vertical-align: top;\n",
              "    }\n",
              "\n",
              "    .dataframe thead th {\n",
              "        text-align: right;\n",
              "    }\n",
              "</style>\n",
              "<table border=\"1\" class=\"dataframe\">\n",
              "  <thead>\n",
              "    <tr style=\"text-align: right;\">\n",
              "      <th></th>\n",
              "      <th>Contract Name</th>\n",
              "      <th>Last Trade Date</th>\n",
              "      <th>Strike</th>\n",
              "      <th>Last Price</th>\n",
              "      <th>Date</th>\n",
              "      <th>Moneyness</th>\n",
              "      <th>Tau</th>\n",
              "      <th>S0</th>\n",
              "    </tr>\n",
              "  </thead>\n",
              "  <tbody>\n",
              "    <tr>\n",
              "      <th>0</th>\n",
              "      <td>SPXW230509P01200000</td>\n",
              "      <td>2023-05-03 1:42PM EDT</td>\n",
              "      <td>1200.0</td>\n",
              "      <td>0.05</td>\n",
              "      <td>2023-05-03</td>\n",
              "      <td>0.293345</td>\n",
              "      <td>0.016438</td>\n",
              "      <td>4090.750000</td>\n",
              "    </tr>\n",
              "    <tr>\n",
              "      <th>1</th>\n",
              "      <td>SPXW230509P02200000</td>\n",
              "      <td>2023-04-18 1:51PM EDT</td>\n",
              "      <td>2200.0</td>\n",
              "      <td>0.05</td>\n",
              "      <td>2023-04-18</td>\n",
              "      <td>0.529499</td>\n",
              "      <td>0.057534</td>\n",
              "      <td>4154.870117</td>\n",
              "    </tr>\n",
              "    <tr>\n",
              "      <th>2</th>\n",
              "      <td>SPXW230509P02400000</td>\n",
              "      <td>2023-04-18 1:51PM EDT</td>\n",
              "      <td>2400.0</td>\n",
              "      <td>0.07</td>\n",
              "      <td>2023-04-18</td>\n",
              "      <td>0.577635</td>\n",
              "      <td>0.057534</td>\n",
              "      <td>4154.870117</td>\n",
              "    </tr>\n",
              "    <tr>\n",
              "      <th>3</th>\n",
              "      <td>SPXW230509P02600000</td>\n",
              "      <td>2023-04-26 4:04PM EDT</td>\n",
              "      <td>2600.0</td>\n",
              "      <td>0.05</td>\n",
              "      <td>2023-04-26</td>\n",
              "      <td>0.641027</td>\n",
              "      <td>0.035616</td>\n",
              "      <td>4055.989990</td>\n",
              "    </tr>\n",
              "    <tr>\n",
              "      <th>4</th>\n",
              "      <td>SPXW230509P02800000</td>\n",
              "      <td>2023-04-28 12:49PM EDT</td>\n",
              "      <td>2800.0</td>\n",
              "      <td>0.05</td>\n",
              "      <td>2023-04-28</td>\n",
              "      <td>0.671547</td>\n",
              "      <td>0.030137</td>\n",
              "      <td>4169.479980</td>\n",
              "    </tr>\n",
              "    <tr>\n",
              "      <th>...</th>\n",
              "      <td>...</td>\n",
              "      <td>...</td>\n",
              "      <td>...</td>\n",
              "      <td>...</td>\n",
              "      <td>...</td>\n",
              "      <td>...</td>\n",
              "      <td>...</td>\n",
              "      <td>...</td>\n",
              "    </tr>\n",
              "    <tr>\n",
              "      <th>6305</th>\n",
              "      <td>SPX271217P08000000</td>\n",
              "      <td>2023-04-25 12:25PM EDT</td>\n",
              "      <td>8000.0</td>\n",
              "      <td>2941.60</td>\n",
              "      <td>2023-04-25</td>\n",
              "      <td>1.964815</td>\n",
              "      <td>4.649315</td>\n",
              "      <td>4071.629883</td>\n",
              "    </tr>\n",
              "    <tr>\n",
              "      <th>6306</th>\n",
              "      <td>SPX271217P08400000</td>\n",
              "      <td>2023-04-12 9:30AM EDT</td>\n",
              "      <td>8400.0</td>\n",
              "      <td>3263.45</td>\n",
              "      <td>2023-04-12</td>\n",
              "      <td>2.052811</td>\n",
              "      <td>4.684932</td>\n",
              "      <td>4091.949951</td>\n",
              "    </tr>\n",
              "    <tr>\n",
              "      <th>6307</th>\n",
              "      <td>SPX271217P09600000</td>\n",
              "      <td>2023-03-10 11:51AM EDT</td>\n",
              "      <td>9600.0</td>\n",
              "      <td>4320.90</td>\n",
              "      <td>2023-03-10</td>\n",
              "      <td>2.486023</td>\n",
              "      <td>4.775342</td>\n",
              "      <td>3861.590088</td>\n",
              "    </tr>\n",
              "    <tr>\n",
              "      <th>6308</th>\n",
              "      <td>SPX271217P10000000</td>\n",
              "      <td>2023-03-10 11:51AM EDT</td>\n",
              "      <td>10000.0</td>\n",
              "      <td>4649.25</td>\n",
              "      <td>2023-03-10</td>\n",
              "      <td>2.589607</td>\n",
              "      <td>4.775342</td>\n",
              "      <td>3861.590088</td>\n",
              "    </tr>\n",
              "    <tr>\n",
              "      <th>6309</th>\n",
              "      <td>SPX271217P12000000</td>\n",
              "      <td>2022-12-23 4:16PM EDT</td>\n",
              "      <td>12000.0</td>\n",
              "      <td>6297.16</td>\n",
              "      <td>2022-12-23</td>\n",
              "      <td>3.121082</td>\n",
              "      <td>4.986301</td>\n",
              "      <td>3844.820068</td>\n",
              "    </tr>\n",
              "  </tbody>\n",
              "</table>\n",
              "<p>6306 rows × 8 columns</p>\n",
              "</div>\n",
              "      <button class=\"colab-df-convert\" onclick=\"convertToInteractive('df-f229a39e-d8da-49db-beef-e9429b6454a3')\"\n",
              "              title=\"Convert this dataframe to an interactive table.\"\n",
              "              style=\"display:none;\">\n",
              "        \n",
              "  <svg xmlns=\"http://www.w3.org/2000/svg\" height=\"24px\"viewBox=\"0 0 24 24\"\n",
              "       width=\"24px\">\n",
              "    <path d=\"M0 0h24v24H0V0z\" fill=\"none\"/>\n",
              "    <path d=\"M18.56 5.44l.94 2.06.94-2.06 2.06-.94-2.06-.94-.94-2.06-.94 2.06-2.06.94zm-11 1L8.5 8.5l.94-2.06 2.06-.94-2.06-.94L8.5 2.5l-.94 2.06-2.06.94zm10 10l.94 2.06.94-2.06 2.06-.94-2.06-.94-.94-2.06-.94 2.06-2.06.94z\"/><path d=\"M17.41 7.96l-1.37-1.37c-.4-.4-.92-.59-1.43-.59-.52 0-1.04.2-1.43.59L10.3 9.45l-7.72 7.72c-.78.78-.78 2.05 0 2.83L4 21.41c.39.39.9.59 1.41.59.51 0 1.02-.2 1.41-.59l7.78-7.78 2.81-2.81c.8-.78.8-2.07 0-2.86zM5.41 20L4 18.59l7.72-7.72 1.47 1.35L5.41 20z\"/>\n",
              "  </svg>\n",
              "      </button>\n",
              "      \n",
              "  <style>\n",
              "    .colab-df-container {\n",
              "      display:flex;\n",
              "      flex-wrap:wrap;\n",
              "      gap: 12px;\n",
              "    }\n",
              "\n",
              "    .colab-df-convert {\n",
              "      background-color: #E8F0FE;\n",
              "      border: none;\n",
              "      border-radius: 50%;\n",
              "      cursor: pointer;\n",
              "      display: none;\n",
              "      fill: #1967D2;\n",
              "      height: 32px;\n",
              "      padding: 0 0 0 0;\n",
              "      width: 32px;\n",
              "    }\n",
              "\n",
              "    .colab-df-convert:hover {\n",
              "      background-color: #E2EBFA;\n",
              "      box-shadow: 0px 1px 2px rgba(60, 64, 67, 0.3), 0px 1px 3px 1px rgba(60, 64, 67, 0.15);\n",
              "      fill: #174EA6;\n",
              "    }\n",
              "\n",
              "    [theme=dark] .colab-df-convert {\n",
              "      background-color: #3B4455;\n",
              "      fill: #D2E3FC;\n",
              "    }\n",
              "\n",
              "    [theme=dark] .colab-df-convert:hover {\n",
              "      background-color: #434B5C;\n",
              "      box-shadow: 0px 1px 3px 1px rgba(0, 0, 0, 0.15);\n",
              "      filter: drop-shadow(0px 1px 2px rgba(0, 0, 0, 0.3));\n",
              "      fill: #FFFFFF;\n",
              "    }\n",
              "  </style>\n",
              "\n",
              "      <script>\n",
              "        const buttonEl =\n",
              "          document.querySelector('#df-f229a39e-d8da-49db-beef-e9429b6454a3 button.colab-df-convert');\n",
              "        buttonEl.style.display =\n",
              "          google.colab.kernel.accessAllowed ? 'block' : 'none';\n",
              "\n",
              "        async function convertToInteractive(key) {\n",
              "          const element = document.querySelector('#df-f229a39e-d8da-49db-beef-e9429b6454a3');\n",
              "          const dataTable =\n",
              "            await google.colab.kernel.invokeFunction('convertToInteractive',\n",
              "                                                     [key], {});\n",
              "          if (!dataTable) return;\n",
              "\n",
              "          const docLinkHtml = 'Like what you see? Visit the ' +\n",
              "            '<a target=\"_blank\" href=https://colab.research.google.com/notebooks/data_table.ipynb>data table notebook</a>'\n",
              "            + ' to learn more about interactive tables.';\n",
              "          element.innerHTML = '';\n",
              "          dataTable['output_type'] = 'display_data';\n",
              "          await google.colab.output.renderOutput(dataTable, element);\n",
              "          const docLink = document.createElement('div');\n",
              "          docLink.innerHTML = docLinkHtml;\n",
              "          element.appendChild(docLink);\n",
              "        }\n",
              "      </script>\n",
              "    </div>\n",
              "  </div>\n",
              "  "
            ]
          },
          "metadata": {},
          "execution_count": 20
        }
      ],
      "source": [
        "Ps"
      ]
    },
    {
      "cell_type": "markdown",
      "metadata": {
        "id": "CXyg-aYP0ceu"
      },
      "source": [
        "## Final Dataset for Machine Learning Models"
      ]
    },
    {
      "cell_type": "code",
      "execution_count": null,
      "metadata": {
        "colab": {
          "base_uri": "https://localhost:8080/"
        },
        "id": "kgAbtsTkpDfq",
        "outputId": "d555ccec-f00a-4820-e7bb-cbdf02ad14ad"
      },
      "outputs": [
        {
          "output_type": "stream",
          "name": "stdout",
          "text": [
            "Data points: 11624\n"
          ]
        }
      ],
      "source": [
        "#final data set for Machine Learning Models\n",
        "df_c=Cs[['Tau','Moneyness','Last Price']]\n",
        "df_p=Ps[['Tau','Moneyness','Last Price']]\n",
        "print(\"Data points:\",len(df_c)+len(df_p))"
      ]
    },
    {
      "cell_type": "markdown",
      "source": [
        "Calls dataset pre-processed"
      ],
      "metadata": {
        "id": "A4ZRAsPFhS1u"
      }
    },
    {
      "cell_type": "code",
      "execution_count": null,
      "metadata": {
        "colab": {
          "base_uri": "https://localhost:8080/",
          "height": 424
        },
        "id": "wk08ou21rJ1J",
        "outputId": "21013c63-9094-44ed-9efa-6d2f44eb45e4"
      },
      "outputs": [
        {
          "output_type": "execute_result",
          "data": {
            "text/plain": [
              "           Tau  Moneyness  Last Price\n",
              "0     0.016438   0.537799     1937.60\n",
              "1     0.057534   0.577635     1761.10\n",
              "2     0.057534   0.625772     1561.62\n",
              "3     0.016438   0.733362     1117.20\n",
              "4     0.000000   0.776856      924.55\n",
              "...        ...        ...         ...\n",
              "5321  4.967123   2.291965       27.88\n",
              "5322  4.726027   2.316639       12.40\n",
              "5323  4.641096   2.302445       13.42\n",
              "5324  4.641096   2.398381       10.37\n",
              "5325  4.610959   2.913208        3.80\n",
              "\n",
              "[5318 rows x 3 columns]"
            ],
            "text/html": [
              "\n",
              "  <div id=\"df-6f625517-3011-4a39-bfae-a366627ad9b3\">\n",
              "    <div class=\"colab-df-container\">\n",
              "      <div>\n",
              "<style scoped>\n",
              "    .dataframe tbody tr th:only-of-type {\n",
              "        vertical-align: middle;\n",
              "    }\n",
              "\n",
              "    .dataframe tbody tr th {\n",
              "        vertical-align: top;\n",
              "    }\n",
              "\n",
              "    .dataframe thead th {\n",
              "        text-align: right;\n",
              "    }\n",
              "</style>\n",
              "<table border=\"1\" class=\"dataframe\">\n",
              "  <thead>\n",
              "    <tr style=\"text-align: right;\">\n",
              "      <th></th>\n",
              "      <th>Tau</th>\n",
              "      <th>Moneyness</th>\n",
              "      <th>Last Price</th>\n",
              "    </tr>\n",
              "  </thead>\n",
              "  <tbody>\n",
              "    <tr>\n",
              "      <th>0</th>\n",
              "      <td>0.016438</td>\n",
              "      <td>0.537799</td>\n",
              "      <td>1937.60</td>\n",
              "    </tr>\n",
              "    <tr>\n",
              "      <th>1</th>\n",
              "      <td>0.057534</td>\n",
              "      <td>0.577635</td>\n",
              "      <td>1761.10</td>\n",
              "    </tr>\n",
              "    <tr>\n",
              "      <th>2</th>\n",
              "      <td>0.057534</td>\n",
              "      <td>0.625772</td>\n",
              "      <td>1561.62</td>\n",
              "    </tr>\n",
              "    <tr>\n",
              "      <th>3</th>\n",
              "      <td>0.016438</td>\n",
              "      <td>0.733362</td>\n",
              "      <td>1117.20</td>\n",
              "    </tr>\n",
              "    <tr>\n",
              "      <th>4</th>\n",
              "      <td>0.000000</td>\n",
              "      <td>0.776856</td>\n",
              "      <td>924.55</td>\n",
              "    </tr>\n",
              "    <tr>\n",
              "      <th>...</th>\n",
              "      <td>...</td>\n",
              "      <td>...</td>\n",
              "      <td>...</td>\n",
              "    </tr>\n",
              "    <tr>\n",
              "      <th>5321</th>\n",
              "      <td>4.967123</td>\n",
              "      <td>2.291965</td>\n",
              "      <td>27.88</td>\n",
              "    </tr>\n",
              "    <tr>\n",
              "      <th>5322</th>\n",
              "      <td>4.726027</td>\n",
              "      <td>2.316639</td>\n",
              "      <td>12.40</td>\n",
              "    </tr>\n",
              "    <tr>\n",
              "      <th>5323</th>\n",
              "      <td>4.641096</td>\n",
              "      <td>2.302445</td>\n",
              "      <td>13.42</td>\n",
              "    </tr>\n",
              "    <tr>\n",
              "      <th>5324</th>\n",
              "      <td>4.641096</td>\n",
              "      <td>2.398381</td>\n",
              "      <td>10.37</td>\n",
              "    </tr>\n",
              "    <tr>\n",
              "      <th>5325</th>\n",
              "      <td>4.610959</td>\n",
              "      <td>2.913208</td>\n",
              "      <td>3.80</td>\n",
              "    </tr>\n",
              "  </tbody>\n",
              "</table>\n",
              "<p>5318 rows × 3 columns</p>\n",
              "</div>\n",
              "      <button class=\"colab-df-convert\" onclick=\"convertToInteractive('df-6f625517-3011-4a39-bfae-a366627ad9b3')\"\n",
              "              title=\"Convert this dataframe to an interactive table.\"\n",
              "              style=\"display:none;\">\n",
              "        \n",
              "  <svg xmlns=\"http://www.w3.org/2000/svg\" height=\"24px\"viewBox=\"0 0 24 24\"\n",
              "       width=\"24px\">\n",
              "    <path d=\"M0 0h24v24H0V0z\" fill=\"none\"/>\n",
              "    <path d=\"M18.56 5.44l.94 2.06.94-2.06 2.06-.94-2.06-.94-.94-2.06-.94 2.06-2.06.94zm-11 1L8.5 8.5l.94-2.06 2.06-.94-2.06-.94L8.5 2.5l-.94 2.06-2.06.94zm10 10l.94 2.06.94-2.06 2.06-.94-2.06-.94-.94-2.06-.94 2.06-2.06.94z\"/><path d=\"M17.41 7.96l-1.37-1.37c-.4-.4-.92-.59-1.43-.59-.52 0-1.04.2-1.43.59L10.3 9.45l-7.72 7.72c-.78.78-.78 2.05 0 2.83L4 21.41c.39.39.9.59 1.41.59.51 0 1.02-.2 1.41-.59l7.78-7.78 2.81-2.81c.8-.78.8-2.07 0-2.86zM5.41 20L4 18.59l7.72-7.72 1.47 1.35L5.41 20z\"/>\n",
              "  </svg>\n",
              "      </button>\n",
              "      \n",
              "  <style>\n",
              "    .colab-df-container {\n",
              "      display:flex;\n",
              "      flex-wrap:wrap;\n",
              "      gap: 12px;\n",
              "    }\n",
              "\n",
              "    .colab-df-convert {\n",
              "      background-color: #E8F0FE;\n",
              "      border: none;\n",
              "      border-radius: 50%;\n",
              "      cursor: pointer;\n",
              "      display: none;\n",
              "      fill: #1967D2;\n",
              "      height: 32px;\n",
              "      padding: 0 0 0 0;\n",
              "      width: 32px;\n",
              "    }\n",
              "\n",
              "    .colab-df-convert:hover {\n",
              "      background-color: #E2EBFA;\n",
              "      box-shadow: 0px 1px 2px rgba(60, 64, 67, 0.3), 0px 1px 3px 1px rgba(60, 64, 67, 0.15);\n",
              "      fill: #174EA6;\n",
              "    }\n",
              "\n",
              "    [theme=dark] .colab-df-convert {\n",
              "      background-color: #3B4455;\n",
              "      fill: #D2E3FC;\n",
              "    }\n",
              "\n",
              "    [theme=dark] .colab-df-convert:hover {\n",
              "      background-color: #434B5C;\n",
              "      box-shadow: 0px 1px 3px 1px rgba(0, 0, 0, 0.15);\n",
              "      filter: drop-shadow(0px 1px 2px rgba(0, 0, 0, 0.3));\n",
              "      fill: #FFFFFF;\n",
              "    }\n",
              "  </style>\n",
              "\n",
              "      <script>\n",
              "        const buttonEl =\n",
              "          document.querySelector('#df-6f625517-3011-4a39-bfae-a366627ad9b3 button.colab-df-convert');\n",
              "        buttonEl.style.display =\n",
              "          google.colab.kernel.accessAllowed ? 'block' : 'none';\n",
              "\n",
              "        async function convertToInteractive(key) {\n",
              "          const element = document.querySelector('#df-6f625517-3011-4a39-bfae-a366627ad9b3');\n",
              "          const dataTable =\n",
              "            await google.colab.kernel.invokeFunction('convertToInteractive',\n",
              "                                                     [key], {});\n",
              "          if (!dataTable) return;\n",
              "\n",
              "          const docLinkHtml = 'Like what you see? Visit the ' +\n",
              "            '<a target=\"_blank\" href=https://colab.research.google.com/notebooks/data_table.ipynb>data table notebook</a>'\n",
              "            + ' to learn more about interactive tables.';\n",
              "          element.innerHTML = '';\n",
              "          dataTable['output_type'] = 'display_data';\n",
              "          await google.colab.output.renderOutput(dataTable, element);\n",
              "          const docLink = document.createElement('div');\n",
              "          docLink.innerHTML = docLinkHtml;\n",
              "          element.appendChild(docLink);\n",
              "        }\n",
              "      </script>\n",
              "    </div>\n",
              "  </div>\n",
              "  "
            ]
          },
          "metadata": {},
          "execution_count": 22
        }
      ],
      "source": [
        "df_c"
      ]
    },
    {
      "cell_type": "markdown",
      "source": [
        "Puts dataset pre-processed"
      ],
      "metadata": {
        "id": "p-BDFiERhYfQ"
      }
    },
    {
      "cell_type": "code",
      "execution_count": null,
      "metadata": {
        "colab": {
          "base_uri": "https://localhost:8080/",
          "height": 424
        },
        "id": "b1orkR4irQne",
        "outputId": "0b281a99-ea34-4bc7-8276-13fc19691256"
      },
      "outputs": [
        {
          "output_type": "execute_result",
          "data": {
            "text/plain": [
              "           Tau  Moneyness  Last Price\n",
              "0     0.016438   0.293345        0.05\n",
              "1     0.057534   0.529499        0.05\n",
              "2     0.057534   0.577635        0.07\n",
              "3     0.035616   0.641027        0.05\n",
              "4     0.030137   0.671547        0.05\n",
              "...        ...        ...         ...\n",
              "6305  4.649315   1.964815     2941.60\n",
              "6306  4.684932   2.052811     3263.45\n",
              "6307  4.775342   2.486023     4320.90\n",
              "6308  4.775342   2.589607     4649.25\n",
              "6309  4.986301   3.121082     6297.16\n",
              "\n",
              "[6306 rows x 3 columns]"
            ],
            "text/html": [
              "\n",
              "  <div id=\"df-a373c9e7-77c7-45a9-b09c-cff185d58a6c\">\n",
              "    <div class=\"colab-df-container\">\n",
              "      <div>\n",
              "<style scoped>\n",
              "    .dataframe tbody tr th:only-of-type {\n",
              "        vertical-align: middle;\n",
              "    }\n",
              "\n",
              "    .dataframe tbody tr th {\n",
              "        vertical-align: top;\n",
              "    }\n",
              "\n",
              "    .dataframe thead th {\n",
              "        text-align: right;\n",
              "    }\n",
              "</style>\n",
              "<table border=\"1\" class=\"dataframe\">\n",
              "  <thead>\n",
              "    <tr style=\"text-align: right;\">\n",
              "      <th></th>\n",
              "      <th>Tau</th>\n",
              "      <th>Moneyness</th>\n",
              "      <th>Last Price</th>\n",
              "    </tr>\n",
              "  </thead>\n",
              "  <tbody>\n",
              "    <tr>\n",
              "      <th>0</th>\n",
              "      <td>0.016438</td>\n",
              "      <td>0.293345</td>\n",
              "      <td>0.05</td>\n",
              "    </tr>\n",
              "    <tr>\n",
              "      <th>1</th>\n",
              "      <td>0.057534</td>\n",
              "      <td>0.529499</td>\n",
              "      <td>0.05</td>\n",
              "    </tr>\n",
              "    <tr>\n",
              "      <th>2</th>\n",
              "      <td>0.057534</td>\n",
              "      <td>0.577635</td>\n",
              "      <td>0.07</td>\n",
              "    </tr>\n",
              "    <tr>\n",
              "      <th>3</th>\n",
              "      <td>0.035616</td>\n",
              "      <td>0.641027</td>\n",
              "      <td>0.05</td>\n",
              "    </tr>\n",
              "    <tr>\n",
              "      <th>4</th>\n",
              "      <td>0.030137</td>\n",
              "      <td>0.671547</td>\n",
              "      <td>0.05</td>\n",
              "    </tr>\n",
              "    <tr>\n",
              "      <th>...</th>\n",
              "      <td>...</td>\n",
              "      <td>...</td>\n",
              "      <td>...</td>\n",
              "    </tr>\n",
              "    <tr>\n",
              "      <th>6305</th>\n",
              "      <td>4.649315</td>\n",
              "      <td>1.964815</td>\n",
              "      <td>2941.60</td>\n",
              "    </tr>\n",
              "    <tr>\n",
              "      <th>6306</th>\n",
              "      <td>4.684932</td>\n",
              "      <td>2.052811</td>\n",
              "      <td>3263.45</td>\n",
              "    </tr>\n",
              "    <tr>\n",
              "      <th>6307</th>\n",
              "      <td>4.775342</td>\n",
              "      <td>2.486023</td>\n",
              "      <td>4320.90</td>\n",
              "    </tr>\n",
              "    <tr>\n",
              "      <th>6308</th>\n",
              "      <td>4.775342</td>\n",
              "      <td>2.589607</td>\n",
              "      <td>4649.25</td>\n",
              "    </tr>\n",
              "    <tr>\n",
              "      <th>6309</th>\n",
              "      <td>4.986301</td>\n",
              "      <td>3.121082</td>\n",
              "      <td>6297.16</td>\n",
              "    </tr>\n",
              "  </tbody>\n",
              "</table>\n",
              "<p>6306 rows × 3 columns</p>\n",
              "</div>\n",
              "      <button class=\"colab-df-convert\" onclick=\"convertToInteractive('df-a373c9e7-77c7-45a9-b09c-cff185d58a6c')\"\n",
              "              title=\"Convert this dataframe to an interactive table.\"\n",
              "              style=\"display:none;\">\n",
              "        \n",
              "  <svg xmlns=\"http://www.w3.org/2000/svg\" height=\"24px\"viewBox=\"0 0 24 24\"\n",
              "       width=\"24px\">\n",
              "    <path d=\"M0 0h24v24H0V0z\" fill=\"none\"/>\n",
              "    <path d=\"M18.56 5.44l.94 2.06.94-2.06 2.06-.94-2.06-.94-.94-2.06-.94 2.06-2.06.94zm-11 1L8.5 8.5l.94-2.06 2.06-.94-2.06-.94L8.5 2.5l-.94 2.06-2.06.94zm10 10l.94 2.06.94-2.06 2.06-.94-2.06-.94-.94-2.06-.94 2.06-2.06.94z\"/><path d=\"M17.41 7.96l-1.37-1.37c-.4-.4-.92-.59-1.43-.59-.52 0-1.04.2-1.43.59L10.3 9.45l-7.72 7.72c-.78.78-.78 2.05 0 2.83L4 21.41c.39.39.9.59 1.41.59.51 0 1.02-.2 1.41-.59l7.78-7.78 2.81-2.81c.8-.78.8-2.07 0-2.86zM5.41 20L4 18.59l7.72-7.72 1.47 1.35L5.41 20z\"/>\n",
              "  </svg>\n",
              "      </button>\n",
              "      \n",
              "  <style>\n",
              "    .colab-df-container {\n",
              "      display:flex;\n",
              "      flex-wrap:wrap;\n",
              "      gap: 12px;\n",
              "    }\n",
              "\n",
              "    .colab-df-convert {\n",
              "      background-color: #E8F0FE;\n",
              "      border: none;\n",
              "      border-radius: 50%;\n",
              "      cursor: pointer;\n",
              "      display: none;\n",
              "      fill: #1967D2;\n",
              "      height: 32px;\n",
              "      padding: 0 0 0 0;\n",
              "      width: 32px;\n",
              "    }\n",
              "\n",
              "    .colab-df-convert:hover {\n",
              "      background-color: #E2EBFA;\n",
              "      box-shadow: 0px 1px 2px rgba(60, 64, 67, 0.3), 0px 1px 3px 1px rgba(60, 64, 67, 0.15);\n",
              "      fill: #174EA6;\n",
              "    }\n",
              "\n",
              "    [theme=dark] .colab-df-convert {\n",
              "      background-color: #3B4455;\n",
              "      fill: #D2E3FC;\n",
              "    }\n",
              "\n",
              "    [theme=dark] .colab-df-convert:hover {\n",
              "      background-color: #434B5C;\n",
              "      box-shadow: 0px 1px 3px 1px rgba(0, 0, 0, 0.15);\n",
              "      filter: drop-shadow(0px 1px 2px rgba(0, 0, 0, 0.3));\n",
              "      fill: #FFFFFF;\n",
              "    }\n",
              "  </style>\n",
              "\n",
              "      <script>\n",
              "        const buttonEl =\n",
              "          document.querySelector('#df-a373c9e7-77c7-45a9-b09c-cff185d58a6c button.colab-df-convert');\n",
              "        buttonEl.style.display =\n",
              "          google.colab.kernel.accessAllowed ? 'block' : 'none';\n",
              "\n",
              "        async function convertToInteractive(key) {\n",
              "          const element = document.querySelector('#df-a373c9e7-77c7-45a9-b09c-cff185d58a6c');\n",
              "          const dataTable =\n",
              "            await google.colab.kernel.invokeFunction('convertToInteractive',\n",
              "                                                     [key], {});\n",
              "          if (!dataTable) return;\n",
              "\n",
              "          const docLinkHtml = 'Like what you see? Visit the ' +\n",
              "            '<a target=\"_blank\" href=https://colab.research.google.com/notebooks/data_table.ipynb>data table notebook</a>'\n",
              "            + ' to learn more about interactive tables.';\n",
              "          element.innerHTML = '';\n",
              "          dataTable['output_type'] = 'display_data';\n",
              "          await google.colab.output.renderOutput(dataTable, element);\n",
              "          const docLink = document.createElement('div');\n",
              "          docLink.innerHTML = docLinkHtml;\n",
              "          element.appendChild(docLink);\n",
              "        }\n",
              "      </script>\n",
              "    </div>\n",
              "  </div>\n",
              "  "
            ]
          },
          "metadata": {},
          "execution_count": 23
        }
      ],
      "source": [
        "df_p"
      ]
    },
    {
      "cell_type": "markdown",
      "metadata": {
        "id": "r2Co8YqinLyi"
      },
      "source": [
        "# II.Models"
      ]
    },
    {
      "cell_type": "markdown",
      "metadata": {
        "id": "MRHmgi-Owxi7"
      },
      "source": [
        "## 2.1 Parametric Model"
      ]
    },
    {
      "cell_type": "markdown",
      "metadata": {
        "id": "ljxYvtFWDNbA"
      },
      "source": [
        "### Black-Scholes"
      ]
    },
    {
      "cell_type": "code",
      "execution_count": null,
      "metadata": {
        "id": "oQwPXBptDRxf"
      },
      "outputs": [],
      "source": [
        "def BS_Price(CP,S0,K,sigma,T,r):\n",
        "    d1=(log(S0/K)+(r-0.5*np.power(sigma,2))*T)/float((sigma*sqrt(T)))\n",
        "    d2=d1-sigma*sqrt(T)\n",
        "    if str(CP).lower()=='c' or str(CP).lower()=='1':\n",
        "        value=S0*st.norm.cdf(d1)-K*np.exp(-r*T)*st.norm.cdf(d2)\n",
        "    elif str(CP).lower()=='p' or str(CP).lower()=='0':\n",
        "        value=-S0*st.norm.cdf(-d1)+K*np.exp(-r*T)*st.norm.cdf(-d2)\n",
        "    return value\n",
        "\n",
        "def Vector_BS(CP,param,obj):\n",
        "  sigma,r=param\n",
        "  BS=np.zeros([len(obj),1])\n",
        "  for i in range(len(obj)):\n",
        "    BS[i]=BS_Price(CP,obj.iloc[i]['S0'],obj.iloc[i]['Strike'],sigma,obj.iloc[i]['Tau'],r)\n",
        "  return BS\n",
        "\n",
        "def my_RMSE(yhat,y):\n",
        "    return sqrt((yhat-y).T@(yhat-y))/len(yhat)\n",
        "    \n",
        "def my_MAE(yhat,y):\n",
        "  dif=np.abs(y-yhat)\n",
        "  return dif.sum()/len(yhat)\n",
        "\n",
        "def my_R2(yhat,y): \n",
        "  dif=y-yhat\n",
        "  sse=dif.T@dif\n",
        "  sst=(y-y.mean()).T@(y-y.mean())\n",
        "  return 1-float(sse/sst)\n",
        "\n"
      ]
    },
    {
      "cell_type": "code",
      "execution_count": null,
      "metadata": {
        "id": "ZiRZNbwoFhZg",
        "colab": {
          "base_uri": "https://localhost:8080/"
        },
        "outputId": "32296cd1-89f6-4a12-8bed-fe3067185b57"
      },
      "outputs": [
        {
          "output_type": "stream",
          "name": "stderr",
          "text": [
            "<ipython-input-24-fe342acb9495>:2: RuntimeWarning: divide by zero encountered in double_scalars\n",
            "  d1=(log(S0/K)+(r-0.5*np.power(sigma,2))*T)/float((sigma*sqrt(T)))\n",
            "<ipython-input-24-fe342acb9495>:2: RuntimeWarning: divide by zero encountered in double_scalars\n",
            "  d1=(log(S0/K)+(r-0.5*np.power(sigma,2))*T)/float((sigma*sqrt(T)))\n",
            "<ipython-input-24-fe342acb9495>:2: RuntimeWarning: divide by zero encountered in double_scalars\n",
            "  d1=(log(S0/K)+(r-0.5*np.power(sigma,2))*T)/float((sigma*sqrt(T)))\n"
          ]
        }
      ],
      "source": [
        "#Calibration\n",
        "\n",
        "def objective_Call(params,obj):\n",
        "  sigma, r = params\n",
        "  BS=np.zeros([len(obj),1])\n",
        "  for i in range(len(obj)):\n",
        "    BS[i]=BS_Price('C',obj.iloc[i]['S0'],obj.iloc[i]['Strike'],sigma,obj.iloc[i]['Tau'],r)\n",
        "  mkt=obj['Last Price'].values.reshape([len(obj),1])\n",
        "  return (BS-mkt).T@(BS-mkt)\n",
        "\n",
        "def objective_Put(params,obj):\n",
        "  sigma, r = params\n",
        "  BS=np.zeros([len(obj),1])\n",
        "  for i in range(len(obj)):\n",
        "    BS[i]=BS_Price('P',obj.iloc[i]['S0'],obj.iloc[i]['Strike'],sigma,obj.iloc[i]['Tau'],r)\n",
        "  mkt=obj['Last Price'].values.reshape([len(obj),1])\n",
        "  return (BS-mkt).T@(BS-mkt)\n",
        "\n",
        "\n",
        "sigma=0.2;r=0.05\n",
        "param=sigma,r\n",
        "\n",
        "#This part is very time consuming, takes about 20 minutes!!!\n",
        "result_c = minimize(objective_Call,param,Cs)\n",
        "result_p=minimize(objective_Put,param,Ps)"
      ]
    },
    {
      "cell_type": "code",
      "execution_count": null,
      "metadata": {
        "id": "CNHIiMObcFe3",
        "colab": {
          "base_uri": "https://localhost:8080/"
        },
        "outputId": "34ae3582-b4e7-479b-ef40-9c4785cf4e8d"
      },
      "outputs": [
        {
          "output_type": "execute_result",
          "data": {
            "text/plain": [
              "(array([0.17371637, 0.0367814 ]), array([0.19102673, 0.02862548]))"
            ]
          },
          "metadata": {},
          "execution_count": 26
        }
      ],
      "source": [
        "#Calibrated Parameters\n",
        "result_c.x,result_p.x"
      ]
    },
    {
      "cell_type": "markdown",
      "metadata": {
        "id": "rCgsxwBAu9mN"
      },
      "source": [
        "Technically, the fitted parameter by combing calls and puts  and fitted separately should be close. In practice, we find out that the the minimization algorithm is extremely time-consuming with the combined dataset, and the metrics are close to fitting separately. So we calibrate the parameters separately with calls and puts datasets. The calibrated parameters in both dataset are eonomically intuitive. The calls buyer may expect a smaller volatility than the puts buyer."
      ]
    },
    {
      "cell_type": "code",
      "execution_count": null,
      "metadata": {
        "id": "5_c1lDekQQqz",
        "colab": {
          "base_uri": "https://localhost:8080/"
        },
        "outputId": "400575f2-c0b8-48b5-d5bf-a4e4211f9759"
      },
      "outputs": [
        {
          "output_type": "stream",
          "name": "stderr",
          "text": [
            "<ipython-input-24-fe342acb9495>:2: RuntimeWarning: divide by zero encountered in double_scalars\n",
            "  d1=(log(S0/K)+(r-0.5*np.power(sigma,2))*T)/float((sigma*sqrt(T)))\n"
          ]
        }
      ],
      "source": [
        "#Calibrated BS Prices for calls:\n",
        "BS_C=Vector_BS('C',result_c.x,Cs)\n",
        "BS_P=Vector_BS('P',result_p.x,Ps)\n",
        "\n",
        "#calculating metrics\n",
        "BS_RMSE=my_RMSE(BS_C,Cs['Last Price'].values.reshape([len(Cs),1])),my_RMSE(BS_P,Ps['Last Price'].values.reshape([len(Ps),1]))\n",
        "BS_MAE=my_MAE(BS_C,Cs['Last Price'].values.reshape([len(Cs),1])),my_MAE(BS_P,Ps['Last Price'].values.reshape([len(Ps),1]))\n",
        "BS_R2=my_R2(BS_C,Cs['Last Price'].values.reshape([len(Cs),1])),my_R2(BS_P,Ps['Last Price'].values.reshape([len(Ps),1]))"
      ]
    },
    {
      "cell_type": "code",
      "execution_count": null,
      "metadata": {
        "colab": {
          "base_uri": "https://localhost:8080/",
          "height": 143
        },
        "id": "9cTszvzaeZDH",
        "outputId": "1162a208-8798-4dae-b672-3ba0e6155da0"
      },
      "outputs": [
        {
          "output_type": "execute_result",
          "data": {
            "text/plain": [
              "           Call        Put\n",
              "RMSE   0.458501   0.428386\n",
              "MAE   19.231485  19.323843\n",
              "R^2    0.997235   0.993404"
            ],
            "text/html": [
              "\n",
              "  <div id=\"df-8cc4753e-7dab-4b9c-a1f6-7fdf18f63ee0\">\n",
              "    <div class=\"colab-df-container\">\n",
              "      <div>\n",
              "<style scoped>\n",
              "    .dataframe tbody tr th:only-of-type {\n",
              "        vertical-align: middle;\n",
              "    }\n",
              "\n",
              "    .dataframe tbody tr th {\n",
              "        vertical-align: top;\n",
              "    }\n",
              "\n",
              "    .dataframe thead th {\n",
              "        text-align: right;\n",
              "    }\n",
              "</style>\n",
              "<table border=\"1\" class=\"dataframe\">\n",
              "  <thead>\n",
              "    <tr style=\"text-align: right;\">\n",
              "      <th></th>\n",
              "      <th>Call</th>\n",
              "      <th>Put</th>\n",
              "    </tr>\n",
              "  </thead>\n",
              "  <tbody>\n",
              "    <tr>\n",
              "      <th>RMSE</th>\n",
              "      <td>0.458501</td>\n",
              "      <td>0.428386</td>\n",
              "    </tr>\n",
              "    <tr>\n",
              "      <th>MAE</th>\n",
              "      <td>19.231485</td>\n",
              "      <td>19.323843</td>\n",
              "    </tr>\n",
              "    <tr>\n",
              "      <th>R^2</th>\n",
              "      <td>0.997235</td>\n",
              "      <td>0.993404</td>\n",
              "    </tr>\n",
              "  </tbody>\n",
              "</table>\n",
              "</div>\n",
              "      <button class=\"colab-df-convert\" onclick=\"convertToInteractive('df-8cc4753e-7dab-4b9c-a1f6-7fdf18f63ee0')\"\n",
              "              title=\"Convert this dataframe to an interactive table.\"\n",
              "              style=\"display:none;\">\n",
              "        \n",
              "  <svg xmlns=\"http://www.w3.org/2000/svg\" height=\"24px\"viewBox=\"0 0 24 24\"\n",
              "       width=\"24px\">\n",
              "    <path d=\"M0 0h24v24H0V0z\" fill=\"none\"/>\n",
              "    <path d=\"M18.56 5.44l.94 2.06.94-2.06 2.06-.94-2.06-.94-.94-2.06-.94 2.06-2.06.94zm-11 1L8.5 8.5l.94-2.06 2.06-.94-2.06-.94L8.5 2.5l-.94 2.06-2.06.94zm10 10l.94 2.06.94-2.06 2.06-.94-2.06-.94-.94-2.06-.94 2.06-2.06.94z\"/><path d=\"M17.41 7.96l-1.37-1.37c-.4-.4-.92-.59-1.43-.59-.52 0-1.04.2-1.43.59L10.3 9.45l-7.72 7.72c-.78.78-.78 2.05 0 2.83L4 21.41c.39.39.9.59 1.41.59.51 0 1.02-.2 1.41-.59l7.78-7.78 2.81-2.81c.8-.78.8-2.07 0-2.86zM5.41 20L4 18.59l7.72-7.72 1.47 1.35L5.41 20z\"/>\n",
              "  </svg>\n",
              "      </button>\n",
              "      \n",
              "  <style>\n",
              "    .colab-df-container {\n",
              "      display:flex;\n",
              "      flex-wrap:wrap;\n",
              "      gap: 12px;\n",
              "    }\n",
              "\n",
              "    .colab-df-convert {\n",
              "      background-color: #E8F0FE;\n",
              "      border: none;\n",
              "      border-radius: 50%;\n",
              "      cursor: pointer;\n",
              "      display: none;\n",
              "      fill: #1967D2;\n",
              "      height: 32px;\n",
              "      padding: 0 0 0 0;\n",
              "      width: 32px;\n",
              "    }\n",
              "\n",
              "    .colab-df-convert:hover {\n",
              "      background-color: #E2EBFA;\n",
              "      box-shadow: 0px 1px 2px rgba(60, 64, 67, 0.3), 0px 1px 3px 1px rgba(60, 64, 67, 0.15);\n",
              "      fill: #174EA6;\n",
              "    }\n",
              "\n",
              "    [theme=dark] .colab-df-convert {\n",
              "      background-color: #3B4455;\n",
              "      fill: #D2E3FC;\n",
              "    }\n",
              "\n",
              "    [theme=dark] .colab-df-convert:hover {\n",
              "      background-color: #434B5C;\n",
              "      box-shadow: 0px 1px 3px 1px rgba(0, 0, 0, 0.15);\n",
              "      filter: drop-shadow(0px 1px 2px rgba(0, 0, 0, 0.3));\n",
              "      fill: #FFFFFF;\n",
              "    }\n",
              "  </style>\n",
              "\n",
              "      <script>\n",
              "        const buttonEl =\n",
              "          document.querySelector('#df-8cc4753e-7dab-4b9c-a1f6-7fdf18f63ee0 button.colab-df-convert');\n",
              "        buttonEl.style.display =\n",
              "          google.colab.kernel.accessAllowed ? 'block' : 'none';\n",
              "\n",
              "        async function convertToInteractive(key) {\n",
              "          const element = document.querySelector('#df-8cc4753e-7dab-4b9c-a1f6-7fdf18f63ee0');\n",
              "          const dataTable =\n",
              "            await google.colab.kernel.invokeFunction('convertToInteractive',\n",
              "                                                     [key], {});\n",
              "          if (!dataTable) return;\n",
              "\n",
              "          const docLinkHtml = 'Like what you see? Visit the ' +\n",
              "            '<a target=\"_blank\" href=https://colab.research.google.com/notebooks/data_table.ipynb>data table notebook</a>'\n",
              "            + ' to learn more about interactive tables.';\n",
              "          element.innerHTML = '';\n",
              "          dataTable['output_type'] = 'display_data';\n",
              "          await google.colab.output.renderOutput(dataTable, element);\n",
              "          const docLink = document.createElement('div');\n",
              "          docLink.innerHTML = docLinkHtml;\n",
              "          element.appendChild(docLink);\n",
              "        }\n",
              "      </script>\n",
              "    </div>\n",
              "  </div>\n",
              "  "
            ]
          },
          "metadata": {},
          "execution_count": 28
        }
      ],
      "source": [
        "BS_metric=pd.DataFrame([BS_RMSE,BS_MAE,BS_R2],['RMSE','MAE','R^2'])\n",
        "BS_metric.columns=['Call','Put']\n",
        "BS_metric"
      ]
    },
    {
      "cell_type": "markdown",
      "metadata": {
        "id": "jbzgpvViw4yW"
      },
      "source": [
        "## 2.2 Machine Learning Models"
      ]
    },
    {
      "cell_type": "markdown",
      "source": [
        "Set seed for reproducibility "
      ],
      "metadata": {
        "id": "TAwG5tr6lo97"
      }
    },
    {
      "cell_type": "code",
      "source": [
        "seed = 42\n",
        "tf.random.set_seed(seed)"
      ],
      "metadata": {
        "id": "WOMVGwSSlnpZ"
      },
      "execution_count": null,
      "outputs": []
    },
    {
      "cell_type": "markdown",
      "metadata": {
        "id": "RT4BiK2xSLRx"
      },
      "source": [
        "### Working with call and put dataset simultaneously "
      ]
    },
    {
      "cell_type": "markdown",
      "metadata": {
        "id": "dghfrDnqTH7C"
      },
      "source": [
        "Train-test split\n",
        "\n",
        "Here we have to decide which dataset to use. If we use \"df_c\" we'll be working with calls. If we choose \"df_p\" we'll be working with puts"
      ]
    },
    {
      "cell_type": "code",
      "execution_count": null,
      "metadata": {
        "id": "KhupMGZcS4oF"
      },
      "outputs": [],
      "source": [
        "from sklearn.model_selection import train_test_split\n",
        "\n",
        "model_df = df_c.copy()\n",
        "model_df_p = df_p.copy()\n",
        "\n",
        "#Call train/test\n",
        "\n",
        "X = model_df[['Tau','Moneyness']].copy()\n",
        "y = model_df['Last Price'].copy()\n",
        "\n",
        "X_train, X_test, y_train, y_test = train_test_split(X, y, test_size = 0.15, random_state=42)\n",
        "\n",
        "#Put train/test\n",
        "\n",
        "X_p = model_df_p[['Tau','Moneyness']].copy()\n",
        "y_p = model_df_p['Last Price'].copy()\n",
        "\n",
        "X_train_p, X_test_p, y_train_p, y_test_p = train_test_split(X_p, y_p, test_size = 0.15, random_state=42)"
      ]
    },
    {
      "cell_type": "markdown",
      "metadata": {
        "id": "qZb4L8zmUorR"
      },
      "source": [
        "Normalization (Mean = 0, Sd = 1 for each column)"
      ]
    },
    {
      "cell_type": "code",
      "execution_count": null,
      "metadata": {
        "colab": {
          "base_uri": "https://localhost:8080/",
          "height": 300
        },
        "id": "Ui9B6HpLUaeL",
        "outputId": "cd34183c-586a-46db-9851-85b99df89f0a"
      },
      "outputs": [
        {
          "output_type": "execute_result",
          "data": {
            "text/plain": [
              "                Tau     Moneyness\n",
              "count  4.520000e+03  4.520000e+03\n",
              "mean   1.730117e-08  8.692783e-08\n",
              "std    1.000111e+00  1.000111e+00\n",
              "min   -6.023148e-01 -4.139539e+00\n",
              "25%   -5.149385e-01 -2.539023e-01\n",
              "50%   -3.123843e-01  6.614732e-02\n",
              "75%    9.272398e-02  3.042968e-01\n",
              "max    6.717437e+00  8.469946e+00"
            ],
            "text/html": [
              "\n",
              "  <div id=\"df-bad1c592-52eb-4ece-9cec-65895204e52f\">\n",
              "    <div class=\"colab-df-container\">\n",
              "      <div>\n",
              "<style scoped>\n",
              "    .dataframe tbody tr th:only-of-type {\n",
              "        vertical-align: middle;\n",
              "    }\n",
              "\n",
              "    .dataframe tbody tr th {\n",
              "        vertical-align: top;\n",
              "    }\n",
              "\n",
              "    .dataframe thead th {\n",
              "        text-align: right;\n",
              "    }\n",
              "</style>\n",
              "<table border=\"1\" class=\"dataframe\">\n",
              "  <thead>\n",
              "    <tr style=\"text-align: right;\">\n",
              "      <th></th>\n",
              "      <th>Tau</th>\n",
              "      <th>Moneyness</th>\n",
              "    </tr>\n",
              "  </thead>\n",
              "  <tbody>\n",
              "    <tr>\n",
              "      <th>count</th>\n",
              "      <td>4.520000e+03</td>\n",
              "      <td>4.520000e+03</td>\n",
              "    </tr>\n",
              "    <tr>\n",
              "      <th>mean</th>\n",
              "      <td>1.730117e-08</td>\n",
              "      <td>8.692783e-08</td>\n",
              "    </tr>\n",
              "    <tr>\n",
              "      <th>std</th>\n",
              "      <td>1.000111e+00</td>\n",
              "      <td>1.000111e+00</td>\n",
              "    </tr>\n",
              "    <tr>\n",
              "      <th>min</th>\n",
              "      <td>-6.023148e-01</td>\n",
              "      <td>-4.139539e+00</td>\n",
              "    </tr>\n",
              "    <tr>\n",
              "      <th>25%</th>\n",
              "      <td>-5.149385e-01</td>\n",
              "      <td>-2.539023e-01</td>\n",
              "    </tr>\n",
              "    <tr>\n",
              "      <th>50%</th>\n",
              "      <td>-3.123843e-01</td>\n",
              "      <td>6.614732e-02</td>\n",
              "    </tr>\n",
              "    <tr>\n",
              "      <th>75%</th>\n",
              "      <td>9.272398e-02</td>\n",
              "      <td>3.042968e-01</td>\n",
              "    </tr>\n",
              "    <tr>\n",
              "      <th>max</th>\n",
              "      <td>6.717437e+00</td>\n",
              "      <td>8.469946e+00</td>\n",
              "    </tr>\n",
              "  </tbody>\n",
              "</table>\n",
              "</div>\n",
              "      <button class=\"colab-df-convert\" onclick=\"convertToInteractive('df-bad1c592-52eb-4ece-9cec-65895204e52f')\"\n",
              "              title=\"Convert this dataframe to an interactive table.\"\n",
              "              style=\"display:none;\">\n",
              "        \n",
              "  <svg xmlns=\"http://www.w3.org/2000/svg\" height=\"24px\"viewBox=\"0 0 24 24\"\n",
              "       width=\"24px\">\n",
              "    <path d=\"M0 0h24v24H0V0z\" fill=\"none\"/>\n",
              "    <path d=\"M18.56 5.44l.94 2.06.94-2.06 2.06-.94-2.06-.94-.94-2.06-.94 2.06-2.06.94zm-11 1L8.5 8.5l.94-2.06 2.06-.94-2.06-.94L8.5 2.5l-.94 2.06-2.06.94zm10 10l.94 2.06.94-2.06 2.06-.94-2.06-.94-.94-2.06-.94 2.06-2.06.94z\"/><path d=\"M17.41 7.96l-1.37-1.37c-.4-.4-.92-.59-1.43-.59-.52 0-1.04.2-1.43.59L10.3 9.45l-7.72 7.72c-.78.78-.78 2.05 0 2.83L4 21.41c.39.39.9.59 1.41.59.51 0 1.02-.2 1.41-.59l7.78-7.78 2.81-2.81c.8-.78.8-2.07 0-2.86zM5.41 20L4 18.59l7.72-7.72 1.47 1.35L5.41 20z\"/>\n",
              "  </svg>\n",
              "      </button>\n",
              "      \n",
              "  <style>\n",
              "    .colab-df-container {\n",
              "      display:flex;\n",
              "      flex-wrap:wrap;\n",
              "      gap: 12px;\n",
              "    }\n",
              "\n",
              "    .colab-df-convert {\n",
              "      background-color: #E8F0FE;\n",
              "      border: none;\n",
              "      border-radius: 50%;\n",
              "      cursor: pointer;\n",
              "      display: none;\n",
              "      fill: #1967D2;\n",
              "      height: 32px;\n",
              "      padding: 0 0 0 0;\n",
              "      width: 32px;\n",
              "    }\n",
              "\n",
              "    .colab-df-convert:hover {\n",
              "      background-color: #E2EBFA;\n",
              "      box-shadow: 0px 1px 2px rgba(60, 64, 67, 0.3), 0px 1px 3px 1px rgba(60, 64, 67, 0.15);\n",
              "      fill: #174EA6;\n",
              "    }\n",
              "\n",
              "    [theme=dark] .colab-df-convert {\n",
              "      background-color: #3B4455;\n",
              "      fill: #D2E3FC;\n",
              "    }\n",
              "\n",
              "    [theme=dark] .colab-df-convert:hover {\n",
              "      background-color: #434B5C;\n",
              "      box-shadow: 0px 1px 3px 1px rgba(0, 0, 0, 0.15);\n",
              "      filter: drop-shadow(0px 1px 2px rgba(0, 0, 0, 0.3));\n",
              "      fill: #FFFFFF;\n",
              "    }\n",
              "  </style>\n",
              "\n",
              "      <script>\n",
              "        const buttonEl =\n",
              "          document.querySelector('#df-bad1c592-52eb-4ece-9cec-65895204e52f button.colab-df-convert');\n",
              "        buttonEl.style.display =\n",
              "          google.colab.kernel.accessAllowed ? 'block' : 'none';\n",
              "\n",
              "        async function convertToInteractive(key) {\n",
              "          const element = document.querySelector('#df-bad1c592-52eb-4ece-9cec-65895204e52f');\n",
              "          const dataTable =\n",
              "            await google.colab.kernel.invokeFunction('convertToInteractive',\n",
              "                                                     [key], {});\n",
              "          if (!dataTable) return;\n",
              "\n",
              "          const docLinkHtml = 'Like what you see? Visit the ' +\n",
              "            '<a target=\"_blank\" href=https://colab.research.google.com/notebooks/data_table.ipynb>data table notebook</a>'\n",
              "            + ' to learn more about interactive tables.';\n",
              "          element.innerHTML = '';\n",
              "          dataTable['output_type'] = 'display_data';\n",
              "          await google.colab.output.renderOutput(dataTable, element);\n",
              "          const docLink = document.createElement('div');\n",
              "          docLink.innerHTML = docLinkHtml;\n",
              "          element.appendChild(docLink);\n",
              "        }\n",
              "      </script>\n",
              "    </div>\n",
              "  </div>\n",
              "  "
            ]
          },
          "metadata": {},
          "execution_count": 31
        }
      ],
      "source": [
        "# Call Normalization \n",
        "normalizer = preprocessing.Normalization() #creates the layer\n",
        "normalizer.adapt(np.array(X_train)) #fit it to the data\n",
        "pd.DataFrame(normalizer(X_train).numpy(), columns=X_train.columns).describe() #check the normalization"
      ]
    },
    {
      "cell_type": "code",
      "source": [
        "# Put Normalization \n",
        "normalizer_p = preprocessing.Normalization() #creates the layer\n",
        "normalizer_p.adapt(np.array(X_train_p)) #fit it to the data\n",
        "pd.DataFrame(normalizer_p(X_train_p).numpy(), columns=X_train_p.columns).describe() #check the normalization"
      ],
      "metadata": {
        "colab": {
          "base_uri": "https://localhost:8080/",
          "height": 300
        },
        "id": "GWnUvTTVuMdC",
        "outputId": "eebe600f-d792-4075-efb6-75c49b53f940"
      },
      "execution_count": null,
      "outputs": [
        {
          "output_type": "execute_result",
          "data": {
            "text/plain": [
              "                Tau     Moneyness\n",
              "count  5.360000e+03  5.360000e+03\n",
              "mean  -6.476445e-08 -4.711436e-07\n",
              "std    1.000093e+00  1.000093e+00\n",
              "min   -5.715591e-01 -3.873671e+00\n",
              "25%   -5.009274e-01 -3.429269e-01\n",
              "50%   -3.555093e-01  1.520397e-01\n",
              "75%    1.098286e-01  4.237202e-01\n",
              "max    7.035884e+00  9.658786e+00"
            ],
            "text/html": [
              "\n",
              "  <div id=\"df-407cad1f-cd0f-4763-b146-7c623f43e48b\">\n",
              "    <div class=\"colab-df-container\">\n",
              "      <div>\n",
              "<style scoped>\n",
              "    .dataframe tbody tr th:only-of-type {\n",
              "        vertical-align: middle;\n",
              "    }\n",
              "\n",
              "    .dataframe tbody tr th {\n",
              "        vertical-align: top;\n",
              "    }\n",
              "\n",
              "    .dataframe thead th {\n",
              "        text-align: right;\n",
              "    }\n",
              "</style>\n",
              "<table border=\"1\" class=\"dataframe\">\n",
              "  <thead>\n",
              "    <tr style=\"text-align: right;\">\n",
              "      <th></th>\n",
              "      <th>Tau</th>\n",
              "      <th>Moneyness</th>\n",
              "    </tr>\n",
              "  </thead>\n",
              "  <tbody>\n",
              "    <tr>\n",
              "      <th>count</th>\n",
              "      <td>5.360000e+03</td>\n",
              "      <td>5.360000e+03</td>\n",
              "    </tr>\n",
              "    <tr>\n",
              "      <th>mean</th>\n",
              "      <td>-6.476445e-08</td>\n",
              "      <td>-4.711436e-07</td>\n",
              "    </tr>\n",
              "    <tr>\n",
              "      <th>std</th>\n",
              "      <td>1.000093e+00</td>\n",
              "      <td>1.000093e+00</td>\n",
              "    </tr>\n",
              "    <tr>\n",
              "      <th>min</th>\n",
              "      <td>-5.715591e-01</td>\n",
              "      <td>-3.873671e+00</td>\n",
              "    </tr>\n",
              "    <tr>\n",
              "      <th>25%</th>\n",
              "      <td>-5.009274e-01</td>\n",
              "      <td>-3.429269e-01</td>\n",
              "    </tr>\n",
              "    <tr>\n",
              "      <th>50%</th>\n",
              "      <td>-3.555093e-01</td>\n",
              "      <td>1.520397e-01</td>\n",
              "    </tr>\n",
              "    <tr>\n",
              "      <th>75%</th>\n",
              "      <td>1.098286e-01</td>\n",
              "      <td>4.237202e-01</td>\n",
              "    </tr>\n",
              "    <tr>\n",
              "      <th>max</th>\n",
              "      <td>7.035884e+00</td>\n",
              "      <td>9.658786e+00</td>\n",
              "    </tr>\n",
              "  </tbody>\n",
              "</table>\n",
              "</div>\n",
              "      <button class=\"colab-df-convert\" onclick=\"convertToInteractive('df-407cad1f-cd0f-4763-b146-7c623f43e48b')\"\n",
              "              title=\"Convert this dataframe to an interactive table.\"\n",
              "              style=\"display:none;\">\n",
              "        \n",
              "  <svg xmlns=\"http://www.w3.org/2000/svg\" height=\"24px\"viewBox=\"0 0 24 24\"\n",
              "       width=\"24px\">\n",
              "    <path d=\"M0 0h24v24H0V0z\" fill=\"none\"/>\n",
              "    <path d=\"M18.56 5.44l.94 2.06.94-2.06 2.06-.94-2.06-.94-.94-2.06-.94 2.06-2.06.94zm-11 1L8.5 8.5l.94-2.06 2.06-.94-2.06-.94L8.5 2.5l-.94 2.06-2.06.94zm10 10l.94 2.06.94-2.06 2.06-.94-2.06-.94-.94-2.06-.94 2.06-2.06.94z\"/><path d=\"M17.41 7.96l-1.37-1.37c-.4-.4-.92-.59-1.43-.59-.52 0-1.04.2-1.43.59L10.3 9.45l-7.72 7.72c-.78.78-.78 2.05 0 2.83L4 21.41c.39.39.9.59 1.41.59.51 0 1.02-.2 1.41-.59l7.78-7.78 2.81-2.81c.8-.78.8-2.07 0-2.86zM5.41 20L4 18.59l7.72-7.72 1.47 1.35L5.41 20z\"/>\n",
              "  </svg>\n",
              "      </button>\n",
              "      \n",
              "  <style>\n",
              "    .colab-df-container {\n",
              "      display:flex;\n",
              "      flex-wrap:wrap;\n",
              "      gap: 12px;\n",
              "    }\n",
              "\n",
              "    .colab-df-convert {\n",
              "      background-color: #E8F0FE;\n",
              "      border: none;\n",
              "      border-radius: 50%;\n",
              "      cursor: pointer;\n",
              "      display: none;\n",
              "      fill: #1967D2;\n",
              "      height: 32px;\n",
              "      padding: 0 0 0 0;\n",
              "      width: 32px;\n",
              "    }\n",
              "\n",
              "    .colab-df-convert:hover {\n",
              "      background-color: #E2EBFA;\n",
              "      box-shadow: 0px 1px 2px rgba(60, 64, 67, 0.3), 0px 1px 3px 1px rgba(60, 64, 67, 0.15);\n",
              "      fill: #174EA6;\n",
              "    }\n",
              "\n",
              "    [theme=dark] .colab-df-convert {\n",
              "      background-color: #3B4455;\n",
              "      fill: #D2E3FC;\n",
              "    }\n",
              "\n",
              "    [theme=dark] .colab-df-convert:hover {\n",
              "      background-color: #434B5C;\n",
              "      box-shadow: 0px 1px 3px 1px rgba(0, 0, 0, 0.15);\n",
              "      filter: drop-shadow(0px 1px 2px rgba(0, 0, 0, 0.3));\n",
              "      fill: #FFFFFF;\n",
              "    }\n",
              "  </style>\n",
              "\n",
              "      <script>\n",
              "        const buttonEl =\n",
              "          document.querySelector('#df-407cad1f-cd0f-4763-b146-7c623f43e48b button.colab-df-convert');\n",
              "        buttonEl.style.display =\n",
              "          google.colab.kernel.accessAllowed ? 'block' : 'none';\n",
              "\n",
              "        async function convertToInteractive(key) {\n",
              "          const element = document.querySelector('#df-407cad1f-cd0f-4763-b146-7c623f43e48b');\n",
              "          const dataTable =\n",
              "            await google.colab.kernel.invokeFunction('convertToInteractive',\n",
              "                                                     [key], {});\n",
              "          if (!dataTable) return;\n",
              "\n",
              "          const docLinkHtml = 'Like what you see? Visit the ' +\n",
              "            '<a target=\"_blank\" href=https://colab.research.google.com/notebooks/data_table.ipynb>data table notebook</a>'\n",
              "            + ' to learn more about interactive tables.';\n",
              "          element.innerHTML = '';\n",
              "          dataTable['output_type'] = 'display_data';\n",
              "          await google.colab.output.renderOutput(dataTable, element);\n",
              "          const docLink = document.createElement('div');\n",
              "          docLink.innerHTML = docLinkHtml;\n",
              "          element.appendChild(docLink);\n",
              "        }\n",
              "      </script>\n",
              "    </div>\n",
              "  </div>\n",
              "  "
            ]
          },
          "metadata": {},
          "execution_count": 32
        }
      ]
    },
    {
      "cell_type": "markdown",
      "metadata": {
        "id": "WjmbjZ3AXIjd"
      },
      "source": [
        "#### Linear Regression\n",
        "\n",
        "First we create a linear regression model to estimate the prices given moneyness and tau"
      ]
    },
    {
      "cell_type": "code",
      "source": [
        "def build_reg_model(norm):\n",
        "  model = tf.keras.Sequential([\n",
        "    norm,\n",
        "    layers.Dense(units=1) #linear regression layer (units = 1)\n",
        "  ])\n",
        "  model.compile(\n",
        "      optimizer=tf.optimizers.Adam(learning_rate=0.1),\n",
        "      loss='mean_absolute_error'\n",
        "      )\n",
        "\n",
        "  return model"
      ],
      "metadata": {
        "id": "WhSykGvvu37f"
      },
      "execution_count": null,
      "outputs": []
    },
    {
      "cell_type": "markdown",
      "source": [
        "##### Call dataset"
      ],
      "metadata": {
        "id": "LgZptn8Azzjn"
      }
    },
    {
      "cell_type": "code",
      "source": [
        "reg_model_c = build_reg_model(normalizer)\n",
        "reg_model_c.summary()"
      ],
      "metadata": {
        "colab": {
          "base_uri": "https://localhost:8080/"
        },
        "id": "XYT7fM0HvPDM",
        "outputId": "d4f73900-0e1e-4ece-ee78-9fbbe38b3f1a"
      },
      "execution_count": null,
      "outputs": [
        {
          "output_type": "stream",
          "name": "stdout",
          "text": [
            "Model: \"sequential\"\n",
            "_________________________________________________________________\n",
            " Layer (type)                Output Shape              Param #   \n",
            "=================================================================\n",
            " normalization (Normalizati  (None, 2)                 5         \n",
            " on)                                                             \n",
            "                                                                 \n",
            " dense (Dense)               (None, 1)                 3         \n",
            "                                                                 \n",
            "=================================================================\n",
            "Total params: 8 (36.00 Byte)\n",
            "Trainable params: 3 (12.00 Byte)\n",
            "Non-trainable params: 5 (24.00 Byte)\n",
            "_________________________________________________________________\n"
          ]
        }
      ]
    },
    {
      "cell_type": "code",
      "source": [
        "# Plot loss function of the trained model\n",
        "import plotly.graph_objects as go\n",
        "\n",
        "def plot_loss_plotly(history, tit):\n",
        "  history_df = pd.DataFrame(history.history)\n",
        "  fig = go.Figure()\n",
        "  fig.add_trace(go.Scatter(x=history_df.index.values, y=history_df['loss'],\n",
        "                      mode='lines',\n",
        "                      name='loss'))\n",
        "  fig.add_trace(go.Scatter(x=history_df.index.values, y=history_df['val_loss'],\n",
        "                      mode='lines',\n",
        "                      name='val_loss'))\n",
        "  fig.update_layout(title=tit,\n",
        "                  xaxis_title='Epoch',\n",
        "                   yaxis_title='Mean Absolute Error [Option Price]',\n",
        "                    template='ggplot2',\n",
        "                    autosize=False,\n",
        "                    width=700,\n",
        "                    height=500,)\n",
        "  fig.show()"
      ],
      "metadata": {
        "id": "m4HfvdLOvsAC"
      },
      "execution_count": null,
      "outputs": []
    },
    {
      "cell_type": "code",
      "source": [
        "#Model Training\n",
        "%%time\n",
        "history = reg_model_c.fit(\n",
        "    X_train, y_train, \n",
        "    epochs=100,\n",
        "    # suppress logging\n",
        "    verbose=0,\n",
        "    # Calculate validation results on 20% of the training data\n",
        "    validation_split = 0.2)"
      ],
      "metadata": {
        "colab": {
          "base_uri": "https://localhost:8080/"
        },
        "id": "ydhOZQSGveJb",
        "outputId": "1cdaa59f-a29d-445d-8ff1-78a1febe2838"
      },
      "execution_count": null,
      "outputs": [
        {
          "output_type": "stream",
          "name": "stdout",
          "text": [
            "CPU times: user 30.5 s, sys: 2.63 s, total: 33.1 s\n",
            "Wall time: 31.8 s\n"
          ]
        }
      ]
    },
    {
      "cell_type": "code",
      "source": [
        "#Collect results for later\n",
        "test_results = pd.DataFrame(data=[], columns=[])\n",
        "test_results['linear_model'] = [reg_model_c.evaluate(\n",
        "    X_test, y_test, verbose=0)]\n",
        "test_results"
      ],
      "metadata": {
        "colab": {
          "base_uri": "https://localhost:8080/",
          "height": 81
        },
        "id": "JoCa8QTCv8LV",
        "outputId": "304a62f8-22e2-48da-89ce-43cb615ee473"
      },
      "execution_count": null,
      "outputs": [
        {
          "output_type": "execute_result",
          "data": {
            "text/plain": [
              "   linear_model\n",
              "0    141.777573"
            ],
            "text/html": [
              "\n",
              "  <div id=\"df-8489be4e-57f6-4cab-8fd7-57062e2d8298\">\n",
              "    <div class=\"colab-df-container\">\n",
              "      <div>\n",
              "<style scoped>\n",
              "    .dataframe tbody tr th:only-of-type {\n",
              "        vertical-align: middle;\n",
              "    }\n",
              "\n",
              "    .dataframe tbody tr th {\n",
              "        vertical-align: top;\n",
              "    }\n",
              "\n",
              "    .dataframe thead th {\n",
              "        text-align: right;\n",
              "    }\n",
              "</style>\n",
              "<table border=\"1\" class=\"dataframe\">\n",
              "  <thead>\n",
              "    <tr style=\"text-align: right;\">\n",
              "      <th></th>\n",
              "      <th>linear_model</th>\n",
              "    </tr>\n",
              "  </thead>\n",
              "  <tbody>\n",
              "    <tr>\n",
              "      <th>0</th>\n",
              "      <td>141.777573</td>\n",
              "    </tr>\n",
              "  </tbody>\n",
              "</table>\n",
              "</div>\n",
              "      <button class=\"colab-df-convert\" onclick=\"convertToInteractive('df-8489be4e-57f6-4cab-8fd7-57062e2d8298')\"\n",
              "              title=\"Convert this dataframe to an interactive table.\"\n",
              "              style=\"display:none;\">\n",
              "        \n",
              "  <svg xmlns=\"http://www.w3.org/2000/svg\" height=\"24px\"viewBox=\"0 0 24 24\"\n",
              "       width=\"24px\">\n",
              "    <path d=\"M0 0h24v24H0V0z\" fill=\"none\"/>\n",
              "    <path d=\"M18.56 5.44l.94 2.06.94-2.06 2.06-.94-2.06-.94-.94-2.06-.94 2.06-2.06.94zm-11 1L8.5 8.5l.94-2.06 2.06-.94-2.06-.94L8.5 2.5l-.94 2.06-2.06.94zm10 10l.94 2.06.94-2.06 2.06-.94-2.06-.94-.94-2.06-.94 2.06-2.06.94z\"/><path d=\"M17.41 7.96l-1.37-1.37c-.4-.4-.92-.59-1.43-.59-.52 0-1.04.2-1.43.59L10.3 9.45l-7.72 7.72c-.78.78-.78 2.05 0 2.83L4 21.41c.39.39.9.59 1.41.59.51 0 1.02-.2 1.41-.59l7.78-7.78 2.81-2.81c.8-.78.8-2.07 0-2.86zM5.41 20L4 18.59l7.72-7.72 1.47 1.35L5.41 20z\"/>\n",
              "  </svg>\n",
              "      </button>\n",
              "      \n",
              "  <style>\n",
              "    .colab-df-container {\n",
              "      display:flex;\n",
              "      flex-wrap:wrap;\n",
              "      gap: 12px;\n",
              "    }\n",
              "\n",
              "    .colab-df-convert {\n",
              "      background-color: #E8F0FE;\n",
              "      border: none;\n",
              "      border-radius: 50%;\n",
              "      cursor: pointer;\n",
              "      display: none;\n",
              "      fill: #1967D2;\n",
              "      height: 32px;\n",
              "      padding: 0 0 0 0;\n",
              "      width: 32px;\n",
              "    }\n",
              "\n",
              "    .colab-df-convert:hover {\n",
              "      background-color: #E2EBFA;\n",
              "      box-shadow: 0px 1px 2px rgba(60, 64, 67, 0.3), 0px 1px 3px 1px rgba(60, 64, 67, 0.15);\n",
              "      fill: #174EA6;\n",
              "    }\n",
              "\n",
              "    [theme=dark] .colab-df-convert {\n",
              "      background-color: #3B4455;\n",
              "      fill: #D2E3FC;\n",
              "    }\n",
              "\n",
              "    [theme=dark] .colab-df-convert:hover {\n",
              "      background-color: #434B5C;\n",
              "      box-shadow: 0px 1px 3px 1px rgba(0, 0, 0, 0.15);\n",
              "      filter: drop-shadow(0px 1px 2px rgba(0, 0, 0, 0.3));\n",
              "      fill: #FFFFFF;\n",
              "    }\n",
              "  </style>\n",
              "\n",
              "      <script>\n",
              "        const buttonEl =\n",
              "          document.querySelector('#df-8489be4e-57f6-4cab-8fd7-57062e2d8298 button.colab-df-convert');\n",
              "        buttonEl.style.display =\n",
              "          google.colab.kernel.accessAllowed ? 'block' : 'none';\n",
              "\n",
              "        async function convertToInteractive(key) {\n",
              "          const element = document.querySelector('#df-8489be4e-57f6-4cab-8fd7-57062e2d8298');\n",
              "          const dataTable =\n",
              "            await google.colab.kernel.invokeFunction('convertToInteractive',\n",
              "                                                     [key], {});\n",
              "          if (!dataTable) return;\n",
              "\n",
              "          const docLinkHtml = 'Like what you see? Visit the ' +\n",
              "            '<a target=\"_blank\" href=https://colab.research.google.com/notebooks/data_table.ipynb>data table notebook</a>'\n",
              "            + ' to learn more about interactive tables.';\n",
              "          element.innerHTML = '';\n",
              "          dataTable['output_type'] = 'display_data';\n",
              "          await google.colab.output.renderOutput(dataTable, element);\n",
              "          const docLink = document.createElement('div');\n",
              "          docLink.innerHTML = docLinkHtml;\n",
              "          element.appendChild(docLink);\n",
              "        }\n",
              "      </script>\n",
              "    </div>\n",
              "  </div>\n",
              "  "
            ]
          },
          "metadata": {},
          "execution_count": 37
        }
      ]
    },
    {
      "cell_type": "code",
      "source": [
        "plot_loss_plotly(history, 'Linear Regression Model Calls dataset')"
      ],
      "metadata": {
        "colab": {
          "base_uri": "https://localhost:8080/",
          "height": 517
        },
        "id": "QHxAo7DTvrEG",
        "outputId": "2fe45520-4150-420f-d5ac-21ac45e32e18"
      },
      "execution_count": null,
      "outputs": [
        {
          "output_type": "display_data",
          "data": {
            "text/html": [
              "<html>\n",
              "<head><meta charset=\"utf-8\" /></head>\n",
              "<body>\n",
              "    <div>            <script src=\"https://cdnjs.cloudflare.com/ajax/libs/mathjax/2.7.5/MathJax.js?config=TeX-AMS-MML_SVG\"></script><script type=\"text/javascript\">if (window.MathJax && window.MathJax.Hub && window.MathJax.Hub.Config) {window.MathJax.Hub.Config({SVG: {font: \"STIX-Web\"}});}</script>                <script type=\"text/javascript\">window.PlotlyConfig = {MathJaxConfig: 'local'};</script>\n",
              "        <script src=\"https://cdn.plot.ly/plotly-2.18.2.min.js\"></script>                <div id=\"e10b71c3-ba5c-4265-bcc1-c386585bda45\" class=\"plotly-graph-div\" style=\"height:500px; width:700px;\"></div>            <script type=\"text/javascript\">                                    window.PLOTLYENV=window.PLOTLYENV || {};                                    if (document.getElementById(\"e10b71c3-ba5c-4265-bcc1-c386585bda45\")) {                    Plotly.newPlot(                        \"e10b71c3-ba5c-4265-bcc1-c386585bda45\",                        [{\"mode\":\"lines\",\"name\":\"loss\",\"x\":[0,1,2,3,4,5,6,7,8,9,10,11,12,13,14,15,16,17,18,19,20,21,22,23,24,25,26,27,28,29,30,31,32,33,34,35,36,37,38,39,40,41,42,43,44,45,46,47,48,49,50,51,52,53,54,55,56,57,58,59,60,61,62,63,64,65,66,67,68,69,70,71,72,73,74,75,76,77,78,79,80,81,82,83,84,85,86,87,88,89,90,91,92,93,94,95,96,97,98,99],\"y\":[390.2973327636719,380.7052307128906,371.51019287109375,362.59796142578125,353.90045166015625,345.40545654296875,337.11962890625,329.03985595703125,321.1661071777344,313.476806640625,305.9967041015625,298.7159118652344,291.6754455566406,284.8586120605469,278.21728515625,271.7703552246094,265.5757751464844,259.5755920410156,253.7386932373047,248.1475830078125,242.8129425048828,237.6389617919922,232.74713134765625,228.143798828125,223.69078063964844,219.36407470703125,215.25360107421875,211.3616943359375,207.63624572753906,204.0572967529297,200.6399383544922,197.2987518310547,194.0845947265625,191.03382873535156,188.1310272216797,185.31434631347656,182.61700439453125,179.98143005371094,177.4467315673828,175.03805541992188,172.79493713378906,170.7226104736328,168.78512573242188,166.92739868164062,165.1527099609375,163.4681854248047,161.86746215820312,160.37356567382812,158.9019012451172,157.4849395751953,156.1575469970703,154.87522888183594,153.6266632080078,152.43841552734375,151.3218994140625,150.2581024169922,149.23780822753906,148.26329040527344,147.34165954589844,146.4780731201172,145.6527557373047,144.89344787597656,144.15460205078125,143.492919921875,142.89956665039062,142.35479736328125,141.85044860839844,141.36386108398438,140.96603393554688,140.6024932861328,140.2854461669922,139.99964904785156,139.74563598632812,139.51046752929688,139.3007049560547,139.13400268554688,138.96792602539062,138.8146514892578,138.68280029296875,138.5675506591797,138.45530700683594,138.36355590820312,138.281005859375,138.2113800048828,138.14703369140625,138.1016387939453,138.0381317138672,138.00906372070312,137.96722412109375,137.93829345703125,137.91534423828125,137.89187622070312,137.87466430664062,137.856689453125,137.83338928222656,137.80975341796875,137.80137634277344,137.78770446777344,137.78317260742188,137.76980590820312],\"type\":\"scatter\"},{\"mode\":\"lines\",\"name\":\"val_loss\",\"x\":[0,1,2,3,4,5,6,7,8,9,10,11,12,13,14,15,16,17,18,19,20,21,22,23,24,25,26,27,28,29,30,31,32,33,34,35,36,37,38,39,40,41,42,43,44,45,46,47,48,49,50,51,52,53,54,55,56,57,58,59,60,61,62,63,64,65,66,67,68,69,70,71,72,73,74,75,76,77,78,79,80,81,82,83,84,85,86,87,88,89,90,91,92,93,94,95,96,97,98,99],\"y\":[383.7400817871094,374.5364685058594,365.68316650390625,357.1982727050781,349.0348815917969,341.05548095703125,333.34747314453125,325.8629150390625,318.6184997558594,311.57464599609375,304.76177978515625,298.1843566894531,291.773193359375,285.53570556640625,279.4205322265625,273.5465393066406,267.647705078125,262.1839294433594,256.8396301269531,251.66983032226562,246.69100952148438,241.83688354492188,237.18788146972656,232.6084747314453,228.3380584716797,224.20785522460938,220.2818603515625,216.47500610351562,212.86245727539062,209.3840789794922,205.98963928222656,202.67478942871094,199.63760375976562,196.8199462890625,194.0587158203125,191.35183715820312,188.7717742919922,186.37869262695312,183.9746551513672,181.74578857421875,179.55157470703125,177.58224487304688,175.66119384765625,173.7714080810547,172.1272430419922,170.4804229736328,168.95089721679688,167.41610717773438,165.96286010742188,164.6124267578125,163.31390380859375,162.03671264648438,160.80117797851562,159.60369873046875,158.47744750976562,157.4557342529297,156.42967224121094,155.47938537597656,154.55438232421875,153.75222778320312,152.98135375976562,152.28018188476562,151.68226623535156,151.11163330078125,150.6064910888672,150.12054443359375,149.6734161376953,149.2821502685547,148.920166015625,148.63348388671875,148.34060668945312,148.07322692871094,147.83409118652344,147.65081787109375,147.47821044921875,147.30645751953125,147.2001495361328,147.09922790527344,147.0031280517578,146.92555236816406,146.86363220214844,146.84188842773438,146.79800415039062,146.78781127929688,146.76632690429688,146.76487731933594,146.76043701171875,146.7664031982422,146.76132202148438,146.76519775390625,146.77342224121094,146.77456665039062,146.79339599609375,146.7984619140625,146.81207275390625,146.8388214111328,146.85243225097656,146.8804931640625,146.89569091796875,146.90017700195312],\"type\":\"scatter\"}],                        {\"template\":{\"data\":{\"barpolar\":[{\"marker\":{\"line\":{\"color\":\"rgb(237,237,237)\",\"width\":0.5},\"pattern\":{\"fillmode\":\"overlay\",\"size\":10,\"solidity\":0.2}},\"type\":\"barpolar\"}],\"bar\":[{\"error_x\":{\"color\":\"rgb(51,51,51)\"},\"error_y\":{\"color\":\"rgb(51,51,51)\"},\"marker\":{\"line\":{\"color\":\"rgb(237,237,237)\",\"width\":0.5},\"pattern\":{\"fillmode\":\"overlay\",\"size\":10,\"solidity\":0.2}},\"type\":\"bar\"}],\"carpet\":[{\"aaxis\":{\"endlinecolor\":\"rgb(51,51,51)\",\"gridcolor\":\"white\",\"linecolor\":\"white\",\"minorgridcolor\":\"white\",\"startlinecolor\":\"rgb(51,51,51)\"},\"baxis\":{\"endlinecolor\":\"rgb(51,51,51)\",\"gridcolor\":\"white\",\"linecolor\":\"white\",\"minorgridcolor\":\"white\",\"startlinecolor\":\"rgb(51,51,51)\"},\"type\":\"carpet\"}],\"choropleth\":[{\"colorbar\":{\"outlinewidth\":0,\"tickcolor\":\"rgb(237,237,237)\",\"ticklen\":6,\"ticks\":\"inside\"},\"type\":\"choropleth\"}],\"contourcarpet\":[{\"colorbar\":{\"outlinewidth\":0,\"tickcolor\":\"rgb(237,237,237)\",\"ticklen\":6,\"ticks\":\"inside\"},\"type\":\"contourcarpet\"}],\"contour\":[{\"colorbar\":{\"outlinewidth\":0,\"tickcolor\":\"rgb(237,237,237)\",\"ticklen\":6,\"ticks\":\"inside\"},\"colorscale\":[[0,\"rgb(20,44,66)\"],[1,\"rgb(90,179,244)\"]],\"type\":\"contour\"}],\"heatmapgl\":[{\"colorbar\":{\"outlinewidth\":0,\"tickcolor\":\"rgb(237,237,237)\",\"ticklen\":6,\"ticks\":\"inside\"},\"colorscale\":[[0,\"rgb(20,44,66)\"],[1,\"rgb(90,179,244)\"]],\"type\":\"heatmapgl\"}],\"heatmap\":[{\"colorbar\":{\"outlinewidth\":0,\"tickcolor\":\"rgb(237,237,237)\",\"ticklen\":6,\"ticks\":\"inside\"},\"colorscale\":[[0,\"rgb(20,44,66)\"],[1,\"rgb(90,179,244)\"]],\"type\":\"heatmap\"}],\"histogram2dcontour\":[{\"colorbar\":{\"outlinewidth\":0,\"tickcolor\":\"rgb(237,237,237)\",\"ticklen\":6,\"ticks\":\"inside\"},\"colorscale\":[[0,\"rgb(20,44,66)\"],[1,\"rgb(90,179,244)\"]],\"type\":\"histogram2dcontour\"}],\"histogram2d\":[{\"colorbar\":{\"outlinewidth\":0,\"tickcolor\":\"rgb(237,237,237)\",\"ticklen\":6,\"ticks\":\"inside\"},\"colorscale\":[[0,\"rgb(20,44,66)\"],[1,\"rgb(90,179,244)\"]],\"type\":\"histogram2d\"}],\"histogram\":[{\"marker\":{\"pattern\":{\"fillmode\":\"overlay\",\"size\":10,\"solidity\":0.2}},\"type\":\"histogram\"}],\"mesh3d\":[{\"colorbar\":{\"outlinewidth\":0,\"tickcolor\":\"rgb(237,237,237)\",\"ticklen\":6,\"ticks\":\"inside\"},\"type\":\"mesh3d\"}],\"parcoords\":[{\"line\":{\"colorbar\":{\"outlinewidth\":0,\"tickcolor\":\"rgb(237,237,237)\",\"ticklen\":6,\"ticks\":\"inside\"}},\"type\":\"parcoords\"}],\"pie\":[{\"automargin\":true,\"type\":\"pie\"}],\"scatter3d\":[{\"line\":{\"colorbar\":{\"outlinewidth\":0,\"tickcolor\":\"rgb(237,237,237)\",\"ticklen\":6,\"ticks\":\"inside\"}},\"marker\":{\"colorbar\":{\"outlinewidth\":0,\"tickcolor\":\"rgb(237,237,237)\",\"ticklen\":6,\"ticks\":\"inside\"}},\"type\":\"scatter3d\"}],\"scattercarpet\":[{\"marker\":{\"colorbar\":{\"outlinewidth\":0,\"tickcolor\":\"rgb(237,237,237)\",\"ticklen\":6,\"ticks\":\"inside\"}},\"type\":\"scattercarpet\"}],\"scattergeo\":[{\"marker\":{\"colorbar\":{\"outlinewidth\":0,\"tickcolor\":\"rgb(237,237,237)\",\"ticklen\":6,\"ticks\":\"inside\"}},\"type\":\"scattergeo\"}],\"scattergl\":[{\"marker\":{\"colorbar\":{\"outlinewidth\":0,\"tickcolor\":\"rgb(237,237,237)\",\"ticklen\":6,\"ticks\":\"inside\"}},\"type\":\"scattergl\"}],\"scattermapbox\":[{\"marker\":{\"colorbar\":{\"outlinewidth\":0,\"tickcolor\":\"rgb(237,237,237)\",\"ticklen\":6,\"ticks\":\"inside\"}},\"type\":\"scattermapbox\"}],\"scatterpolargl\":[{\"marker\":{\"colorbar\":{\"outlinewidth\":0,\"tickcolor\":\"rgb(237,237,237)\",\"ticklen\":6,\"ticks\":\"inside\"}},\"type\":\"scatterpolargl\"}],\"scatterpolar\":[{\"marker\":{\"colorbar\":{\"outlinewidth\":0,\"tickcolor\":\"rgb(237,237,237)\",\"ticklen\":6,\"ticks\":\"inside\"}},\"type\":\"scatterpolar\"}],\"scatter\":[{\"fillpattern\":{\"fillmode\":\"overlay\",\"size\":10,\"solidity\":0.2},\"type\":\"scatter\"}],\"scatterternary\":[{\"marker\":{\"colorbar\":{\"outlinewidth\":0,\"tickcolor\":\"rgb(237,237,237)\",\"ticklen\":6,\"ticks\":\"inside\"}},\"type\":\"scatterternary\"}],\"surface\":[{\"colorbar\":{\"outlinewidth\":0,\"tickcolor\":\"rgb(237,237,237)\",\"ticklen\":6,\"ticks\":\"inside\"},\"colorscale\":[[0,\"rgb(20,44,66)\"],[1,\"rgb(90,179,244)\"]],\"type\":\"surface\"}],\"table\":[{\"cells\":{\"fill\":{\"color\":\"rgb(237,237,237)\"},\"line\":{\"color\":\"white\"}},\"header\":{\"fill\":{\"color\":\"rgb(217,217,217)\"},\"line\":{\"color\":\"white\"}},\"type\":\"table\"}]},\"layout\":{\"annotationdefaults\":{\"arrowhead\":0,\"arrowwidth\":1},\"autotypenumbers\":\"strict\",\"coloraxis\":{\"colorbar\":{\"outlinewidth\":0,\"tickcolor\":\"rgb(237,237,237)\",\"ticklen\":6,\"ticks\":\"inside\"}},\"colorscale\":{\"sequential\":[[0,\"rgb(20,44,66)\"],[1,\"rgb(90,179,244)\"]],\"sequentialminus\":[[0,\"rgb(20,44,66)\"],[1,\"rgb(90,179,244)\"]]},\"colorway\":[\"#F8766D\",\"#A3A500\",\"#00BF7D\",\"#00B0F6\",\"#E76BF3\"],\"font\":{\"color\":\"rgb(51,51,51)\"},\"geo\":{\"bgcolor\":\"white\",\"lakecolor\":\"white\",\"landcolor\":\"rgb(237,237,237)\",\"showlakes\":true,\"showland\":true,\"subunitcolor\":\"white\"},\"hoverlabel\":{\"align\":\"left\"},\"hovermode\":\"closest\",\"paper_bgcolor\":\"white\",\"plot_bgcolor\":\"rgb(237,237,237)\",\"polar\":{\"angularaxis\":{\"gridcolor\":\"white\",\"linecolor\":\"white\",\"showgrid\":true,\"tickcolor\":\"rgb(51,51,51)\",\"ticks\":\"outside\"},\"bgcolor\":\"rgb(237,237,237)\",\"radialaxis\":{\"gridcolor\":\"white\",\"linecolor\":\"white\",\"showgrid\":true,\"tickcolor\":\"rgb(51,51,51)\",\"ticks\":\"outside\"}},\"scene\":{\"xaxis\":{\"backgroundcolor\":\"rgb(237,237,237)\",\"gridcolor\":\"white\",\"gridwidth\":2,\"linecolor\":\"white\",\"showbackground\":true,\"showgrid\":true,\"tickcolor\":\"rgb(51,51,51)\",\"ticks\":\"outside\",\"zerolinecolor\":\"white\"},\"yaxis\":{\"backgroundcolor\":\"rgb(237,237,237)\",\"gridcolor\":\"white\",\"gridwidth\":2,\"linecolor\":\"white\",\"showbackground\":true,\"showgrid\":true,\"tickcolor\":\"rgb(51,51,51)\",\"ticks\":\"outside\",\"zerolinecolor\":\"white\"},\"zaxis\":{\"backgroundcolor\":\"rgb(237,237,237)\",\"gridcolor\":\"white\",\"gridwidth\":2,\"linecolor\":\"white\",\"showbackground\":true,\"showgrid\":true,\"tickcolor\":\"rgb(51,51,51)\",\"ticks\":\"outside\",\"zerolinecolor\":\"white\"}},\"shapedefaults\":{\"fillcolor\":\"black\",\"line\":{\"width\":0},\"opacity\":0.3},\"ternary\":{\"aaxis\":{\"gridcolor\":\"white\",\"linecolor\":\"white\",\"showgrid\":true,\"tickcolor\":\"rgb(51,51,51)\",\"ticks\":\"outside\"},\"baxis\":{\"gridcolor\":\"white\",\"linecolor\":\"white\",\"showgrid\":true,\"tickcolor\":\"rgb(51,51,51)\",\"ticks\":\"outside\"},\"bgcolor\":\"rgb(237,237,237)\",\"caxis\":{\"gridcolor\":\"white\",\"linecolor\":\"white\",\"showgrid\":true,\"tickcolor\":\"rgb(51,51,51)\",\"ticks\":\"outside\"}},\"xaxis\":{\"automargin\":true,\"gridcolor\":\"white\",\"linecolor\":\"white\",\"showgrid\":true,\"tickcolor\":\"rgb(51,51,51)\",\"ticks\":\"outside\",\"title\":{\"standoff\":15},\"zerolinecolor\":\"white\"},\"yaxis\":{\"automargin\":true,\"gridcolor\":\"white\",\"linecolor\":\"white\",\"showgrid\":true,\"tickcolor\":\"rgb(51,51,51)\",\"ticks\":\"outside\",\"title\":{\"standoff\":15},\"zerolinecolor\":\"white\"}}},\"title\":{\"text\":\"Linear Regression Model Calls dataset\"},\"xaxis\":{\"title\":{\"text\":\"Epoch\"}},\"yaxis\":{\"title\":{\"text\":\"Mean Absolute Error [Option Price]\"}},\"autosize\":false,\"width\":700,\"height\":500},                        {\"responsive\": true}                    ).then(function(){\n",
              "                            \n",
              "var gd = document.getElementById('e10b71c3-ba5c-4265-bcc1-c386585bda45');\n",
              "var x = new MutationObserver(function (mutations, observer) {{\n",
              "        var display = window.getComputedStyle(gd).display;\n",
              "        if (!display || display === 'none') {{\n",
              "            console.log([gd, 'removed!']);\n",
              "            Plotly.purge(gd);\n",
              "            observer.disconnect();\n",
              "        }}\n",
              "}});\n",
              "\n",
              "// Listen for the removal of the full notebook cells\n",
              "var notebookContainer = gd.closest('#notebook-container');\n",
              "if (notebookContainer) {{\n",
              "    x.observe(notebookContainer, {childList: true});\n",
              "}}\n",
              "\n",
              "// Listen for the clearing of the current output cell\n",
              "var outputEl = gd.closest('.output');\n",
              "if (outputEl) {{\n",
              "    x.observe(outputEl, {childList: true});\n",
              "}}\n",
              "\n",
              "                        })                };                            </script>        </div>\n",
              "</body>\n",
              "</html>"
            ]
          },
          "metadata": {}
        }
      ]
    },
    {
      "cell_type": "code",
      "source": [
        "#Print Coefficients after training\n",
        "Coefficients = pd.DataFrame(index=model_df.columns.to_list()[:-1])\n",
        "Coefficients[\"Coefficients\"] = reg_model_c.layers[1].kernel.numpy()\n",
        "Coefficients"
      ],
      "metadata": {
        "colab": {
          "base_uri": "https://localhost:8080/",
          "height": 112
        },
        "id": "7ItUV6mywNFn",
        "outputId": "6f2a2678-08fd-4247-ad3c-8cafdc898866"
      },
      "execution_count": null,
      "outputs": [
        {
          "output_type": "execute_result",
          "data": {
            "text/plain": [
              "           Coefficients\n",
              "Tau          242.359344\n",
              "Moneyness   -636.254517"
            ],
            "text/html": [
              "\n",
              "  <div id=\"df-989771eb-a5d5-4cb6-a9f4-fb1283fff6b1\">\n",
              "    <div class=\"colab-df-container\">\n",
              "      <div>\n",
              "<style scoped>\n",
              "    .dataframe tbody tr th:only-of-type {\n",
              "        vertical-align: middle;\n",
              "    }\n",
              "\n",
              "    .dataframe tbody tr th {\n",
              "        vertical-align: top;\n",
              "    }\n",
              "\n",
              "    .dataframe thead th {\n",
              "        text-align: right;\n",
              "    }\n",
              "</style>\n",
              "<table border=\"1\" class=\"dataframe\">\n",
              "  <thead>\n",
              "    <tr style=\"text-align: right;\">\n",
              "      <th></th>\n",
              "      <th>Coefficients</th>\n",
              "    </tr>\n",
              "  </thead>\n",
              "  <tbody>\n",
              "    <tr>\n",
              "      <th>Tau</th>\n",
              "      <td>242.359344</td>\n",
              "    </tr>\n",
              "    <tr>\n",
              "      <th>Moneyness</th>\n",
              "      <td>-636.254517</td>\n",
              "    </tr>\n",
              "  </tbody>\n",
              "</table>\n",
              "</div>\n",
              "      <button class=\"colab-df-convert\" onclick=\"convertToInteractive('df-989771eb-a5d5-4cb6-a9f4-fb1283fff6b1')\"\n",
              "              title=\"Convert this dataframe to an interactive table.\"\n",
              "              style=\"display:none;\">\n",
              "        \n",
              "  <svg xmlns=\"http://www.w3.org/2000/svg\" height=\"24px\"viewBox=\"0 0 24 24\"\n",
              "       width=\"24px\">\n",
              "    <path d=\"M0 0h24v24H0V0z\" fill=\"none\"/>\n",
              "    <path d=\"M18.56 5.44l.94 2.06.94-2.06 2.06-.94-2.06-.94-.94-2.06-.94 2.06-2.06.94zm-11 1L8.5 8.5l.94-2.06 2.06-.94-2.06-.94L8.5 2.5l-.94 2.06-2.06.94zm10 10l.94 2.06.94-2.06 2.06-.94-2.06-.94-.94-2.06-.94 2.06-2.06.94z\"/><path d=\"M17.41 7.96l-1.37-1.37c-.4-.4-.92-.59-1.43-.59-.52 0-1.04.2-1.43.59L10.3 9.45l-7.72 7.72c-.78.78-.78 2.05 0 2.83L4 21.41c.39.39.9.59 1.41.59.51 0 1.02-.2 1.41-.59l7.78-7.78 2.81-2.81c.8-.78.8-2.07 0-2.86zM5.41 20L4 18.59l7.72-7.72 1.47 1.35L5.41 20z\"/>\n",
              "  </svg>\n",
              "      </button>\n",
              "      \n",
              "  <style>\n",
              "    .colab-df-container {\n",
              "      display:flex;\n",
              "      flex-wrap:wrap;\n",
              "      gap: 12px;\n",
              "    }\n",
              "\n",
              "    .colab-df-convert {\n",
              "      background-color: #E8F0FE;\n",
              "      border: none;\n",
              "      border-radius: 50%;\n",
              "      cursor: pointer;\n",
              "      display: none;\n",
              "      fill: #1967D2;\n",
              "      height: 32px;\n",
              "      padding: 0 0 0 0;\n",
              "      width: 32px;\n",
              "    }\n",
              "\n",
              "    .colab-df-convert:hover {\n",
              "      background-color: #E2EBFA;\n",
              "      box-shadow: 0px 1px 2px rgba(60, 64, 67, 0.3), 0px 1px 3px 1px rgba(60, 64, 67, 0.15);\n",
              "      fill: #174EA6;\n",
              "    }\n",
              "\n",
              "    [theme=dark] .colab-df-convert {\n",
              "      background-color: #3B4455;\n",
              "      fill: #D2E3FC;\n",
              "    }\n",
              "\n",
              "    [theme=dark] .colab-df-convert:hover {\n",
              "      background-color: #434B5C;\n",
              "      box-shadow: 0px 1px 3px 1px rgba(0, 0, 0, 0.15);\n",
              "      filter: drop-shadow(0px 1px 2px rgba(0, 0, 0, 0.3));\n",
              "      fill: #FFFFFF;\n",
              "    }\n",
              "  </style>\n",
              "\n",
              "      <script>\n",
              "        const buttonEl =\n",
              "          document.querySelector('#df-989771eb-a5d5-4cb6-a9f4-fb1283fff6b1 button.colab-df-convert');\n",
              "        buttonEl.style.display =\n",
              "          google.colab.kernel.accessAllowed ? 'block' : 'none';\n",
              "\n",
              "        async function convertToInteractive(key) {\n",
              "          const element = document.querySelector('#df-989771eb-a5d5-4cb6-a9f4-fb1283fff6b1');\n",
              "          const dataTable =\n",
              "            await google.colab.kernel.invokeFunction('convertToInteractive',\n",
              "                                                     [key], {});\n",
              "          if (!dataTable) return;\n",
              "\n",
              "          const docLinkHtml = 'Like what you see? Visit the ' +\n",
              "            '<a target=\"_blank\" href=https://colab.research.google.com/notebooks/data_table.ipynb>data table notebook</a>'\n",
              "            + ' to learn more about interactive tables.';\n",
              "          element.innerHTML = '';\n",
              "          dataTable['output_type'] = 'display_data';\n",
              "          await google.colab.output.renderOutput(dataTable, element);\n",
              "          const docLink = document.createElement('div');\n",
              "          docLink.innerHTML = docLinkHtml;\n",
              "          element.appendChild(docLink);\n",
              "        }\n",
              "      </script>\n",
              "    </div>\n",
              "  </div>\n",
              "  "
            ]
          },
          "metadata": {},
          "execution_count": 39
        }
      ]
    },
    {
      "cell_type": "code",
      "source": [
        "test_predictions = reg_model_c.predict(X_test)\n",
        "test_predictions.shape"
      ],
      "metadata": {
        "colab": {
          "base_uri": "https://localhost:8080/"
        },
        "id": "pSd_xjWbC_5X",
        "outputId": "40aa2b8c-7990-4331-9063-4f6581413403"
      },
      "execution_count": null,
      "outputs": [
        {
          "output_type": "stream",
          "name": "stdout",
          "text": [
            "25/25 [==============================] - 0s 1ms/step\n"
          ]
        },
        {
          "output_type": "execute_result",
          "data": {
            "text/plain": [
              "(798, 1)"
            ]
          },
          "metadata": {},
          "execution_count": 40
        }
      ]
    },
    {
      "cell_type": "code",
      "source": [
        "y_true = np.array(y_test).reshape([len(y_test),1])\n",
        "y_pred = np.array(test_predictions)\n",
        "# Using 'auto'/'sum_over_batch_size' reduction type.\n",
        "mse = tf.keras.losses.MeanSquaredError()\n",
        "print(mse(y_true, y_pred).numpy())"
      ],
      "metadata": {
        "colab": {
          "base_uri": "https://localhost:8080/"
        },
        "id": "JCHVJ1q7D1fx",
        "outputId": "ecf9f3c2-2cb6-4afb-fce5-a50825255c10"
      },
      "execution_count": null,
      "outputs": [
        {
          "output_type": "stream",
          "name": "stdout",
          "text": [
            "103094.02\n"
          ]
        }
      ]
    },
    {
      "cell_type": "code",
      "source": [
        "rmse = np.sqrt(mse(y_true, y_pred).numpy())\n",
        "rmse"
      ],
      "metadata": {
        "colab": {
          "base_uri": "https://localhost:8080/"
        },
        "id": "1mPF6tQXEMsV",
        "outputId": "601bb087-f3bb-476f-f778-41ac471db459"
      },
      "execution_count": null,
      "outputs": [
        {
          "output_type": "execute_result",
          "data": {
            "text/plain": [
              "321.08258"
            ]
          },
          "metadata": {},
          "execution_count": 42
        }
      ]
    },
    {
      "cell_type": "code",
      "source": [
        "R2 = my_R2(y_pred,y_true)\n",
        "R2"
      ],
      "metadata": {
        "colab": {
          "base_uri": "https://localhost:8080/"
        },
        "id": "xsi7l8ggFazt",
        "outputId": "4bca798f-76d3-4dc3-f382-ee7888446c49"
      },
      "execution_count": null,
      "outputs": [
        {
          "output_type": "execute_result",
          "data": {
            "text/plain": [
              "0.7380014295782108"
            ]
          },
          "metadata": {},
          "execution_count": 43
        }
      ]
    },
    {
      "cell_type": "markdown",
      "source": [
        "##### Puts dataset"
      ],
      "metadata": {
        "id": "VjrudZKHwfZ2"
      }
    },
    {
      "cell_type": "code",
      "source": [
        "reg_model_p = build_reg_model(normalizer_p)\n",
        "reg_model_p.summary()"
      ],
      "metadata": {
        "colab": {
          "base_uri": "https://localhost:8080/"
        },
        "id": "hxA_VVIWvW-H",
        "outputId": "db5383e7-92b1-4889-d969-ce1780a28e37"
      },
      "execution_count": null,
      "outputs": [
        {
          "output_type": "stream",
          "name": "stdout",
          "text": [
            "Model: \"sequential_1\"\n",
            "_________________________________________________________________\n",
            " Layer (type)                Output Shape              Param #   \n",
            "=================================================================\n",
            " normalization_1 (Normaliza  (None, 2)                 5         \n",
            " tion)                                                           \n",
            "                                                                 \n",
            " dense_1 (Dense)             (None, 1)                 3         \n",
            "                                                                 \n",
            "=================================================================\n",
            "Total params: 8 (36.00 Byte)\n",
            "Trainable params: 3 (12.00 Byte)\n",
            "Non-trainable params: 5 (24.00 Byte)\n",
            "_________________________________________________________________\n"
          ]
        }
      ]
    },
    {
      "cell_type": "code",
      "source": [
        "#Model Training\n",
        "%%time\n",
        "history = reg_model_p.fit(\n",
        "    X_train_p, y_train_p, \n",
        "    epochs=100,\n",
        "    # suppress logging\n",
        "    verbose=0,\n",
        "    # Calculate validation results on 20% of the training data\n",
        "    validation_split = 0.2)"
      ],
      "metadata": {
        "colab": {
          "base_uri": "https://localhost:8080/"
        },
        "id": "iSDwy_Rnvmxp",
        "outputId": "f97236d0-96c2-412e-c6ff-a0c655fb4ed7"
      },
      "execution_count": null,
      "outputs": [
        {
          "output_type": "stream",
          "name": "stdout",
          "text": [
            "CPU times: user 34.8 s, sys: 2.67 s, total: 37.4 s\n",
            "Wall time: 41.3 s\n"
          ]
        }
      ]
    },
    {
      "cell_type": "code",
      "source": [
        "#Collect results for later\n",
        "test_results_p = pd.DataFrame(data=[], columns=[])\n",
        "test_results_p['linear_model'] = [reg_model_p.evaluate(\n",
        "    X_test_p, y_test_p, verbose=0)]"
      ],
      "metadata": {
        "id": "rkT8ak00v9Xy"
      },
      "execution_count": null,
      "outputs": []
    },
    {
      "cell_type": "code",
      "source": [
        "plot_loss_plotly(history, 'Linear Regression Model Puts dataset')"
      ],
      "metadata": {
        "colab": {
          "base_uri": "https://localhost:8080/",
          "height": 517
        },
        "id": "av8asSqNv0_B",
        "outputId": "7db2a50b-78cc-49ed-a18c-bbf1ee372c9b"
      },
      "execution_count": null,
      "outputs": [
        {
          "output_type": "display_data",
          "data": {
            "text/html": [
              "<html>\n",
              "<head><meta charset=\"utf-8\" /></head>\n",
              "<body>\n",
              "    <div>            <script src=\"https://cdnjs.cloudflare.com/ajax/libs/mathjax/2.7.5/MathJax.js?config=TeX-AMS-MML_SVG\"></script><script type=\"text/javascript\">if (window.MathJax && window.MathJax.Hub && window.MathJax.Hub.Config) {window.MathJax.Hub.Config({SVG: {font: \"STIX-Web\"}});}</script>                <script type=\"text/javascript\">window.PlotlyConfig = {MathJaxConfig: 'local'};</script>\n",
              "        <script src=\"https://cdn.plot.ly/plotly-2.18.2.min.js\"></script>                <div id=\"292296c5-66d3-4387-8df6-3c5885f964aa\" class=\"plotly-graph-div\" style=\"height:500px; width:700px;\"></div>            <script type=\"text/javascript\">                                    window.PLOTLYENV=window.PLOTLYENV || {};                                    if (document.getElementById(\"292296c5-66d3-4387-8df6-3c5885f964aa\")) {                    Plotly.newPlot(                        \"292296c5-66d3-4387-8df6-3c5885f964aa\",                        [{\"mode\":\"lines\",\"name\":\"loss\",\"x\":[0,1,2,3,4,5,6,7,8,9,10,11,12,13,14,15,16,17,18,19,20,21,22,23,24,25,26,27,28,29,30,31,32,33,34,35,36,37,38,39,40,41,42,43,44,45,46,47,48,49,50,51,52,53,54,55,56,57,58,59,60,61,62,63,64,65,66,67,68,69,70,71,72,73,74,75,76,77,78,79,80,81,82,83,84,85,86,87,88,89,90,91,92,93,94,95,96,97,98,99],\"y\":[151.95445251464844,143.31784057617188,136.27880859375,130.61460876464844,126.00750732421875,122.3466796875,119.5170669555664,117.29334259033203,115.60513305664062,114.32955932617188,113.37833404541016,112.63446044921875,112.08650207519531,111.64134979248047,111.29222106933594,111.00482177734375,110.76937103271484,110.58200073242188,110.44197082519531,110.33775329589844,110.26309204101562,110.20833587646484,110.1624984741211,110.13313293457031,110.09942626953125,110.09209442138672,110.06298065185547,110.06231689453125,110.0501480102539,110.0466079711914,110.04481506347656,110.03604125976562,110.03238677978516,110.03370666503906,110.03446197509766,110.03141784667969,110.0302505493164,110.02823638916016,110.0317611694336,110.02998352050781,110.02862548828125,110.03595733642578,110.03361511230469,110.02943420410156,110.02872467041016,110.03364562988281,110.02876281738281,110.0279312133789,110.0251693725586,110.02348327636719,110.03365325927734,110.02767944335938,110.02235412597656,110.02508544921875,110.0183334350586,110.03508758544922,110.02413177490234,110.02417755126953,110.02896118164062,110.02978515625,110.02540588378906,110.02767944335938,110.02769470214844,110.0292739868164,110.02339172363281,110.02702331542969,110.02893829345703,110.02993774414062,110.03057861328125,110.02517700195312,110.024658203125,110.02567291259766,110.02444458007812,110.03414916992188,110.02437591552734,110.02307891845703,110.02613067626953,110.0316162109375,110.02801513671875,110.03202819824219,110.02714538574219,110.01960754394531,110.02973937988281,110.03121948242188,110.03103637695312,110.02593231201172,110.03084564208984,110.02690887451172,110.03831481933594,110.02249145507812,110.03510284423828,110.02540588378906,110.02935028076172,110.02850341796875,110.03960418701172,110.02104949951172,110.03114318847656,110.02789306640625,110.02732849121094,110.02747344970703],\"type\":\"scatter\"},{\"mode\":\"lines\",\"name\":\"val_loss\",\"x\":[0,1,2,3,4,5,6,7,8,9,10,11,12,13,14,15,16,17,18,19,20,21,22,23,24,25,26,27,28,29,30,31,32,33,34,35,36,37,38,39,40,41,42,43,44,45,46,47,48,49,50,51,52,53,54,55,56,57,58,59,60,61,62,63,64,65,66,67,68,69,70,71,72,73,74,75,76,77,78,79,80,81,82,83,84,85,86,87,88,89,90,91,92,93,94,95,96,97,98,99],\"y\":[164.50210571289062,155.90948486328125,148.49427795410156,142.3397216796875,137.3590545654297,133.37899780273438,130.2220001220703,127.88935852050781,126.05433654785156,124.5857925415039,123.34317016601562,122.39656066894531,121.54939270019531,120.92205047607422,120.39501190185547,119.899169921875,119.59683227539062,119.35137176513672,119.18865966796875,119.03546142578125,118.90559387207031,118.77457427978516,118.68466186523438,118.61536407470703,118.5261001586914,118.46598052978516,118.43820190429688,118.43524169921875,118.35254669189453,118.37527465820312,118.34880828857422,118.30579376220703,118.33702850341797,118.33293151855469,118.32908630371094,118.2883071899414,118.26546478271484,118.30233001708984,118.26524353027344,118.23603057861328,118.26443481445312,118.23461151123047,118.26248168945312,118.2256088256836,118.27198791503906,118.22052764892578,118.25421142578125,118.23700714111328,118.22721099853516,118.23473358154297,118.24208068847656,118.21906280517578,118.23709106445312,118.25483703613281,118.21227264404297,118.21295928955078,118.24456024169922,118.21038055419922,118.25051879882812,118.24463653564453,118.21636962890625,118.23279571533203,118.23138427734375,118.22126770019531,118.1896743774414,118.265380859375,118.2748031616211,118.25357818603516,118.24423217773438,118.2202377319336,118.22760772705078,118.2188720703125,118.22076416015625,118.2332534790039,118.2193603515625,118.27008819580078,118.21775817871094,118.23085021972656,118.27420043945312,118.30436706542969,118.253173828125,118.21664428710938,118.24779510498047,118.20966339111328,118.25052642822266,118.23197937011719,118.22592163085938,118.264892578125,118.24668884277344,118.23072814941406,118.19856262207031,118.2041015625,118.2071533203125,118.21127319335938,118.22019958496094,118.23906707763672,118.21883392333984,118.2132797241211,118.26386260986328,118.23039245605469],\"type\":\"scatter\"}],                        {\"template\":{\"data\":{\"barpolar\":[{\"marker\":{\"line\":{\"color\":\"rgb(237,237,237)\",\"width\":0.5},\"pattern\":{\"fillmode\":\"overlay\",\"size\":10,\"solidity\":0.2}},\"type\":\"barpolar\"}],\"bar\":[{\"error_x\":{\"color\":\"rgb(51,51,51)\"},\"error_y\":{\"color\":\"rgb(51,51,51)\"},\"marker\":{\"line\":{\"color\":\"rgb(237,237,237)\",\"width\":0.5},\"pattern\":{\"fillmode\":\"overlay\",\"size\":10,\"solidity\":0.2}},\"type\":\"bar\"}],\"carpet\":[{\"aaxis\":{\"endlinecolor\":\"rgb(51,51,51)\",\"gridcolor\":\"white\",\"linecolor\":\"white\",\"minorgridcolor\":\"white\",\"startlinecolor\":\"rgb(51,51,51)\"},\"baxis\":{\"endlinecolor\":\"rgb(51,51,51)\",\"gridcolor\":\"white\",\"linecolor\":\"white\",\"minorgridcolor\":\"white\",\"startlinecolor\":\"rgb(51,51,51)\"},\"type\":\"carpet\"}],\"choropleth\":[{\"colorbar\":{\"outlinewidth\":0,\"tickcolor\":\"rgb(237,237,237)\",\"ticklen\":6,\"ticks\":\"inside\"},\"type\":\"choropleth\"}],\"contourcarpet\":[{\"colorbar\":{\"outlinewidth\":0,\"tickcolor\":\"rgb(237,237,237)\",\"ticklen\":6,\"ticks\":\"inside\"},\"type\":\"contourcarpet\"}],\"contour\":[{\"colorbar\":{\"outlinewidth\":0,\"tickcolor\":\"rgb(237,237,237)\",\"ticklen\":6,\"ticks\":\"inside\"},\"colorscale\":[[0,\"rgb(20,44,66)\"],[1,\"rgb(90,179,244)\"]],\"type\":\"contour\"}],\"heatmapgl\":[{\"colorbar\":{\"outlinewidth\":0,\"tickcolor\":\"rgb(237,237,237)\",\"ticklen\":6,\"ticks\":\"inside\"},\"colorscale\":[[0,\"rgb(20,44,66)\"],[1,\"rgb(90,179,244)\"]],\"type\":\"heatmapgl\"}],\"heatmap\":[{\"colorbar\":{\"outlinewidth\":0,\"tickcolor\":\"rgb(237,237,237)\",\"ticklen\":6,\"ticks\":\"inside\"},\"colorscale\":[[0,\"rgb(20,44,66)\"],[1,\"rgb(90,179,244)\"]],\"type\":\"heatmap\"}],\"histogram2dcontour\":[{\"colorbar\":{\"outlinewidth\":0,\"tickcolor\":\"rgb(237,237,237)\",\"ticklen\":6,\"ticks\":\"inside\"},\"colorscale\":[[0,\"rgb(20,44,66)\"],[1,\"rgb(90,179,244)\"]],\"type\":\"histogram2dcontour\"}],\"histogram2d\":[{\"colorbar\":{\"outlinewidth\":0,\"tickcolor\":\"rgb(237,237,237)\",\"ticklen\":6,\"ticks\":\"inside\"},\"colorscale\":[[0,\"rgb(20,44,66)\"],[1,\"rgb(90,179,244)\"]],\"type\":\"histogram2d\"}],\"histogram\":[{\"marker\":{\"pattern\":{\"fillmode\":\"overlay\",\"size\":10,\"solidity\":0.2}},\"type\":\"histogram\"}],\"mesh3d\":[{\"colorbar\":{\"outlinewidth\":0,\"tickcolor\":\"rgb(237,237,237)\",\"ticklen\":6,\"ticks\":\"inside\"},\"type\":\"mesh3d\"}],\"parcoords\":[{\"line\":{\"colorbar\":{\"outlinewidth\":0,\"tickcolor\":\"rgb(237,237,237)\",\"ticklen\":6,\"ticks\":\"inside\"}},\"type\":\"parcoords\"}],\"pie\":[{\"automargin\":true,\"type\":\"pie\"}],\"scatter3d\":[{\"line\":{\"colorbar\":{\"outlinewidth\":0,\"tickcolor\":\"rgb(237,237,237)\",\"ticklen\":6,\"ticks\":\"inside\"}},\"marker\":{\"colorbar\":{\"outlinewidth\":0,\"tickcolor\":\"rgb(237,237,237)\",\"ticklen\":6,\"ticks\":\"inside\"}},\"type\":\"scatter3d\"}],\"scattercarpet\":[{\"marker\":{\"colorbar\":{\"outlinewidth\":0,\"tickcolor\":\"rgb(237,237,237)\",\"ticklen\":6,\"ticks\":\"inside\"}},\"type\":\"scattercarpet\"}],\"scattergeo\":[{\"marker\":{\"colorbar\":{\"outlinewidth\":0,\"tickcolor\":\"rgb(237,237,237)\",\"ticklen\":6,\"ticks\":\"inside\"}},\"type\":\"scattergeo\"}],\"scattergl\":[{\"marker\":{\"colorbar\":{\"outlinewidth\":0,\"tickcolor\":\"rgb(237,237,237)\",\"ticklen\":6,\"ticks\":\"inside\"}},\"type\":\"scattergl\"}],\"scattermapbox\":[{\"marker\":{\"colorbar\":{\"outlinewidth\":0,\"tickcolor\":\"rgb(237,237,237)\",\"ticklen\":6,\"ticks\":\"inside\"}},\"type\":\"scattermapbox\"}],\"scatterpolargl\":[{\"marker\":{\"colorbar\":{\"outlinewidth\":0,\"tickcolor\":\"rgb(237,237,237)\",\"ticklen\":6,\"ticks\":\"inside\"}},\"type\":\"scatterpolargl\"}],\"scatterpolar\":[{\"marker\":{\"colorbar\":{\"outlinewidth\":0,\"tickcolor\":\"rgb(237,237,237)\",\"ticklen\":6,\"ticks\":\"inside\"}},\"type\":\"scatterpolar\"}],\"scatter\":[{\"fillpattern\":{\"fillmode\":\"overlay\",\"size\":10,\"solidity\":0.2},\"type\":\"scatter\"}],\"scatterternary\":[{\"marker\":{\"colorbar\":{\"outlinewidth\":0,\"tickcolor\":\"rgb(237,237,237)\",\"ticklen\":6,\"ticks\":\"inside\"}},\"type\":\"scatterternary\"}],\"surface\":[{\"colorbar\":{\"outlinewidth\":0,\"tickcolor\":\"rgb(237,237,237)\",\"ticklen\":6,\"ticks\":\"inside\"},\"colorscale\":[[0,\"rgb(20,44,66)\"],[1,\"rgb(90,179,244)\"]],\"type\":\"surface\"}],\"table\":[{\"cells\":{\"fill\":{\"color\":\"rgb(237,237,237)\"},\"line\":{\"color\":\"white\"}},\"header\":{\"fill\":{\"color\":\"rgb(217,217,217)\"},\"line\":{\"color\":\"white\"}},\"type\":\"table\"}]},\"layout\":{\"annotationdefaults\":{\"arrowhead\":0,\"arrowwidth\":1},\"autotypenumbers\":\"strict\",\"coloraxis\":{\"colorbar\":{\"outlinewidth\":0,\"tickcolor\":\"rgb(237,237,237)\",\"ticklen\":6,\"ticks\":\"inside\"}},\"colorscale\":{\"sequential\":[[0,\"rgb(20,44,66)\"],[1,\"rgb(90,179,244)\"]],\"sequentialminus\":[[0,\"rgb(20,44,66)\"],[1,\"rgb(90,179,244)\"]]},\"colorway\":[\"#F8766D\",\"#A3A500\",\"#00BF7D\",\"#00B0F6\",\"#E76BF3\"],\"font\":{\"color\":\"rgb(51,51,51)\"},\"geo\":{\"bgcolor\":\"white\",\"lakecolor\":\"white\",\"landcolor\":\"rgb(237,237,237)\",\"showlakes\":true,\"showland\":true,\"subunitcolor\":\"white\"},\"hoverlabel\":{\"align\":\"left\"},\"hovermode\":\"closest\",\"paper_bgcolor\":\"white\",\"plot_bgcolor\":\"rgb(237,237,237)\",\"polar\":{\"angularaxis\":{\"gridcolor\":\"white\",\"linecolor\":\"white\",\"showgrid\":true,\"tickcolor\":\"rgb(51,51,51)\",\"ticks\":\"outside\"},\"bgcolor\":\"rgb(237,237,237)\",\"radialaxis\":{\"gridcolor\":\"white\",\"linecolor\":\"white\",\"showgrid\":true,\"tickcolor\":\"rgb(51,51,51)\",\"ticks\":\"outside\"}},\"scene\":{\"xaxis\":{\"backgroundcolor\":\"rgb(237,237,237)\",\"gridcolor\":\"white\",\"gridwidth\":2,\"linecolor\":\"white\",\"showbackground\":true,\"showgrid\":true,\"tickcolor\":\"rgb(51,51,51)\",\"ticks\":\"outside\",\"zerolinecolor\":\"white\"},\"yaxis\":{\"backgroundcolor\":\"rgb(237,237,237)\",\"gridcolor\":\"white\",\"gridwidth\":2,\"linecolor\":\"white\",\"showbackground\":true,\"showgrid\":true,\"tickcolor\":\"rgb(51,51,51)\",\"ticks\":\"outside\",\"zerolinecolor\":\"white\"},\"zaxis\":{\"backgroundcolor\":\"rgb(237,237,237)\",\"gridcolor\":\"white\",\"gridwidth\":2,\"linecolor\":\"white\",\"showbackground\":true,\"showgrid\":true,\"tickcolor\":\"rgb(51,51,51)\",\"ticks\":\"outside\",\"zerolinecolor\":\"white\"}},\"shapedefaults\":{\"fillcolor\":\"black\",\"line\":{\"width\":0},\"opacity\":0.3},\"ternary\":{\"aaxis\":{\"gridcolor\":\"white\",\"linecolor\":\"white\",\"showgrid\":true,\"tickcolor\":\"rgb(51,51,51)\",\"ticks\":\"outside\"},\"baxis\":{\"gridcolor\":\"white\",\"linecolor\":\"white\",\"showgrid\":true,\"tickcolor\":\"rgb(51,51,51)\",\"ticks\":\"outside\"},\"bgcolor\":\"rgb(237,237,237)\",\"caxis\":{\"gridcolor\":\"white\",\"linecolor\":\"white\",\"showgrid\":true,\"tickcolor\":\"rgb(51,51,51)\",\"ticks\":\"outside\"}},\"xaxis\":{\"automargin\":true,\"gridcolor\":\"white\",\"linecolor\":\"white\",\"showgrid\":true,\"tickcolor\":\"rgb(51,51,51)\",\"ticks\":\"outside\",\"title\":{\"standoff\":15},\"zerolinecolor\":\"white\"},\"yaxis\":{\"automargin\":true,\"gridcolor\":\"white\",\"linecolor\":\"white\",\"showgrid\":true,\"tickcolor\":\"rgb(51,51,51)\",\"ticks\":\"outside\",\"title\":{\"standoff\":15},\"zerolinecolor\":\"white\"}}},\"title\":{\"text\":\"Linear Regression Model Puts dataset\"},\"xaxis\":{\"title\":{\"text\":\"Epoch\"}},\"yaxis\":{\"title\":{\"text\":\"Mean Absolute Error [Option Price]\"}},\"autosize\":false,\"width\":700,\"height\":500},                        {\"responsive\": true}                    ).then(function(){\n",
              "                            \n",
              "var gd = document.getElementById('292296c5-66d3-4387-8df6-3c5885f964aa');\n",
              "var x = new MutationObserver(function (mutations, observer) {{\n",
              "        var display = window.getComputedStyle(gd).display;\n",
              "        if (!display || display === 'none') {{\n",
              "            console.log([gd, 'removed!']);\n",
              "            Plotly.purge(gd);\n",
              "            observer.disconnect();\n",
              "        }}\n",
              "}});\n",
              "\n",
              "// Listen for the removal of the full notebook cells\n",
              "var notebookContainer = gd.closest('#notebook-container');\n",
              "if (notebookContainer) {{\n",
              "    x.observe(notebookContainer, {childList: true});\n",
              "}}\n",
              "\n",
              "// Listen for the clearing of the current output cell\n",
              "var outputEl = gd.closest('.output');\n",
              "if (outputEl) {{\n",
              "    x.observe(outputEl, {childList: true});\n",
              "}}\n",
              "\n",
              "                        })                };                            </script>        </div>\n",
              "</body>\n",
              "</html>"
            ]
          },
          "metadata": {}
        }
      ]
    },
    {
      "cell_type": "markdown",
      "metadata": {
        "id": "AnpA0tBDbhO9"
      },
      "source": [
        "Coefficients of the LR model"
      ]
    },
    {
      "cell_type": "code",
      "source": [
        "#Print Coefficients after training\n",
        "Coefficients = pd.DataFrame(index=model_df_p.columns.to_list()[:-1])\n",
        "Coefficients[\"Coefficients\"] = reg_model_p.layers[1].kernel.numpy()\n",
        "Coefficients"
      ],
      "metadata": {
        "colab": {
          "base_uri": "https://localhost:8080/",
          "height": 112
        },
        "id": "NDLEEbIdwUGg",
        "outputId": "faf73907-701e-49cb-90ec-ab9dcc38721c"
      },
      "execution_count": null,
      "outputs": [
        {
          "output_type": "execute_result",
          "data": {
            "text/plain": [
              "           Coefficients\n",
              "Tau          123.675011\n",
              "Moneyness    111.773445"
            ],
            "text/html": [
              "\n",
              "  <div id=\"df-5cc9b4ba-b81d-493e-a6d1-d2b2e11c0a99\">\n",
              "    <div class=\"colab-df-container\">\n",
              "      <div>\n",
              "<style scoped>\n",
              "    .dataframe tbody tr th:only-of-type {\n",
              "        vertical-align: middle;\n",
              "    }\n",
              "\n",
              "    .dataframe tbody tr th {\n",
              "        vertical-align: top;\n",
              "    }\n",
              "\n",
              "    .dataframe thead th {\n",
              "        text-align: right;\n",
              "    }\n",
              "</style>\n",
              "<table border=\"1\" class=\"dataframe\">\n",
              "  <thead>\n",
              "    <tr style=\"text-align: right;\">\n",
              "      <th></th>\n",
              "      <th>Coefficients</th>\n",
              "    </tr>\n",
              "  </thead>\n",
              "  <tbody>\n",
              "    <tr>\n",
              "      <th>Tau</th>\n",
              "      <td>123.675011</td>\n",
              "    </tr>\n",
              "    <tr>\n",
              "      <th>Moneyness</th>\n",
              "      <td>111.773445</td>\n",
              "    </tr>\n",
              "  </tbody>\n",
              "</table>\n",
              "</div>\n",
              "      <button class=\"colab-df-convert\" onclick=\"convertToInteractive('df-5cc9b4ba-b81d-493e-a6d1-d2b2e11c0a99')\"\n",
              "              title=\"Convert this dataframe to an interactive table.\"\n",
              "              style=\"display:none;\">\n",
              "        \n",
              "  <svg xmlns=\"http://www.w3.org/2000/svg\" height=\"24px\"viewBox=\"0 0 24 24\"\n",
              "       width=\"24px\">\n",
              "    <path d=\"M0 0h24v24H0V0z\" fill=\"none\"/>\n",
              "    <path d=\"M18.56 5.44l.94 2.06.94-2.06 2.06-.94-2.06-.94-.94-2.06-.94 2.06-2.06.94zm-11 1L8.5 8.5l.94-2.06 2.06-.94-2.06-.94L8.5 2.5l-.94 2.06-2.06.94zm10 10l.94 2.06.94-2.06 2.06-.94-2.06-.94-.94-2.06-.94 2.06-2.06.94z\"/><path d=\"M17.41 7.96l-1.37-1.37c-.4-.4-.92-.59-1.43-.59-.52 0-1.04.2-1.43.59L10.3 9.45l-7.72 7.72c-.78.78-.78 2.05 0 2.83L4 21.41c.39.39.9.59 1.41.59.51 0 1.02-.2 1.41-.59l7.78-7.78 2.81-2.81c.8-.78.8-2.07 0-2.86zM5.41 20L4 18.59l7.72-7.72 1.47 1.35L5.41 20z\"/>\n",
              "  </svg>\n",
              "      </button>\n",
              "      \n",
              "  <style>\n",
              "    .colab-df-container {\n",
              "      display:flex;\n",
              "      flex-wrap:wrap;\n",
              "      gap: 12px;\n",
              "    }\n",
              "\n",
              "    .colab-df-convert {\n",
              "      background-color: #E8F0FE;\n",
              "      border: none;\n",
              "      border-radius: 50%;\n",
              "      cursor: pointer;\n",
              "      display: none;\n",
              "      fill: #1967D2;\n",
              "      height: 32px;\n",
              "      padding: 0 0 0 0;\n",
              "      width: 32px;\n",
              "    }\n",
              "\n",
              "    .colab-df-convert:hover {\n",
              "      background-color: #E2EBFA;\n",
              "      box-shadow: 0px 1px 2px rgba(60, 64, 67, 0.3), 0px 1px 3px 1px rgba(60, 64, 67, 0.15);\n",
              "      fill: #174EA6;\n",
              "    }\n",
              "\n",
              "    [theme=dark] .colab-df-convert {\n",
              "      background-color: #3B4455;\n",
              "      fill: #D2E3FC;\n",
              "    }\n",
              "\n",
              "    [theme=dark] .colab-df-convert:hover {\n",
              "      background-color: #434B5C;\n",
              "      box-shadow: 0px 1px 3px 1px rgba(0, 0, 0, 0.15);\n",
              "      filter: drop-shadow(0px 1px 2px rgba(0, 0, 0, 0.3));\n",
              "      fill: #FFFFFF;\n",
              "    }\n",
              "  </style>\n",
              "\n",
              "      <script>\n",
              "        const buttonEl =\n",
              "          document.querySelector('#df-5cc9b4ba-b81d-493e-a6d1-d2b2e11c0a99 button.colab-df-convert');\n",
              "        buttonEl.style.display =\n",
              "          google.colab.kernel.accessAllowed ? 'block' : 'none';\n",
              "\n",
              "        async function convertToInteractive(key) {\n",
              "          const element = document.querySelector('#df-5cc9b4ba-b81d-493e-a6d1-d2b2e11c0a99');\n",
              "          const dataTable =\n",
              "            await google.colab.kernel.invokeFunction('convertToInteractive',\n",
              "                                                     [key], {});\n",
              "          if (!dataTable) return;\n",
              "\n",
              "          const docLinkHtml = 'Like what you see? Visit the ' +\n",
              "            '<a target=\"_blank\" href=https://colab.research.google.com/notebooks/data_table.ipynb>data table notebook</a>'\n",
              "            + ' to learn more about interactive tables.';\n",
              "          element.innerHTML = '';\n",
              "          dataTable['output_type'] = 'display_data';\n",
              "          await google.colab.output.renderOutput(dataTable, element);\n",
              "          const docLink = document.createElement('div');\n",
              "          docLink.innerHTML = docLinkHtml;\n",
              "          element.appendChild(docLink);\n",
              "        }\n",
              "      </script>\n",
              "    </div>\n",
              "  </div>\n",
              "  "
            ]
          },
          "metadata": {},
          "execution_count": 48
        }
      ]
    },
    {
      "cell_type": "code",
      "source": [
        "test_predictions = reg_model_p.predict(X_test_p)\n",
        "test_predictions.shape"
      ],
      "metadata": {
        "colab": {
          "base_uri": "https://localhost:8080/"
        },
        "id": "MkGHEO43Eael",
        "outputId": "3030ff83-dde0-4b60-cb58-728b92337381"
      },
      "execution_count": null,
      "outputs": [
        {
          "output_type": "stream",
          "name": "stdout",
          "text": [
            "30/30 [==============================] - 0s 2ms/step\n"
          ]
        },
        {
          "output_type": "execute_result",
          "data": {
            "text/plain": [
              "(946, 1)"
            ]
          },
          "metadata": {},
          "execution_count": 49
        }
      ]
    },
    {
      "cell_type": "code",
      "source": [
        "y_true = np.array(y_test_p).reshape([len(y_test_p),1])\n",
        "y_pred = np.array(test_predictions)\n",
        "# Using 'auto'/'sum_over_batch_size' reduction type.\n",
        "mse = tf.keras.losses.MeanSquaredError()\n",
        "print(mse(y_true, y_pred).numpy())"
      ],
      "metadata": {
        "colab": {
          "base_uri": "https://localhost:8080/"
        },
        "id": "q6dYIkp5Eno_",
        "outputId": "d34aa872-10eb-4a0d-9adc-1cc88c6be85d"
      },
      "execution_count": null,
      "outputs": [
        {
          "output_type": "stream",
          "name": "stdout",
          "text": [
            "133591.33\n"
          ]
        }
      ]
    },
    {
      "cell_type": "code",
      "source": [
        "rmse = np.sqrt(mse(y_true, y_pred).numpy())\n",
        "rmse"
      ],
      "metadata": {
        "colab": {
          "base_uri": "https://localhost:8080/"
        },
        "id": "jPEo-m5KEu_o",
        "outputId": "a4557632-282a-44d0-f832-d6ead7892395"
      },
      "execution_count": null,
      "outputs": [
        {
          "output_type": "execute_result",
          "data": {
            "text/plain": [
              "365.50146"
            ]
          },
          "metadata": {},
          "execution_count": 51
        }
      ]
    },
    {
      "cell_type": "code",
      "source": [
        "R2 = my_R2(y_pred,y_true)\n",
        "R2"
      ],
      "metadata": {
        "colab": {
          "base_uri": "https://localhost:8080/"
        },
        "id": "JeeW-3_5FMxA",
        "outputId": "8c2d2213-7fc4-4b90-9d13-80368e18ef79"
      },
      "execution_count": null,
      "outputs": [
        {
          "output_type": "execute_result",
          "data": {
            "text/plain": [
              "0.4458504544967806"
            ]
          },
          "metadata": {},
          "execution_count": 52
        }
      ]
    },
    {
      "cell_type": "markdown",
      "metadata": {
        "id": "MG9vfJS9ZLER"
      },
      "source": [
        "#### Deep Neural Network"
      ]
    },
    {
      "cell_type": "code",
      "source": [
        "def build_dnn_model(norm, X_t):\n",
        "  model = keras.Sequential([\n",
        "    norm,\n",
        "    layers.Dense(64, activation='relu',kernel_regularizer=tf.keras.regularizers.l2(0.01)), #L2 regularization with a regularization strength of 0.01 to the weights of this layer.\n",
        "    layers.Dense(64, activation='relu',kernel_regularizer=tf.keras.regularizers.l2(0.01)),\n",
        "    layers.Dense(64, activation='relu',kernel_regularizer=tf.keras.regularizers.l2(0.01)),\n",
        "    layers.Dense(64, activation='relu',kernel_regularizer=tf.keras.regularizers.l2(0.01)),\n",
        "    layers.Dense(64, activation='relu',kernel_regularizer=tf.keras.regularizers.l2(0.01)),\n",
        "    layers.Dense(1)\n",
        "  ])\n",
        "\n",
        "  model.compile(loss='mean_absolute_error',\n",
        "                    #loss='mean_absolute_percentage_error',\n",
        "                    #loss='MeanSquaredLogarithmicError',\n",
        "                  optimizer=tf.keras.optimizers.Adam(0.001),\n",
        "                )\n",
        "  model.build(X_t.shape)\n",
        "\n",
        "  return model"
      ],
      "metadata": {
        "id": "Fg_e_yycszBY"
      },
      "execution_count": null,
      "outputs": []
    },
    {
      "cell_type": "markdown",
      "source": [
        "##### Calls dataset"
      ],
      "metadata": {
        "id": "zYQ9dTlkxrQA"
      }
    },
    {
      "cell_type": "code",
      "source": [
        "DNN_model = build_dnn_model(normalizer, X_train)\n",
        "DNN_model.summary()"
      ],
      "metadata": {
        "colab": {
          "base_uri": "https://localhost:8080/"
        },
        "id": "zjc_baRtta00",
        "outputId": "e21b7fcd-0680-4e3f-8934-4e83f635ba7e"
      },
      "execution_count": null,
      "outputs": [
        {
          "output_type": "stream",
          "name": "stdout",
          "text": [
            "Model: \"sequential_2\"\n",
            "_________________________________________________________________\n",
            " Layer (type)                Output Shape              Param #   \n",
            "=================================================================\n",
            " normalization (Normalizati  (None, 2)                 5         \n",
            " on)                                                             \n",
            "                                                                 \n",
            " dense_2 (Dense)             (None, 64)                192       \n",
            "                                                                 \n",
            " dense_3 (Dense)             (None, 64)                4160      \n",
            "                                                                 \n",
            " dense_4 (Dense)             (None, 64)                4160      \n",
            "                                                                 \n",
            " dense_5 (Dense)             (None, 64)                4160      \n",
            "                                                                 \n",
            " dense_6 (Dense)             (None, 64)                4160      \n",
            "                                                                 \n",
            " dense_7 (Dense)             (None, 1)                 65        \n",
            "                                                                 \n",
            "=================================================================\n",
            "Total params: 16902 (66.03 KB)\n",
            "Trainable params: 16897 (66.00 KB)\n",
            "Non-trainable params: 5 (24.00 Byte)\n",
            "_________________________________________________________________\n"
          ]
        }
      ]
    },
    {
      "cell_type": "code",
      "source": [
        "%%time\n",
        "#This part takes between 1-2 minutes to run. With Early stopping it takes 30s\n",
        "early_stop = keras.callbacks.EarlyStopping(monitor='val_loss', patience=10)  #Early stopping\n",
        "\n",
        "history = DNN_model.fit(\n",
        "    X_train, y_train,\n",
        "    validation_split=0.2,\n",
        "    verbose=1, epochs=100,\n",
        "    callbacks=[early_stop])"
      ],
      "metadata": {
        "colab": {
          "base_uri": "https://localhost:8080/"
        },
        "id": "vQmxIfqlxz3l",
        "outputId": "f5d793bf-4fd7-47b0-d198-5b9bf7d471e9"
      },
      "execution_count": null,
      "outputs": [
        {
          "output_type": "stream",
          "name": "stdout",
          "text": [
            "Epoch 1/100\n",
            "113/113 [==============================] - 3s 5ms/step - loss: 298.3108 - val_loss: 50.9225\n",
            "Epoch 2/100\n",
            "113/113 [==============================] - 0s 4ms/step - loss: 39.5536 - val_loss: 29.1392\n",
            "Epoch 3/100\n",
            "113/113 [==============================] - 0s 4ms/step - loss: 25.9449 - val_loss: 28.1289\n",
            "Epoch 4/100\n",
            "113/113 [==============================] - 0s 4ms/step - loss: 20.8627 - val_loss: 19.8771\n",
            "Epoch 5/100\n",
            "113/113 [==============================] - 0s 4ms/step - loss: 18.9383 - val_loss: 18.3622\n",
            "Epoch 6/100\n",
            "113/113 [==============================] - 0s 4ms/step - loss: 16.9260 - val_loss: 15.2942\n",
            "Epoch 7/100\n",
            "113/113 [==============================] - 0s 4ms/step - loss: 16.3088 - val_loss: 13.9307\n",
            "Epoch 8/100\n",
            "113/113 [==============================] - 0s 4ms/step - loss: 14.2717 - val_loss: 14.6814\n",
            "Epoch 9/100\n",
            "113/113 [==============================] - 0s 4ms/step - loss: 14.5077 - val_loss: 13.4982\n",
            "Epoch 10/100\n",
            "113/113 [==============================] - 0s 4ms/step - loss: 14.2252 - val_loss: 13.6799\n",
            "Epoch 11/100\n",
            "113/113 [==============================] - 0s 4ms/step - loss: 14.5285 - val_loss: 17.1916\n",
            "Epoch 12/100\n",
            "113/113 [==============================] - 0s 4ms/step - loss: 14.1533 - val_loss: 14.5514\n",
            "Epoch 13/100\n",
            "113/113 [==============================] - 0s 4ms/step - loss: 14.2955 - val_loss: 13.4252\n",
            "Epoch 14/100\n",
            "113/113 [==============================] - 0s 4ms/step - loss: 13.6858 - val_loss: 13.6839\n",
            "Epoch 15/100\n",
            "113/113 [==============================] - 0s 4ms/step - loss: 13.9669 - val_loss: 16.8514\n",
            "Epoch 16/100\n",
            "113/113 [==============================] - 0s 4ms/step - loss: 13.4702 - val_loss: 13.2894\n",
            "Epoch 17/100\n",
            "113/113 [==============================] - 0s 4ms/step - loss: 13.5580 - val_loss: 12.8958\n",
            "Epoch 18/100\n",
            "113/113 [==============================] - 1s 5ms/step - loss: 14.0851 - val_loss: 15.4592\n",
            "Epoch 19/100\n",
            "113/113 [==============================] - 1s 6ms/step - loss: 14.4056 - val_loss: 13.5447\n",
            "Epoch 20/100\n",
            "113/113 [==============================] - 1s 6ms/step - loss: 14.0055 - val_loss: 16.0439\n",
            "Epoch 21/100\n",
            "113/113 [==============================] - 1s 6ms/step - loss: 13.4855 - val_loss: 15.0402\n",
            "Epoch 22/100\n",
            "113/113 [==============================] - 1s 6ms/step - loss: 13.3189 - val_loss: 12.7620\n",
            "Epoch 23/100\n",
            "113/113 [==============================] - 1s 5ms/step - loss: 13.5393 - val_loss: 15.7854\n",
            "Epoch 24/100\n",
            "113/113 [==============================] - 1s 6ms/step - loss: 13.9453 - val_loss: 13.0663\n",
            "Epoch 25/100\n",
            "113/113 [==============================] - 1s 5ms/step - loss: 13.6981 - val_loss: 14.9280\n",
            "Epoch 26/100\n",
            "113/113 [==============================] - 0s 4ms/step - loss: 14.2511 - val_loss: 12.3523\n",
            "Epoch 27/100\n",
            "113/113 [==============================] - 0s 4ms/step - loss: 12.8799 - val_loss: 14.7548\n",
            "Epoch 28/100\n",
            "113/113 [==============================] - 0s 4ms/step - loss: 13.5680 - val_loss: 13.2710\n",
            "Epoch 29/100\n",
            "113/113 [==============================] - 0s 4ms/step - loss: 13.9012 - val_loss: 12.2661\n",
            "Epoch 30/100\n",
            "113/113 [==============================] - 0s 4ms/step - loss: 12.9073 - val_loss: 13.0084\n",
            "Epoch 31/100\n",
            "113/113 [==============================] - 0s 4ms/step - loss: 13.8473 - val_loss: 16.4339\n",
            "Epoch 32/100\n",
            "113/113 [==============================] - 0s 4ms/step - loss: 14.4577 - val_loss: 14.3722\n",
            "Epoch 33/100\n",
            "113/113 [==============================] - 0s 4ms/step - loss: 13.5074 - val_loss: 17.8757\n",
            "Epoch 34/100\n",
            "113/113 [==============================] - 1s 5ms/step - loss: 13.9270 - val_loss: 15.7773\n",
            "Epoch 35/100\n",
            "113/113 [==============================] - 0s 4ms/step - loss: 13.6776 - val_loss: 14.1590\n",
            "Epoch 36/100\n",
            "113/113 [==============================] - 0s 4ms/step - loss: 14.1122 - val_loss: 12.5481\n",
            "Epoch 37/100\n",
            "113/113 [==============================] - 0s 4ms/step - loss: 13.6015 - val_loss: 14.1436\n",
            "Epoch 38/100\n",
            "113/113 [==============================] - 0s 4ms/step - loss: 13.3610 - val_loss: 12.9476\n",
            "Epoch 39/100\n",
            "113/113 [==============================] - 0s 4ms/step - loss: 14.5340 - val_loss: 13.1632\n",
            "CPU times: user 21.5 s, sys: 1.3 s, total: 22.8 s\n",
            "Wall time: 21.7 s\n"
          ]
        }
      ]
    },
    {
      "cell_type": "code",
      "source": [
        "#Plot the loss\n",
        "plot_loss_plotly(history, 'Deep Neural Network Model Calls dataset')"
      ],
      "metadata": {
        "colab": {
          "base_uri": "https://localhost:8080/",
          "height": 517
        },
        "id": "lcyJloOix9Ed",
        "outputId": "b41f066c-5a5d-4d0d-bb80-9b400b21c8f6"
      },
      "execution_count": null,
      "outputs": [
        {
          "output_type": "display_data",
          "data": {
            "text/html": [
              "<html>\n",
              "<head><meta charset=\"utf-8\" /></head>\n",
              "<body>\n",
              "    <div>            <script src=\"https://cdnjs.cloudflare.com/ajax/libs/mathjax/2.7.5/MathJax.js?config=TeX-AMS-MML_SVG\"></script><script type=\"text/javascript\">if (window.MathJax && window.MathJax.Hub && window.MathJax.Hub.Config) {window.MathJax.Hub.Config({SVG: {font: \"STIX-Web\"}});}</script>                <script type=\"text/javascript\">window.PlotlyConfig = {MathJaxConfig: 'local'};</script>\n",
              "        <script src=\"https://cdn.plot.ly/plotly-2.18.2.min.js\"></script>                <div id=\"f67cfc37-09ee-4d41-9063-073ceddc73d7\" class=\"plotly-graph-div\" style=\"height:500px; width:700px;\"></div>            <script type=\"text/javascript\">                                    window.PLOTLYENV=window.PLOTLYENV || {};                                    if (document.getElementById(\"f67cfc37-09ee-4d41-9063-073ceddc73d7\")) {                    Plotly.newPlot(                        \"f67cfc37-09ee-4d41-9063-073ceddc73d7\",                        [{\"mode\":\"lines\",\"name\":\"loss\",\"x\":[0,1,2,3,4,5,6,7,8,9,10,11,12,13,14,15,16,17,18,19,20,21,22,23,24,25,26,27,28,29,30,31,32,33,34,35,36,37,38],\"y\":[298.3107604980469,39.55361557006836,25.94487762451172,20.8626766204834,18.938276290893555,16.92596435546875,16.308801651000977,14.271695137023926,14.507696151733398,14.225172996520996,14.52845573425293,14.153277397155762,14.295491218566895,13.68579387664795,13.966903686523438,13.470154762268066,13.557974815368652,14.0851411819458,14.405618667602539,14.005485534667969,13.485485076904297,13.31892204284668,13.539258003234863,13.94532299041748,13.698079109191895,14.251142501831055,12.879904747009277,13.56798267364502,13.90123462677002,12.907254219055176,13.847330093383789,14.457746505737305,13.50739574432373,13.927011489868164,13.677581787109375,14.112151145935059,13.601497650146484,13.360977172851562,14.533994674682617],\"type\":\"scatter\"},{\"mode\":\"lines\",\"name\":\"val_loss\",\"x\":[0,1,2,3,4,5,6,7,8,9,10,11,12,13,14,15,16,17,18,19,20,21,22,23,24,25,26,27,28,29,30,31,32,33,34,35,36,37,38],\"y\":[50.92250061035156,29.139245986938477,28.12891960144043,19.877117156982422,18.362152099609375,15.29423999786377,13.930732727050781,14.681405067443848,13.498153686523438,13.679869651794434,17.19156265258789,14.551443099975586,13.42516803741455,13.683889389038086,16.8514347076416,13.289390563964844,12.895807266235352,15.459189414978027,13.544686317443848,16.04392433166504,15.040237426757812,12.762033462524414,15.785442352294922,13.066324234008789,14.928004264831543,12.352322578430176,14.754765510559082,13.271025657653809,12.266108512878418,13.008363723754883,16.43387222290039,14.3721923828125,17.875715255737305,15.777261734008789,14.15898609161377,12.548087120056152,14.143566131591797,12.94764232635498,13.16323184967041],\"type\":\"scatter\"}],                        {\"template\":{\"data\":{\"barpolar\":[{\"marker\":{\"line\":{\"color\":\"rgb(237,237,237)\",\"width\":0.5},\"pattern\":{\"fillmode\":\"overlay\",\"size\":10,\"solidity\":0.2}},\"type\":\"barpolar\"}],\"bar\":[{\"error_x\":{\"color\":\"rgb(51,51,51)\"},\"error_y\":{\"color\":\"rgb(51,51,51)\"},\"marker\":{\"line\":{\"color\":\"rgb(237,237,237)\",\"width\":0.5},\"pattern\":{\"fillmode\":\"overlay\",\"size\":10,\"solidity\":0.2}},\"type\":\"bar\"}],\"carpet\":[{\"aaxis\":{\"endlinecolor\":\"rgb(51,51,51)\",\"gridcolor\":\"white\",\"linecolor\":\"white\",\"minorgridcolor\":\"white\",\"startlinecolor\":\"rgb(51,51,51)\"},\"baxis\":{\"endlinecolor\":\"rgb(51,51,51)\",\"gridcolor\":\"white\",\"linecolor\":\"white\",\"minorgridcolor\":\"white\",\"startlinecolor\":\"rgb(51,51,51)\"},\"type\":\"carpet\"}],\"choropleth\":[{\"colorbar\":{\"outlinewidth\":0,\"tickcolor\":\"rgb(237,237,237)\",\"ticklen\":6,\"ticks\":\"inside\"},\"type\":\"choropleth\"}],\"contourcarpet\":[{\"colorbar\":{\"outlinewidth\":0,\"tickcolor\":\"rgb(237,237,237)\",\"ticklen\":6,\"ticks\":\"inside\"},\"type\":\"contourcarpet\"}],\"contour\":[{\"colorbar\":{\"outlinewidth\":0,\"tickcolor\":\"rgb(237,237,237)\",\"ticklen\":6,\"ticks\":\"inside\"},\"colorscale\":[[0,\"rgb(20,44,66)\"],[1,\"rgb(90,179,244)\"]],\"type\":\"contour\"}],\"heatmapgl\":[{\"colorbar\":{\"outlinewidth\":0,\"tickcolor\":\"rgb(237,237,237)\",\"ticklen\":6,\"ticks\":\"inside\"},\"colorscale\":[[0,\"rgb(20,44,66)\"],[1,\"rgb(90,179,244)\"]],\"type\":\"heatmapgl\"}],\"heatmap\":[{\"colorbar\":{\"outlinewidth\":0,\"tickcolor\":\"rgb(237,237,237)\",\"ticklen\":6,\"ticks\":\"inside\"},\"colorscale\":[[0,\"rgb(20,44,66)\"],[1,\"rgb(90,179,244)\"]],\"type\":\"heatmap\"}],\"histogram2dcontour\":[{\"colorbar\":{\"outlinewidth\":0,\"tickcolor\":\"rgb(237,237,237)\",\"ticklen\":6,\"ticks\":\"inside\"},\"colorscale\":[[0,\"rgb(20,44,66)\"],[1,\"rgb(90,179,244)\"]],\"type\":\"histogram2dcontour\"}],\"histogram2d\":[{\"colorbar\":{\"outlinewidth\":0,\"tickcolor\":\"rgb(237,237,237)\",\"ticklen\":6,\"ticks\":\"inside\"},\"colorscale\":[[0,\"rgb(20,44,66)\"],[1,\"rgb(90,179,244)\"]],\"type\":\"histogram2d\"}],\"histogram\":[{\"marker\":{\"pattern\":{\"fillmode\":\"overlay\",\"size\":10,\"solidity\":0.2}},\"type\":\"histogram\"}],\"mesh3d\":[{\"colorbar\":{\"outlinewidth\":0,\"tickcolor\":\"rgb(237,237,237)\",\"ticklen\":6,\"ticks\":\"inside\"},\"type\":\"mesh3d\"}],\"parcoords\":[{\"line\":{\"colorbar\":{\"outlinewidth\":0,\"tickcolor\":\"rgb(237,237,237)\",\"ticklen\":6,\"ticks\":\"inside\"}},\"type\":\"parcoords\"}],\"pie\":[{\"automargin\":true,\"type\":\"pie\"}],\"scatter3d\":[{\"line\":{\"colorbar\":{\"outlinewidth\":0,\"tickcolor\":\"rgb(237,237,237)\",\"ticklen\":6,\"ticks\":\"inside\"}},\"marker\":{\"colorbar\":{\"outlinewidth\":0,\"tickcolor\":\"rgb(237,237,237)\",\"ticklen\":6,\"ticks\":\"inside\"}},\"type\":\"scatter3d\"}],\"scattercarpet\":[{\"marker\":{\"colorbar\":{\"outlinewidth\":0,\"tickcolor\":\"rgb(237,237,237)\",\"ticklen\":6,\"ticks\":\"inside\"}},\"type\":\"scattercarpet\"}],\"scattergeo\":[{\"marker\":{\"colorbar\":{\"outlinewidth\":0,\"tickcolor\":\"rgb(237,237,237)\",\"ticklen\":6,\"ticks\":\"inside\"}},\"type\":\"scattergeo\"}],\"scattergl\":[{\"marker\":{\"colorbar\":{\"outlinewidth\":0,\"tickcolor\":\"rgb(237,237,237)\",\"ticklen\":6,\"ticks\":\"inside\"}},\"type\":\"scattergl\"}],\"scattermapbox\":[{\"marker\":{\"colorbar\":{\"outlinewidth\":0,\"tickcolor\":\"rgb(237,237,237)\",\"ticklen\":6,\"ticks\":\"inside\"}},\"type\":\"scattermapbox\"}],\"scatterpolargl\":[{\"marker\":{\"colorbar\":{\"outlinewidth\":0,\"tickcolor\":\"rgb(237,237,237)\",\"ticklen\":6,\"ticks\":\"inside\"}},\"type\":\"scatterpolargl\"}],\"scatterpolar\":[{\"marker\":{\"colorbar\":{\"outlinewidth\":0,\"tickcolor\":\"rgb(237,237,237)\",\"ticklen\":6,\"ticks\":\"inside\"}},\"type\":\"scatterpolar\"}],\"scatter\":[{\"fillpattern\":{\"fillmode\":\"overlay\",\"size\":10,\"solidity\":0.2},\"type\":\"scatter\"}],\"scatterternary\":[{\"marker\":{\"colorbar\":{\"outlinewidth\":0,\"tickcolor\":\"rgb(237,237,237)\",\"ticklen\":6,\"ticks\":\"inside\"}},\"type\":\"scatterternary\"}],\"surface\":[{\"colorbar\":{\"outlinewidth\":0,\"tickcolor\":\"rgb(237,237,237)\",\"ticklen\":6,\"ticks\":\"inside\"},\"colorscale\":[[0,\"rgb(20,44,66)\"],[1,\"rgb(90,179,244)\"]],\"type\":\"surface\"}],\"table\":[{\"cells\":{\"fill\":{\"color\":\"rgb(237,237,237)\"},\"line\":{\"color\":\"white\"}},\"header\":{\"fill\":{\"color\":\"rgb(217,217,217)\"},\"line\":{\"color\":\"white\"}},\"type\":\"table\"}]},\"layout\":{\"annotationdefaults\":{\"arrowhead\":0,\"arrowwidth\":1},\"autotypenumbers\":\"strict\",\"coloraxis\":{\"colorbar\":{\"outlinewidth\":0,\"tickcolor\":\"rgb(237,237,237)\",\"ticklen\":6,\"ticks\":\"inside\"}},\"colorscale\":{\"sequential\":[[0,\"rgb(20,44,66)\"],[1,\"rgb(90,179,244)\"]],\"sequentialminus\":[[0,\"rgb(20,44,66)\"],[1,\"rgb(90,179,244)\"]]},\"colorway\":[\"#F8766D\",\"#A3A500\",\"#00BF7D\",\"#00B0F6\",\"#E76BF3\"],\"font\":{\"color\":\"rgb(51,51,51)\"},\"geo\":{\"bgcolor\":\"white\",\"lakecolor\":\"white\",\"landcolor\":\"rgb(237,237,237)\",\"showlakes\":true,\"showland\":true,\"subunitcolor\":\"white\"},\"hoverlabel\":{\"align\":\"left\"},\"hovermode\":\"closest\",\"paper_bgcolor\":\"white\",\"plot_bgcolor\":\"rgb(237,237,237)\",\"polar\":{\"angularaxis\":{\"gridcolor\":\"white\",\"linecolor\":\"white\",\"showgrid\":true,\"tickcolor\":\"rgb(51,51,51)\",\"ticks\":\"outside\"},\"bgcolor\":\"rgb(237,237,237)\",\"radialaxis\":{\"gridcolor\":\"white\",\"linecolor\":\"white\",\"showgrid\":true,\"tickcolor\":\"rgb(51,51,51)\",\"ticks\":\"outside\"}},\"scene\":{\"xaxis\":{\"backgroundcolor\":\"rgb(237,237,237)\",\"gridcolor\":\"white\",\"gridwidth\":2,\"linecolor\":\"white\",\"showbackground\":true,\"showgrid\":true,\"tickcolor\":\"rgb(51,51,51)\",\"ticks\":\"outside\",\"zerolinecolor\":\"white\"},\"yaxis\":{\"backgroundcolor\":\"rgb(237,237,237)\",\"gridcolor\":\"white\",\"gridwidth\":2,\"linecolor\":\"white\",\"showbackground\":true,\"showgrid\":true,\"tickcolor\":\"rgb(51,51,51)\",\"ticks\":\"outside\",\"zerolinecolor\":\"white\"},\"zaxis\":{\"backgroundcolor\":\"rgb(237,237,237)\",\"gridcolor\":\"white\",\"gridwidth\":2,\"linecolor\":\"white\",\"showbackground\":true,\"showgrid\":true,\"tickcolor\":\"rgb(51,51,51)\",\"ticks\":\"outside\",\"zerolinecolor\":\"white\"}},\"shapedefaults\":{\"fillcolor\":\"black\",\"line\":{\"width\":0},\"opacity\":0.3},\"ternary\":{\"aaxis\":{\"gridcolor\":\"white\",\"linecolor\":\"white\",\"showgrid\":true,\"tickcolor\":\"rgb(51,51,51)\",\"ticks\":\"outside\"},\"baxis\":{\"gridcolor\":\"white\",\"linecolor\":\"white\",\"showgrid\":true,\"tickcolor\":\"rgb(51,51,51)\",\"ticks\":\"outside\"},\"bgcolor\":\"rgb(237,237,237)\",\"caxis\":{\"gridcolor\":\"white\",\"linecolor\":\"white\",\"showgrid\":true,\"tickcolor\":\"rgb(51,51,51)\",\"ticks\":\"outside\"}},\"xaxis\":{\"automargin\":true,\"gridcolor\":\"white\",\"linecolor\":\"white\",\"showgrid\":true,\"tickcolor\":\"rgb(51,51,51)\",\"ticks\":\"outside\",\"title\":{\"standoff\":15},\"zerolinecolor\":\"white\"},\"yaxis\":{\"automargin\":true,\"gridcolor\":\"white\",\"linecolor\":\"white\",\"showgrid\":true,\"tickcolor\":\"rgb(51,51,51)\",\"ticks\":\"outside\",\"title\":{\"standoff\":15},\"zerolinecolor\":\"white\"}}},\"title\":{\"text\":\"Deep Neural Network Model Calls dataset\"},\"xaxis\":{\"title\":{\"text\":\"Epoch\"}},\"yaxis\":{\"title\":{\"text\":\"Mean Absolute Error [Option Price]\"}},\"autosize\":false,\"width\":700,\"height\":500},                        {\"responsive\": true}                    ).then(function(){\n",
              "                            \n",
              "var gd = document.getElementById('f67cfc37-09ee-4d41-9063-073ceddc73d7');\n",
              "var x = new MutationObserver(function (mutations, observer) {{\n",
              "        var display = window.getComputedStyle(gd).display;\n",
              "        if (!display || display === 'none') {{\n",
              "            console.log([gd, 'removed!']);\n",
              "            Plotly.purge(gd);\n",
              "            observer.disconnect();\n",
              "        }}\n",
              "}});\n",
              "\n",
              "// Listen for the removal of the full notebook cells\n",
              "var notebookContainer = gd.closest('#notebook-container');\n",
              "if (notebookContainer) {{\n",
              "    x.observe(notebookContainer, {childList: true});\n",
              "}}\n",
              "\n",
              "// Listen for the clearing of the current output cell\n",
              "var outputEl = gd.closest('.output');\n",
              "if (outputEl) {{\n",
              "    x.observe(outputEl, {childList: true});\n",
              "}}\n",
              "\n",
              "                        })                };                            </script>        </div>\n",
              "</body>\n",
              "</html>"
            ]
          },
          "metadata": {}
        }
      ]
    },
    {
      "cell_type": "code",
      "source": [
        "#Collect Results\n",
        "test_results['DNN_model'] = [DNN_model.evaluate(X_test, y_test, verbose=0)]\n",
        "#Linear model Vs DNN\n",
        "test_results.index = [\"Mean Absolute Error [c]\"]\n",
        "test_results.T"
      ],
      "metadata": {
        "colab": {
          "base_uri": "https://localhost:8080/",
          "height": 112
        },
        "id": "U-iW1W2WyEFT",
        "outputId": "4df8eeb9-86fd-4c1b-c38d-fc5763269eaa"
      },
      "execution_count": null,
      "outputs": [
        {
          "output_type": "execute_result",
          "data": {
            "text/plain": [
              "              Mean Absolute Error [c]\n",
              "linear_model               141.777573\n",
              "DNN_model                   12.406219"
            ],
            "text/html": [
              "\n",
              "  <div id=\"df-60556ac8-2a87-4fd2-89b5-5c6b18297f5b\">\n",
              "    <div class=\"colab-df-container\">\n",
              "      <div>\n",
              "<style scoped>\n",
              "    .dataframe tbody tr th:only-of-type {\n",
              "        vertical-align: middle;\n",
              "    }\n",
              "\n",
              "    .dataframe tbody tr th {\n",
              "        vertical-align: top;\n",
              "    }\n",
              "\n",
              "    .dataframe thead th {\n",
              "        text-align: right;\n",
              "    }\n",
              "</style>\n",
              "<table border=\"1\" class=\"dataframe\">\n",
              "  <thead>\n",
              "    <tr style=\"text-align: right;\">\n",
              "      <th></th>\n",
              "      <th>Mean Absolute Error [c]</th>\n",
              "    </tr>\n",
              "  </thead>\n",
              "  <tbody>\n",
              "    <tr>\n",
              "      <th>linear_model</th>\n",
              "      <td>141.777573</td>\n",
              "    </tr>\n",
              "    <tr>\n",
              "      <th>DNN_model</th>\n",
              "      <td>12.406219</td>\n",
              "    </tr>\n",
              "  </tbody>\n",
              "</table>\n",
              "</div>\n",
              "      <button class=\"colab-df-convert\" onclick=\"convertToInteractive('df-60556ac8-2a87-4fd2-89b5-5c6b18297f5b')\"\n",
              "              title=\"Convert this dataframe to an interactive table.\"\n",
              "              style=\"display:none;\">\n",
              "        \n",
              "  <svg xmlns=\"http://www.w3.org/2000/svg\" height=\"24px\"viewBox=\"0 0 24 24\"\n",
              "       width=\"24px\">\n",
              "    <path d=\"M0 0h24v24H0V0z\" fill=\"none\"/>\n",
              "    <path d=\"M18.56 5.44l.94 2.06.94-2.06 2.06-.94-2.06-.94-.94-2.06-.94 2.06-2.06.94zm-11 1L8.5 8.5l.94-2.06 2.06-.94-2.06-.94L8.5 2.5l-.94 2.06-2.06.94zm10 10l.94 2.06.94-2.06 2.06-.94-2.06-.94-.94-2.06-.94 2.06-2.06.94z\"/><path d=\"M17.41 7.96l-1.37-1.37c-.4-.4-.92-.59-1.43-.59-.52 0-1.04.2-1.43.59L10.3 9.45l-7.72 7.72c-.78.78-.78 2.05 0 2.83L4 21.41c.39.39.9.59 1.41.59.51 0 1.02-.2 1.41-.59l7.78-7.78 2.81-2.81c.8-.78.8-2.07 0-2.86zM5.41 20L4 18.59l7.72-7.72 1.47 1.35L5.41 20z\"/>\n",
              "  </svg>\n",
              "      </button>\n",
              "      \n",
              "  <style>\n",
              "    .colab-df-container {\n",
              "      display:flex;\n",
              "      flex-wrap:wrap;\n",
              "      gap: 12px;\n",
              "    }\n",
              "\n",
              "    .colab-df-convert {\n",
              "      background-color: #E8F0FE;\n",
              "      border: none;\n",
              "      border-radius: 50%;\n",
              "      cursor: pointer;\n",
              "      display: none;\n",
              "      fill: #1967D2;\n",
              "      height: 32px;\n",
              "      padding: 0 0 0 0;\n",
              "      width: 32px;\n",
              "    }\n",
              "\n",
              "    .colab-df-convert:hover {\n",
              "      background-color: #E2EBFA;\n",
              "      box-shadow: 0px 1px 2px rgba(60, 64, 67, 0.3), 0px 1px 3px 1px rgba(60, 64, 67, 0.15);\n",
              "      fill: #174EA6;\n",
              "    }\n",
              "\n",
              "    [theme=dark] .colab-df-convert {\n",
              "      background-color: #3B4455;\n",
              "      fill: #D2E3FC;\n",
              "    }\n",
              "\n",
              "    [theme=dark] .colab-df-convert:hover {\n",
              "      background-color: #434B5C;\n",
              "      box-shadow: 0px 1px 3px 1px rgba(0, 0, 0, 0.15);\n",
              "      filter: drop-shadow(0px 1px 2px rgba(0, 0, 0, 0.3));\n",
              "      fill: #FFFFFF;\n",
              "    }\n",
              "  </style>\n",
              "\n",
              "      <script>\n",
              "        const buttonEl =\n",
              "          document.querySelector('#df-60556ac8-2a87-4fd2-89b5-5c6b18297f5b button.colab-df-convert');\n",
              "        buttonEl.style.display =\n",
              "          google.colab.kernel.accessAllowed ? 'block' : 'none';\n",
              "\n",
              "        async function convertToInteractive(key) {\n",
              "          const element = document.querySelector('#df-60556ac8-2a87-4fd2-89b5-5c6b18297f5b');\n",
              "          const dataTable =\n",
              "            await google.colab.kernel.invokeFunction('convertToInteractive',\n",
              "                                                     [key], {});\n",
              "          if (!dataTable) return;\n",
              "\n",
              "          const docLinkHtml = 'Like what you see? Visit the ' +\n",
              "            '<a target=\"_blank\" href=https://colab.research.google.com/notebooks/data_table.ipynb>data table notebook</a>'\n",
              "            + ' to learn more about interactive tables.';\n",
              "          element.innerHTML = '';\n",
              "          dataTable['output_type'] = 'display_data';\n",
              "          await google.colab.output.renderOutput(dataTable, element);\n",
              "          const docLink = document.createElement('div');\n",
              "          docLink.innerHTML = docLinkHtml;\n",
              "          element.appendChild(docLink);\n",
              "        }\n",
              "      </script>\n",
              "    </div>\n",
              "  </div>\n",
              "  "
            ]
          },
          "metadata": {},
          "execution_count": 57
        }
      ]
    },
    {
      "cell_type": "code",
      "source": [
        "test_predictions = DNN_model.predict(X_test)\n",
        "test_predictions.shape"
      ],
      "metadata": {
        "colab": {
          "base_uri": "https://localhost:8080/"
        },
        "id": "KmnUmtP6Hhcp",
        "outputId": "acd1e591-a00d-405c-9b5f-441542371ab8"
      },
      "execution_count": null,
      "outputs": [
        {
          "output_type": "stream",
          "name": "stdout",
          "text": [
            "25/25 [==============================] - 0s 2ms/step\n"
          ]
        },
        {
          "output_type": "execute_result",
          "data": {
            "text/plain": [
              "(798, 1)"
            ]
          },
          "metadata": {},
          "execution_count": 58
        }
      ]
    },
    {
      "cell_type": "code",
      "source": [
        "y_true = np.array(y_test).reshape([len(y_test),1])\n",
        "y_pred = np.array(test_predictions)\n",
        "# Using 'auto'/'sum_over_batch_size' reduction type.\n",
        "mse = tf.keras.losses.MeanSquaredError()\n",
        "mse(y_true, y_pred).numpy()"
      ],
      "metadata": {
        "colab": {
          "base_uri": "https://localhost:8080/"
        },
        "id": "lhbEdb8qHiQE",
        "outputId": "bc2e0135-0eed-46e5-e4aa-ec8481a50872"
      },
      "execution_count": null,
      "outputs": [
        {
          "output_type": "execute_result",
          "data": {
            "text/plain": [
              "725.29846"
            ]
          },
          "metadata": {},
          "execution_count": 59
        }
      ]
    },
    {
      "cell_type": "code",
      "source": [
        "rmse = np.sqrt(mse(y_true, y_pred).numpy())\n",
        "rmse"
      ],
      "metadata": {
        "colab": {
          "base_uri": "https://localhost:8080/"
        },
        "id": "HRs06w9hHipP",
        "outputId": "60bee976-7362-4d47-a42b-542d455280d1"
      },
      "execution_count": null,
      "outputs": [
        {
          "output_type": "execute_result",
          "data": {
            "text/plain": [
              "26.931366"
            ]
          },
          "metadata": {},
          "execution_count": 60
        }
      ]
    },
    {
      "cell_type": "markdown",
      "source": [
        "R^2"
      ],
      "metadata": {
        "id": "Wgbeny2uJc0E"
      }
    },
    {
      "cell_type": "code",
      "source": [
        "R2 = my_R2(y_pred,y_true)\n",
        "R2"
      ],
      "metadata": {
        "colab": {
          "base_uri": "https://localhost:8080/"
        },
        "id": "8q9NWzyXKR4D",
        "outputId": "474f83f0-1a54-463e-b8dc-8c2a0766337c"
      },
      "execution_count": null,
      "outputs": [
        {
          "output_type": "execute_result",
          "data": {
            "text/plain": [
              "0.9981567588491678"
            ]
          },
          "metadata": {},
          "execution_count": 61
        }
      ]
    },
    {
      "cell_type": "markdown",
      "source": [
        "##### Puts dataset"
      ],
      "metadata": {
        "id": "QgqKmXpUxsu-"
      }
    },
    {
      "cell_type": "code",
      "source": [
        "DNN_model_p = build_dnn_model(normalizer_p, X_train_p)\n",
        "DNN_model_p.summary()"
      ],
      "metadata": {
        "colab": {
          "base_uri": "https://localhost:8080/"
        },
        "id": "X6FVVF99xpGK",
        "outputId": "7b8f7c45-f1d8-4df4-cbc9-046cc029d349"
      },
      "execution_count": null,
      "outputs": [
        {
          "output_type": "stream",
          "name": "stdout",
          "text": [
            "Model: \"sequential_3\"\n",
            "_________________________________________________________________\n",
            " Layer (type)                Output Shape              Param #   \n",
            "=================================================================\n",
            " normalization_1 (Normaliza  (None, 2)                 5         \n",
            " tion)                                                           \n",
            "                                                                 \n",
            " dense_8 (Dense)             (None, 64)                192       \n",
            "                                                                 \n",
            " dense_9 (Dense)             (None, 64)                4160      \n",
            "                                                                 \n",
            " dense_10 (Dense)            (None, 64)                4160      \n",
            "                                                                 \n",
            " dense_11 (Dense)            (None, 64)                4160      \n",
            "                                                                 \n",
            " dense_12 (Dense)            (None, 64)                4160      \n",
            "                                                                 \n",
            " dense_13 (Dense)            (None, 1)                 65        \n",
            "                                                                 \n",
            "=================================================================\n",
            "Total params: 16902 (66.03 KB)\n",
            "Trainable params: 16897 (66.00 KB)\n",
            "Non-trainable params: 5 (24.00 Byte)\n",
            "_________________________________________________________________\n"
          ]
        }
      ]
    },
    {
      "cell_type": "code",
      "source": [
        "%%time\n",
        "#This part takes between 1-2 minutes to run\n",
        "early_stop = keras.callbacks.EarlyStopping(monitor='val_loss', patience=10)  #Early stopping\n",
        "history = DNN_model_p.fit(\n",
        "    X_train_p, y_train_p,\n",
        "    validation_split=0.2,\n",
        "    verbose=1, epochs=100,\n",
        "    callbacks=[early_stop])"
      ],
      "metadata": {
        "colab": {
          "base_uri": "https://localhost:8080/"
        },
        "id": "MRT968owx1kd",
        "outputId": "684c1b36-9003-42aa-ddb8-b3cde35d627e"
      },
      "execution_count": null,
      "outputs": [
        {
          "output_type": "stream",
          "name": "stdout",
          "text": [
            "Epoch 1/100\n",
            "134/134 [==============================] - 3s 5ms/step - loss: 112.3216 - val_loss: 52.3160\n",
            "Epoch 2/100\n",
            "134/134 [==============================] - 1s 4ms/step - loss: 37.2306 - val_loss: 29.2192\n",
            "Epoch 3/100\n",
            "134/134 [==============================] - 1s 5ms/step - loss: 23.2208 - val_loss: 17.5796\n",
            "Epoch 4/100\n",
            "134/134 [==============================] - 1s 4ms/step - loss: 16.1722 - val_loss: 14.4070\n",
            "Epoch 5/100\n",
            "134/134 [==============================] - 1s 4ms/step - loss: 12.7774 - val_loss: 11.3706\n",
            "Epoch 6/100\n",
            "134/134 [==============================] - 1s 5ms/step - loss: 11.3679 - val_loss: 13.9594\n",
            "Epoch 7/100\n",
            "134/134 [==============================] - 1s 4ms/step - loss: 10.6911 - val_loss: 11.2952\n",
            "Epoch 8/100\n",
            "134/134 [==============================] - 1s 4ms/step - loss: 10.9892 - val_loss: 11.2381\n",
            "Epoch 9/100\n",
            "134/134 [==============================] - 1s 4ms/step - loss: 10.4094 - val_loss: 11.6801\n",
            "Epoch 10/100\n",
            "134/134 [==============================] - 1s 4ms/step - loss: 10.0561 - val_loss: 13.1088\n",
            "Epoch 11/100\n",
            "134/134 [==============================] - 1s 4ms/step - loss: 10.2676 - val_loss: 10.6902\n",
            "Epoch 12/100\n",
            "134/134 [==============================] - 1s 4ms/step - loss: 10.2212 - val_loss: 11.5618\n",
            "Epoch 13/100\n",
            "134/134 [==============================] - 1s 5ms/step - loss: 9.5020 - val_loss: 9.8191\n",
            "Epoch 14/100\n",
            "134/134 [==============================] - 1s 6ms/step - loss: 9.9896 - val_loss: 9.4679\n",
            "Epoch 15/100\n",
            "134/134 [==============================] - 1s 5ms/step - loss: 9.5100 - val_loss: 10.0598\n",
            "Epoch 16/100\n",
            "134/134 [==============================] - 1s 6ms/step - loss: 9.6794 - val_loss: 10.4593\n",
            "Epoch 17/100\n",
            "134/134 [==============================] - 1s 6ms/step - loss: 9.2581 - val_loss: 9.4302\n",
            "Epoch 18/100\n",
            "134/134 [==============================] - 1s 6ms/step - loss: 9.5923 - val_loss: 10.3191\n",
            "Epoch 19/100\n",
            "134/134 [==============================] - 1s 5ms/step - loss: 9.5027 - val_loss: 13.5511\n",
            "Epoch 20/100\n",
            "134/134 [==============================] - 1s 4ms/step - loss: 11.2473 - val_loss: 10.3714\n",
            "Epoch 21/100\n",
            "134/134 [==============================] - 1s 4ms/step - loss: 9.4918 - val_loss: 10.6592\n",
            "Epoch 22/100\n",
            "134/134 [==============================] - 1s 4ms/step - loss: 9.7757 - val_loss: 9.6392\n",
            "Epoch 23/100\n",
            "134/134 [==============================] - 1s 4ms/step - loss: 9.2288 - val_loss: 11.3361\n",
            "Epoch 24/100\n",
            "134/134 [==============================] - 1s 4ms/step - loss: 9.7878 - val_loss: 9.6323\n",
            "Epoch 25/100\n",
            "134/134 [==============================] - 1s 4ms/step - loss: 9.0846 - val_loss: 9.3480\n",
            "Epoch 26/100\n",
            "134/134 [==============================] - 1s 5ms/step - loss: 9.3226 - val_loss: 9.3906\n",
            "Epoch 27/100\n",
            "134/134 [==============================] - 0s 4ms/step - loss: 9.5640 - val_loss: 11.1678\n",
            "Epoch 28/100\n",
            "134/134 [==============================] - 1s 4ms/step - loss: 9.4395 - val_loss: 10.2550\n",
            "Epoch 29/100\n",
            "134/134 [==============================] - 1s 4ms/step - loss: 9.8729 - val_loss: 9.2913\n",
            "Epoch 30/100\n",
            "134/134 [==============================] - 1s 4ms/step - loss: 9.3468 - val_loss: 9.2850\n",
            "Epoch 31/100\n",
            "134/134 [==============================] - 1s 4ms/step - loss: 9.2568 - val_loss: 9.9887\n",
            "Epoch 32/100\n",
            "134/134 [==============================] - 1s 4ms/step - loss: 9.2370 - val_loss: 9.4294\n",
            "Epoch 33/100\n",
            "134/134 [==============================] - 1s 4ms/step - loss: 9.1019 - val_loss: 9.0673\n",
            "Epoch 34/100\n",
            "134/134 [==============================] - 1s 4ms/step - loss: 8.7175 - val_loss: 9.0547\n",
            "Epoch 35/100\n",
            "134/134 [==============================] - 1s 4ms/step - loss: 9.0032 - val_loss: 9.0961\n",
            "Epoch 36/100\n",
            "134/134 [==============================] - 1s 4ms/step - loss: 9.6837 - val_loss: 9.2138\n",
            "Epoch 37/100\n",
            "134/134 [==============================] - 1s 5ms/step - loss: 9.5868 - val_loss: 10.0792\n",
            "Epoch 38/100\n",
            "134/134 [==============================] - 1s 6ms/step - loss: 9.1694 - val_loss: 9.1944\n",
            "Epoch 39/100\n",
            "134/134 [==============================] - 1s 6ms/step - loss: 9.5486 - val_loss: 9.8430\n",
            "Epoch 40/100\n",
            "134/134 [==============================] - 1s 6ms/step - loss: 9.2992 - val_loss: 10.3193\n",
            "Epoch 41/100\n",
            "134/134 [==============================] - 1s 6ms/step - loss: 9.1344 - val_loss: 12.2325\n",
            "Epoch 42/100\n",
            "134/134 [==============================] - 1s 6ms/step - loss: 9.1885 - val_loss: 9.6275\n",
            "Epoch 43/100\n",
            "134/134 [==============================] - 1s 6ms/step - loss: 9.1656 - val_loss: 9.0142\n",
            "Epoch 44/100\n",
            "134/134 [==============================] - 1s 4ms/step - loss: 9.0548 - val_loss: 9.1643\n",
            "Epoch 45/100\n",
            "134/134 [==============================] - 1s 4ms/step - loss: 8.5645 - val_loss: 8.9086\n",
            "Epoch 46/100\n",
            "134/134 [==============================] - 1s 4ms/step - loss: 8.9460 - val_loss: 9.8133\n",
            "Epoch 47/100\n",
            "134/134 [==============================] - 1s 4ms/step - loss: 8.9964 - val_loss: 9.1418\n",
            "Epoch 48/100\n",
            "134/134 [==============================] - 1s 4ms/step - loss: 9.0484 - val_loss: 13.9082\n",
            "Epoch 49/100\n",
            "134/134 [==============================] - 1s 4ms/step - loss: 8.9920 - val_loss: 9.3502\n",
            "Epoch 50/100\n",
            "134/134 [==============================] - 1s 4ms/step - loss: 8.4532 - val_loss: 9.2303\n",
            "Epoch 51/100\n",
            "134/134 [==============================] - 1s 4ms/step - loss: 8.8319 - val_loss: 9.1155\n",
            "Epoch 52/100\n",
            "134/134 [==============================] - 1s 4ms/step - loss: 9.1562 - val_loss: 10.0640\n",
            "Epoch 53/100\n",
            "134/134 [==============================] - 1s 4ms/step - loss: 9.4514 - val_loss: 9.0084\n",
            "Epoch 54/100\n",
            "134/134 [==============================] - 1s 4ms/step - loss: 9.1515 - val_loss: 9.6621\n",
            "Epoch 55/100\n",
            "134/134 [==============================] - 1s 4ms/step - loss: 9.3369 - val_loss: 11.3409\n",
            "CPU times: user 35.1 s, sys: 1.99 s, total: 37.1 s\n",
            "Wall time: 35.5 s\n"
          ]
        }
      ]
    },
    {
      "cell_type": "code",
      "source": [
        "#Plot the loss\n",
        "plot_loss_plotly(history, 'Deep Neural Network Model Puts dataset')"
      ],
      "metadata": {
        "colab": {
          "base_uri": "https://localhost:8080/",
          "height": 517
        },
        "id": "dkJ-qhw4x-FH",
        "outputId": "4711662a-4c67-4422-c5b7-04416ff31f76"
      },
      "execution_count": null,
      "outputs": [
        {
          "output_type": "display_data",
          "data": {
            "text/html": [
              "<html>\n",
              "<head><meta charset=\"utf-8\" /></head>\n",
              "<body>\n",
              "    <div>            <script src=\"https://cdnjs.cloudflare.com/ajax/libs/mathjax/2.7.5/MathJax.js?config=TeX-AMS-MML_SVG\"></script><script type=\"text/javascript\">if (window.MathJax && window.MathJax.Hub && window.MathJax.Hub.Config) {window.MathJax.Hub.Config({SVG: {font: \"STIX-Web\"}});}</script>                <script type=\"text/javascript\">window.PlotlyConfig = {MathJaxConfig: 'local'};</script>\n",
              "        <script src=\"https://cdn.plot.ly/plotly-2.18.2.min.js\"></script>                <div id=\"0250be4b-3f72-498f-a7bd-20547699d309\" class=\"plotly-graph-div\" style=\"height:500px; width:700px;\"></div>            <script type=\"text/javascript\">                                    window.PLOTLYENV=window.PLOTLYENV || {};                                    if (document.getElementById(\"0250be4b-3f72-498f-a7bd-20547699d309\")) {                    Plotly.newPlot(                        \"0250be4b-3f72-498f-a7bd-20547699d309\",                        [{\"mode\":\"lines\",\"name\":\"loss\",\"x\":[0,1,2,3,4,5,6,7,8,9,10,11,12,13,14,15,16,17,18,19,20,21,22,23,24,25,26,27,28,29,30,31,32,33,34,35,36,37,38,39,40,41,42,43,44,45,46,47,48,49,50,51,52,53,54],\"y\":[112.32156372070312,37.230628967285156,23.220800399780273,16.172229766845703,12.777356147766113,11.367860794067383,10.691143989562988,10.989208221435547,10.409402847290039,10.056140899658203,10.267582893371582,10.221158981323242,9.501992225646973,9.989616394042969,9.509965896606445,9.679439544677734,9.25814437866211,9.592313766479492,9.502739906311035,11.247349739074707,9.49177074432373,9.775676727294922,9.22876262664795,9.787830352783203,9.084589958190918,9.322619438171387,9.56397533416748,9.439455032348633,9.872896194458008,9.34681224822998,9.256795883178711,9.236979484558105,9.101887702941895,8.7174654006958,9.003226280212402,9.683652877807617,9.586787223815918,9.169426918029785,9.548579216003418,9.299202919006348,9.134411811828613,9.18854808807373,9.165573120117188,9.054791450500488,8.564480781555176,8.945982933044434,8.996352195739746,9.04839038848877,8.992046356201172,8.453216552734375,8.831878662109375,9.156172752380371,9.451436042785645,9.15151309967041,9.33689022064209],\"type\":\"scatter\"},{\"mode\":\"lines\",\"name\":\"val_loss\",\"x\":[0,1,2,3,4,5,6,7,8,9,10,11,12,13,14,15,16,17,18,19,20,21,22,23,24,25,26,27,28,29,30,31,32,33,34,35,36,37,38,39,40,41,42,43,44,45,46,47,48,49,50,51,52,53,54],\"y\":[52.316009521484375,29.219196319580078,17.57958221435547,14.40701675415039,11.370580673217773,13.959424018859863,11.295223236083984,11.238099098205566,11.680100440979004,13.108785629272461,10.690218925476074,11.561838150024414,9.819063186645508,9.467862129211426,10.059812545776367,10.459331512451172,9.430228233337402,10.319146156311035,13.551105499267578,10.371424674987793,10.659231185913086,9.639177322387695,11.336128234863281,9.632253646850586,9.348031044006348,9.390645980834961,11.167793273925781,10.254977226257324,9.2913179397583,9.285012245178223,9.988739013671875,9.429428100585938,9.06734561920166,9.054727554321289,9.096098899841309,9.21381664276123,10.079225540161133,9.194374084472656,9.842987060546875,10.319337844848633,12.232481956481934,9.627464294433594,9.0142183303833,9.164337158203125,8.908576965332031,9.813334465026855,9.141755104064941,13.908232688903809,9.350198745727539,9.230327606201172,9.115487098693848,10.063992500305176,9.008359909057617,9.662139892578125,11.340879440307617],\"type\":\"scatter\"}],                        {\"template\":{\"data\":{\"barpolar\":[{\"marker\":{\"line\":{\"color\":\"rgb(237,237,237)\",\"width\":0.5},\"pattern\":{\"fillmode\":\"overlay\",\"size\":10,\"solidity\":0.2}},\"type\":\"barpolar\"}],\"bar\":[{\"error_x\":{\"color\":\"rgb(51,51,51)\"},\"error_y\":{\"color\":\"rgb(51,51,51)\"},\"marker\":{\"line\":{\"color\":\"rgb(237,237,237)\",\"width\":0.5},\"pattern\":{\"fillmode\":\"overlay\",\"size\":10,\"solidity\":0.2}},\"type\":\"bar\"}],\"carpet\":[{\"aaxis\":{\"endlinecolor\":\"rgb(51,51,51)\",\"gridcolor\":\"white\",\"linecolor\":\"white\",\"minorgridcolor\":\"white\",\"startlinecolor\":\"rgb(51,51,51)\"},\"baxis\":{\"endlinecolor\":\"rgb(51,51,51)\",\"gridcolor\":\"white\",\"linecolor\":\"white\",\"minorgridcolor\":\"white\",\"startlinecolor\":\"rgb(51,51,51)\"},\"type\":\"carpet\"}],\"choropleth\":[{\"colorbar\":{\"outlinewidth\":0,\"tickcolor\":\"rgb(237,237,237)\",\"ticklen\":6,\"ticks\":\"inside\"},\"type\":\"choropleth\"}],\"contourcarpet\":[{\"colorbar\":{\"outlinewidth\":0,\"tickcolor\":\"rgb(237,237,237)\",\"ticklen\":6,\"ticks\":\"inside\"},\"type\":\"contourcarpet\"}],\"contour\":[{\"colorbar\":{\"outlinewidth\":0,\"tickcolor\":\"rgb(237,237,237)\",\"ticklen\":6,\"ticks\":\"inside\"},\"colorscale\":[[0,\"rgb(20,44,66)\"],[1,\"rgb(90,179,244)\"]],\"type\":\"contour\"}],\"heatmapgl\":[{\"colorbar\":{\"outlinewidth\":0,\"tickcolor\":\"rgb(237,237,237)\",\"ticklen\":6,\"ticks\":\"inside\"},\"colorscale\":[[0,\"rgb(20,44,66)\"],[1,\"rgb(90,179,244)\"]],\"type\":\"heatmapgl\"}],\"heatmap\":[{\"colorbar\":{\"outlinewidth\":0,\"tickcolor\":\"rgb(237,237,237)\",\"ticklen\":6,\"ticks\":\"inside\"},\"colorscale\":[[0,\"rgb(20,44,66)\"],[1,\"rgb(90,179,244)\"]],\"type\":\"heatmap\"}],\"histogram2dcontour\":[{\"colorbar\":{\"outlinewidth\":0,\"tickcolor\":\"rgb(237,237,237)\",\"ticklen\":6,\"ticks\":\"inside\"},\"colorscale\":[[0,\"rgb(20,44,66)\"],[1,\"rgb(90,179,244)\"]],\"type\":\"histogram2dcontour\"}],\"histogram2d\":[{\"colorbar\":{\"outlinewidth\":0,\"tickcolor\":\"rgb(237,237,237)\",\"ticklen\":6,\"ticks\":\"inside\"},\"colorscale\":[[0,\"rgb(20,44,66)\"],[1,\"rgb(90,179,244)\"]],\"type\":\"histogram2d\"}],\"histogram\":[{\"marker\":{\"pattern\":{\"fillmode\":\"overlay\",\"size\":10,\"solidity\":0.2}},\"type\":\"histogram\"}],\"mesh3d\":[{\"colorbar\":{\"outlinewidth\":0,\"tickcolor\":\"rgb(237,237,237)\",\"ticklen\":6,\"ticks\":\"inside\"},\"type\":\"mesh3d\"}],\"parcoords\":[{\"line\":{\"colorbar\":{\"outlinewidth\":0,\"tickcolor\":\"rgb(237,237,237)\",\"ticklen\":6,\"ticks\":\"inside\"}},\"type\":\"parcoords\"}],\"pie\":[{\"automargin\":true,\"type\":\"pie\"}],\"scatter3d\":[{\"line\":{\"colorbar\":{\"outlinewidth\":0,\"tickcolor\":\"rgb(237,237,237)\",\"ticklen\":6,\"ticks\":\"inside\"}},\"marker\":{\"colorbar\":{\"outlinewidth\":0,\"tickcolor\":\"rgb(237,237,237)\",\"ticklen\":6,\"ticks\":\"inside\"}},\"type\":\"scatter3d\"}],\"scattercarpet\":[{\"marker\":{\"colorbar\":{\"outlinewidth\":0,\"tickcolor\":\"rgb(237,237,237)\",\"ticklen\":6,\"ticks\":\"inside\"}},\"type\":\"scattercarpet\"}],\"scattergeo\":[{\"marker\":{\"colorbar\":{\"outlinewidth\":0,\"tickcolor\":\"rgb(237,237,237)\",\"ticklen\":6,\"ticks\":\"inside\"}},\"type\":\"scattergeo\"}],\"scattergl\":[{\"marker\":{\"colorbar\":{\"outlinewidth\":0,\"tickcolor\":\"rgb(237,237,237)\",\"ticklen\":6,\"ticks\":\"inside\"}},\"type\":\"scattergl\"}],\"scattermapbox\":[{\"marker\":{\"colorbar\":{\"outlinewidth\":0,\"tickcolor\":\"rgb(237,237,237)\",\"ticklen\":6,\"ticks\":\"inside\"}},\"type\":\"scattermapbox\"}],\"scatterpolargl\":[{\"marker\":{\"colorbar\":{\"outlinewidth\":0,\"tickcolor\":\"rgb(237,237,237)\",\"ticklen\":6,\"ticks\":\"inside\"}},\"type\":\"scatterpolargl\"}],\"scatterpolar\":[{\"marker\":{\"colorbar\":{\"outlinewidth\":0,\"tickcolor\":\"rgb(237,237,237)\",\"ticklen\":6,\"ticks\":\"inside\"}},\"type\":\"scatterpolar\"}],\"scatter\":[{\"fillpattern\":{\"fillmode\":\"overlay\",\"size\":10,\"solidity\":0.2},\"type\":\"scatter\"}],\"scatterternary\":[{\"marker\":{\"colorbar\":{\"outlinewidth\":0,\"tickcolor\":\"rgb(237,237,237)\",\"ticklen\":6,\"ticks\":\"inside\"}},\"type\":\"scatterternary\"}],\"surface\":[{\"colorbar\":{\"outlinewidth\":0,\"tickcolor\":\"rgb(237,237,237)\",\"ticklen\":6,\"ticks\":\"inside\"},\"colorscale\":[[0,\"rgb(20,44,66)\"],[1,\"rgb(90,179,244)\"]],\"type\":\"surface\"}],\"table\":[{\"cells\":{\"fill\":{\"color\":\"rgb(237,237,237)\"},\"line\":{\"color\":\"white\"}},\"header\":{\"fill\":{\"color\":\"rgb(217,217,217)\"},\"line\":{\"color\":\"white\"}},\"type\":\"table\"}]},\"layout\":{\"annotationdefaults\":{\"arrowhead\":0,\"arrowwidth\":1},\"autotypenumbers\":\"strict\",\"coloraxis\":{\"colorbar\":{\"outlinewidth\":0,\"tickcolor\":\"rgb(237,237,237)\",\"ticklen\":6,\"ticks\":\"inside\"}},\"colorscale\":{\"sequential\":[[0,\"rgb(20,44,66)\"],[1,\"rgb(90,179,244)\"]],\"sequentialminus\":[[0,\"rgb(20,44,66)\"],[1,\"rgb(90,179,244)\"]]},\"colorway\":[\"#F8766D\",\"#A3A500\",\"#00BF7D\",\"#00B0F6\",\"#E76BF3\"],\"font\":{\"color\":\"rgb(51,51,51)\"},\"geo\":{\"bgcolor\":\"white\",\"lakecolor\":\"white\",\"landcolor\":\"rgb(237,237,237)\",\"showlakes\":true,\"showland\":true,\"subunitcolor\":\"white\"},\"hoverlabel\":{\"align\":\"left\"},\"hovermode\":\"closest\",\"paper_bgcolor\":\"white\",\"plot_bgcolor\":\"rgb(237,237,237)\",\"polar\":{\"angularaxis\":{\"gridcolor\":\"white\",\"linecolor\":\"white\",\"showgrid\":true,\"tickcolor\":\"rgb(51,51,51)\",\"ticks\":\"outside\"},\"bgcolor\":\"rgb(237,237,237)\",\"radialaxis\":{\"gridcolor\":\"white\",\"linecolor\":\"white\",\"showgrid\":true,\"tickcolor\":\"rgb(51,51,51)\",\"ticks\":\"outside\"}},\"scene\":{\"xaxis\":{\"backgroundcolor\":\"rgb(237,237,237)\",\"gridcolor\":\"white\",\"gridwidth\":2,\"linecolor\":\"white\",\"showbackground\":true,\"showgrid\":true,\"tickcolor\":\"rgb(51,51,51)\",\"ticks\":\"outside\",\"zerolinecolor\":\"white\"},\"yaxis\":{\"backgroundcolor\":\"rgb(237,237,237)\",\"gridcolor\":\"white\",\"gridwidth\":2,\"linecolor\":\"white\",\"showbackground\":true,\"showgrid\":true,\"tickcolor\":\"rgb(51,51,51)\",\"ticks\":\"outside\",\"zerolinecolor\":\"white\"},\"zaxis\":{\"backgroundcolor\":\"rgb(237,237,237)\",\"gridcolor\":\"white\",\"gridwidth\":2,\"linecolor\":\"white\",\"showbackground\":true,\"showgrid\":true,\"tickcolor\":\"rgb(51,51,51)\",\"ticks\":\"outside\",\"zerolinecolor\":\"white\"}},\"shapedefaults\":{\"fillcolor\":\"black\",\"line\":{\"width\":0},\"opacity\":0.3},\"ternary\":{\"aaxis\":{\"gridcolor\":\"white\",\"linecolor\":\"white\",\"showgrid\":true,\"tickcolor\":\"rgb(51,51,51)\",\"ticks\":\"outside\"},\"baxis\":{\"gridcolor\":\"white\",\"linecolor\":\"white\",\"showgrid\":true,\"tickcolor\":\"rgb(51,51,51)\",\"ticks\":\"outside\"},\"bgcolor\":\"rgb(237,237,237)\",\"caxis\":{\"gridcolor\":\"white\",\"linecolor\":\"white\",\"showgrid\":true,\"tickcolor\":\"rgb(51,51,51)\",\"ticks\":\"outside\"}},\"xaxis\":{\"automargin\":true,\"gridcolor\":\"white\",\"linecolor\":\"white\",\"showgrid\":true,\"tickcolor\":\"rgb(51,51,51)\",\"ticks\":\"outside\",\"title\":{\"standoff\":15},\"zerolinecolor\":\"white\"},\"yaxis\":{\"automargin\":true,\"gridcolor\":\"white\",\"linecolor\":\"white\",\"showgrid\":true,\"tickcolor\":\"rgb(51,51,51)\",\"ticks\":\"outside\",\"title\":{\"standoff\":15},\"zerolinecolor\":\"white\"}}},\"title\":{\"text\":\"Deep Neural Network Model Puts dataset\"},\"xaxis\":{\"title\":{\"text\":\"Epoch\"}},\"yaxis\":{\"title\":{\"text\":\"Mean Absolute Error [Option Price]\"}},\"autosize\":false,\"width\":700,\"height\":500},                        {\"responsive\": true}                    ).then(function(){\n",
              "                            \n",
              "var gd = document.getElementById('0250be4b-3f72-498f-a7bd-20547699d309');\n",
              "var x = new MutationObserver(function (mutations, observer) {{\n",
              "        var display = window.getComputedStyle(gd).display;\n",
              "        if (!display || display === 'none') {{\n",
              "            console.log([gd, 'removed!']);\n",
              "            Plotly.purge(gd);\n",
              "            observer.disconnect();\n",
              "        }}\n",
              "}});\n",
              "\n",
              "// Listen for the removal of the full notebook cells\n",
              "var notebookContainer = gd.closest('#notebook-container');\n",
              "if (notebookContainer) {{\n",
              "    x.observe(notebookContainer, {childList: true});\n",
              "}}\n",
              "\n",
              "// Listen for the clearing of the current output cell\n",
              "var outputEl = gd.closest('.output');\n",
              "if (outputEl) {{\n",
              "    x.observe(outputEl, {childList: true});\n",
              "}}\n",
              "\n",
              "                        })                };                            </script>        </div>\n",
              "</body>\n",
              "</html>"
            ]
          },
          "metadata": {}
        }
      ]
    },
    {
      "cell_type": "markdown",
      "metadata": {
        "id": "WH7KDAa_Z-s8"
      },
      "source": [
        "Here we test the MAE of the linear regression against the deep learning model. We see that the DNN has a much better performance"
      ]
    },
    {
      "cell_type": "code",
      "source": [
        "#Collect Results\n",
        "test_results_p['DNN_model'] = [DNN_model_p.evaluate(X_test_p, y_test_p, verbose=0)]\n",
        "#Linear model Vs DNN\n",
        "test_results_p.index = [\"Mean Absolute Error [p]\"]\n",
        "test_results_p.T"
      ],
      "metadata": {
        "colab": {
          "base_uri": "https://localhost:8080/",
          "height": 112
        },
        "id": "aA1hF_B4yMV8",
        "outputId": "56e83687-288c-433e-debd-9b0672cb6f3b"
      },
      "execution_count": null,
      "outputs": [
        {
          "output_type": "execute_result",
          "data": {
            "text/plain": [
              "              Mean Absolute Error [p]\n",
              "linear_model               110.717682\n",
              "DNN_model                   10.840566"
            ],
            "text/html": [
              "\n",
              "  <div id=\"df-7220b410-4394-4f3b-9758-4b7b574b448c\">\n",
              "    <div class=\"colab-df-container\">\n",
              "      <div>\n",
              "<style scoped>\n",
              "    .dataframe tbody tr th:only-of-type {\n",
              "        vertical-align: middle;\n",
              "    }\n",
              "\n",
              "    .dataframe tbody tr th {\n",
              "        vertical-align: top;\n",
              "    }\n",
              "\n",
              "    .dataframe thead th {\n",
              "        text-align: right;\n",
              "    }\n",
              "</style>\n",
              "<table border=\"1\" class=\"dataframe\">\n",
              "  <thead>\n",
              "    <tr style=\"text-align: right;\">\n",
              "      <th></th>\n",
              "      <th>Mean Absolute Error [p]</th>\n",
              "    </tr>\n",
              "  </thead>\n",
              "  <tbody>\n",
              "    <tr>\n",
              "      <th>linear_model</th>\n",
              "      <td>110.717682</td>\n",
              "    </tr>\n",
              "    <tr>\n",
              "      <th>DNN_model</th>\n",
              "      <td>10.840566</td>\n",
              "    </tr>\n",
              "  </tbody>\n",
              "</table>\n",
              "</div>\n",
              "      <button class=\"colab-df-convert\" onclick=\"convertToInteractive('df-7220b410-4394-4f3b-9758-4b7b574b448c')\"\n",
              "              title=\"Convert this dataframe to an interactive table.\"\n",
              "              style=\"display:none;\">\n",
              "        \n",
              "  <svg xmlns=\"http://www.w3.org/2000/svg\" height=\"24px\"viewBox=\"0 0 24 24\"\n",
              "       width=\"24px\">\n",
              "    <path d=\"M0 0h24v24H0V0z\" fill=\"none\"/>\n",
              "    <path d=\"M18.56 5.44l.94 2.06.94-2.06 2.06-.94-2.06-.94-.94-2.06-.94 2.06-2.06.94zm-11 1L8.5 8.5l.94-2.06 2.06-.94-2.06-.94L8.5 2.5l-.94 2.06-2.06.94zm10 10l.94 2.06.94-2.06 2.06-.94-2.06-.94-.94-2.06-.94 2.06-2.06.94z\"/><path d=\"M17.41 7.96l-1.37-1.37c-.4-.4-.92-.59-1.43-.59-.52 0-1.04.2-1.43.59L10.3 9.45l-7.72 7.72c-.78.78-.78 2.05 0 2.83L4 21.41c.39.39.9.59 1.41.59.51 0 1.02-.2 1.41-.59l7.78-7.78 2.81-2.81c.8-.78.8-2.07 0-2.86zM5.41 20L4 18.59l7.72-7.72 1.47 1.35L5.41 20z\"/>\n",
              "  </svg>\n",
              "      </button>\n",
              "      \n",
              "  <style>\n",
              "    .colab-df-container {\n",
              "      display:flex;\n",
              "      flex-wrap:wrap;\n",
              "      gap: 12px;\n",
              "    }\n",
              "\n",
              "    .colab-df-convert {\n",
              "      background-color: #E8F0FE;\n",
              "      border: none;\n",
              "      border-radius: 50%;\n",
              "      cursor: pointer;\n",
              "      display: none;\n",
              "      fill: #1967D2;\n",
              "      height: 32px;\n",
              "      padding: 0 0 0 0;\n",
              "      width: 32px;\n",
              "    }\n",
              "\n",
              "    .colab-df-convert:hover {\n",
              "      background-color: #E2EBFA;\n",
              "      box-shadow: 0px 1px 2px rgba(60, 64, 67, 0.3), 0px 1px 3px 1px rgba(60, 64, 67, 0.15);\n",
              "      fill: #174EA6;\n",
              "    }\n",
              "\n",
              "    [theme=dark] .colab-df-convert {\n",
              "      background-color: #3B4455;\n",
              "      fill: #D2E3FC;\n",
              "    }\n",
              "\n",
              "    [theme=dark] .colab-df-convert:hover {\n",
              "      background-color: #434B5C;\n",
              "      box-shadow: 0px 1px 3px 1px rgba(0, 0, 0, 0.15);\n",
              "      filter: drop-shadow(0px 1px 2px rgba(0, 0, 0, 0.3));\n",
              "      fill: #FFFFFF;\n",
              "    }\n",
              "  </style>\n",
              "\n",
              "      <script>\n",
              "        const buttonEl =\n",
              "          document.querySelector('#df-7220b410-4394-4f3b-9758-4b7b574b448c button.colab-df-convert');\n",
              "        buttonEl.style.display =\n",
              "          google.colab.kernel.accessAllowed ? 'block' : 'none';\n",
              "\n",
              "        async function convertToInteractive(key) {\n",
              "          const element = document.querySelector('#df-7220b410-4394-4f3b-9758-4b7b574b448c');\n",
              "          const dataTable =\n",
              "            await google.colab.kernel.invokeFunction('convertToInteractive',\n",
              "                                                     [key], {});\n",
              "          if (!dataTable) return;\n",
              "\n",
              "          const docLinkHtml = 'Like what you see? Visit the ' +\n",
              "            '<a target=\"_blank\" href=https://colab.research.google.com/notebooks/data_table.ipynb>data table notebook</a>'\n",
              "            + ' to learn more about interactive tables.';\n",
              "          element.innerHTML = '';\n",
              "          dataTable['output_type'] = 'display_data';\n",
              "          await google.colab.output.renderOutput(dataTable, element);\n",
              "          const docLink = document.createElement('div');\n",
              "          docLink.innerHTML = docLinkHtml;\n",
              "          element.appendChild(docLink);\n",
              "        }\n",
              "      </script>\n",
              "    </div>\n",
              "  </div>\n",
              "  "
            ]
          },
          "metadata": {},
          "execution_count": 65
        }
      ]
    },
    {
      "cell_type": "code",
      "source": [
        "test_predictions = DNN_model_p.predict(X_test_p)\n",
        "test_predictions.shape"
      ],
      "metadata": {
        "colab": {
          "base_uri": "https://localhost:8080/"
        },
        "id": "EYvxpqoiEn-J",
        "outputId": "953aa22a-c37f-4a72-c3a7-76a170819aa0"
      },
      "execution_count": null,
      "outputs": [
        {
          "output_type": "stream",
          "name": "stdout",
          "text": [
            "30/30 [==============================] - 0s 2ms/step\n"
          ]
        },
        {
          "output_type": "execute_result",
          "data": {
            "text/plain": [
              "(946, 1)"
            ]
          },
          "metadata": {},
          "execution_count": 66
        }
      ]
    },
    {
      "cell_type": "code",
      "source": [
        "y_true = np.array(y_test_p).reshape([len(y_test_p),1])\n",
        "y_pred = np.array(test_predictions)\n",
        "# Using 'auto'/'sum_over_batch_size' reduction type.\n",
        "mse = tf.keras.losses.MeanSquaredError()\n",
        "mse(y_true, y_pred).numpy()"
      ],
      "metadata": {
        "colab": {
          "base_uri": "https://localhost:8080/"
        },
        "id": "sUe6a3Z8B7de",
        "outputId": "1c99d406-85ce-401d-c96b-b0e852551669"
      },
      "execution_count": null,
      "outputs": [
        {
          "output_type": "execute_result",
          "data": {
            "text/plain": [
              "1195.5726"
            ]
          },
          "metadata": {},
          "execution_count": 67
        }
      ]
    },
    {
      "cell_type": "code",
      "source": [
        "rmse = np.sqrt(mse(y_true, y_pred).numpy())\n",
        "rmse"
      ],
      "metadata": {
        "colab": {
          "base_uri": "https://localhost:8080/"
        },
        "id": "Igz2ONGfGYb9",
        "outputId": "6ff926c8-c63a-40d7-d894-e835b9d00f38"
      },
      "execution_count": null,
      "outputs": [
        {
          "output_type": "execute_result",
          "data": {
            "text/plain": [
              "34.577053"
            ]
          },
          "metadata": {},
          "execution_count": 68
        }
      ]
    },
    {
      "cell_type": "code",
      "source": [
        "R2 = my_R2(y_pred,y_true)\n",
        "R2"
      ],
      "metadata": {
        "colab": {
          "base_uri": "https://localhost:8080/"
        },
        "id": "zjGhuypLLBRr",
        "outputId": "00b95419-9b30-46e0-c2bf-12416855df7a"
      },
      "execution_count": null,
      "outputs": [
        {
          "output_type": "execute_result",
          "data": {
            "text/plain": [
              "0.9950406504433714"
            ]
          },
          "metadata": {},
          "execution_count": 69
        }
      ]
    },
    {
      "cell_type": "markdown",
      "metadata": {
        "id": "P2lrE_PSoXFn"
      },
      "source": [
        "#### Random Forest"
      ]
    },
    {
      "cell_type": "code",
      "execution_count": null,
      "metadata": {
        "id": "gJtuOEXpZ7MW"
      },
      "outputs": [],
      "source": [
        "# Imports\n",
        "# reference: https://www.youtube.com/watch?v=vZAjRCd03zk\n",
        "from sklearn.ensemble import RandomForestRegressor\n",
        "from sklearn.metrics import accuracy_score\n",
        "from sklearn import metrics\n",
        "from sklearn.model_selection import cross_val_score\n",
        "from sklearn.model_selection import train_test_split"
      ]
    },
    {
      "cell_type": "code",
      "source": [
        "#Train and test data sets\n",
        "model_df_c = df_c.copy()\n",
        "model_df_p = df_p.copy()\n",
        "\n",
        "#Full train/test\n",
        "X = model_df[['Tau','Moneyness']].copy()\n",
        "y = model_df['Last Price'].copy()\n",
        "X_train, X_test, y_train, y_test = train_test_split(X, y, test_size = 0.15, random_state=42)\n",
        "\n",
        "#Put train/test\n",
        "X_p = model_df_p[['Tau','Moneyness']].copy()\n",
        "y_p = model_df_p['Last Price'].copy()\n",
        "X_train_p, X_test_p, y_train_p, y_test_p = train_test_split(X_p, y_p, test_size = 0.15, random_state=42)\n",
        "\n",
        "#Call train/test\n",
        "X_c = model_df_c[['Tau','Moneyness']].copy()\n",
        "y_c = model_df_c['Last Price'].copy()\n",
        "X_train_c, X_test_c, y_train_c, y_test_c = train_test_split(X_c, y_c, test_size = 0.15, random_state=42)"
      ],
      "metadata": {
        "id": "nyhawcm_1M9t"
      },
      "execution_count": null,
      "outputs": []
    },
    {
      "cell_type": "code",
      "execution_count": null,
      "metadata": {
        "colab": {
          "base_uri": "https://localhost:8080/",
          "height": 75
        },
        "id": "aN5p4wVFona5",
        "outputId": "b6cd786d-3db1-4daf-90c0-9417431491db"
      },
      "outputs": [
        {
          "output_type": "execute_result",
          "data": {
            "text/plain": [
              "RandomForestRegressor()"
            ],
            "text/html": [
              "<style>#sk-container-id-1 {color: black;background-color: white;}#sk-container-id-1 pre{padding: 0;}#sk-container-id-1 div.sk-toggleable {background-color: white;}#sk-container-id-1 label.sk-toggleable__label {cursor: pointer;display: block;width: 100%;margin-bottom: 0;padding: 0.3em;box-sizing: border-box;text-align: center;}#sk-container-id-1 label.sk-toggleable__label-arrow:before {content: \"▸\";float: left;margin-right: 0.25em;color: #696969;}#sk-container-id-1 label.sk-toggleable__label-arrow:hover:before {color: black;}#sk-container-id-1 div.sk-estimator:hover label.sk-toggleable__label-arrow:before {color: black;}#sk-container-id-1 div.sk-toggleable__content {max-height: 0;max-width: 0;overflow: hidden;text-align: left;background-color: #f0f8ff;}#sk-container-id-1 div.sk-toggleable__content pre {margin: 0.2em;color: black;border-radius: 0.25em;background-color: #f0f8ff;}#sk-container-id-1 input.sk-toggleable__control:checked~div.sk-toggleable__content {max-height: 200px;max-width: 100%;overflow: auto;}#sk-container-id-1 input.sk-toggleable__control:checked~label.sk-toggleable__label-arrow:before {content: \"▾\";}#sk-container-id-1 div.sk-estimator input.sk-toggleable__control:checked~label.sk-toggleable__label {background-color: #d4ebff;}#sk-container-id-1 div.sk-label input.sk-toggleable__control:checked~label.sk-toggleable__label {background-color: #d4ebff;}#sk-container-id-1 input.sk-hidden--visually {border: 0;clip: rect(1px 1px 1px 1px);clip: rect(1px, 1px, 1px, 1px);height: 1px;margin: -1px;overflow: hidden;padding: 0;position: absolute;width: 1px;}#sk-container-id-1 div.sk-estimator {font-family: monospace;background-color: #f0f8ff;border: 1px dotted black;border-radius: 0.25em;box-sizing: border-box;margin-bottom: 0.5em;}#sk-container-id-1 div.sk-estimator:hover {background-color: #d4ebff;}#sk-container-id-1 div.sk-parallel-item::after {content: \"\";width: 100%;border-bottom: 1px solid gray;flex-grow: 1;}#sk-container-id-1 div.sk-label:hover label.sk-toggleable__label {background-color: #d4ebff;}#sk-container-id-1 div.sk-serial::before {content: \"\";position: absolute;border-left: 1px solid gray;box-sizing: border-box;top: 0;bottom: 0;left: 50%;z-index: 0;}#sk-container-id-1 div.sk-serial {display: flex;flex-direction: column;align-items: center;background-color: white;padding-right: 0.2em;padding-left: 0.2em;position: relative;}#sk-container-id-1 div.sk-item {position: relative;z-index: 1;}#sk-container-id-1 div.sk-parallel {display: flex;align-items: stretch;justify-content: center;background-color: white;position: relative;}#sk-container-id-1 div.sk-item::before, #sk-container-id-1 div.sk-parallel-item::before {content: \"\";position: absolute;border-left: 1px solid gray;box-sizing: border-box;top: 0;bottom: 0;left: 50%;z-index: -1;}#sk-container-id-1 div.sk-parallel-item {display: flex;flex-direction: column;z-index: 1;position: relative;background-color: white;}#sk-container-id-1 div.sk-parallel-item:first-child::after {align-self: flex-end;width: 50%;}#sk-container-id-1 div.sk-parallel-item:last-child::after {align-self: flex-start;width: 50%;}#sk-container-id-1 div.sk-parallel-item:only-child::after {width: 0;}#sk-container-id-1 div.sk-dashed-wrapped {border: 1px dashed gray;margin: 0 0.4em 0.5em 0.4em;box-sizing: border-box;padding-bottom: 0.4em;background-color: white;}#sk-container-id-1 div.sk-label label {font-family: monospace;font-weight: bold;display: inline-block;line-height: 1.2em;}#sk-container-id-1 div.sk-label-container {text-align: center;}#sk-container-id-1 div.sk-container {/* jupyter's `normalize.less` sets `[hidden] { display: none; }` but bootstrap.min.css set `[hidden] { display: none !important; }` so we also need the `!important` here to be able to override the default hidden behavior on the sphinx rendered scikit-learn.org. See: https://github.com/scikit-learn/scikit-learn/issues/21755 */display: inline-block !important;position: relative;}#sk-container-id-1 div.sk-text-repr-fallback {display: none;}</style><div id=\"sk-container-id-1\" class=\"sk-top-container\"><div class=\"sk-text-repr-fallback\"><pre>RandomForestRegressor()</pre><b>In a Jupyter environment, please rerun this cell to show the HTML representation or trust the notebook. <br />On GitHub, the HTML representation is unable to render, please try loading this page with nbviewer.org.</b></div><div class=\"sk-container\" hidden><div class=\"sk-item\"><div class=\"sk-estimator sk-toggleable\"><input class=\"sk-toggleable__control sk-hidden--visually\" id=\"sk-estimator-id-1\" type=\"checkbox\" checked><label for=\"sk-estimator-id-1\" class=\"sk-toggleable__label sk-toggleable__label-arrow\">RandomForestRegressor</label><div class=\"sk-toggleable__content\"><pre>RandomForestRegressor()</pre></div></div></div></div></div>"
            ]
          },
          "metadata": {},
          "execution_count": 72
        }
      ],
      "source": [
        "#Define regression models\n",
        "\n",
        "reg = RandomForestRegressor()\n",
        "reg.fit(X_train, y_train)\n",
        "\n",
        "reg_p = RandomForestRegressor()\n",
        "reg_p.fit(X_train_p, y_train_p)\n",
        "\n",
        "reg_c = RandomForestRegressor()\n",
        "reg_c.fit(X_train_c, y_train_c)"
      ]
    },
    {
      "cell_type": "code",
      "execution_count": null,
      "metadata": {
        "id": "XDj9tQhwL0dd"
      },
      "outputs": [],
      "source": [
        "#Fit regression models\n",
        "y_pred = reg.predict(X_test)\n",
        "rf_results = pd.DataFrame(data=[], columns=[])\n",
        "rf_results['y_pred'] = y_pred\n",
        "\n",
        "y_pred_p = reg_p.predict(X_test_p)\n",
        "rf_results_p = pd.DataFrame(data=[], columns=[])\n",
        "rf_results_p['y_pred_p'] = y_pred_p\n",
        "\n",
        "y_pred_c = reg_c.predict(X_test_c)\n",
        "rf_results_c = pd.DataFrame(data=[], columns=[])\n",
        "rf_results_c['y_pred_c'] = y_pred_c"
      ]
    },
    {
      "cell_type": "code",
      "execution_count": null,
      "metadata": {
        "id": "vNy1f2R_MCsh",
        "colab": {
          "base_uri": "https://localhost:8080/"
        },
        "outputId": "9af30dfd-4f2c-4f87-bd1e-c0c11cf314f0"
      },
      "outputs": [
        {
          "output_type": "stream",
          "name": "stdout",
          "text": [
            "Full data:\n",
            "R^2: 0.9985358209264799\n",
            "Adjusted R^2: 0.9985321374571126\n",
            "Mean Absolute Error: 10.784208270676686\n",
            "Mean Squared Error: 576.1409876284703\n",
            "RMSE: 24.002937062544454\n",
            "Puts:\n",
            "R^2: 0.9927349050569754\n",
            "Adjusted R^2: 0.9927194965841376\n",
            "Mean Absolute Error: 9.296991331923868\n",
            "Mean Squared Error: 1751.4291632007964\n",
            "RMSE: 41.85007960805805\n",
            "Calls:\n",
            "R^2: 0.9984119045069266\n",
            "Adjusted R^2: 0.998407909298139\n",
            "Mean Absolute Error: 10.98004135338347\n",
            "Mean Squared Error: 624.900958069222\n",
            "RMSE: 24.99801908290379\n"
          ]
        }
      ],
      "source": [
        "#Full data performance\n",
        "print('Full data:')\n",
        "print('R^2:', metrics.r2_score(y_test, y_pred))\n",
        "print('Adjusted R^2:', 1-(1-metrics.r2_score(y_test, y_pred))*(len(y_test)-1)/(len(y_test)-X_test.shape[1]-1))\n",
        "print('Mean Absolute Error:', metrics.mean_absolute_error(y_test, y_pred))\n",
        "print('Mean Squared Error:', metrics.mean_squared_error(y_test, y_pred))\n",
        "print('RMSE:', np.sqrt(metrics.mean_squared_error(y_test, y_pred)))\n",
        "\n",
        "#Puts performance\n",
        "print('Puts:')\n",
        "print('R^2:', metrics.r2_score(y_test_p, y_pred_p))\n",
        "print('Adjusted R^2:', 1-(1-metrics.r2_score(y_test_p, y_pred_p))*(len(y_test_p)-1)/(len(y_test_p)-X_test_p.shape[1]-1))\n",
        "print('Mean Absolute Error:', metrics.mean_absolute_error(y_test_p, y_pred_p))\n",
        "print('Mean Squared Error:', metrics.mean_squared_error(y_test_p, y_pred_p))\n",
        "print('RMSE:', np.sqrt(metrics.mean_squared_error(y_test_p, y_pred_p)))\n",
        "\n",
        "#Calls performance\n",
        "print('Calls:')\n",
        "print('R^2:', metrics.r2_score(y_test_c, y_pred_c))\n",
        "print('Adjusted R^2:', 1-(1-metrics.r2_score(y_test_c, y_pred_c))*(len(y_test_c)-1)/(len(y_test_c)-X_test_c.shape[1]-1))\n",
        "print('Mean Absolute Error:', metrics.mean_absolute_error(y_test_c, y_pred_c))\n",
        "print('Mean Squared Error:', metrics.mean_squared_error(y_test_c, y_pred_c))\n",
        "print('RMSE:', np.sqrt(metrics.mean_squared_error(y_test_c, y_pred_c)))"
      ]
    },
    {
      "cell_type": "code",
      "source": [
        "#Full data plots\n",
        "fig = go.Figure()\n",
        "fig.add_trace(go.Scatter(x=y_test, \n",
        "                         y=y_pred,\n",
        "                         mode='markers'))\n",
        "fig.update_layout(title=\"Predicted vs. Actual Prices - Full Data\",\n",
        "                  xaxis_title=\"Prices\",\n",
        "                  yaxis_title=\"Predicted prices\",\n",
        "                  template='ggplot2',\n",
        "                  autosize=False,\n",
        "                  width=700,\n",
        "                  height=500,)\n",
        "fig.show()"
      ],
      "metadata": {
        "colab": {
          "base_uri": "https://localhost:8080/",
          "height": 517
        },
        "id": "LgFZ6dJiyJ-b",
        "outputId": "95b33baa-e63b-4554-b78e-61c38b1359e3"
      },
      "execution_count": null,
      "outputs": [
        {
          "output_type": "display_data",
          "data": {
            "text/html": [
              "<html>\n",
              "<head><meta charset=\"utf-8\" /></head>\n",
              "<body>\n",
              "    <div>            <script src=\"https://cdnjs.cloudflare.com/ajax/libs/mathjax/2.7.5/MathJax.js?config=TeX-AMS-MML_SVG\"></script><script type=\"text/javascript\">if (window.MathJax && window.MathJax.Hub && window.MathJax.Hub.Config) {window.MathJax.Hub.Config({SVG: {font: \"STIX-Web\"}});}</script>                <script type=\"text/javascript\">window.PlotlyConfig = {MathJaxConfig: 'local'};</script>\n",
              "        <script src=\"https://cdn.plot.ly/plotly-2.18.2.min.js\"></script>                <div id=\"69183822-bffd-4528-82ce-6f626504d8a8\" class=\"plotly-graph-div\" style=\"height:500px; width:700px;\"></div>            <script type=\"text/javascript\">                                    window.PLOTLYENV=window.PLOTLYENV || {};                                    if (document.getElementById(\"69183822-bffd-4528-82ce-6f626504d8a8\")) {                    Plotly.newPlot(                        \"69183822-bffd-4528-82ce-6f626504d8a8\",                        [{\"mode\":\"markers\",\"x\":[0.5,1002.27,4.9,263.26,89.81,860.0,0.05,99.71,195.37,772.23,410.6,427.56,88.1,1586.4,140.37,510.5,307.51,158.94,518.45,0.05,27.0,284.11,111.1,1054.05,21.87,0.15,0.35,111.66,92.17,114.77,63.7,294.55,14.19,0.15,111.41,11.42,275.86,423.89,35.8,456.87,5.2,0.92,5.05,67.02,518.24,1.32,0.1,108.58,0.05,871.31,1268.71,96.1,174.39,133.55,1.82,102.1,0.05,16.2,60.74,602.68,1.07,476.54,432.76,132.2,133.97,17.6,0.55,284.52,1.0,2.16,0.05,119.4,682.98,478.07,1156.3,1208.39,0.3,175.03,2606.92,1790.28,38.7,1038.62,424.67,762.21,546.59,533.73,3.43,38.2,182.88,149.85,86.17,1018.49,55.55,1883.14,126.87,405.81,1107.87,504.34,594.19,39.3,54.74,838.86,307.15,1171.59,2455.57,253.65,574.8,0.25,224.95,459.86,267.83,329.67,5.3,1087.61,409.84,4.98,183.8,173.7,11.29,170.02,15.48,55.23,23.0,0.91,1118.16,79.22,173.7,528.16,37.65,186.65,6.54,0.05,518.9,227.08,264.1,683.25,290.4,587.08,0.05,1.45,0.05,0.2,0.05,1432.41,10.15,1.99,0.05,279.0,477.35,40.6,27.3,465.64,4.4,381.9,2.55,27.2,216.23,935.57,130.11,1.7,433.59,331.2,1248.35,732.71,0.55,5.34,22.3,9.2,873.29,49.15,2180.59,721.73,99.16,425.24,57.41,2.45,492.2,0.17,0.05,162.9,0.1,3641.3,254.08,0.1,0.25,0.07,0.2,338.03,6.4,31.3,123.17,311.88,349.54,221.16,1185.36,0.7,136.2,152.3,3117.33,230.34,7.4,179.34,32.4,0.05,45.48,431.92,195.96,0.05,140.34,57.67,0.1,9.28,10.52,17.2,16.82,136.82,252.36,10.63,208.16,85.6,1225.97,341.38,0.1,3503.93,977.89,47.2,0.29,0.05,434.21,96.2,737.41,0.9,68.67,252.4,0.05,0.79,1165.0,0.77,5.3,329.85,3115.23,485.41,6.55,666.47,86.75,315.9,13.42,0.35,4.2,17.53,8.1,652.17,2.59,53.3,393.74,0.95,2.0,373.49,277.17,152.84,115.22,218.74,69.44,573.03,5.4,662.41,50.7,442.3,2.6,692.4,620.0,3.42,1840.0,4.15,0.12,9.64,390.83,11.33,104.1,12.84,0.52,0.05,184.66,0.7,138.7,59.47,708.72,69.2,264.38,363.41,212.02,769.64,165.3,150.46,814.44,539.54,279.1,1575.01,729.95,2931.68,64.5,36.8,0.6,25.49,589.12,0.1,1904.55,62.86,3879.5,411.37,73.24,92.6,50.7,1040.72,574.0,417.36,487.2,7.18,195.37,110.93,187.37,479.87,246.6,0.05,0.45,1093.94,499.3,932.6,206.42,490.91,242.8,419.96,1198.94,33.14,304.6,220.96,5.97,3.28,1.95,0.05,5.88,0.05,90.05,242.31,46.73,121.7,0.18,465.47,11.1,90.15,323.54,3584.4,91.47,618.71,121.5,640.48,175.94,7.3,14.5,229.2,42.14,14.3,662.74,9.45,298.5,0.15,2900.49,824.36,336.82,156.41,1.6,825.84,1441.31,2917.67,0.9,123.51,226.97,1191.05,1482.34,2165.47,1651.5,100.56,1040.81,18.7,11.43,27.8,5.3,43.55,107.8,263.38,20.2,1442.24,199.13,331.31,596.4,333.52,576.4,206.97,0.08,115.0,228.15,474.59,3312.38,62.08,166.6,627.78,133.44,7.5,3865.0,184.2,506.21,3503.48,998.73,192.67,0.2,176.46,124.2,2456.58,298.51,286.05,10.8,0.25,73.17,805.2,0.2,40.0,2277.2,130.39,58.4,139.97,203.36,231.48,156.2,0.05,178.76,0.4,167.08,252.11,415.72,46.2,182.71,0.25,171.2,182.2,4.1,10.9,607.17,28.97,378.72,89.67,0.8,31.1,1.29,0.05,6.7,6.48,84.4,23.2,0.3,69.37,0.14,648.3,253.92,87.84,756.32,340.68,1335.86,152.9,781.8,338.7,182.15,3308.08,106.96,31.8,2.35,48.26,345.82,65.9,511.74,225.81,386.75,1752.8,96.25,319.83,45.45,0.6,610.78,893.23,456.89,101.2,386.43,1.25,275.03,0.05,105.4,0.75,6.3,888.47,506.52,108.72,621.39,12.81,5.5,275.31,0.05,0.29,547.06,217.0,10.4,130.41,5.9,290.13,20.8,0.1,1.25,834.66,910.8,313.66,40.52,126.31,29.46,104.53,684.14,47.97,20.35,94.4,7.3,187.9,0.1,271.32,0.3,410.75,641.44,13.9,1324.79,221.52,333.16,82.59,440.1,199.39,447.31,267.3,335.78,612.1,3.7,159.6,744.16,127.9,32.15,424.61,12.3,577.37,157.93,218.55,545.65,121.7,322.24,52.86,310.63,97.0,344.83,8.76,2154.95,402.3,54.43,335.96,153.55,734.44,1619.72,0.4,0.5,67.77,60.2,47.5,391.97,512.12,722.92,93.43,489.52,1098.2,2.87,158.82,27.2,1306.19,148.35,413.36,75.65,94.08,289.41,444.81,3.4,3.6,262.95,0.03,195.69,820.55,216.6,232.87,197.0,57.56,23.95,195.06,46.9,3138.7,3.4,215.15,78.7,3773.5,10.43,0.05,152.28,153.3,0.05,363.06,380.85,0.15,49.85,439.24,0.05,110.4,59.5,129.81,298.12,51.62,369.8,639.94,322.32,24.14,4.93,101.41,370.53,590.3,1007.13,0.05,18.26,426.5,72.81,597.79,117.5,31.85,8.55,375.04,1622.05,839.73,388.41,11.26,3.74,3.9,588.17,365.62,249.56,0.35,300.25,461.54,636.7,274.89,286.01,434.21,4.19,11.35,420.73,0.25,2.55,301.66,2205.21,96.51,237.57,0.1,89.87,255.18,11.2,748.02,0.5,1350.1,1632.98,0.05,292.8,34.0,190.46,293.8,330.78,116.81,125.76,3499.78,25.9,0.05,0.25,919.16,456.83,113.69,146.1,105.0,0.05,19.98,53.06,180.5,5.2,238.55,1256.47,462.31,696.18,612.97,336.5,44.6,634.51,0.1,179.4,34.0,1303.66,351.88,173.73,360.9,233.5,0.05,1023.76,322.44,701.71,58.8,517.66,210.5,104.66,623.3,225.72,684.5,18.0,51.5,346.13,562.8,414.16,602.13,39.4,443.5,156.5,0.07,27.35,1.55,2188.0,107.0,313.86,34.24,514.84,69.3,507.0,1239.87,1184.58,149.8,638.17,0.05,2167.69,992.01,830.8,452.02,321.73,1060.99,484.63,8.4,64.2,25.3,932.91,1.81,185.08,119.0,626.98,3629.43,192.85,0.05,5.4,751.71,437.51,193.35,0.55,347.9,3116.43,268.0,56.43,141.2,103.29,3118.29,0.65,396.49,1446.78,33.9,916.58,1009.17,6.87,44.77,334.74,24.8,0.1,70.74,65.3,151.0,408.77,203.74,863.4,0.2,321.09,87.68],\"y\":[0.38170000000000004,1047.9433000000004,4.869400000000002,256.22579999999994,102.6071999999999,781.7180999999999,0.05889999999999993,103.94240000000005,199.60209999999998,799.7338000000009,407.8773000000001,417.43469999999996,88.69570000000003,1586.9651999999987,149.97499999999994,554.8530000000001,293.7744999999995,156.89000000000004,554.7503000000002,0.05229999999999991,27.071799999999982,298.3288000000004,124.58030000000004,1008.7293000000004,21.79290000000001,0.09559999999999996,0.47320000000000034,106.22030000000015,90.4157000000001,113.56590000000011,79.53400000000002,295.2937000000001,14.481200000000003,0.28100000000000025,108.61660000000008,14.8576,273.0825999999999,427.06640000000016,34.163799999999995,466.1475999999999,4.756000000000001,0.8482999999999996,4.2741,76.5808,509.6505000000004,1.3371000000000015,0.06990000000000006,111.78069999999985,0.06420000000000002,831.3305999999995,1261.559800000001,92.63290000000002,166.58829999999998,131.67449999999985,2.140399999999999,121.84890000000009,0.049999999999999906,16.555799999999977,63.80400000000005,606.2225999999996,1.081500000000001,468.83129999999966,417.2066000000001,140.49180000000004,121.0167,17.115899999999982,0.5615999999999994,281.0551999999999,1.4329999999999996,2.254100000000002,0.0562999999999999,110.88640000000001,695.3082000000006,510.3029,1218.9106000000013,1182.7728000000006,0.45449999999999996,174.44299999999996,2637.611200000001,1729.1621000000007,36.952499999999965,1062.6327,411.4821,756.2287,537.1297999999999,532.7610000000009,3.6830999999999965,37.30429999999999,181.49110000000005,158.16239999999982,87.80789999999999,1050.5863000000004,56.82100000000005,1968.1875999999988,127.14120000000014,384.932,1060.2582999999995,511.51959999999997,569.7194000000002,41.79050000000001,54.966399999999986,831.0592,324.50610000000006,1171.918,2513.100800000002,248.29819999999984,562.0300999999997,0.4698000000000003,223.84689999999978,476.25750000000005,272.2834000000002,304.22669999999977,5.3488,1118.0721999999987,395.6754,5.451099999999996,201.5391000000001,180.89449999999985,11.811199999999987,186.10210000000015,16.255500000000005,42.83840000000001,25.256500000000003,1.0613999999999997,1093.491099999999,78.68009999999995,170.7794,544.6849,16.0516,196.33579999999998,7.622200000000004,0.0704999999999999,552.4470000000001,218.58090000000004,262.5729000000003,674.3817000000001,292.6559999999999,536.3658999999998,0.0495999999999999,2.061699999999998,0.06400000000000002,0.27010000000000006,0.05499999999999994,1413.1670999999997,11.6374,2.0539000000000005,0.05319999999999992,259.18370000000016,465.4352999999997,37.460700000000024,26.67599999999999,449.6531000000002,4.305799999999998,376.3034999999998,3.709600000000001,26.331100000000003,215.041,872.9647,117.58570000000009,1.8397,411.3369,317.56679999999994,1258.1532999999995,746.7219999999996,0.5630999999999998,5.063799999999999,23.80800000000001,10.12239999999999,878.1662999999993,50.52129999999998,2145.041900000002,693.0138000000002,99.3935,416.6366,56.29450000000007,2.3791000000000015,488.8847000000005,0.1476000000000001,0.04939999999999991,173.76450000000008,0.1370000000000001,3718.3897,243.28059999999982,0.2125000000000001,0.26540000000000014,0.07549999999999997,0.2108000000000001,344.2844999999999,6.497800000000009,31.235099999999985,118.21510000000006,289.20190000000025,347.0557999999998,206.69649999999976,1195.4162000000003,0.7757000000000001,135.8059999999998,135.64390000000006,3116.3889000000013,224.82769999999985,7.313299999999994,180.13539999999986,30.637099999999986,0.052299999999999916,46.951499999999996,407.14630000000005,194.44530000000017,0.03799999999999993,139.6168000000001,51.854199999999956,0.2535,10.377,11.882399999999993,13.871399999999989,22.633000000000028,133.31860000000012,242.84250000000014,10.537099999999999,214.04149999999984,83.56319999999998,1254.4423000000004,341.04150000000004,0.1939999999999998,3505.1015999999963,1014.9371999999996,60.62969999999996,0.5017999999999999,0.1180000000000004,430.1263000000001,97.4006,756.1486999999993,1.1213999999999997,72.94139999999997,292.6537,0.049999999999999906,0.9775999999999999,1178.8783999999987,1.6225999999999992,4.215300000000003,298.91750000000025,3105.4124999999995,494.46519999999947,4.8796000000000035,642.8410999999996,79.86519999999997,318.5334000000001,22.973200000000002,0.3639000000000003,5.676600000000002,17.21820000000002,8.964999999999996,661.9703000000002,3.6192999999999977,54.0709,385.0242000000004,1.0370999999999997,2.4319999999999973,369.96430000000043,271.80690000000004,190.22399999999993,109.52039999999994,206.37289999999993,65.0248000000001,582.5205000000001,5.853799999999998,676.2446000000002,51.774000000000015,465.54950000000053,2.362899999999999,697.0427000000009,638.6901999999994,3.2974000000000006,1740.3797999999983,3.7629000000000015,0.15030000000000018,8.079000000000002,383.0438999999998,10.92829999999999,99.03220000000003,13.218500000000013,0.7167999999999999,0.04939999999999993,185.7489999999999,0.7505999999999996,138.16689999999994,73.69169999999991,687.6133000000002,77.77189999999992,263.00570000000016,369.94140000000004,208.3312999999999,776.6605999999996,145.73679999999993,128.66369999999998,807.9682000000003,528.8647,285.1614000000001,1583.126199999999,756.0113000000002,2930.6023,64.25340000000001,34.348100000000024,0.8890000000000015,34.88449999999996,575.2498,0.08470000000000005,1741.3584000000003,66.42779999999995,3705.168699999996,429.34359999999947,79.84260000000002,98.75410000000005,48.26849999999999,1006.8577000000005,604.0463000000003,408.76980000000003,479.65850000000023,6.4123000000000046,224.7025,109.57750000000006,205.4150999999998,464.7856000000005,221.62919999999997,0.050199999999999904,0.5056999999999996,1059.5185000000001,473.15640000000013,965.7624999999998,213.9890999999998,522.3194000000001,212.6559,406.83420000000007,1276.6678000000002,31.295800000000007,298.99920000000003,213.64969999999983,5.450200000000003,5.743999999999997,1.771499999999999,0.05179999999999991,6.003399999999995,0.05019999999999992,90.01450000000001,243.82470000000004,48.75339999999996,122.73250000000007,0.1490000000000001,475.6865000000001,12.644100000000005,88.15409999999999,318.73109999999986,3532.497599999996,94.00229999999999,626.3077000000008,140.23469999999986,648.4430000000006,177.8152000000001,6.725500000000002,15.482800000000005,237.68589999999992,42.77699999999999,14.338500000000018,660.8516000000006,12.30330000000001,274.63509999999985,0.19359999999999983,2918.3507000000022,796.0530000000005,320.69740000000024,142.99230000000006,1.8825000000000014,835.3431999999998,1413.8468,2931.286600000001,1.2825000000000006,153.42020000000005,226.96960000000013,1197.274,1583.3668000000002,2103.605600000001,1584.9506,90.3942,1012.1494000000005,20.41100000000001,11.305400000000006,27.7058,7.247799999999996,53.62389999999996,113.3848000000001,266.4106999999997,16.579200000000018,1404.3417999999992,200.62689999999992,324.18589999999944,573.5320999999999,318.1063000000005,597.8666000000003,213.00259999999994,0.0946,103.48370000000008,240.3049999999998,437.31159999999966,3311.7608,52.08369999999998,162.39259999999976,639.2752000000007,131.65630000000004,7.864899999999991,3899.7381999999993,184.17440000000016,503.70729999999935,3511.862799999996,1087.1401000000008,187.14409999999992,0.17600000000000005,187.69580000000002,126.33500000000008,2432.357599999999,287.58629999999965,274.736,11.667399999999994,0.2935999999999998,77.1274,842.1499000000007,0.24429999999999963,38.96420000000001,2191.353000000002,129.2536,56.030199999999915,153.9525999999999,207.4637999999998,225.06029999999973,165.36850000000007,0.07430000000000006,197.93630000000007,0.9213000000000006,184.25349999999995,255.81040000000002,401.45550000000026,44.84529999999998,189.48449999999983,0.2245,193.2108,199.68030000000002,4.119300000000004,11.345099999999995,603.9997999999997,30.714799999999997,379.21649999999966,95.05540000000002,0.7201000000000002,30.60809999999999,1.4166000000000005,0.05389999999999992,5.969300000000001,5.678999999999995,83.56370000000007,22.763100000000012,0.27349999999999997,74.27870000000003,0.17699999999999996,617.0954,270.1522,92.90089999999992,715.2692,347.0239999999999,1371.8305000000016,192.52559999999997,803.9118999999996,342.10709999999995,194.2121999999999,3307.9471999999955,130.72520000000011,31.066199999999977,2.397799999999998,48.67889999999999,335.30139999999994,66.11880000000015,528.7645999999993,221.16740000000013,384.8457999999996,1696.0099000000018,103.36019999999999,332.0782000000001,48.83899999999995,0.6067999999999997,593.0789000000001,853.0661000000001,467.36100000000005,102.15839999999997,381.8729000000003,1.5012000000000003,272.3313999999997,0.05029999999999991,105.00349999999999,0.8158000000000003,7.639700000000001,922.3297000000009,501.04129999999964,117.80729999999996,626.9601000000002,11.676499999999994,5.186700000000003,267.7888,0.05519999999999992,0.27909999999999985,545.7918000000004,220.49210000000002,12.159800000000011,123.3496000000001,5.772200000000001,292.6465999999997,21.646400000000003,0.15350000000000003,2.1713999999999998,821.2504999999999,888.9458999999989,308.1344000000005,43.17549999999999,149.50370000000018,30.388,103.62139999999998,681.531000000001,51.447000000000024,21.843300000000035,128.88630000000006,8.178400000000005,186.07010000000002,0.1770000000000001,248.20229999999984,0.3249,403.5874,647.2631999999999,13.005000000000006,1273.6298000000002,224.60750000000033,316.9612999999999,84.04709999999994,418.74780000000004,179.11280000000005,449.5382,266.83860000000027,292.4497999999996,610.7737999999994,3.2849999999999984,185.68759999999986,721.9635000000006,123.35720000000006,38.05089999999995,416.2330999999999,12.858700000000006,542.1803,154.93029999999996,217.27159999999975,564.7109999999998,125.58489999999992,330.9659000000002,48.61579999999995,321.1515000000005,90.04850000000005,352.81540000000024,11.285799999999993,2109.299100000001,367.36130000000014,64.1582000000001,302.6592000000003,150.60289999999983,735.6730999999999,1691.3232000000007,0.4957999999999996,0.47139999999999943,69.32069999999997,63.53850000000002,53.50089999999997,401.0271000000002,464.7718999999997,745.8043999999999,75.881,486.9249000000003,1120.4280000000008,3.0934000000000004,158.22089999999992,26.969799999999996,1286.2794999999992,149.49139999999997,413.4749,81.29220000000005,107.64780000000002,301.07940000000025,431.8239999999998,4.555399999999995,3.8355999999999955,262.45670000000024,0.04239999999999993,211.9132000000001,853.1063999999992,215.71040000000016,237.04830000000004,192.29240000000001,58.30560000000007,23.529899999999998,195.81010000000006,45.259500000000045,3115.0856000000017,4.8618000000000015,209.28409999999974,74.7304,3378.7948000000033,14.183299999999996,0.053499999999999916,150.7347000000002,146.65879999999999,0.05339999999999992,369.74230000000017,387.77189999999996,0.16049999999999978,47.9348,451.79519999999997,0.10480000000000013,108.54300000000006,62.71460000000002,118.68010000000011,271.96779999999984,55.30410000000004,344.51729999999986,623.6668999999999,304.37100000000027,21.02469999999998,4.308100000000002,95.97620000000006,393.94849999999997,565.1067999999999,1021.3570999999996,0.0912,19.307199999999995,409.0880000000001,81.97279999999996,604.4147000000003,134.3789000000002,36.67109999999999,9.871099999999995,376.93100000000004,1604.2706000000005,845.8364999999997,385.3130000000003,12.882599999999993,3.4709999999999996,4.247099999999998,558.5964,337.8474999999999,236.42660000000004,0.47290000000000004,334.8068999999998,481.49890000000073,628.5864000000003,276.8526,295.1647000000003,390.4751000000001,3.8272999999999993,11.994300000000008,399.1533999999999,0.19949999999999984,2.5009000000000015,292.06980000000016,2131.874999999998,97.56309999999992,228.13879999999955,0.12219999999999993,100.14060000000012,270.29520000000014,10.980300000000014,736.1074000000003,0.5074999999999997,1295.8566999999996,1581.3671000000008,0.12030000000000006,285.3636000000001,33.82990000000005,189.5453999999999,290.70479999999975,329.75969999999984,134.13300000000024,125.20900000000009,3492.371699999997,25.23230000000004,0.04999999999999991,0.3564,906.9126000000003,469.085,114.52349999999993,151.97820000000024,107.78520000000012,0.05039999999999993,21.538799999999995,51.27160000000006,184.92790000000016,5.7328,233.87680000000003,1247.8672000000015,467.88000000000034,711.8348000000001,614.6659000000003,353.16820000000024,45.61269999999999,612.2449000000005,0.15610000000000016,181.6704000000002,34.43949999999998,1271.892300000001,368.47109999999986,186.82189999999994,353.45230000000004,224.24079999999992,0.0549999999999999,989.7359999999992,292.58689999999973,746.6028000000005,48.892599999999945,512.3927999999993,194.81890000000007,104.39269999999995,632.7959999999993,224.60750000000033,648.3937000000006,18.336000000000027,51.32029999999999,345.4914,572.9318000000004,422.73119999999966,603.7941999999997,37.63650000000004,446.83979999999957,155.37570000000008,0.05109999999999993,27.43530000000002,1.7362999999999993,2173.933700000002,89.30370000000008,318.3714000000002,32.62550000000001,489.71730000000025,61.03770000000005,521.0104000000001,1221.5451000000012,1175.6925000000003,150.92309999999995,618.9832000000001,0.058599999999999916,2138.713000000003,966.8266000000013,810.6445000000002,465.5631000000002,328.4288999999998,1062.9886000000004,465.03280000000007,8.057099999999991,64.06970000000003,25.159099999999984,950.0698000000004,2.0256000000000025,202.3447,120.25760000000002,620.6110999999996,3664.8719000000024,187.5327,0.04999999999999991,5.008799999999998,736.2807999999995,408.13009999999986,186.8446000000001,0.6171999999999997,333.8449999999998,3105.4124999999995,293.64930000000004,60.61570000000003,148.23510000000016,103.73999999999998,3119.1346999999987,0.7311000000000001,377.42280000000056,1437.3422999999998,34.5649,890.9731000000006,1009.4153000000002,7.660499999999998,44.229100000000024,340.7069000000001,31.573699999999977,0.11199999999999984,69.74249999999999,67.42340000000009,149.10070000000007,398.04210000000035,206.6339999999998,887.1421999999995,0.24399999999999988,306.7410000000001,87.78849999999994],\"type\":\"scatter\"}],                        {\"template\":{\"data\":{\"barpolar\":[{\"marker\":{\"line\":{\"color\":\"rgb(237,237,237)\",\"width\":0.5},\"pattern\":{\"fillmode\":\"overlay\",\"size\":10,\"solidity\":0.2}},\"type\":\"barpolar\"}],\"bar\":[{\"error_x\":{\"color\":\"rgb(51,51,51)\"},\"error_y\":{\"color\":\"rgb(51,51,51)\"},\"marker\":{\"line\":{\"color\":\"rgb(237,237,237)\",\"width\":0.5},\"pattern\":{\"fillmode\":\"overlay\",\"size\":10,\"solidity\":0.2}},\"type\":\"bar\"}],\"carpet\":[{\"aaxis\":{\"endlinecolor\":\"rgb(51,51,51)\",\"gridcolor\":\"white\",\"linecolor\":\"white\",\"minorgridcolor\":\"white\",\"startlinecolor\":\"rgb(51,51,51)\"},\"baxis\":{\"endlinecolor\":\"rgb(51,51,51)\",\"gridcolor\":\"white\",\"linecolor\":\"white\",\"minorgridcolor\":\"white\",\"startlinecolor\":\"rgb(51,51,51)\"},\"type\":\"carpet\"}],\"choropleth\":[{\"colorbar\":{\"outlinewidth\":0,\"tickcolor\":\"rgb(237,237,237)\",\"ticklen\":6,\"ticks\":\"inside\"},\"type\":\"choropleth\"}],\"contourcarpet\":[{\"colorbar\":{\"outlinewidth\":0,\"tickcolor\":\"rgb(237,237,237)\",\"ticklen\":6,\"ticks\":\"inside\"},\"type\":\"contourcarpet\"}],\"contour\":[{\"colorbar\":{\"outlinewidth\":0,\"tickcolor\":\"rgb(237,237,237)\",\"ticklen\":6,\"ticks\":\"inside\"},\"colorscale\":[[0,\"rgb(20,44,66)\"],[1,\"rgb(90,179,244)\"]],\"type\":\"contour\"}],\"heatmapgl\":[{\"colorbar\":{\"outlinewidth\":0,\"tickcolor\":\"rgb(237,237,237)\",\"ticklen\":6,\"ticks\":\"inside\"},\"colorscale\":[[0,\"rgb(20,44,66)\"],[1,\"rgb(90,179,244)\"]],\"type\":\"heatmapgl\"}],\"heatmap\":[{\"colorbar\":{\"outlinewidth\":0,\"tickcolor\":\"rgb(237,237,237)\",\"ticklen\":6,\"ticks\":\"inside\"},\"colorscale\":[[0,\"rgb(20,44,66)\"],[1,\"rgb(90,179,244)\"]],\"type\":\"heatmap\"}],\"histogram2dcontour\":[{\"colorbar\":{\"outlinewidth\":0,\"tickcolor\":\"rgb(237,237,237)\",\"ticklen\":6,\"ticks\":\"inside\"},\"colorscale\":[[0,\"rgb(20,44,66)\"],[1,\"rgb(90,179,244)\"]],\"type\":\"histogram2dcontour\"}],\"histogram2d\":[{\"colorbar\":{\"outlinewidth\":0,\"tickcolor\":\"rgb(237,237,237)\",\"ticklen\":6,\"ticks\":\"inside\"},\"colorscale\":[[0,\"rgb(20,44,66)\"],[1,\"rgb(90,179,244)\"]],\"type\":\"histogram2d\"}],\"histogram\":[{\"marker\":{\"pattern\":{\"fillmode\":\"overlay\",\"size\":10,\"solidity\":0.2}},\"type\":\"histogram\"}],\"mesh3d\":[{\"colorbar\":{\"outlinewidth\":0,\"tickcolor\":\"rgb(237,237,237)\",\"ticklen\":6,\"ticks\":\"inside\"},\"type\":\"mesh3d\"}],\"parcoords\":[{\"line\":{\"colorbar\":{\"outlinewidth\":0,\"tickcolor\":\"rgb(237,237,237)\",\"ticklen\":6,\"ticks\":\"inside\"}},\"type\":\"parcoords\"}],\"pie\":[{\"automargin\":true,\"type\":\"pie\"}],\"scatter3d\":[{\"line\":{\"colorbar\":{\"outlinewidth\":0,\"tickcolor\":\"rgb(237,237,237)\",\"ticklen\":6,\"ticks\":\"inside\"}},\"marker\":{\"colorbar\":{\"outlinewidth\":0,\"tickcolor\":\"rgb(237,237,237)\",\"ticklen\":6,\"ticks\":\"inside\"}},\"type\":\"scatter3d\"}],\"scattercarpet\":[{\"marker\":{\"colorbar\":{\"outlinewidth\":0,\"tickcolor\":\"rgb(237,237,237)\",\"ticklen\":6,\"ticks\":\"inside\"}},\"type\":\"scattercarpet\"}],\"scattergeo\":[{\"marker\":{\"colorbar\":{\"outlinewidth\":0,\"tickcolor\":\"rgb(237,237,237)\",\"ticklen\":6,\"ticks\":\"inside\"}},\"type\":\"scattergeo\"}],\"scattergl\":[{\"marker\":{\"colorbar\":{\"outlinewidth\":0,\"tickcolor\":\"rgb(237,237,237)\",\"ticklen\":6,\"ticks\":\"inside\"}},\"type\":\"scattergl\"}],\"scattermapbox\":[{\"marker\":{\"colorbar\":{\"outlinewidth\":0,\"tickcolor\":\"rgb(237,237,237)\",\"ticklen\":6,\"ticks\":\"inside\"}},\"type\":\"scattermapbox\"}],\"scatterpolargl\":[{\"marker\":{\"colorbar\":{\"outlinewidth\":0,\"tickcolor\":\"rgb(237,237,237)\",\"ticklen\":6,\"ticks\":\"inside\"}},\"type\":\"scatterpolargl\"}],\"scatterpolar\":[{\"marker\":{\"colorbar\":{\"outlinewidth\":0,\"tickcolor\":\"rgb(237,237,237)\",\"ticklen\":6,\"ticks\":\"inside\"}},\"type\":\"scatterpolar\"}],\"scatter\":[{\"fillpattern\":{\"fillmode\":\"overlay\",\"size\":10,\"solidity\":0.2},\"type\":\"scatter\"}],\"scatterternary\":[{\"marker\":{\"colorbar\":{\"outlinewidth\":0,\"tickcolor\":\"rgb(237,237,237)\",\"ticklen\":6,\"ticks\":\"inside\"}},\"type\":\"scatterternary\"}],\"surface\":[{\"colorbar\":{\"outlinewidth\":0,\"tickcolor\":\"rgb(237,237,237)\",\"ticklen\":6,\"ticks\":\"inside\"},\"colorscale\":[[0,\"rgb(20,44,66)\"],[1,\"rgb(90,179,244)\"]],\"type\":\"surface\"}],\"table\":[{\"cells\":{\"fill\":{\"color\":\"rgb(237,237,237)\"},\"line\":{\"color\":\"white\"}},\"header\":{\"fill\":{\"color\":\"rgb(217,217,217)\"},\"line\":{\"color\":\"white\"}},\"type\":\"table\"}]},\"layout\":{\"annotationdefaults\":{\"arrowhead\":0,\"arrowwidth\":1},\"autotypenumbers\":\"strict\",\"coloraxis\":{\"colorbar\":{\"outlinewidth\":0,\"tickcolor\":\"rgb(237,237,237)\",\"ticklen\":6,\"ticks\":\"inside\"}},\"colorscale\":{\"sequential\":[[0,\"rgb(20,44,66)\"],[1,\"rgb(90,179,244)\"]],\"sequentialminus\":[[0,\"rgb(20,44,66)\"],[1,\"rgb(90,179,244)\"]]},\"colorway\":[\"#F8766D\",\"#A3A500\",\"#00BF7D\",\"#00B0F6\",\"#E76BF3\"],\"font\":{\"color\":\"rgb(51,51,51)\"},\"geo\":{\"bgcolor\":\"white\",\"lakecolor\":\"white\",\"landcolor\":\"rgb(237,237,237)\",\"showlakes\":true,\"showland\":true,\"subunitcolor\":\"white\"},\"hoverlabel\":{\"align\":\"left\"},\"hovermode\":\"closest\",\"paper_bgcolor\":\"white\",\"plot_bgcolor\":\"rgb(237,237,237)\",\"polar\":{\"angularaxis\":{\"gridcolor\":\"white\",\"linecolor\":\"white\",\"showgrid\":true,\"tickcolor\":\"rgb(51,51,51)\",\"ticks\":\"outside\"},\"bgcolor\":\"rgb(237,237,237)\",\"radialaxis\":{\"gridcolor\":\"white\",\"linecolor\":\"white\",\"showgrid\":true,\"tickcolor\":\"rgb(51,51,51)\",\"ticks\":\"outside\"}},\"scene\":{\"xaxis\":{\"backgroundcolor\":\"rgb(237,237,237)\",\"gridcolor\":\"white\",\"gridwidth\":2,\"linecolor\":\"white\",\"showbackground\":true,\"showgrid\":true,\"tickcolor\":\"rgb(51,51,51)\",\"ticks\":\"outside\",\"zerolinecolor\":\"white\"},\"yaxis\":{\"backgroundcolor\":\"rgb(237,237,237)\",\"gridcolor\":\"white\",\"gridwidth\":2,\"linecolor\":\"white\",\"showbackground\":true,\"showgrid\":true,\"tickcolor\":\"rgb(51,51,51)\",\"ticks\":\"outside\",\"zerolinecolor\":\"white\"},\"zaxis\":{\"backgroundcolor\":\"rgb(237,237,237)\",\"gridcolor\":\"white\",\"gridwidth\":2,\"linecolor\":\"white\",\"showbackground\":true,\"showgrid\":true,\"tickcolor\":\"rgb(51,51,51)\",\"ticks\":\"outside\",\"zerolinecolor\":\"white\"}},\"shapedefaults\":{\"fillcolor\":\"black\",\"line\":{\"width\":0},\"opacity\":0.3},\"ternary\":{\"aaxis\":{\"gridcolor\":\"white\",\"linecolor\":\"white\",\"showgrid\":true,\"tickcolor\":\"rgb(51,51,51)\",\"ticks\":\"outside\"},\"baxis\":{\"gridcolor\":\"white\",\"linecolor\":\"white\",\"showgrid\":true,\"tickcolor\":\"rgb(51,51,51)\",\"ticks\":\"outside\"},\"bgcolor\":\"rgb(237,237,237)\",\"caxis\":{\"gridcolor\":\"white\",\"linecolor\":\"white\",\"showgrid\":true,\"tickcolor\":\"rgb(51,51,51)\",\"ticks\":\"outside\"}},\"xaxis\":{\"automargin\":true,\"gridcolor\":\"white\",\"linecolor\":\"white\",\"showgrid\":true,\"tickcolor\":\"rgb(51,51,51)\",\"ticks\":\"outside\",\"title\":{\"standoff\":15},\"zerolinecolor\":\"white\"},\"yaxis\":{\"automargin\":true,\"gridcolor\":\"white\",\"linecolor\":\"white\",\"showgrid\":true,\"tickcolor\":\"rgb(51,51,51)\",\"ticks\":\"outside\",\"title\":{\"standoff\":15},\"zerolinecolor\":\"white\"}}},\"title\":{\"text\":\"Predicted vs. Actual Prices - Full Data\"},\"xaxis\":{\"title\":{\"text\":\"Prices\"}},\"yaxis\":{\"title\":{\"text\":\"Predicted prices\"}},\"autosize\":false,\"width\":700,\"height\":500},                        {\"responsive\": true}                    ).then(function(){\n",
              "                            \n",
              "var gd = document.getElementById('69183822-bffd-4528-82ce-6f626504d8a8');\n",
              "var x = new MutationObserver(function (mutations, observer) {{\n",
              "        var display = window.getComputedStyle(gd).display;\n",
              "        if (!display || display === 'none') {{\n",
              "            console.log([gd, 'removed!']);\n",
              "            Plotly.purge(gd);\n",
              "            observer.disconnect();\n",
              "        }}\n",
              "}});\n",
              "\n",
              "// Listen for the removal of the full notebook cells\n",
              "var notebookContainer = gd.closest('#notebook-container');\n",
              "if (notebookContainer) {{\n",
              "    x.observe(notebookContainer, {childList: true});\n",
              "}}\n",
              "\n",
              "// Listen for the clearing of the current output cell\n",
              "var outputEl = gd.closest('.output');\n",
              "if (outputEl) {{\n",
              "    x.observe(outputEl, {childList: true});\n",
              "}}\n",
              "\n",
              "                        })                };                            </script>        </div>\n",
              "</body>\n",
              "</html>"
            ]
          },
          "metadata": {}
        }
      ]
    },
    {
      "cell_type": "code",
      "source": [
        "#Put data plots\n",
        "fig = go.Figure()\n",
        "fig.add_trace(go.Scatter(x=y_test_p, \n",
        "                         y=y_pred_p,\n",
        "                         mode='markers'))\n",
        "fig.update_layout(title=\"Predicted vs. Actual Prices - Puts\",\n",
        "                  xaxis_title=\"Prices\",\n",
        "                  yaxis_title=\"Predicted prices\",\n",
        "                  template='ggplot2',\n",
        "                  autosize=False,\n",
        "                  width=700,\n",
        "                  height=500,)\n",
        "fig.show()"
      ],
      "metadata": {
        "colab": {
          "base_uri": "https://localhost:8080/",
          "height": 517
        },
        "id": "ygQY241MtTD-",
        "outputId": "bb783db6-9f85-4c9e-d187-0df8186d9fbc"
      },
      "execution_count": null,
      "outputs": [
        {
          "output_type": "display_data",
          "data": {
            "text/html": [
              "<html>\n",
              "<head><meta charset=\"utf-8\" /></head>\n",
              "<body>\n",
              "    <div>            <script src=\"https://cdnjs.cloudflare.com/ajax/libs/mathjax/2.7.5/MathJax.js?config=TeX-AMS-MML_SVG\"></script><script type=\"text/javascript\">if (window.MathJax && window.MathJax.Hub && window.MathJax.Hub.Config) {window.MathJax.Hub.Config({SVG: {font: \"STIX-Web\"}});}</script>                <script type=\"text/javascript\">window.PlotlyConfig = {MathJaxConfig: 'local'};</script>\n",
              "        <script src=\"https://cdn.plot.ly/plotly-2.18.2.min.js\"></script>                <div id=\"8eacbeb4-c392-40b9-823b-866a1df313ad\" class=\"plotly-graph-div\" style=\"height:500px; width:700px;\"></div>            <script type=\"text/javascript\">                                    window.PLOTLYENV=window.PLOTLYENV || {};                                    if (document.getElementById(\"8eacbeb4-c392-40b9-823b-866a1df313ad\")) {                    Plotly.newPlot(                        \"8eacbeb4-c392-40b9-823b-866a1df313ad\",                        [{\"mode\":\"markers\",\"x\":[15.36,0.05,79.53,4.5,5.8,12.28,0.2,110.6,132.7,61.27,4.2,59.8,1.25,193.6,139.1,0.45,35.6,7.49,43.42,49.59,14.48,22.5,0.4,40.8,40.5,361.29,230.48,356.09,20.76,31.61,103.34,1539.2,898.7,1.55,0.3,219.02,121.03,55.19,84.87,877.1,23.01,19.1,0.05,224.55,4649.25,7.6,2.25,1.05,6.7,0.05,159.31,24.7,0.85,859.9,43.4,186.04,68.6,15.17,211.5,14.7,59.93,1.25,57.05,1982.9,44.8,14.15,0.05,33.68,39.71,187.13,2.65,51.47,83.59,8.3,1.65,331.88,147.15,0.27,5.65,6.96,93.7,122.8,218.03,0.35,0.05,299.31,0.1,59.95,187.41,653.3,254.0,91.64,2.73,230.76,210.45,514.46,170.2,691.58,0.05,83.37,200.0,35.75,37.16,25.28,9.73,159.32,4.4,0.05,389.2,0.05,2.5,82.25,556.0,93.93,1080.5,17.0,55.36,0.45,150.34,49.38,33.49,43.21,20.93,1446.6,78.18,167.2,239.09,0.05,131.2,7.0,131.79,60.1,6.0,20.88,6.26,270.74,10.63,183.8,0.15,6.72,3.6,189.54,375.83,11.2,9.27,3.33,62.7,36.27,263.55,0.1,0.45,1.85,39.1,62.28,417.12,209.6,18.37,178.62,177.69,67.82,21.66,44.75,21.1,8.35,132.55,26.75,50.99,552.1,899.28,0.05,6.3,11.5,77.04,2125.64,0.05,0.05,14.3,2.15,234.63,15.83,83.7,6.2,930.49,1057.6,115.5,33.8,22.22,187.38,59.65,4524.97,65.42,178.6,6.1,135.03,10.19,45.34,1.7,60.92,38.5,26.04,54.68,2.92,11.41,52.24,6.4,120.0,196.69,37.7,196.1,97.37,27.7,54.22,187.9,808.43,8.05,130.65,175.9,54.9,11.46,0.2,1.11,216.92,1.3,64.03,22.78,0.25,11.65,102.3,2.24,0.8,7.4,31.91,311.85,4261.3,0.05,1.75,28.0,15.78,6.75,140.76,208.2,6.74,151.2,0.25,667.62,17.59,0.07,0.05,0.2,156.76,42.6,72.12,8.44,2.15,10.57,946.75,84.55,0.21,0.2,117.5,9.8,96.4,4.05,147.9,223.37,0.05,99.28,198.1,60.12,65.54,1419.3,0.7,1.8,98.03,117.16,197.6,342.9,183.18,110.86,0.05,179.67,2.01,17.6,11.47,1.55,2448.27,2.25,25.0,0.72,91.9,33.7,219.89,108.2,44.11,0.74,192.07,352.74,107.24,24.05,2.8,15.01,210.0,92.07,0.29,26.65,67.06,2.45,46.05,106.08,711.4,15.33,214.56,108.5,62.96,9.2,90.62,205.0,26.95,1.29,87.82,9.7,117.2,0.45,8.95,0.05,97.1,15.5,4.53,122.03,21.05,8.1,51.2,41.61,19.8,8.02,7.12,11.95,23.06,25.45,13.72,25.56,0.05,1133.23,10.0,0.2,2.35,0.32,0.15,385.32,726.89,2.25,29.48,4.88,11.1,897.76,0.6,210.49,111.0,0.53,0.42,27.92,0.37,29.49,66.1,78.84,192.02,0.05,18.1,16.16,2.15,25.99,142.1,0.05,28.04,3403.71,4.95,20.5,31.2,1.4,6.2,1018.41,50.5,1.4,898.2,180.7,39.76,161.2,0.35,106.19,27.52,10.1,266.0,105.68,37.27,93.8,96.2,7.81,5.7,30.05,28.98,3.42,3.6,91.39,2.75,295.1,85.98,22.58,674.36,34.03,0.15,167.76,14.5,12.9,2394.46,0.2,11.3,0.95,65.0,2.64,3862.26,34.3,92.47,60.05,347.48,0.27,104.48,83.13,23.34,330.0,3.98,0.16,262.26,277.23,0.05,2.75,101.67,22.36,98.0,0.05,3.13,8.6,0.15,39.2,23.9,494.08,37.48,31.8,23.5,95.24,6.5,650.9,6.43,4145.18,252.72,173.6,140.91,24.86,36.78,19.35,11.0,85.25,0.2,54.96,0.05,19.49,93.72,0.1,111.15,109.0,412.26,0.15,0.5,1.5,11.52,64.16,159.1,0.55,0.44,1.31,0.05,26.29,0.1,84.37,87.9,4.1,29.0,302.7,43.9,72.3,36.8,63.8,2238.97,34.9,50.05,13.0,30.55,0.1,118.2,0.65,274.1,4.07,22.2,35.1,0.2,114.88,3.45,8.01,153.1,7.05,11.45,128.0,63.1,36.93,15.21,29.93,259.48,7.12,114.15,79.0,0.45,6.8,43.6,212.66,44.3,30.6,22.2,533.07,11.67,42.3,1657.47,278.2,6.4,190.9,0.05,21.8,799.7,0.3,51.41,45.72,281.52,267.05,46.22,33.5,1115.71,0.17,87.1,0.27,47.32,55.85,0.15,18.68,50.98,35.67,24.53,79.1,650.29,122.65,17.22,8.7,1.8,2035.96,74.7,34.45,21.32,41.38,38.03,7.5,0.2,0.12,17.5,339.04,431.28,44.73,13.12,96.4,0.05,97.67,30.63,301.59,213.25,16.8,0.8,116.54,57.41,0.05,2.64,1394.85,1.2,533.48,72.7,64.32,186.73,252.39,58.28,41.56,0.35,37.13,23.35,161.46,221.5,12.25,16.66,5.0,46.05,0.45,135.5,122.25,5044.13,67.3,39.34,6.02,91.0,442.53,406.1,234.6,0.45,150.24,33.63,9.9,7.0,19.95,3.58,90.98,0.2,44.1,61.79,3.9,112.86,41.56,122.6,22.79,0.15,15.0,109.54,5.59,6.3,173.23,17.49,69.85,0.35,3.8,159.83,141.6,236.6,130.1,0.41,0.45,8.7,1.15,185.25,74.22,3.3,50.0,171.2,2.0,815.78,398.42,163.5,0.05,50.32,442.52,12.38,5.65,0.1,32.73,1.37,0.3,232.56,203.0,2.38,2807.8,5.5,23.22,0.35,236.73,3.6,0.15,22.4,43.02,0.25,2.15,0.4,40.32,6.8,32.5,29.7,85.88,5.45,111.5,133.73,3.7,35.61,104.5,32.2,30.47,23.8,2200.2,222.97,1.25,0.86,12.8,132.15,0.2,2.65,0.05,0.09,1003.8,43.6,212.7,85.01,42.55,98.21,72.1,61.4,29.5,10.75,86.5,2929.66,133.9,150.44,129.3,686.94,45.78,154.44,0.15,0.2,71.0,0.3,0.1,20.0,2957.7,9.2,404.49,39.3,270.23,145.32,42.6,14.22,18.8,0.55,0.67,61.12,338.75,26.8,151.75,27.47,70.03,0.17,271.79,0.45,326.24,202.9,96.17,56.3,5.93,429.84,465.47,119.2,29.98,8.4,34.1,52.3,864.82,5.95,39.96,73.07,13.0,877.01,18.3,64.4,16.7,0.28,246.04,77.7,0.1,297.55,61.4,678.6,440.0,3.4,100.3,59.8,26.7,30.9,0.05,49.69,402.52,5.7,30.95,0.65,0.68,49.68,41.4,1.2,19.41,233.6,75.94,33.78,102.91,49.57,19.95,62.95,0.6,1.65,46.23,58.82,42.78,7.0,139.03,0.1,52.3,221.8,101.17,88.1,0.65,64.23,0.25,51.46,59.0,1.35,184.97,271.2,0.25,48.95,0.05,6.03,0.05,0.05,81.4,51.2,2.64,83.57,5.7,12.75,47.5,434.17,5.26,66.19,855.6,103.1,0.05,15.3,428.7,78.29,363.1,23.73,94.19,272.03,1.62,602.19,10.2,108.15,1.1,0.45,75.7,37.5,1224.6,23.3,531.82,19.53,3.51,1.97,5.55,12.3,19.2,93.9,15.04,409.03,0.2,8.75,2.66,76.98,41.69,102.12,50.6,0.12,8.83,16.6,148.4,5.4,115.64,121.1,108.5,0.6,107.92,34.0,11.2,4.4,133.68,0.35,17.47,604.77,136.15,2.62,6.3,256.34,61.95,4.15,41.81,43.33,0.05,0.25,672.62,69.21,64.04,13.15,0.1,0.96,14.94,12.2,270.87,4.67,4.0,0.18,122.8,1.0,0.32,91.0,429.11,0.4,343.36,70.17,331.36,117.34,66.96,85.72,28.95,23.9,132.7,122.74,68.7,4011.03,100.81,189.8,6.53,36.64,111.41,122.74,114.51,3.9,64.7,1.55,0.12,31.9,3.2,0.15],\"y\":[15.428299999999979,0.04999999999999991,77.4914000000001,3.8050000000000055,6.1220999999999925,14.145499999999991,0.1878999999999997,117.63460000000003,124.77930000000008,60.02530000000008,3.5024000000000024,61.054299999999984,1.2476000000000003,217.82099999999983,143.1718000000001,0.4104000000000003,36.56659999999997,7.65040000000001,40.246700000000004,43.116400000000006,13.093600000000007,22.458300000000005,0.2321,41.768800000000034,41.617399999999996,364.8111000000001,220.69389999999984,359.3562000000001,20.093199999999978,33.15140000000006,100.48229999999994,1500.318499999999,1026.5613999999994,1.5437999999999994,0.3891999999999998,237.70510000000013,120.81110000000017,52.817699999999995,89.42199999999997,871.5494999999995,23.38839999999997,18.208999999999996,0.07510000000000003,213.5639000000001,4390.366200000001,7.819599999999989,1.9772000000000007,1.1676999999999995,4.319599999999999,0.05599999999999991,129.4998999999999,24.807399999999983,0.786099999999999,1053.1237999999996,42.55989999999998,178.21899999999997,70.35370000000005,17.290999999999997,223.38409999999982,16.855800000000016,55.5432,1.3409999999999982,57.03870000000006,1966.8677999999993,47.52619999999996,14.777399999999993,0.05119999999999991,33.87780000000002,40.4597,212.9709000000001,2.4067999999999996,51.050799999999946,83.94269999999993,8.489999999999991,1.6813000000000002,325.1448999999999,160.2707000000002,0.3074,5.836500000000002,6.608200000000003,91.84980000000003,123.05269999999999,237.6613999999998,0.3820999999999997,0.051999999999999914,283.15160000000003,0.10839999999999987,58.2387,186.37670000000028,626.9743000000004,252.24070000000015,101.12689999999999,2.948500000000001,230.31580000000002,186.4676999999999,522.3628000000001,183.08459999999988,709.5598999999999,0.052199999999999906,83.0266000000001,189.46289999999996,37.91310000000001,41.70289999999998,26.037900000000004,9.685200000000004,147.00590000000017,4.2709000000000055,0.33679999999999943,361.0163,0.04819999999999992,2.457299999999996,81.10639999999998,548.1698000000001,90.27750000000006,1120.4570000000008,17.9366,55.1507,0.5496000000000003,151.65579999999986,50.355500000000035,33.066900000000054,41.27189999999998,21.02820000000003,1389.6827999999994,78.66740000000009,153.52389999999986,233.20660000000004,0.050999999999999907,128.56510000000003,7.881400000000005,131.81580000000014,61.63820000000004,5.918699999999998,20.71050000000002,6.425299999999996,257.2697,12.264100000000003,181.2817000000001,0.14490000000000014,6.8311,3.765099999999994,186.09720000000027,413.6150999999996,11.114300000000004,9.72870000000001,3.1405000000000003,61.63260000000002,36.771399999999964,268.39910000000043,0.13770000000000007,5.451000000000006,1.890800000000002,40.1374,60.14970000000007,384.9664999999999,190.07269999999994,17.509699999999988,186.995,177.72050000000013,67.8047999999999,22.5721,39.54750000000002,18.8831,8.010499999999993,133.7307,27.732200000000006,51.2043,670.0974999999999,899.7088000000009,0.08709999999999991,6.4331999999999985,11.029099999999996,86.05779999999999,2147.4146,0.0886,0.07679999999999994,14.836699999999993,2.8190999999999997,243.6336000000002,15.114600000000006,86.41560000000007,6.606900000000005,1036.5823999999984,1008.2342999999997,120.48819999999998,32.6126,22.79209999999997,189.2279999999997,59.476499999999895,4400.159399999999,59.26889999999997,166.42980000000017,6.275499999999998,130.51720000000014,10.194199999999984,45.91799999999995,1.813999999999997,63.63229999999998,37.38419999999994,26.413200000000007,54.85139999999991,2.748999999999999,11.915,51.90429999999999,6.832199999999993,120.05440000000004,223.78630000000015,36.30359999999999,197.98380000000026,102.20069999999994,27.716399999999975,54.7538,192.06229999999994,797.9457000000003,8.035699999999997,135.0788999999999,178.9450999999999,52.929299999999955,12.158000000000005,0.14400000000000013,0.9897999999999993,223.68310000000028,1.4780000000000015,80.05510000000005,22.944800000000022,0.30450000000000044,11.8376,100.98339999999995,2.310799999999999,0.7929999999999998,6.905300000000002,33.329400000000064,285.84490000000005,4338.107799999995,0.0504999999999999,1.837899999999999,28.957599999999974,16.110500000000005,6.035799999999999,131.8867000000002,212.68309999999994,6.110700000000003,160.22029999999984,0.2384999999999999,674.0292999999994,17.24889999999999,0.1340000000000001,0.29560000000000053,0.1611000000000001,156.5829000000002,43.09579999999998,74.28340000000007,9.062499999999986,2.4174000000000024,10.791099999999993,904.9022000000003,83.04389999999995,0.3259,0.25899999999999995,114.72530000000005,10.002000000000008,88.1998,3.4712,159.9540000000002,230.07780000000002,0.049999999999999906,92.37339999999995,205.73859999999993,58.78699999999998,68.89590000000007,1046.0759999999987,0.6938999999999996,1.8935000000000002,82.99820000000008,115.12979999999997,181.06939999999997,304.11250000000024,198.4093000000001,110.88769999999997,0.0507999999999999,187.1662,2.3408999999999995,19.17779999999998,11.1142,1.786300000000001,2407.362299999999,2.3794999999999966,28.000900000000005,0.6705000000000004,86.00319999999996,28.5629,211.3766,107.0103999999999,46.9711,0.7849999999999996,207.1107999999997,345.08610000000016,104.95510000000006,25.05319999999999,2.7535000000000007,20.225399999999997,206.3942,92.93439999999993,0.32519999999999977,27.251799999999974,69.08339999999997,2.4706000000000023,46.7813,144.22940000000008,710.3915000000001,16.93690000000001,223.0844999999998,102.37799999999991,63.25720000000004,9.27400000000001,87.62840000000007,199.47589999999997,27.833799999999982,1.3930000000000013,93.76909999999997,10.195400000000005,126.55689999999998,0.49630000000000046,9.035599999999992,0.0634999999999999,97.52730000000012,15.854200000000024,4.412099999999995,126.17260000000009,21.5513,9.103099999999989,50.723300000000016,39.91750000000002,19.22470000000001,5.8928999999999965,6.796799999999999,11.448300000000009,22.862799999999964,24.288799999999977,12.535500000000006,23.32580000000002,0.04999999999999991,1282.0058999999997,10.028200000000004,0.20049999999999962,2.9220000000000006,0.2930999999999996,0.15050000000000022,383.6554,964.3354000000004,2.6190999999999973,28.105399999999978,4.864100000000006,11.19600000000001,856.6275000000013,0.5363999999999998,213.3603999999999,116.71529999999996,0.6152000000000007,0.4169000000000001,28.41649999999996,0.3773999999999998,27.716800000000013,68.02859999999997,74.08630000000005,185.6112,0.5716999999999994,18.09780000000001,15.271900000000008,2.7892,25.805800000000023,140.02339999999992,0.04999999999999991,28.789000000000016,3238.4774999999963,5.859599999999997,20.31720000000001,30.57319999999998,1.4076999999999995,6.787999999999998,1096.6690999999992,50.32260000000009,1.7997000000000007,794.0249000000007,177.70739999999995,38.24150000000002,176.38449999999986,0.4647000000000002,104.5898,29.204100000000004,10.211099999999995,259.18600000000004,113.85950000000001,37.47510000000002,90.61759999999997,97.04060000000003,8.492500000000001,5.358799999999998,30.058799999999977,28.54470000000003,3.044500000000001,3.7211999999999996,92.52289999999995,2.7981000000000007,295.22329999999977,88.15840000000009,23.0486,682.7236000000006,35.505900000000004,0.14800000000000016,168.0972999999998,14.619299999999988,13.267999999999995,2333.032600000002,0.18739999999999973,11.59249999999999,1.0729999999999986,68.02159999999998,2.8343000000000003,3335.9101000000037,35.44430000000003,92.73470000000002,60.558699999999945,352.32489999999984,0.2501,102.21949999999998,79.91009999999999,23.018300000000018,339.1120999999998,3.891499999999998,0.19319999999999976,258.48570000000024,270.83140000000003,0.05149999999999991,2.8709999999999996,104.55500000000005,21.918700000000005,100.82619999999999,0.0694999999999999,2.6969999999999987,7.116800000000005,0.1494000000000002,37.52979999999998,23.461299999999973,457.08749999999964,36.13109999999997,30.874799999999983,23.32840000000001,94.68530000000004,5.645899999999998,680.3787000000004,6.753299999999996,4316.179799999998,229.8215,163.45630000000014,137.72820000000007,25.06740000000001,37.72089999999997,17.801999999999996,11.397900000000009,78.33790000000005,0.13519999999999993,53.996400000000015,0.05079999999999992,19.143300000000014,90.42360000000001,0.10050000000000008,123.93050000000005,102.4878,400.8958000000003,0.1047999999999999,0.49399999999999983,1.2001999999999984,11.180100000000005,67.18900000000005,169.09030000000013,0.5183000000000008,0.3605,1.2572000000000012,0.08749999999999991,26.80639999999999,0.14280000000000004,86.47079999999998,90.0382,4.0824000000000025,28.596300000000024,311.75349999999975,44.455800000000046,65.5554999999999,38.07190000000001,63.537400000000055,2592.091399999999,36.11190000000002,47.184799999999996,13.062399999999995,29.88599999999999,0.0524999999999999,117.94099999999997,0.6775000000000001,283.2501999999998,4.011900000000001,20.313900000000018,34.397699999999965,0.18409999999999982,112.73779999999995,3.3199000000000023,7.7351,150.97009999999992,7.307100000000002,10.480500000000008,155.91599999999988,72.53629999999994,37.477200000000025,15.943,31.65600000000001,259.86440000000016,8.144900000000002,110.40180000000005,79.95769999999997,0.49960000000000043,8.09289999999999,47.17839999999999,211.37249999999992,45.709999999999965,32.084699999999955,21.919399999999982,543.4815999999998,11.669599999999996,38.43019999999994,1930.9396999999992,273.55829999999963,6.9795000000000105,176.54769999999996,0.05229999999999992,19.76809999999998,758.2379000000004,0.27630000000000043,57.66859999999997,47.17070000000004,272.9437000000004,238.1909999999998,43.237700000000025,30.852399999999978,1118.0092999999997,0.1894999999999998,82.20420000000004,0.3097999999999999,45.70500000000001,53.4418,0.10949999999999989,19.199599999999997,51.90919999999995,37.07290000000001,24.84779999999999,84.46160000000005,583.98,124.26089999999996,18.28879999999998,5.590100000000003,1.9015000000000004,2027.950300000002,85.74929999999995,32.71389999999999,22.225899999999978,40.94660000000001,38.255700000000026,7.4402,0.2041999999999998,0.11239999999999982,17.911999999999964,336.2623,520.7403000000004,44.27989999999996,13.159000000000013,100.58949999999997,0.051999999999999914,98.51550000000006,30.595100000000038,282.4108000000001,209.4702,17.313499999999987,0.7966000000000006,113.18230000000007,56.38270000000007,0.049999999999999906,2.7299999999999973,1386.9288999999992,1.1959999999999988,545.3368999999997,72.89330000000012,64.12569999999992,183.66870000000006,252.3757000000001,51.655199999999994,39.56349999999998,0.3393999999999997,41.05829999999999,22.076200000000025,159.80840000000006,209.02420000000006,12.241900000000003,19.332400000000003,3.7012999999999967,45.16569999999999,0.4954000000000006,132.30460000000002,125.74100000000003,4346.9618,65.99800000000005,39.44569999999998,5.2932,87.2314,429.0934000000001,351.2587999999996,232.19229999999985,0.49300000000000016,144.2503000000001,35.14209999999996,10.041600000000003,7.244699999999994,19.500500000000027,3.6865000000000006,89.16269999999999,0.1916,46.22960000000002,59.24089999999992,3.783100000000001,117.08469999999997,41.75069999999999,124.25859999999992,22.698899999999984,0.12229999999999991,14.581999999999987,109.67309999999986,5.2090999999999985,5.042599999999997,180.10800000000006,16.357399999999988,73.7167999999999,0.22099999999999975,3.371400000000001,143.96240000000006,144.90320000000014,228.0137999999999,127.0909000000001,0.5390999999999994,0.3818999999999997,9.07729999999999,1.1040999999999992,179.3422000000002,76.45330000000008,3.498400000000002,53.68670000000004,170.36349999999987,2.034799999999999,817.7748000000004,408.6484999999997,158.41410000000005,0.050199999999999904,50.36190000000004,414.88650000000024,11.219499999999993,5.739199999999996,0.04999999999999991,32.05370000000002,1.3500999999999985,0.29700000000000015,229.04939999999996,210.54780000000014,3.7636999999999987,2811.6576999999984,5.463900000000002,24.297200000000018,0.4155999999999997,260.7282,3.6477999999999993,0.2238,22.083000000000023,40.54369999999999,0.27809999999999974,2.2322000000000033,0.3679999999999998,39.499700000000026,6.665800000000007,29.768300000000018,29.814799999999963,86.34509999999989,5.196699999999998,114.98279999999991,121.60190000000013,3.9785000000000013,34.78649999999996,112.29239999999986,34.52379999999995,31.443500000000018,24.361799999999985,2067.836999999999,224.99919999999997,0.755400000000001,0.839999999999999,12.779999999999987,129.33249999999998,0.25819999999999976,2.1708000000000003,0.07639999999999994,0.13760000000000006,1036.0805999999998,41.760000000000026,216.24239999999983,83.50169999999991,43.329700000000024,107.1696,71.65010000000011,59.17060000000005,29.458600000000057,11.213100000000004,83.44449999999993,2827.642399999999,135.02880000000013,159.05279999999982,135.3287000000001,682.8838999999998,45.6162,187.5278,0.15600000000000017,0.21779999999999983,70.38240000000008,0.30769999999999953,0.08879999999999999,18.473200000000013,3106.291699999999,9.386499999999998,411.5623000000001,37.32880000000001,270.16960000000006,142.05980000000014,41.589800000000004,14.308100000000014,20.968799999999966,0.5068999999999995,0.6449000000000001,58.930900000000065,332.11250000000024,25.339499999999976,136.19320000000005,25.626799999999985,82.06439999999992,0.1432000000000001,265.2609000000003,0.18269999999999997,314.69640000000055,211.07460000000003,93.58549999999995,54.73889999999999,5.738599999999996,435.5002000000001,486.2311000000006,121.92939999999992,28.29560000000002,8.337299999999997,33.491799999999955,51.889600000000016,1057.2752999999984,6.397700000000001,35.9494,73.36149999999999,12.694799999999995,826.9209000000003,19.276499999999984,62.07299999999994,17.090599999999988,0.4837999999999997,239.20950000000016,77.51890000000012,0.14390000000000017,318.24150000000014,67.93610000000005,760.1893000000008,472.82399999999944,3.2593000000000005,95.10880000000002,63.46270000000001,27.202699999999997,30.971199999999982,0.09760000000000008,51.776400000000024,402.99929999999955,5.899099999999996,30.135199999999976,0.6120999999999999,0.5009999999999997,52.94960000000004,40.94959999999996,1.6558000000000022,18.75100000000001,239.19010000000014,74.84339999999999,33.50290000000001,101.73349999999999,49.71220000000001,18.479499999999994,63.179200000000016,0.5597999999999996,1.8284999999999985,48.79550000000003,57.098599999999976,44.5208,7.648299999999998,131.58190000000005,0.0654999999999999,51.03570000000007,224.4217000000001,99.95300000000009,89.53289999999998,0.7912000000000006,63.29039999999992,0.15790000000000018,53.55229999999996,53.456100000000035,1.6638000000000022,194.1426999999999,262.54839999999973,0.24599999999999997,47.74530000000002,0.05229999999999992,4.777599999999998,0.06169999999999991,0.049999999999999906,88.51499999999994,41.83160000000004,2.5740999999999974,79.97140000000002,6.196799999999997,12.274999999999995,47.111799999999945,444.7931999999996,5.471499999999997,65.3194000000001,1067.9063999999987,104.17169999999996,0.0518999999999999,15.844400000000006,471.1563999999993,78.9837,361.6944999999999,22.908599999999982,88.2756999999999,241.39039999999974,1.735300000000001,639.9713000000008,10.569400000000012,91.3961,1.6536999999999986,0.5049999999999996,74.1180000000001,44.006300000000046,1213.970899999998,23.780800000000003,549.5787999999994,23.014499999999988,3.5114,2.2836000000000016,4.973799999999999,12.855099999999984,19.432700000000015,93.47940000000011,13.988300000000002,372.4557999999997,0.2567999999999998,8.64980000000001,3.2252000000000005,76.93100000000005,40.2693,97.34440000000006,52.148599999999995,0.13459999999999986,8.285199999999996,17.13809999999999,147.81149999999997,5.6179,98.03829999999999,115.33119999999991,109.08790000000003,0.5514999999999999,95.14260000000007,38.594599999999986,11.120300000000002,4.3435,104.66249999999991,0.2583000000000001,18.689499999999992,541.7663999999997,134.62340000000003,2.5868999999999986,5.932599999999995,254.01659999999995,61.81349999999997,4.345999999999993,42.44849999999996,44.02110000000004,0.04999999999999991,0.21050000000000021,677.5958000000008,69.80660000000002,66.18369999999996,13.460500000000007,0.12009999999999993,0.9864999999999986,15.05439999999998,12.884099999999997,263.09469999999976,4.6394000000000055,4.290599999999997,0.1971999999999997,142.37720000000002,0.8890000000000008,0.3983999999999994,87.79370000000003,473.5146999999994,0.4136999999999997,338.6356999999999,70.34959999999992,325.93270000000024,119.53779999999999,67.01349999999991,86.41550000000001,28.241,22.937400000000004,150.33520000000004,147.34880000000004,65.56699999999998,3915.032600000003,101.33709999999995,195.8045999999999,6.354699999999995,36.840400000000045,113.1804,124.24820000000004,114.67409999999992,3.6428000000000016,62.6084,1.6119000000000008,0.12600000000000006,31.53749999999998,3.176199999999996,0.13079999999999994],\"type\":\"scatter\"}],                        {\"template\":{\"data\":{\"barpolar\":[{\"marker\":{\"line\":{\"color\":\"rgb(237,237,237)\",\"width\":0.5},\"pattern\":{\"fillmode\":\"overlay\",\"size\":10,\"solidity\":0.2}},\"type\":\"barpolar\"}],\"bar\":[{\"error_x\":{\"color\":\"rgb(51,51,51)\"},\"error_y\":{\"color\":\"rgb(51,51,51)\"},\"marker\":{\"line\":{\"color\":\"rgb(237,237,237)\",\"width\":0.5},\"pattern\":{\"fillmode\":\"overlay\",\"size\":10,\"solidity\":0.2}},\"type\":\"bar\"}],\"carpet\":[{\"aaxis\":{\"endlinecolor\":\"rgb(51,51,51)\",\"gridcolor\":\"white\",\"linecolor\":\"white\",\"minorgridcolor\":\"white\",\"startlinecolor\":\"rgb(51,51,51)\"},\"baxis\":{\"endlinecolor\":\"rgb(51,51,51)\",\"gridcolor\":\"white\",\"linecolor\":\"white\",\"minorgridcolor\":\"white\",\"startlinecolor\":\"rgb(51,51,51)\"},\"type\":\"carpet\"}],\"choropleth\":[{\"colorbar\":{\"outlinewidth\":0,\"tickcolor\":\"rgb(237,237,237)\",\"ticklen\":6,\"ticks\":\"inside\"},\"type\":\"choropleth\"}],\"contourcarpet\":[{\"colorbar\":{\"outlinewidth\":0,\"tickcolor\":\"rgb(237,237,237)\",\"ticklen\":6,\"ticks\":\"inside\"},\"type\":\"contourcarpet\"}],\"contour\":[{\"colorbar\":{\"outlinewidth\":0,\"tickcolor\":\"rgb(237,237,237)\",\"ticklen\":6,\"ticks\":\"inside\"},\"colorscale\":[[0,\"rgb(20,44,66)\"],[1,\"rgb(90,179,244)\"]],\"type\":\"contour\"}],\"heatmapgl\":[{\"colorbar\":{\"outlinewidth\":0,\"tickcolor\":\"rgb(237,237,237)\",\"ticklen\":6,\"ticks\":\"inside\"},\"colorscale\":[[0,\"rgb(20,44,66)\"],[1,\"rgb(90,179,244)\"]],\"type\":\"heatmapgl\"}],\"heatmap\":[{\"colorbar\":{\"outlinewidth\":0,\"tickcolor\":\"rgb(237,237,237)\",\"ticklen\":6,\"ticks\":\"inside\"},\"colorscale\":[[0,\"rgb(20,44,66)\"],[1,\"rgb(90,179,244)\"]],\"type\":\"heatmap\"}],\"histogram2dcontour\":[{\"colorbar\":{\"outlinewidth\":0,\"tickcolor\":\"rgb(237,237,237)\",\"ticklen\":6,\"ticks\":\"inside\"},\"colorscale\":[[0,\"rgb(20,44,66)\"],[1,\"rgb(90,179,244)\"]],\"type\":\"histogram2dcontour\"}],\"histogram2d\":[{\"colorbar\":{\"outlinewidth\":0,\"tickcolor\":\"rgb(237,237,237)\",\"ticklen\":6,\"ticks\":\"inside\"},\"colorscale\":[[0,\"rgb(20,44,66)\"],[1,\"rgb(90,179,244)\"]],\"type\":\"histogram2d\"}],\"histogram\":[{\"marker\":{\"pattern\":{\"fillmode\":\"overlay\",\"size\":10,\"solidity\":0.2}},\"type\":\"histogram\"}],\"mesh3d\":[{\"colorbar\":{\"outlinewidth\":0,\"tickcolor\":\"rgb(237,237,237)\",\"ticklen\":6,\"ticks\":\"inside\"},\"type\":\"mesh3d\"}],\"parcoords\":[{\"line\":{\"colorbar\":{\"outlinewidth\":0,\"tickcolor\":\"rgb(237,237,237)\",\"ticklen\":6,\"ticks\":\"inside\"}},\"type\":\"parcoords\"}],\"pie\":[{\"automargin\":true,\"type\":\"pie\"}],\"scatter3d\":[{\"line\":{\"colorbar\":{\"outlinewidth\":0,\"tickcolor\":\"rgb(237,237,237)\",\"ticklen\":6,\"ticks\":\"inside\"}},\"marker\":{\"colorbar\":{\"outlinewidth\":0,\"tickcolor\":\"rgb(237,237,237)\",\"ticklen\":6,\"ticks\":\"inside\"}},\"type\":\"scatter3d\"}],\"scattercarpet\":[{\"marker\":{\"colorbar\":{\"outlinewidth\":0,\"tickcolor\":\"rgb(237,237,237)\",\"ticklen\":6,\"ticks\":\"inside\"}},\"type\":\"scattercarpet\"}],\"scattergeo\":[{\"marker\":{\"colorbar\":{\"outlinewidth\":0,\"tickcolor\":\"rgb(237,237,237)\",\"ticklen\":6,\"ticks\":\"inside\"}},\"type\":\"scattergeo\"}],\"scattergl\":[{\"marker\":{\"colorbar\":{\"outlinewidth\":0,\"tickcolor\":\"rgb(237,237,237)\",\"ticklen\":6,\"ticks\":\"inside\"}},\"type\":\"scattergl\"}],\"scattermapbox\":[{\"marker\":{\"colorbar\":{\"outlinewidth\":0,\"tickcolor\":\"rgb(237,237,237)\",\"ticklen\":6,\"ticks\":\"inside\"}},\"type\":\"scattermapbox\"}],\"scatterpolargl\":[{\"marker\":{\"colorbar\":{\"outlinewidth\":0,\"tickcolor\":\"rgb(237,237,237)\",\"ticklen\":6,\"ticks\":\"inside\"}},\"type\":\"scatterpolargl\"}],\"scatterpolar\":[{\"marker\":{\"colorbar\":{\"outlinewidth\":0,\"tickcolor\":\"rgb(237,237,237)\",\"ticklen\":6,\"ticks\":\"inside\"}},\"type\":\"scatterpolar\"}],\"scatter\":[{\"fillpattern\":{\"fillmode\":\"overlay\",\"size\":10,\"solidity\":0.2},\"type\":\"scatter\"}],\"scatterternary\":[{\"marker\":{\"colorbar\":{\"outlinewidth\":0,\"tickcolor\":\"rgb(237,237,237)\",\"ticklen\":6,\"ticks\":\"inside\"}},\"type\":\"scatterternary\"}],\"surface\":[{\"colorbar\":{\"outlinewidth\":0,\"tickcolor\":\"rgb(237,237,237)\",\"ticklen\":6,\"ticks\":\"inside\"},\"colorscale\":[[0,\"rgb(20,44,66)\"],[1,\"rgb(90,179,244)\"]],\"type\":\"surface\"}],\"table\":[{\"cells\":{\"fill\":{\"color\":\"rgb(237,237,237)\"},\"line\":{\"color\":\"white\"}},\"header\":{\"fill\":{\"color\":\"rgb(217,217,217)\"},\"line\":{\"color\":\"white\"}},\"type\":\"table\"}]},\"layout\":{\"annotationdefaults\":{\"arrowhead\":0,\"arrowwidth\":1},\"autotypenumbers\":\"strict\",\"coloraxis\":{\"colorbar\":{\"outlinewidth\":0,\"tickcolor\":\"rgb(237,237,237)\",\"ticklen\":6,\"ticks\":\"inside\"}},\"colorscale\":{\"sequential\":[[0,\"rgb(20,44,66)\"],[1,\"rgb(90,179,244)\"]],\"sequentialminus\":[[0,\"rgb(20,44,66)\"],[1,\"rgb(90,179,244)\"]]},\"colorway\":[\"#F8766D\",\"#A3A500\",\"#00BF7D\",\"#00B0F6\",\"#E76BF3\"],\"font\":{\"color\":\"rgb(51,51,51)\"},\"geo\":{\"bgcolor\":\"white\",\"lakecolor\":\"white\",\"landcolor\":\"rgb(237,237,237)\",\"showlakes\":true,\"showland\":true,\"subunitcolor\":\"white\"},\"hoverlabel\":{\"align\":\"left\"},\"hovermode\":\"closest\",\"paper_bgcolor\":\"white\",\"plot_bgcolor\":\"rgb(237,237,237)\",\"polar\":{\"angularaxis\":{\"gridcolor\":\"white\",\"linecolor\":\"white\",\"showgrid\":true,\"tickcolor\":\"rgb(51,51,51)\",\"ticks\":\"outside\"},\"bgcolor\":\"rgb(237,237,237)\",\"radialaxis\":{\"gridcolor\":\"white\",\"linecolor\":\"white\",\"showgrid\":true,\"tickcolor\":\"rgb(51,51,51)\",\"ticks\":\"outside\"}},\"scene\":{\"xaxis\":{\"backgroundcolor\":\"rgb(237,237,237)\",\"gridcolor\":\"white\",\"gridwidth\":2,\"linecolor\":\"white\",\"showbackground\":true,\"showgrid\":true,\"tickcolor\":\"rgb(51,51,51)\",\"ticks\":\"outside\",\"zerolinecolor\":\"white\"},\"yaxis\":{\"backgroundcolor\":\"rgb(237,237,237)\",\"gridcolor\":\"white\",\"gridwidth\":2,\"linecolor\":\"white\",\"showbackground\":true,\"showgrid\":true,\"tickcolor\":\"rgb(51,51,51)\",\"ticks\":\"outside\",\"zerolinecolor\":\"white\"},\"zaxis\":{\"backgroundcolor\":\"rgb(237,237,237)\",\"gridcolor\":\"white\",\"gridwidth\":2,\"linecolor\":\"white\",\"showbackground\":true,\"showgrid\":true,\"tickcolor\":\"rgb(51,51,51)\",\"ticks\":\"outside\",\"zerolinecolor\":\"white\"}},\"shapedefaults\":{\"fillcolor\":\"black\",\"line\":{\"width\":0},\"opacity\":0.3},\"ternary\":{\"aaxis\":{\"gridcolor\":\"white\",\"linecolor\":\"white\",\"showgrid\":true,\"tickcolor\":\"rgb(51,51,51)\",\"ticks\":\"outside\"},\"baxis\":{\"gridcolor\":\"white\",\"linecolor\":\"white\",\"showgrid\":true,\"tickcolor\":\"rgb(51,51,51)\",\"ticks\":\"outside\"},\"bgcolor\":\"rgb(237,237,237)\",\"caxis\":{\"gridcolor\":\"white\",\"linecolor\":\"white\",\"showgrid\":true,\"tickcolor\":\"rgb(51,51,51)\",\"ticks\":\"outside\"}},\"xaxis\":{\"automargin\":true,\"gridcolor\":\"white\",\"linecolor\":\"white\",\"showgrid\":true,\"tickcolor\":\"rgb(51,51,51)\",\"ticks\":\"outside\",\"title\":{\"standoff\":15},\"zerolinecolor\":\"white\"},\"yaxis\":{\"automargin\":true,\"gridcolor\":\"white\",\"linecolor\":\"white\",\"showgrid\":true,\"tickcolor\":\"rgb(51,51,51)\",\"ticks\":\"outside\",\"title\":{\"standoff\":15},\"zerolinecolor\":\"white\"}}},\"title\":{\"text\":\"Predicted vs. Actual Prices - Puts\"},\"xaxis\":{\"title\":{\"text\":\"Prices\"}},\"yaxis\":{\"title\":{\"text\":\"Predicted prices\"}},\"autosize\":false,\"width\":700,\"height\":500},                        {\"responsive\": true}                    ).then(function(){\n",
              "                            \n",
              "var gd = document.getElementById('8eacbeb4-c392-40b9-823b-866a1df313ad');\n",
              "var x = new MutationObserver(function (mutations, observer) {{\n",
              "        var display = window.getComputedStyle(gd).display;\n",
              "        if (!display || display === 'none') {{\n",
              "            console.log([gd, 'removed!']);\n",
              "            Plotly.purge(gd);\n",
              "            observer.disconnect();\n",
              "        }}\n",
              "}});\n",
              "\n",
              "// Listen for the removal of the full notebook cells\n",
              "var notebookContainer = gd.closest('#notebook-container');\n",
              "if (notebookContainer) {{\n",
              "    x.observe(notebookContainer, {childList: true});\n",
              "}}\n",
              "\n",
              "// Listen for the clearing of the current output cell\n",
              "var outputEl = gd.closest('.output');\n",
              "if (outputEl) {{\n",
              "    x.observe(outputEl, {childList: true});\n",
              "}}\n",
              "\n",
              "                        })                };                            </script>        </div>\n",
              "</body>\n",
              "</html>"
            ]
          },
          "metadata": {}
        }
      ]
    },
    {
      "cell_type": "code",
      "source": [
        "#Call data plots\n",
        "fig = go.Figure()\n",
        "fig.add_trace(go.Scatter(x=y_test_c, \n",
        "                         y=y_pred_c,\n",
        "                         mode='markers'))\n",
        "fig.update_layout(title=\"Predicted vs. Actual Prices - Calls\",\n",
        "                  xaxis_title=\"Prices\",\n",
        "                  yaxis_title=\"Predicted prices\",\n",
        "                  template='ggplot2',\n",
        "                  autosize=False,\n",
        "                  width=700,\n",
        "                  height=500,)\n",
        "fig.show()"
      ],
      "metadata": {
        "colab": {
          "base_uri": "https://localhost:8080/",
          "height": 517
        },
        "id": "uHD3qGuNtT7a",
        "outputId": "76b3c110-2991-4bc2-836d-a905bcd0baa9"
      },
      "execution_count": null,
      "outputs": [
        {
          "output_type": "display_data",
          "data": {
            "text/html": [
              "<html>\n",
              "<head><meta charset=\"utf-8\" /></head>\n",
              "<body>\n",
              "    <div>            <script src=\"https://cdnjs.cloudflare.com/ajax/libs/mathjax/2.7.5/MathJax.js?config=TeX-AMS-MML_SVG\"></script><script type=\"text/javascript\">if (window.MathJax && window.MathJax.Hub && window.MathJax.Hub.Config) {window.MathJax.Hub.Config({SVG: {font: \"STIX-Web\"}});}</script>                <script type=\"text/javascript\">window.PlotlyConfig = {MathJaxConfig: 'local'};</script>\n",
              "        <script src=\"https://cdn.plot.ly/plotly-2.18.2.min.js\"></script>                <div id=\"7551c7be-c13e-4ad4-81f1-9cae77e51e50\" class=\"plotly-graph-div\" style=\"height:500px; width:700px;\"></div>            <script type=\"text/javascript\">                                    window.PLOTLYENV=window.PLOTLYENV || {};                                    if (document.getElementById(\"7551c7be-c13e-4ad4-81f1-9cae77e51e50\")) {                    Plotly.newPlot(                        \"7551c7be-c13e-4ad4-81f1-9cae77e51e50\",                        [{\"mode\":\"markers\",\"x\":[0.5,1002.27,4.9,263.26,89.81,860.0,0.05,99.71,195.37,772.23,410.6,427.56,88.1,1586.4,140.37,510.5,307.51,158.94,518.45,0.05,27.0,284.11,111.1,1054.05,21.87,0.15,0.35,111.66,92.17,114.77,63.7,294.55,14.19,0.15,111.41,11.42,275.86,423.89,35.8,456.87,5.2,0.92,5.05,67.02,518.24,1.32,0.1,108.58,0.05,871.31,1268.71,96.1,174.39,133.55,1.82,102.1,0.05,16.2,60.74,602.68,1.07,476.54,432.76,132.2,133.97,17.6,0.55,284.52,1.0,2.16,0.05,119.4,682.98,478.07,1156.3,1208.39,0.3,175.03,2606.92,1790.28,38.7,1038.62,424.67,762.21,546.59,533.73,3.43,38.2,182.88,149.85,86.17,1018.49,55.55,1883.14,126.87,405.81,1107.87,504.34,594.19,39.3,54.74,838.86,307.15,1171.59,2455.57,253.65,574.8,0.25,224.95,459.86,267.83,329.67,5.3,1087.61,409.84,4.98,183.8,173.7,11.29,170.02,15.48,55.23,23.0,0.91,1118.16,79.22,173.7,528.16,37.65,186.65,6.54,0.05,518.9,227.08,264.1,683.25,290.4,587.08,0.05,1.45,0.05,0.2,0.05,1432.41,10.15,1.99,0.05,279.0,477.35,40.6,27.3,465.64,4.4,381.9,2.55,27.2,216.23,935.57,130.11,1.7,433.59,331.2,1248.35,732.71,0.55,5.34,22.3,9.2,873.29,49.15,2180.59,721.73,99.16,425.24,57.41,2.45,492.2,0.17,0.05,162.9,0.1,3641.3,254.08,0.1,0.25,0.07,0.2,338.03,6.4,31.3,123.17,311.88,349.54,221.16,1185.36,0.7,136.2,152.3,3117.33,230.34,7.4,179.34,32.4,0.05,45.48,431.92,195.96,0.05,140.34,57.67,0.1,9.28,10.52,17.2,16.82,136.82,252.36,10.63,208.16,85.6,1225.97,341.38,0.1,3503.93,977.89,47.2,0.29,0.05,434.21,96.2,737.41,0.9,68.67,252.4,0.05,0.79,1165.0,0.77,5.3,329.85,3115.23,485.41,6.55,666.47,86.75,315.9,13.42,0.35,4.2,17.53,8.1,652.17,2.59,53.3,393.74,0.95,2.0,373.49,277.17,152.84,115.22,218.74,69.44,573.03,5.4,662.41,50.7,442.3,2.6,692.4,620.0,3.42,1840.0,4.15,0.12,9.64,390.83,11.33,104.1,12.84,0.52,0.05,184.66,0.7,138.7,59.47,708.72,69.2,264.38,363.41,212.02,769.64,165.3,150.46,814.44,539.54,279.1,1575.01,729.95,2931.68,64.5,36.8,0.6,25.49,589.12,0.1,1904.55,62.86,3879.5,411.37,73.24,92.6,50.7,1040.72,574.0,417.36,487.2,7.18,195.37,110.93,187.37,479.87,246.6,0.05,0.45,1093.94,499.3,932.6,206.42,490.91,242.8,419.96,1198.94,33.14,304.6,220.96,5.97,3.28,1.95,0.05,5.88,0.05,90.05,242.31,46.73,121.7,0.18,465.47,11.1,90.15,323.54,3584.4,91.47,618.71,121.5,640.48,175.94,7.3,14.5,229.2,42.14,14.3,662.74,9.45,298.5,0.15,2900.49,824.36,336.82,156.41,1.6,825.84,1441.31,2917.67,0.9,123.51,226.97,1191.05,1482.34,2165.47,1651.5,100.56,1040.81,18.7,11.43,27.8,5.3,43.55,107.8,263.38,20.2,1442.24,199.13,331.31,596.4,333.52,576.4,206.97,0.08,115.0,228.15,474.59,3312.38,62.08,166.6,627.78,133.44,7.5,3865.0,184.2,506.21,3503.48,998.73,192.67,0.2,176.46,124.2,2456.58,298.51,286.05,10.8,0.25,73.17,805.2,0.2,40.0,2277.2,130.39,58.4,139.97,203.36,231.48,156.2,0.05,178.76,0.4,167.08,252.11,415.72,46.2,182.71,0.25,171.2,182.2,4.1,10.9,607.17,28.97,378.72,89.67,0.8,31.1,1.29,0.05,6.7,6.48,84.4,23.2,0.3,69.37,0.14,648.3,253.92,87.84,756.32,340.68,1335.86,152.9,781.8,338.7,182.15,3308.08,106.96,31.8,2.35,48.26,345.82,65.9,511.74,225.81,386.75,1752.8,96.25,319.83,45.45,0.6,610.78,893.23,456.89,101.2,386.43,1.25,275.03,0.05,105.4,0.75,6.3,888.47,506.52,108.72,621.39,12.81,5.5,275.31,0.05,0.29,547.06,217.0,10.4,130.41,5.9,290.13,20.8,0.1,1.25,834.66,910.8,313.66,40.52,126.31,29.46,104.53,684.14,47.97,20.35,94.4,7.3,187.9,0.1,271.32,0.3,410.75,641.44,13.9,1324.79,221.52,333.16,82.59,440.1,199.39,447.31,267.3,335.78,612.1,3.7,159.6,744.16,127.9,32.15,424.61,12.3,577.37,157.93,218.55,545.65,121.7,322.24,52.86,310.63,97.0,344.83,8.76,2154.95,402.3,54.43,335.96,153.55,734.44,1619.72,0.4,0.5,67.77,60.2,47.5,391.97,512.12,722.92,93.43,489.52,1098.2,2.87,158.82,27.2,1306.19,148.35,413.36,75.65,94.08,289.41,444.81,3.4,3.6,262.95,0.03,195.69,820.55,216.6,232.87,197.0,57.56,23.95,195.06,46.9,3138.7,3.4,215.15,78.7,3773.5,10.43,0.05,152.28,153.3,0.05,363.06,380.85,0.15,49.85,439.24,0.05,110.4,59.5,129.81,298.12,51.62,369.8,639.94,322.32,24.14,4.93,101.41,370.53,590.3,1007.13,0.05,18.26,426.5,72.81,597.79,117.5,31.85,8.55,375.04,1622.05,839.73,388.41,11.26,3.74,3.9,588.17,365.62,249.56,0.35,300.25,461.54,636.7,274.89,286.01,434.21,4.19,11.35,420.73,0.25,2.55,301.66,2205.21,96.51,237.57,0.1,89.87,255.18,11.2,748.02,0.5,1350.1,1632.98,0.05,292.8,34.0,190.46,293.8,330.78,116.81,125.76,3499.78,25.9,0.05,0.25,919.16,456.83,113.69,146.1,105.0,0.05,19.98,53.06,180.5,5.2,238.55,1256.47,462.31,696.18,612.97,336.5,44.6,634.51,0.1,179.4,34.0,1303.66,351.88,173.73,360.9,233.5,0.05,1023.76,322.44,701.71,58.8,517.66,210.5,104.66,623.3,225.72,684.5,18.0,51.5,346.13,562.8,414.16,602.13,39.4,443.5,156.5,0.07,27.35,1.55,2188.0,107.0,313.86,34.24,514.84,69.3,507.0,1239.87,1184.58,149.8,638.17,0.05,2167.69,992.01,830.8,452.02,321.73,1060.99,484.63,8.4,64.2,25.3,932.91,1.81,185.08,119.0,626.98,3629.43,192.85,0.05,5.4,751.71,437.51,193.35,0.55,347.9,3116.43,268.0,56.43,141.2,103.29,3118.29,0.65,396.49,1446.78,33.9,916.58,1009.17,6.87,44.77,334.74,24.8,0.1,70.74,65.3,151.0,408.77,203.74,863.4,0.2,321.09,87.68],\"y\":[0.39899999999999985,1059.6781000000003,5.067900000000004,252.64179999999982,101.2229999999999,790.1616999999997,0.05209999999999991,104.1806,199.07419999999993,797.2894000000005,407.1135000000003,418.5521999999999,88.68720000000003,1583.8677000000005,150.1199999999999,557.2287999999996,292.4678999999996,161.73940000000002,556.9777999999999,0.051599999999999896,27.22239999999999,299.51870000000036,125.11330000000005,1013.8004000000005,21.69290000000001,0.09729999999999998,0.4502000000000004,106.63170000000011,89.24970000000009,111.01210000000003,80.03460000000008,295.05790000000025,14.241200000000001,0.24270000000000014,109.07680000000006,13.2521,276.4906999999999,422.6325000000002,34.99649999999998,461.8612999999998,5.020300000000002,0.8288999999999994,4.512900000000001,75.68889999999996,504.5857000000005,1.3912000000000015,0.06920000000000008,110.74259999999987,0.0636,839.5028,1260.6475000000007,93.45440000000002,167.09620000000004,132.41429999999983,2.2874999999999988,122.9171000000001,0.05139999999999991,16.21009999999999,63.266300000000044,603.2376999999998,1.1643000000000006,469.1636999999997,417.2524000000001,139.37760000000006,120.27129999999997,17.15389999999999,0.5522999999999996,282.2948999999997,1.3973000000000002,2.3685000000000027,0.05759999999999991,111.18329999999996,697.6703000000007,510.0326000000001,1224.1721000000018,1175.7066000000011,0.47290000000000004,174.46919999999997,2632.224300000002,1729.7987,36.781399999999955,1068.1892,410.5592,758.3613999999997,538.0574000000001,535.2895000000009,3.537199999999995,37.62119999999996,182.1262000000001,162.48019999999985,87.76090000000003,1053.2064000000003,56.97870000000001,1988.7779,127.43240000000009,389.8294,1063.2252999999994,510.3880999999998,570.9357999999999,42.885,54.14560000000002,826.6420000000002,323.9168,1171.7434999999996,2517.957600000002,249.63599999999977,563.3164999999997,0.44210000000000044,224.17689999999985,480.1776000000001,273.03820000000024,306.1151999999999,5.253599999999997,1119.8875999999989,395.60200000000003,5.697299999999998,199.58270000000007,181.8309999999998,11.899999999999988,185.36820000000006,16.078500000000002,43.5638,23.78690000000001,1.055199999999999,1096.397499999999,78.58259999999994,171.50439999999998,543.0778,16.718600000000002,196.47890000000007,7.380700000000003,0.06549999999999989,555.0742999999998,223.06990000000008,266.03950000000003,675.3062999999999,292.3347,538.4414999999997,0.049999999999999906,2.1974999999999993,0.0636,0.26020000000000004,0.056799999999999934,1425.7704999999994,11.765899999999998,2.0168999999999992,0.0582999999999999,257.9974000000001,467.63019999999983,37.31350000000002,28.958999999999993,451.2896000000003,4.379699999999997,379.29019999999997,3.9023999999999988,26.458399999999994,214.97479999999993,884.3142000000003,114.26240000000006,1.7087,410.4758,315.6967999999999,1254.7342,743.5308999999996,0.5940999999999999,6.304100000000005,24.261400000000013,9.599599999999988,877.8489999999997,50.32609999999999,2148.254600000002,696.6034000000004,99.24179999999996,417.86139999999983,56.36990000000009,2.278300000000001,487.7406000000007,0.14520000000000008,0.048199999999999917,174.81790000000004,0.12400000000000003,3722.470800000001,242.59549999999984,0.19349999999999995,0.2559,0.07379999999999996,0.21470000000000003,342.8561000000001,6.557400000000006,31.57089999999996,118.88440000000003,287.96730000000025,345.7133999999998,206.55229999999975,1194.2545000000002,0.7672000000000003,133.2996999999998,139.35440000000003,3117.6191000000003,224.4243999999998,6.906799999999995,181.97309999999987,30.37919999999999,0.05149999999999991,47.46990000000001,410.28990000000005,193.42350000000013,0.037799999999999924,140.5434000000001,52.65419999999995,0.22999999999999993,10.6142,11.624699999999994,13.542999999999996,22.55940000000003,133.47370000000012,239.81470000000013,10.138599999999999,211.6645999999998,83.79589999999996,1248.3819000000005,337.3072,0.19049999999999975,3503.364399999996,1018.725699999999,61.097899999999974,0.4951000000000005,0.13020000000000012,429.95980000000003,96.93130000000001,757.9007999999995,1.0386999999999997,73.22229999999996,292.93950000000007,0.049999999999999906,0.9215000000000001,1179.3930999999986,1.9976999999999985,4.227800000000003,299.5242000000003,3096.9733000000006,495.8182,5.059600000000003,640.2531,79.54029999999997,319.8278000000001,13.763800000000005,0.3589000000000003,5.6558,16.967700000000026,8.676999999999996,658.6490000000003,3.2538999999999993,53.491200000000056,382.30880000000036,1.002,2.569699999999997,367.7500000000003,271.77510000000007,187.9912999999999,108.23260000000003,206.84259999999998,64.44910000000009,589.2809000000001,5.613899999999997,669.7072000000004,50.62460000000004,463.5073000000006,2.2943999999999996,697.0474000000008,630.0083999999995,3.6348999999999996,1736.4979999999985,3.6720000000000046,0.14930000000000018,8.068900000000003,379.98679999999973,11.1358,99.49050000000003,12.776900000000005,0.7406999999999998,0.04959999999999992,184.9150999999998,0.7908000000000002,138.74769999999998,75.51209999999993,678.1418000000001,78.15769999999995,263.12350000000004,367.5738999999999,208.1151999999999,788.4847999999993,147.40689999999992,130.97839999999997,808.2750000000003,523.4180000000001,281.24600000000015,1578.6272,763.3524000000002,2930.1403000000005,63.71790000000006,33.945800000000006,0.8664000000000007,30.263799999999982,576.7761999999998,0.08410000000000002,1736.8254000000002,65.61439999999995,3700.9136999999955,429.5751999999993,80.0087,98.62490000000011,48.669700000000006,1011.3177000000005,603.6212000000003,412.4756999999999,479.9541000000003,6.714700000000004,225.5009,109.73730000000005,205.6605999999998,465.2121000000004,221.9216000000001,0.051899999999999905,0.5103999999999999,1064.4081000000003,474.92470000000003,966.8682999999999,212.84489999999988,524.2818999999998,250.88449999999997,407.8465000000001,1283.2745999999997,30.91230000000002,298.5602,217.7952999999999,5.238900000000001,5.1821999999999955,1.8375999999999997,0.049999999999999906,6.221499999999992,0.05089999999999991,89.70540000000001,243.49729999999997,49.419699999999956,122.0221000000001,0.17730000000000015,473.89539999999977,12.5673,90.25169999999997,319.6607999999999,3524.8194999999973,92.95649999999999,629.5783000000007,138.8847999999998,644.6763000000008,182.3876000000001,6.9291000000000045,14.610700000000014,239.1772,43.6113,13.977200000000025,659.0779000000007,12.26960000000001,274.6416999999997,0.19109999999999983,2921.520500000001,794.9878000000004,322.2061000000003,140.4184,1.776600000000002,834.0264,1426.5882999999992,2930.4777000000004,1.202400000000001,153.76650000000006,227.9282000000003,1201.0688999999998,1574.0036999999998,2099.439600000001,1618.0448999999994,90.16739999999999,1017.6365,20.307800000000004,11.074900000000007,27.159600000000005,7.4087,52.18919999999997,114.19160000000012,263.86069999999984,18.31950000000002,1402.4742999999999,201.01820000000004,320.74859999999956,583.2221999999997,319.56800000000044,597.8195,206.95739999999995,0.09519999999999998,103.28850000000004,239.93539999999967,445.47349999999955,3310.1306000000004,52.852799999999995,161.29669999999982,639.6431000000008,130.6037,8.560899999999998,3907.0793999999996,179.78810000000024,497.0400999999998,3506.776099999996,1083.9166000000005,186.53780000000006,0.18200000000000002,190.32819999999995,125.63390000000008,2419.4633999999974,283.24009999999953,270.4503000000001,11.611299999999996,0.26659999999999984,77.82579999999997,839.885600000001,0.24439999999999962,39.15810000000002,2192.723400000001,130.49259999999995,52.93369999999995,153.03689999999992,207.25659999999988,227.26089999999982,162.5516000000001,0.07400000000000005,199.72289999999992,0.8791000000000011,184.3650999999999,254.18360000000007,401.3039000000001,45.6598,191.46549999999982,0.2562,195.73819999999995,202.94419999999994,4.136700000000006,11.01249999999999,606.5380999999996,32.676799999999986,377.7185999999998,91.96480000000005,0.6647000000000003,30.537199999999995,1.2961000000000005,0.05089999999999991,6.2768000000000015,5.5559999999999965,87.02320000000003,22.04090000000001,0.22499999999999992,74.80930000000006,0.18339999999999995,618.6322999999999,269.12559999999985,93.00389999999996,711.6002999999997,347.0851999999998,1369.7616000000012,191.70940000000002,807.8129999999998,339.1566,193.6756999999998,3307.9088999999963,131.45810000000006,30.75759999999999,2.2775999999999983,48.38750000000001,338.3135999999998,66.06070000000014,532.5284999999994,221.85110000000014,389.25619999999975,1695.1761000000008,102.7917,342.1098000000001,47.49179999999998,0.6416999999999997,592.2296999999999,866.7781000000002,471.28259999999995,101.60469999999995,381.6660000000003,1.3975999999999993,272.9110999999998,0.049999999999999906,102.37049999999999,0.8116000000000004,7.658600000000004,932.8821000000004,498.24399999999935,118.33079999999997,626.0343000000003,11.1361,5.405600000000003,269.29549999999995,0.05099999999999991,0.2867,545.3509000000006,219.25010000000006,12.04270000000001,124.12440000000008,5.767700000000002,293.0155999999998,22.1248,0.14680000000000004,1.9712,808.2468000000001,890.9808999999991,307.71100000000035,42.4512,149.3545000000002,30.259199999999993,102.69849999999992,677.7277000000005,51.43170000000003,21.333500000000022,128.91810000000004,8.174500000000002,188.82150000000001,0.18650000000000005,247.76139999999995,0.3161,400.3361000000001,650.4117999999996,12.670400000000013,1271.6589000000004,224.24080000000032,318.0887,82.94409999999996,419.5445,180.85850000000016,443.50930000000017,270.16950000000014,282.47969999999964,606.3296999999994,3.3905999999999983,185.16049999999984,717.8376000000006,123.91290000000005,37.28379999999996,417.95139999999986,13.6033,539.0029,154.5327999999999,214.66249999999974,573.7450999999998,125.87619999999994,329.34970000000015,48.359199999999944,320.18020000000047,90.5403,350.8184000000001,11.637999999999993,2104.035500000001,367.42670000000015,61.16720000000001,308.12100000000015,149.38459999999986,732.1848999999997,1684.4674999999995,0.4879999999999994,0.4883999999999996,68.15329999999997,64.9544,52.16289999999995,401.01390000000026,466.36689999999965,743.4073999999995,72.1574,487.52780000000035,1118.6581000000008,3.0990999999999986,155.3133999999999,27.460200000000015,1287.572899999999,148.9514,419.29219999999987,81.58770000000005,108.66190000000002,297.07460000000026,431.9465999999998,4.325299999999996,3.641299999999995,256.7713000000002,0.042399999999999924,211.3705000000001,855.4798999999991,216.29110000000034,237.0211000000001,195.20880000000005,57.90630000000007,23.90730000000001,198.24620000000007,45.136300000000034,3108.9618000000023,4.113400000000001,210.3946999999998,75.49579999999999,3347.0867000000035,14.647999999999993,0.05559999999999991,151.23160000000018,146.9362,0.05329999999999991,370.68650000000014,390.99540000000013,0.15569999999999984,47.6575,455.7716999999999,0.10780000000000008,110.30740000000009,59.801100000000005,118.06150000000008,270.5887999999999,54.39710000000004,344.6569999999998,622.2591000000002,303.31820000000016,20.23569999999998,4.193700000000002,94.98460000000006,395.81380000000007,564.2148999999998,1029.5363,0.08959999999999996,19.277699999999992,408.6388000000001,82.69639999999995,605.4161000000001,133.92760000000015,35.77709999999999,10.351199999999995,379.7440999999999,1600.9183999999993,842.5588999999995,388.3974000000002,12.097000000000007,3.480499999999999,4.196599999999998,558.1594999999998,335.32410000000004,236.27460000000008,0.5347000000000003,336.0052999999999,479.7289000000004,626.0462000000001,274.7016999999999,293.1309000000003,396.2117,4.097199999999998,11.713600000000012,397.9395999999999,0.21799999999999986,2.643200000000002,288.64120000000014,2126.098299999998,97.07749999999994,229.17599999999956,0.1344999999999999,99.50750000000008,269.21630000000005,11.033200000000011,732.6093000000004,0.5276,1293.7337999999995,1571.3452000000007,0.1253000000000001,285.7724000000001,33.93420000000005,190.0376999999999,290.43759999999975,328.7198999999999,135.81500000000025,124.19760000000005,3493.6051999999972,25.091900000000038,0.04999999999999991,0.38970000000000027,914.2644000000005,468.8530000000002,114.25959999999988,152.99760000000026,108.42820000000009,0.050699999999999926,21.740000000000006,51.24440000000005,185.17780000000005,5.664600000000003,233.1471000000001,1249.698400000001,470.30570000000034,714.0419000000003,617.8735000000003,352.4019000000003,46.00799999999997,613.9005000000004,0.14850000000000016,177.40570000000014,32.322499999999984,1250.1933000000013,370.3926,188.65739999999994,356.8457000000003,229.27179999999996,0.05869999999999992,994.4103999999996,292.1590999999997,747.8485000000002,50.31849999999994,514.7823999999994,194.34760000000006,104.16059999999997,634.2233999999993,224.54810000000032,648.5408000000009,17.909100000000024,51.67699999999998,343.3954000000001,578.0593000000003,427.0925999999995,605.8192999999998,38.27520000000002,447.23510000000005,154.9845000000001,0.049699999999999925,27.01980000000002,1.729,2168.238700000002,88.02870000000003,324.6330000000002,33.115100000000005,487.6758000000002,61.43830000000007,520.5532000000004,1220.4472000000007,1181.3379000000007,150.4869,616.3941000000002,0.06399999999999989,2131.6209000000017,962.1244000000012,810.2127000000006,462.94769999999994,332.18700000000007,1065.2691000000004,469.6460999999999,8.09469999999999,63.63960000000001,26.42049999999999,943.3799,2.039100000000002,203.0116999999999,120.92450000000008,614.6770999999997,3671.5289000000007,187.37389999999996,0.050199999999999904,5.144699999999998,734.3582999999995,407.70189999999974,186.46180000000012,0.6976999999999994,334.5595999999998,3096.9733000000006,290.9076,60.99310000000002,147.09650000000013,102.96559999999998,3116.710599999997,0.7726000000000002,379.6354000000006,1434.6770999999999,34.2955,887.7145000000004,1004.7755999999999,7.487300000000002,43.82700000000004,339.3041000000002,31.127199999999995,0.10549999999999983,70.38859999999998,68.66800000000003,149.4509000000001,397.1976000000002,206.04509999999985,889.3808999999994,0.24079999999999996,306.8566000000001,87.79149999999998],\"type\":\"scatter\"}],                        {\"template\":{\"data\":{\"barpolar\":[{\"marker\":{\"line\":{\"color\":\"rgb(237,237,237)\",\"width\":0.5},\"pattern\":{\"fillmode\":\"overlay\",\"size\":10,\"solidity\":0.2}},\"type\":\"barpolar\"}],\"bar\":[{\"error_x\":{\"color\":\"rgb(51,51,51)\"},\"error_y\":{\"color\":\"rgb(51,51,51)\"},\"marker\":{\"line\":{\"color\":\"rgb(237,237,237)\",\"width\":0.5},\"pattern\":{\"fillmode\":\"overlay\",\"size\":10,\"solidity\":0.2}},\"type\":\"bar\"}],\"carpet\":[{\"aaxis\":{\"endlinecolor\":\"rgb(51,51,51)\",\"gridcolor\":\"white\",\"linecolor\":\"white\",\"minorgridcolor\":\"white\",\"startlinecolor\":\"rgb(51,51,51)\"},\"baxis\":{\"endlinecolor\":\"rgb(51,51,51)\",\"gridcolor\":\"white\",\"linecolor\":\"white\",\"minorgridcolor\":\"white\",\"startlinecolor\":\"rgb(51,51,51)\"},\"type\":\"carpet\"}],\"choropleth\":[{\"colorbar\":{\"outlinewidth\":0,\"tickcolor\":\"rgb(237,237,237)\",\"ticklen\":6,\"ticks\":\"inside\"},\"type\":\"choropleth\"}],\"contourcarpet\":[{\"colorbar\":{\"outlinewidth\":0,\"tickcolor\":\"rgb(237,237,237)\",\"ticklen\":6,\"ticks\":\"inside\"},\"type\":\"contourcarpet\"}],\"contour\":[{\"colorbar\":{\"outlinewidth\":0,\"tickcolor\":\"rgb(237,237,237)\",\"ticklen\":6,\"ticks\":\"inside\"},\"colorscale\":[[0,\"rgb(20,44,66)\"],[1,\"rgb(90,179,244)\"]],\"type\":\"contour\"}],\"heatmapgl\":[{\"colorbar\":{\"outlinewidth\":0,\"tickcolor\":\"rgb(237,237,237)\",\"ticklen\":6,\"ticks\":\"inside\"},\"colorscale\":[[0,\"rgb(20,44,66)\"],[1,\"rgb(90,179,244)\"]],\"type\":\"heatmapgl\"}],\"heatmap\":[{\"colorbar\":{\"outlinewidth\":0,\"tickcolor\":\"rgb(237,237,237)\",\"ticklen\":6,\"ticks\":\"inside\"},\"colorscale\":[[0,\"rgb(20,44,66)\"],[1,\"rgb(90,179,244)\"]],\"type\":\"heatmap\"}],\"histogram2dcontour\":[{\"colorbar\":{\"outlinewidth\":0,\"tickcolor\":\"rgb(237,237,237)\",\"ticklen\":6,\"ticks\":\"inside\"},\"colorscale\":[[0,\"rgb(20,44,66)\"],[1,\"rgb(90,179,244)\"]],\"type\":\"histogram2dcontour\"}],\"histogram2d\":[{\"colorbar\":{\"outlinewidth\":0,\"tickcolor\":\"rgb(237,237,237)\",\"ticklen\":6,\"ticks\":\"inside\"},\"colorscale\":[[0,\"rgb(20,44,66)\"],[1,\"rgb(90,179,244)\"]],\"type\":\"histogram2d\"}],\"histogram\":[{\"marker\":{\"pattern\":{\"fillmode\":\"overlay\",\"size\":10,\"solidity\":0.2}},\"type\":\"histogram\"}],\"mesh3d\":[{\"colorbar\":{\"outlinewidth\":0,\"tickcolor\":\"rgb(237,237,237)\",\"ticklen\":6,\"ticks\":\"inside\"},\"type\":\"mesh3d\"}],\"parcoords\":[{\"line\":{\"colorbar\":{\"outlinewidth\":0,\"tickcolor\":\"rgb(237,237,237)\",\"ticklen\":6,\"ticks\":\"inside\"}},\"type\":\"parcoords\"}],\"pie\":[{\"automargin\":true,\"type\":\"pie\"}],\"scatter3d\":[{\"line\":{\"colorbar\":{\"outlinewidth\":0,\"tickcolor\":\"rgb(237,237,237)\",\"ticklen\":6,\"ticks\":\"inside\"}},\"marker\":{\"colorbar\":{\"outlinewidth\":0,\"tickcolor\":\"rgb(237,237,237)\",\"ticklen\":6,\"ticks\":\"inside\"}},\"type\":\"scatter3d\"}],\"scattercarpet\":[{\"marker\":{\"colorbar\":{\"outlinewidth\":0,\"tickcolor\":\"rgb(237,237,237)\",\"ticklen\":6,\"ticks\":\"inside\"}},\"type\":\"scattercarpet\"}],\"scattergeo\":[{\"marker\":{\"colorbar\":{\"outlinewidth\":0,\"tickcolor\":\"rgb(237,237,237)\",\"ticklen\":6,\"ticks\":\"inside\"}},\"type\":\"scattergeo\"}],\"scattergl\":[{\"marker\":{\"colorbar\":{\"outlinewidth\":0,\"tickcolor\":\"rgb(237,237,237)\",\"ticklen\":6,\"ticks\":\"inside\"}},\"type\":\"scattergl\"}],\"scattermapbox\":[{\"marker\":{\"colorbar\":{\"outlinewidth\":0,\"tickcolor\":\"rgb(237,237,237)\",\"ticklen\":6,\"ticks\":\"inside\"}},\"type\":\"scattermapbox\"}],\"scatterpolargl\":[{\"marker\":{\"colorbar\":{\"outlinewidth\":0,\"tickcolor\":\"rgb(237,237,237)\",\"ticklen\":6,\"ticks\":\"inside\"}},\"type\":\"scatterpolargl\"}],\"scatterpolar\":[{\"marker\":{\"colorbar\":{\"outlinewidth\":0,\"tickcolor\":\"rgb(237,237,237)\",\"ticklen\":6,\"ticks\":\"inside\"}},\"type\":\"scatterpolar\"}],\"scatter\":[{\"fillpattern\":{\"fillmode\":\"overlay\",\"size\":10,\"solidity\":0.2},\"type\":\"scatter\"}],\"scatterternary\":[{\"marker\":{\"colorbar\":{\"outlinewidth\":0,\"tickcolor\":\"rgb(237,237,237)\",\"ticklen\":6,\"ticks\":\"inside\"}},\"type\":\"scatterternary\"}],\"surface\":[{\"colorbar\":{\"outlinewidth\":0,\"tickcolor\":\"rgb(237,237,237)\",\"ticklen\":6,\"ticks\":\"inside\"},\"colorscale\":[[0,\"rgb(20,44,66)\"],[1,\"rgb(90,179,244)\"]],\"type\":\"surface\"}],\"table\":[{\"cells\":{\"fill\":{\"color\":\"rgb(237,237,237)\"},\"line\":{\"color\":\"white\"}},\"header\":{\"fill\":{\"color\":\"rgb(217,217,217)\"},\"line\":{\"color\":\"white\"}},\"type\":\"table\"}]},\"layout\":{\"annotationdefaults\":{\"arrowhead\":0,\"arrowwidth\":1},\"autotypenumbers\":\"strict\",\"coloraxis\":{\"colorbar\":{\"outlinewidth\":0,\"tickcolor\":\"rgb(237,237,237)\",\"ticklen\":6,\"ticks\":\"inside\"}},\"colorscale\":{\"sequential\":[[0,\"rgb(20,44,66)\"],[1,\"rgb(90,179,244)\"]],\"sequentialminus\":[[0,\"rgb(20,44,66)\"],[1,\"rgb(90,179,244)\"]]},\"colorway\":[\"#F8766D\",\"#A3A500\",\"#00BF7D\",\"#00B0F6\",\"#E76BF3\"],\"font\":{\"color\":\"rgb(51,51,51)\"},\"geo\":{\"bgcolor\":\"white\",\"lakecolor\":\"white\",\"landcolor\":\"rgb(237,237,237)\",\"showlakes\":true,\"showland\":true,\"subunitcolor\":\"white\"},\"hoverlabel\":{\"align\":\"left\"},\"hovermode\":\"closest\",\"paper_bgcolor\":\"white\",\"plot_bgcolor\":\"rgb(237,237,237)\",\"polar\":{\"angularaxis\":{\"gridcolor\":\"white\",\"linecolor\":\"white\",\"showgrid\":true,\"tickcolor\":\"rgb(51,51,51)\",\"ticks\":\"outside\"},\"bgcolor\":\"rgb(237,237,237)\",\"radialaxis\":{\"gridcolor\":\"white\",\"linecolor\":\"white\",\"showgrid\":true,\"tickcolor\":\"rgb(51,51,51)\",\"ticks\":\"outside\"}},\"scene\":{\"xaxis\":{\"backgroundcolor\":\"rgb(237,237,237)\",\"gridcolor\":\"white\",\"gridwidth\":2,\"linecolor\":\"white\",\"showbackground\":true,\"showgrid\":true,\"tickcolor\":\"rgb(51,51,51)\",\"ticks\":\"outside\",\"zerolinecolor\":\"white\"},\"yaxis\":{\"backgroundcolor\":\"rgb(237,237,237)\",\"gridcolor\":\"white\",\"gridwidth\":2,\"linecolor\":\"white\",\"showbackground\":true,\"showgrid\":true,\"tickcolor\":\"rgb(51,51,51)\",\"ticks\":\"outside\",\"zerolinecolor\":\"white\"},\"zaxis\":{\"backgroundcolor\":\"rgb(237,237,237)\",\"gridcolor\":\"white\",\"gridwidth\":2,\"linecolor\":\"white\",\"showbackground\":true,\"showgrid\":true,\"tickcolor\":\"rgb(51,51,51)\",\"ticks\":\"outside\",\"zerolinecolor\":\"white\"}},\"shapedefaults\":{\"fillcolor\":\"black\",\"line\":{\"width\":0},\"opacity\":0.3},\"ternary\":{\"aaxis\":{\"gridcolor\":\"white\",\"linecolor\":\"white\",\"showgrid\":true,\"tickcolor\":\"rgb(51,51,51)\",\"ticks\":\"outside\"},\"baxis\":{\"gridcolor\":\"white\",\"linecolor\":\"white\",\"showgrid\":true,\"tickcolor\":\"rgb(51,51,51)\",\"ticks\":\"outside\"},\"bgcolor\":\"rgb(237,237,237)\",\"caxis\":{\"gridcolor\":\"white\",\"linecolor\":\"white\",\"showgrid\":true,\"tickcolor\":\"rgb(51,51,51)\",\"ticks\":\"outside\"}},\"xaxis\":{\"automargin\":true,\"gridcolor\":\"white\",\"linecolor\":\"white\",\"showgrid\":true,\"tickcolor\":\"rgb(51,51,51)\",\"ticks\":\"outside\",\"title\":{\"standoff\":15},\"zerolinecolor\":\"white\"},\"yaxis\":{\"automargin\":true,\"gridcolor\":\"white\",\"linecolor\":\"white\",\"showgrid\":true,\"tickcolor\":\"rgb(51,51,51)\",\"ticks\":\"outside\",\"title\":{\"standoff\":15},\"zerolinecolor\":\"white\"}}},\"title\":{\"text\":\"Predicted vs. Actual Prices - Calls\"},\"xaxis\":{\"title\":{\"text\":\"Prices\"}},\"yaxis\":{\"title\":{\"text\":\"Predicted prices\"}},\"autosize\":false,\"width\":700,\"height\":500},                        {\"responsive\": true}                    ).then(function(){\n",
              "                            \n",
              "var gd = document.getElementById('7551c7be-c13e-4ad4-81f1-9cae77e51e50');\n",
              "var x = new MutationObserver(function (mutations, observer) {{\n",
              "        var display = window.getComputedStyle(gd).display;\n",
              "        if (!display || display === 'none') {{\n",
              "            console.log([gd, 'removed!']);\n",
              "            Plotly.purge(gd);\n",
              "            observer.disconnect();\n",
              "        }}\n",
              "}});\n",
              "\n",
              "// Listen for the removal of the full notebook cells\n",
              "var notebookContainer = gd.closest('#notebook-container');\n",
              "if (notebookContainer) {{\n",
              "    x.observe(notebookContainer, {childList: true});\n",
              "}}\n",
              "\n",
              "// Listen for the clearing of the current output cell\n",
              "var outputEl = gd.closest('.output');\n",
              "if (outputEl) {{\n",
              "    x.observe(outputEl, {childList: true});\n",
              "}}\n",
              "\n",
              "                        })                };                            </script>        </div>\n",
              "</body>\n",
              "</html>"
            ]
          },
          "metadata": {}
        }
      ]
    },
    {
      "cell_type": "code",
      "source": [
        "#Full data residuals\n",
        "fig = go.Figure()\n",
        "fig.add_trace(go.Scatter(x=y_pred, \n",
        "                         y=y_test-y_pred,\n",
        "                         mode='markers'))\n",
        "fig.update_layout(title=\"Predicted vs. Residuals - Full Data\",\n",
        "                  xaxis_title=\"Prices\",\n",
        "                  yaxis_title=\"Predicted prices\",\n",
        "                  template='ggplot2',\n",
        "                  autosize=False,\n",
        "                  width=700,\n",
        "                  height=500,)\n",
        "fig.show()"
      ],
      "metadata": {
        "colab": {
          "base_uri": "https://localhost:8080/",
          "height": 517
        },
        "id": "sZqEJssgylFZ",
        "outputId": "952f3337-7866-4a6f-de74-ff55c7af67b9"
      },
      "execution_count": null,
      "outputs": [
        {
          "output_type": "display_data",
          "data": {
            "text/html": [
              "<html>\n",
              "<head><meta charset=\"utf-8\" /></head>\n",
              "<body>\n",
              "    <div>            <script src=\"https://cdnjs.cloudflare.com/ajax/libs/mathjax/2.7.5/MathJax.js?config=TeX-AMS-MML_SVG\"></script><script type=\"text/javascript\">if (window.MathJax && window.MathJax.Hub && window.MathJax.Hub.Config) {window.MathJax.Hub.Config({SVG: {font: \"STIX-Web\"}});}</script>                <script type=\"text/javascript\">window.PlotlyConfig = {MathJaxConfig: 'local'};</script>\n",
              "        <script src=\"https://cdn.plot.ly/plotly-2.18.2.min.js\"></script>                <div id=\"f58c7ce4-bdcc-4035-ac58-99f89a2f5f82\" class=\"plotly-graph-div\" style=\"height:500px; width:700px;\"></div>            <script type=\"text/javascript\">                                    window.PLOTLYENV=window.PLOTLYENV || {};                                    if (document.getElementById(\"f58c7ce4-bdcc-4035-ac58-99f89a2f5f82\")) {                    Plotly.newPlot(                        \"f58c7ce4-bdcc-4035-ac58-99f89a2f5f82\",                        [{\"mode\":\"markers\",\"x\":[0.38170000000000004,1047.9433000000004,4.869400000000002,256.22579999999994,102.6071999999999,781.7180999999999,0.05889999999999993,103.94240000000005,199.60209999999998,799.7338000000009,407.8773000000001,417.43469999999996,88.69570000000003,1586.9651999999987,149.97499999999994,554.8530000000001,293.7744999999995,156.89000000000004,554.7503000000002,0.05229999999999991,27.071799999999982,298.3288000000004,124.58030000000004,1008.7293000000004,21.79290000000001,0.09559999999999996,0.47320000000000034,106.22030000000015,90.4157000000001,113.56590000000011,79.53400000000002,295.2937000000001,14.481200000000003,0.28100000000000025,108.61660000000008,14.8576,273.0825999999999,427.06640000000016,34.163799999999995,466.1475999999999,4.756000000000001,0.8482999999999996,4.2741,76.5808,509.6505000000004,1.3371000000000015,0.06990000000000006,111.78069999999985,0.06420000000000002,831.3305999999995,1261.559800000001,92.63290000000002,166.58829999999998,131.67449999999985,2.140399999999999,121.84890000000009,0.049999999999999906,16.555799999999977,63.80400000000005,606.2225999999996,1.081500000000001,468.83129999999966,417.2066000000001,140.49180000000004,121.0167,17.115899999999982,0.5615999999999994,281.0551999999999,1.4329999999999996,2.254100000000002,0.0562999999999999,110.88640000000001,695.3082000000006,510.3029,1218.9106000000013,1182.7728000000006,0.45449999999999996,174.44299999999996,2637.611200000001,1729.1621000000007,36.952499999999965,1062.6327,411.4821,756.2287,537.1297999999999,532.7610000000009,3.6830999999999965,37.30429999999999,181.49110000000005,158.16239999999982,87.80789999999999,1050.5863000000004,56.82100000000005,1968.1875999999988,127.14120000000014,384.932,1060.2582999999995,511.51959999999997,569.7194000000002,41.79050000000001,54.966399999999986,831.0592,324.50610000000006,1171.918,2513.100800000002,248.29819999999984,562.0300999999997,0.4698000000000003,223.84689999999978,476.25750000000005,272.2834000000002,304.22669999999977,5.3488,1118.0721999999987,395.6754,5.451099999999996,201.5391000000001,180.89449999999985,11.811199999999987,186.10210000000015,16.255500000000005,42.83840000000001,25.256500000000003,1.0613999999999997,1093.491099999999,78.68009999999995,170.7794,544.6849,16.0516,196.33579999999998,7.622200000000004,0.0704999999999999,552.4470000000001,218.58090000000004,262.5729000000003,674.3817000000001,292.6559999999999,536.3658999999998,0.0495999999999999,2.061699999999998,0.06400000000000002,0.27010000000000006,0.05499999999999994,1413.1670999999997,11.6374,2.0539000000000005,0.05319999999999992,259.18370000000016,465.4352999999997,37.460700000000024,26.67599999999999,449.6531000000002,4.305799999999998,376.3034999999998,3.709600000000001,26.331100000000003,215.041,872.9647,117.58570000000009,1.8397,411.3369,317.56679999999994,1258.1532999999995,746.7219999999996,0.5630999999999998,5.063799999999999,23.80800000000001,10.12239999999999,878.1662999999993,50.52129999999998,2145.041900000002,693.0138000000002,99.3935,416.6366,56.29450000000007,2.3791000000000015,488.8847000000005,0.1476000000000001,0.04939999999999991,173.76450000000008,0.1370000000000001,3718.3897,243.28059999999982,0.2125000000000001,0.26540000000000014,0.07549999999999997,0.2108000000000001,344.2844999999999,6.497800000000009,31.235099999999985,118.21510000000006,289.20190000000025,347.0557999999998,206.69649999999976,1195.4162000000003,0.7757000000000001,135.8059999999998,135.64390000000006,3116.3889000000013,224.82769999999985,7.313299999999994,180.13539999999986,30.637099999999986,0.052299999999999916,46.951499999999996,407.14630000000005,194.44530000000017,0.03799999999999993,139.6168000000001,51.854199999999956,0.2535,10.377,11.882399999999993,13.871399999999989,22.633000000000028,133.31860000000012,242.84250000000014,10.537099999999999,214.04149999999984,83.56319999999998,1254.4423000000004,341.04150000000004,0.1939999999999998,3505.1015999999963,1014.9371999999996,60.62969999999996,0.5017999999999999,0.1180000000000004,430.1263000000001,97.4006,756.1486999999993,1.1213999999999997,72.94139999999997,292.6537,0.049999999999999906,0.9775999999999999,1178.8783999999987,1.6225999999999992,4.215300000000003,298.91750000000025,3105.4124999999995,494.46519999999947,4.8796000000000035,642.8410999999996,79.86519999999997,318.5334000000001,22.973200000000002,0.3639000000000003,5.676600000000002,17.21820000000002,8.964999999999996,661.9703000000002,3.6192999999999977,54.0709,385.0242000000004,1.0370999999999997,2.4319999999999973,369.96430000000043,271.80690000000004,190.22399999999993,109.52039999999994,206.37289999999993,65.0248000000001,582.5205000000001,5.853799999999998,676.2446000000002,51.774000000000015,465.54950000000053,2.362899999999999,697.0427000000009,638.6901999999994,3.2974000000000006,1740.3797999999983,3.7629000000000015,0.15030000000000018,8.079000000000002,383.0438999999998,10.92829999999999,99.03220000000003,13.218500000000013,0.7167999999999999,0.04939999999999993,185.7489999999999,0.7505999999999996,138.16689999999994,73.69169999999991,687.6133000000002,77.77189999999992,263.00570000000016,369.94140000000004,208.3312999999999,776.6605999999996,145.73679999999993,128.66369999999998,807.9682000000003,528.8647,285.1614000000001,1583.126199999999,756.0113000000002,2930.6023,64.25340000000001,34.348100000000024,0.8890000000000015,34.88449999999996,575.2498,0.08470000000000005,1741.3584000000003,66.42779999999995,3705.168699999996,429.34359999999947,79.84260000000002,98.75410000000005,48.26849999999999,1006.8577000000005,604.0463000000003,408.76980000000003,479.65850000000023,6.4123000000000046,224.7025,109.57750000000006,205.4150999999998,464.7856000000005,221.62919999999997,0.050199999999999904,0.5056999999999996,1059.5185000000001,473.15640000000013,965.7624999999998,213.9890999999998,522.3194000000001,212.6559,406.83420000000007,1276.6678000000002,31.295800000000007,298.99920000000003,213.64969999999983,5.450200000000003,5.743999999999997,1.771499999999999,0.05179999999999991,6.003399999999995,0.05019999999999992,90.01450000000001,243.82470000000004,48.75339999999996,122.73250000000007,0.1490000000000001,475.6865000000001,12.644100000000005,88.15409999999999,318.73109999999986,3532.497599999996,94.00229999999999,626.3077000000008,140.23469999999986,648.4430000000006,177.8152000000001,6.725500000000002,15.482800000000005,237.68589999999992,42.77699999999999,14.338500000000018,660.8516000000006,12.30330000000001,274.63509999999985,0.19359999999999983,2918.3507000000022,796.0530000000005,320.69740000000024,142.99230000000006,1.8825000000000014,835.3431999999998,1413.8468,2931.286600000001,1.2825000000000006,153.42020000000005,226.96960000000013,1197.274,1583.3668000000002,2103.605600000001,1584.9506,90.3942,1012.1494000000005,20.41100000000001,11.305400000000006,27.7058,7.247799999999996,53.62389999999996,113.3848000000001,266.4106999999997,16.579200000000018,1404.3417999999992,200.62689999999992,324.18589999999944,573.5320999999999,318.1063000000005,597.8666000000003,213.00259999999994,0.0946,103.48370000000008,240.3049999999998,437.31159999999966,3311.7608,52.08369999999998,162.39259999999976,639.2752000000007,131.65630000000004,7.864899999999991,3899.7381999999993,184.17440000000016,503.70729999999935,3511.862799999996,1087.1401000000008,187.14409999999992,0.17600000000000005,187.69580000000002,126.33500000000008,2432.357599999999,287.58629999999965,274.736,11.667399999999994,0.2935999999999998,77.1274,842.1499000000007,0.24429999999999963,38.96420000000001,2191.353000000002,129.2536,56.030199999999915,153.9525999999999,207.4637999999998,225.06029999999973,165.36850000000007,0.07430000000000006,197.93630000000007,0.9213000000000006,184.25349999999995,255.81040000000002,401.45550000000026,44.84529999999998,189.48449999999983,0.2245,193.2108,199.68030000000002,4.119300000000004,11.345099999999995,603.9997999999997,30.714799999999997,379.21649999999966,95.05540000000002,0.7201000000000002,30.60809999999999,1.4166000000000005,0.05389999999999992,5.969300000000001,5.678999999999995,83.56370000000007,22.763100000000012,0.27349999999999997,74.27870000000003,0.17699999999999996,617.0954,270.1522,92.90089999999992,715.2692,347.0239999999999,1371.8305000000016,192.52559999999997,803.9118999999996,342.10709999999995,194.2121999999999,3307.9471999999955,130.72520000000011,31.066199999999977,2.397799999999998,48.67889999999999,335.30139999999994,66.11880000000015,528.7645999999993,221.16740000000013,384.8457999999996,1696.0099000000018,103.36019999999999,332.0782000000001,48.83899999999995,0.6067999999999997,593.0789000000001,853.0661000000001,467.36100000000005,102.15839999999997,381.8729000000003,1.5012000000000003,272.3313999999997,0.05029999999999991,105.00349999999999,0.8158000000000003,7.639700000000001,922.3297000000009,501.04129999999964,117.80729999999996,626.9601000000002,11.676499999999994,5.186700000000003,267.7888,0.05519999999999992,0.27909999999999985,545.7918000000004,220.49210000000002,12.159800000000011,123.3496000000001,5.772200000000001,292.6465999999997,21.646400000000003,0.15350000000000003,2.1713999999999998,821.2504999999999,888.9458999999989,308.1344000000005,43.17549999999999,149.50370000000018,30.388,103.62139999999998,681.531000000001,51.447000000000024,21.843300000000035,128.88630000000006,8.178400000000005,186.07010000000002,0.1770000000000001,248.20229999999984,0.3249,403.5874,647.2631999999999,13.005000000000006,1273.6298000000002,224.60750000000033,316.9612999999999,84.04709999999994,418.74780000000004,179.11280000000005,449.5382,266.83860000000027,292.4497999999996,610.7737999999994,3.2849999999999984,185.68759999999986,721.9635000000006,123.35720000000006,38.05089999999995,416.2330999999999,12.858700000000006,542.1803,154.93029999999996,217.27159999999975,564.7109999999998,125.58489999999992,330.9659000000002,48.61579999999995,321.1515000000005,90.04850000000005,352.81540000000024,11.285799999999993,2109.299100000001,367.36130000000014,64.1582000000001,302.6592000000003,150.60289999999983,735.6730999999999,1691.3232000000007,0.4957999999999996,0.47139999999999943,69.32069999999997,63.53850000000002,53.50089999999997,401.0271000000002,464.7718999999997,745.8043999999999,75.881,486.9249000000003,1120.4280000000008,3.0934000000000004,158.22089999999992,26.969799999999996,1286.2794999999992,149.49139999999997,413.4749,81.29220000000005,107.64780000000002,301.07940000000025,431.8239999999998,4.555399999999995,3.8355999999999955,262.45670000000024,0.04239999999999993,211.9132000000001,853.1063999999992,215.71040000000016,237.04830000000004,192.29240000000001,58.30560000000007,23.529899999999998,195.81010000000006,45.259500000000045,3115.0856000000017,4.8618000000000015,209.28409999999974,74.7304,3378.7948000000033,14.183299999999996,0.053499999999999916,150.7347000000002,146.65879999999999,0.05339999999999992,369.74230000000017,387.77189999999996,0.16049999999999978,47.9348,451.79519999999997,0.10480000000000013,108.54300000000006,62.71460000000002,118.68010000000011,271.96779999999984,55.30410000000004,344.51729999999986,623.6668999999999,304.37100000000027,21.02469999999998,4.308100000000002,95.97620000000006,393.94849999999997,565.1067999999999,1021.3570999999996,0.0912,19.307199999999995,409.0880000000001,81.97279999999996,604.4147000000003,134.3789000000002,36.67109999999999,9.871099999999995,376.93100000000004,1604.2706000000005,845.8364999999997,385.3130000000003,12.882599999999993,3.4709999999999996,4.247099999999998,558.5964,337.8474999999999,236.42660000000004,0.47290000000000004,334.8068999999998,481.49890000000073,628.5864000000003,276.8526,295.1647000000003,390.4751000000001,3.8272999999999993,11.994300000000008,399.1533999999999,0.19949999999999984,2.5009000000000015,292.06980000000016,2131.874999999998,97.56309999999992,228.13879999999955,0.12219999999999993,100.14060000000012,270.29520000000014,10.980300000000014,736.1074000000003,0.5074999999999997,1295.8566999999996,1581.3671000000008,0.12030000000000006,285.3636000000001,33.82990000000005,189.5453999999999,290.70479999999975,329.75969999999984,134.13300000000024,125.20900000000009,3492.371699999997,25.23230000000004,0.04999999999999991,0.3564,906.9126000000003,469.085,114.52349999999993,151.97820000000024,107.78520000000012,0.05039999999999993,21.538799999999995,51.27160000000006,184.92790000000016,5.7328,233.87680000000003,1247.8672000000015,467.88000000000034,711.8348000000001,614.6659000000003,353.16820000000024,45.61269999999999,612.2449000000005,0.15610000000000016,181.6704000000002,34.43949999999998,1271.892300000001,368.47109999999986,186.82189999999994,353.45230000000004,224.24079999999992,0.0549999999999999,989.7359999999992,292.58689999999973,746.6028000000005,48.892599999999945,512.3927999999993,194.81890000000007,104.39269999999995,632.7959999999993,224.60750000000033,648.3937000000006,18.336000000000027,51.32029999999999,345.4914,572.9318000000004,422.73119999999966,603.7941999999997,37.63650000000004,446.83979999999957,155.37570000000008,0.05109999999999993,27.43530000000002,1.7362999999999993,2173.933700000002,89.30370000000008,318.3714000000002,32.62550000000001,489.71730000000025,61.03770000000005,521.0104000000001,1221.5451000000012,1175.6925000000003,150.92309999999995,618.9832000000001,0.058599999999999916,2138.713000000003,966.8266000000013,810.6445000000002,465.5631000000002,328.4288999999998,1062.9886000000004,465.03280000000007,8.057099999999991,64.06970000000003,25.159099999999984,950.0698000000004,2.0256000000000025,202.3447,120.25760000000002,620.6110999999996,3664.8719000000024,187.5327,0.04999999999999991,5.008799999999998,736.2807999999995,408.13009999999986,186.8446000000001,0.6171999999999997,333.8449999999998,3105.4124999999995,293.64930000000004,60.61570000000003,148.23510000000016,103.73999999999998,3119.1346999999987,0.7311000000000001,377.42280000000056,1437.3422999999998,34.5649,890.9731000000006,1009.4153000000002,7.660499999999998,44.229100000000024,340.7069000000001,31.573699999999977,0.11199999999999984,69.74249999999999,67.42340000000009,149.10070000000007,398.04210000000035,206.6339999999998,887.1421999999995,0.24399999999999988,306.7410000000001,87.78849999999994],\"y\":[0.11829999999999996,-45.67330000000038,0.030599999999997962,7.034200000000055,-12.797199999999904,78.28190000000006,-0.008899999999999929,-4.232400000000055,-4.232099999999974,-27.503800000000865,2.722699999999918,10.125300000000038,-0.5957000000000363,-0.5651999999986401,-9.604999999999933,-44.353000000000065,13.735500000000513,2.0499999999999545,-36.30030000000011,-0.0022999999999999063,-0.07179999999998188,-14.218800000000385,-13.480300000000042,45.32069999999953,0.07709999999999084,0.05440000000000003,-0.12320000000000036,5.439699999999846,1.7542999999999012,1.2040999999998832,-15.834000000000017,-0.7437000000001035,-0.29120000000000346,-0.13100000000000026,2.79339999999992,-3.4375999999999998,2.7774000000001138,-3.1764000000001715,1.6362000000000023,-9.277599999999893,0.44399999999999906,0.07170000000000043,0.7759,-9.5608,8.589499999999589,-0.017100000000001447,0.030099999999999946,-3.2006999999998555,-0.014200000000000018,39.979400000000396,7.150199999999131,3.4670999999999736,7.801700000000011,1.8755000000001587,-0.32039999999999913,-19.74890000000009,9.71445146547012e-17,-0.35579999999997725,-3.06400000000005,-3.542599999999652,-0.011500000000000954,7.708700000000363,15.553399999999897,-8.291800000000052,12.953299999999999,0.4841000000000193,-0.011599999999999389,3.464800000000082,-0.4329999999999996,-0.09410000000000185,-0.006299999999999896,8.513599999999997,-12.328200000000606,-32.23290000000003,-62.61060000000134,25.617199999999457,-0.15449999999999997,0.5870000000000459,-30.691200000001118,61.11789999999928,1.7475000000000378,-24.012700000000223,13.187900000000013,5.981300000000033,9.4602000000001,0.9689999999991414,-0.25309999999999633,0.8957000000000122,1.3888999999999498,-8.312399999999826,-1.6378999999999877,-32.09630000000038,-1.2710000000000505,-85.04759999999874,-0.27120000000013533,20.877999999999986,47.61170000000038,-7.1795999999999935,24.470599999999877,-2.4905000000000115,-0.22639999999998395,7.800799999999981,-17.356100000000083,-0.32799999999997453,-57.53080000000182,5.351800000000168,12.769900000000234,-0.21980000000000027,1.103100000000211,-16.397500000000036,-4.453400000000215,25.44330000000025,-0.048799999999999955,-30.462199999998802,14.16459999999995,-0.4710999999999954,-17.739100000000093,-7.194499999999863,-0.5211999999999879,-16.08210000000014,-0.7755000000000045,12.39159999999999,-2.2565000000000026,-0.15139999999999965,24.66890000000103,0.5399000000000456,2.920599999999979,-16.524900000000002,21.598399999999998,-9.685799999999972,-1.0822000000000038,-0.020499999999999893,-33.54700000000014,8.49909999999997,1.5270999999997343,8.868299999999863,-2.255999999999915,50.71410000000026,0.00040000000000010166,-0.6116999999999979,-0.014000000000000012,-0.07010000000000005,-0.004999999999999935,19.242900000000418,-1.4873999999999992,-0.06390000000000051,-0.003199999999999918,19.816299999999842,11.914700000000323,3.1392999999999773,0.6240000000000094,15.986899999999764,0.0942000000000025,5.596500000000162,-1.159600000000001,0.8688999999999965,1.188999999999993,62.60530000000006,12.524299999999926,-0.13969999999999994,22.25309999999996,13.633200000000045,-9.803299999999581,-14.011999999999603,-0.013099999999999778,0.2762000000000011,-1.5080000000000098,-0.9223999999999908,-4.876299999999333,-1.3712999999999838,35.54809999999816,28.716199999999844,-0.23350000000000648,8.603400000000022,1.1154999999999262,0.07089999999999863,3.3152999999994677,0.02239999999999992,0.0006000000000000935,-10.864500000000078,-0.03700000000000009,-77.0897,10.79940000000019,-0.1125000000000001,-0.015400000000000136,-0.005499999999999963,-0.010800000000000087,-6.25449999999995,-0.09780000000000832,0.06490000000001572,4.954899999999938,22.678099999999745,2.4842000000002145,14.463500000000238,-10.056200000000445,-0.0757000000000001,0.394000000000176,16.656099999999952,0.9410999999986416,5.5123000000001525,0.08670000000000666,-0.7953999999998587,1.7629000000000126,-0.0022999999999999132,-1.471499999999999,24.773699999999963,1.5146999999998343,0.012000000000000073,0.7231999999999061,5.815800000000046,-0.1535,-1.0970000000000013,-1.3623999999999938,3.3286000000000104,-5.813000000000027,3.501399999999876,9.51749999999987,0.09290000000000198,-5.881499999999846,2.0368000000000137,-28.47230000000036,0.3384999999999536,-0.0939999999999998,-1.171599999996488,-37.047199999999634,-13.429699999999954,-0.21179999999999993,-0.0680000000000004,4.083699999999851,-1.2005999999999943,-18.738699999999312,-0.2213999999999997,-4.271399999999971,-40.25370000000001,9.71445146547012e-17,-0.18759999999999988,-13.878399999998692,-0.8525999999999991,1.084699999999997,30.932499999999777,9.817500000000564,-9.055199999999445,1.6703999999999963,23.628900000000385,6.884800000000027,-2.6334000000001083,-9.553200000000002,-0.013900000000000301,-1.4766000000000021,0.3117999999999803,-0.8649999999999967,-9.80030000000022,-1.0292999999999979,-0.7709000000000046,8.715799999999604,-0.08709999999999973,-0.4319999999999973,3.525699999999574,5.363099999999974,-37.38399999999993,5.699600000000061,12.367100000000079,4.415199999999899,-9.490500000000111,-0.45379999999999754,-13.83460000000025,-1.0740000000000123,-23.249500000000523,0.2371000000000012,-4.6427000000009,-18.690199999999436,0.12259999999999938,99.62020000000166,0.3870999999999989,-0.030300000000000188,1.5609999999999982,7.786100000000204,0.4017000000000106,5.067799999999963,-0.37850000000001316,-0.19679999999999986,0.0006000000000000727,-1.0889999999999134,-0.050599999999999645,0.5331000000000472,-14.221699999999913,21.10669999999982,-8.571899999999914,1.3742999999998347,-6.531400000000019,3.6887000000000967,-7.020599999999604,19.56320000000008,21.79630000000003,6.471799999999803,10.675299999999993,-6.061400000000106,-8.116199999999026,-26.061300000000188,1.0776999999998225,0.2465999999999866,2.4518999999999735,-0.2890000000000015,-9.394499999999962,13.870199999999954,0.015299999999999953,163.19159999999965,-3.5677999999999486,174.33130000000392,-17.973599999999465,-6.602600000000024,-6.1541000000000565,2.431500000000014,33.86229999999955,-30.046300000000315,8.590199999999982,7.541499999999758,0.7676999999999952,-29.332499999999982,1.3524999999999494,-18.045099999999792,15.084399999999505,24.970800000000025,-0.00019999999999990165,-0.05569999999999958,34.421499999999924,26.14359999999988,-33.162499999999795,-7.569099999999821,-31.409400000000062,30.14410000000001,13.125799999999913,-77.72780000000012,1.8441999999999936,5.6007999999999925,7.310300000000183,0.5197999999999965,-2.4639999999999973,0.178500000000001,-0.0017999999999999058,-0.12339999999999485,-0.00019999999999991552,0.035499999999984766,-1.5147000000000332,-2.0233999999999597,-1.03250000000007,0.03099999999999989,-10.216500000000053,-1.5441000000000056,1.9959000000000202,4.808900000000165,51.902400000004036,-2.5322999999999922,-7.597700000000714,-18.73469999999986,-7.963000000000534,-1.875200000000092,0.5744999999999978,-0.9828000000000046,-8.48589999999993,-0.6369999999999862,-0.038500000000016854,1.8883999999993648,-2.8533000000000115,23.864900000000148,-0.04359999999999983,-17.860700000002453,28.30699999999956,16.12259999999975,13.41769999999994,-0.2825000000000013,-9.503199999999765,27.463199999999915,-13.616600000000744,-0.3825000000000006,-29.910200000000046,0.0003999999998711701,-6.223999999999933,-101.02680000000032,61.86439999999902,66.5494000000001,10.165800000000004,28.660599999999476,-1.7110000000000092,0.12459999999999383,0.09420000000000073,-1.9477999999999964,-10.073899999999966,-5.584800000000101,-3.0306999999996833,3.6207999999999814,37.89820000000077,-1.4968999999999255,7.124100000000567,22.867900000000077,15.413699999999494,-21.466600000000312,-6.032599999999945,-0.014600000000000002,11.516299999999916,-12.154999999999802,37.27840000000032,0.6192000000000917,9.99630000000002,4.207400000000234,-11.49520000000075,1.7836999999999534,-0.3648999999999907,-34.738199999999324,0.02559999999982665,2.5027000000006296,-8.382799999995768,-88.41010000000074,5.525900000000064,0.023999999999999966,-11.235800000000012,-2.135000000000076,24.222400000001016,10.923700000000338,11.314000000000021,-0.8673999999999928,-0.043599999999999806,-3.9573999999999927,-36.94990000000064,-0.04429999999999962,1.0357999999999876,85.84699999999793,1.1363999999999805,2.369800000000083,-13.982599999999906,-4.103799999999779,6.419700000000262,-9.16850000000008,-0.024300000000000058,-19.176300000000083,-0.5213000000000005,-17.173499999999933,-3.700400000000002,14.26449999999977,1.3547000000000224,-6.7744999999998186,0.025499999999999995,-22.010800000000017,-17.480300000000028,-0.019300000000004758,-0.4450999999999947,3.17020000000025,-1.744799999999998,-0.496499999999628,-5.385400000000018,0.07989999999999986,0.4919000000000118,-0.1266000000000005,-0.0038999999999999174,0.7306999999999988,0.8010000000000055,0.8362999999999374,0.4368999999999872,0.026500000000000024,-4.9087000000000245,-0.03699999999999995,31.204599999999914,-16.232200000000006,-5.0608999999999185,41.050800000000095,-6.34399999999988,-35.97050000000172,-39.62559999999996,-22.11189999999965,-3.407099999999957,-12.062199999999905,0.1328000000044085,-23.76520000000012,0.7338000000000235,-0.047799999999997844,-0.4188999999999936,10.518600000000049,-0.21880000000014377,-17.024599999999282,4.642599999999874,1.904200000000401,56.79009999999812,-7.110199999999992,-12.24820000000011,-3.388999999999946,-0.006799999999999695,17.701099999999883,40.1638999999999,-10.47100000000006,-0.958399999999969,4.557099999999707,-0.2512000000000003,2.698600000000283,-0.0002999999999999045,0.3965000000000174,-0.0658000000000003,-1.3397000000000014,-33.859700000000885,5.4787000000003445,-9.087299999999956,-5.570100000000252,1.1335000000000068,0.31329999999999725,7.521200000000022,-0.00519999999999992,0.010900000000000132,1.2681999999995242,-3.492100000000022,-1.759800000000011,7.060399999999902,0.1277999999999997,-2.5165999999996984,-0.8464000000000027,-0.05350000000000002,-0.9213999999999998,13.409500000000094,21.85410000000104,5.525599999999542,-2.6554999999999893,-23.193700000000177,-0.9280000000000008,0.9086000000000212,2.608999999999014,-3.477000000000025,-1.4933000000000334,-34.48630000000006,-0.8784000000000054,1.8298999999999808,-0.0770000000000001,23.117700000000156,-0.024900000000000033,7.162599999999998,-5.823199999999815,0.8949999999999942,51.160199999999804,-3.0875000000003183,16.198700000000144,-1.45709999999994,21.352199999999982,20.277199999999937,-2.2282000000000153,0.4613999999997418,43.33020000000039,1.3262000000006537,0.4150000000000018,-26.087599999999867,22.196499999999332,4.542799999999943,-5.90089999999995,8.376900000000091,-0.5587000000000053,35.189700000000016,2.999700000000047,1.2784000000002607,-19.060999999999808,-3.8848999999999165,-8.725900000000195,4.244200000000049,-10.521500000000515,6.951499999999953,-7.985400000000254,-2.525799999999993,45.65089999999873,34.93869999999987,-9.728200000000093,33.3007999999997,2.9471000000001766,-1.2330999999998085,-71.6032000000007,-0.09579999999999955,0.02860000000000057,-1.5506999999999778,-3.3385000000000176,-6.000899999999973,-9.057100000000162,47.34810000000033,-22.884399999999914,17.549000000000007,2.595099999999661,-22.228000000000748,-0.22340000000000027,0.5991000000000781,0.2302000000000035,19.910500000000866,-1.141399999999976,-0.11489999999997735,-5.642200000000045,-13.56780000000002,-11.669400000000223,12.986000000000217,-1.1553999999999953,-0.23559999999999537,0.49329999999974916,-0.012399999999999932,-16.223200000000105,-32.55639999999926,0.889599999999831,-4.178300000000036,4.707599999999985,-0.7456000000000671,0.4201000000000015,-0.7501000000000602,1.6404999999999532,23.614399999998113,-1.4618000000000015,5.865900000000266,3.9696,394.7051999999967,-3.753299999999996,-0.003499999999999913,1.5452999999997985,6.641200000000026,-0.003399999999999917,-6.682300000000168,-6.921899999999937,-0.010499999999999787,1.9151999999999987,-12.555199999999957,-0.054800000000000126,1.8569999999999425,-3.2146000000000186,11.129899999999893,26.152200000000164,-3.6841000000000435,25.282700000000148,16.273100000000113,17.948999999999728,3.115300000000019,0.6218999999999975,5.433799999999934,-23.418499999999995,25.193200000000047,-14.22709999999961,-0.0412,-1.047199999999993,17.41199999999992,-9.162799999999962,-6.624700000000303,-16.878900000000186,-4.821099999999987,-1.3210999999999942,-1.8910000000000196,17.77939999999944,-6.106499999999642,3.0969999999997526,-1.6225999999999932,0.26900000000000057,-0.34709999999999797,29.573599999999942,27.772500000000093,13.133399999999966,-0.12290000000000006,-34.556899999999814,-19.95890000000071,8.113599999999792,-1.962600000000009,-9.154700000000332,43.73489999999987,0.36270000000000113,-0.6443000000000083,21.5766000000001,0.050500000000000156,0.04909999999999837,9.590199999999868,73.33500000000186,-1.0530999999999153,9.431200000000445,-0.022199999999999928,-10.270600000000115,-15.11520000000013,0.21969999999998535,11.912599999999657,-0.007499999999999729,54.24330000000032,51.61289999999917,-0.07030000000000006,7.436399999999935,0.17009999999994818,0.9146000000001209,3.0952000000002613,1.0203000000001339,-17.323000000000235,0.5509999999999167,7.408300000003237,0.6676999999999573,9.020562075079397e-17,-0.1064,12.24739999999963,-12.254999999999995,-0.8334999999999297,-5.878200000000248,-2.785200000000117,-0.0003999999999999282,-1.5587999999999944,1.788399999999939,-4.4279000000001645,-0.5327999999999999,4.67319999999998,8.602799999998524,-5.570000000000334,-15.654800000000137,-1.6959000000002789,-16.66820000000024,-1.0126999999999882,22.265099999999507,-0.05610000000000015,-2.270400000000194,-0.43949999999998113,31.767699999999195,-16.59109999999987,-13.091899999999953,7.447699999999941,9.259200000000078,-0.0049999999999999,34.0240000000008,29.853100000000268,-44.89280000000042,9.907400000000052,5.267200000000685,15.68109999999993,0.2673000000000485,-9.495999999999299,1.1124999999996703,36.10629999999935,-0.33600000000002694,0.17970000000001107,0.6385999999999967,-10.131800000000453,-8.571199999999635,-1.6641999999997097,1.7634999999999579,-3.3397999999995704,1.12429999999992,0.018900000000000076,-0.08530000000001792,-0.18629999999999924,14.066299999998137,17.696299999999923,-4.511400000000208,1.6144999999999925,25.12269999999978,8.262299999999946,-14.010400000000118,18.324899999998706,8.88749999999959,-1.123099999999937,19.186799999999835,-0.008599999999999913,28.976999999997133,25.18339999999864,20.155499999999734,-13.543100000000209,-6.69889999999981,-1.9986000000003514,19.59719999999993,0.3429000000000091,0.130299999999977,0.14090000000001623,-17.159800000000473,-0.21560000000000246,-17.264699999999976,-1.257600000000025,6.368900000000394,-35.44190000000253,5.317299999999989,9.020562075079397e-17,0.3912000000000022,15.429200000000492,29.379900000000134,6.505399999999895,-0.0671999999999997,14.055000000000177,11.017500000000382,-25.64930000000004,-4.185700000000033,-7.03510000000017,-0.4499999999999744,-0.8446999999987383,-0.08110000000000006,19.067199999999445,9.437700000000177,-0.6649000000000029,25.606899999999428,-0.2453000000002703,-0.790499999999998,0.5408999999999793,-5.9669000000000665,-6.773699999999977,-0.01199999999999983,0.9975000000000023,-2.123400000000089,1.8992999999999256,10.727899999999636,-2.893999999999778,-23.74219999999957,-0.04399999999999987,14.348999999999876,-0.10849999999993543],\"type\":\"scatter\"}],                        {\"template\":{\"data\":{\"barpolar\":[{\"marker\":{\"line\":{\"color\":\"rgb(237,237,237)\",\"width\":0.5},\"pattern\":{\"fillmode\":\"overlay\",\"size\":10,\"solidity\":0.2}},\"type\":\"barpolar\"}],\"bar\":[{\"error_x\":{\"color\":\"rgb(51,51,51)\"},\"error_y\":{\"color\":\"rgb(51,51,51)\"},\"marker\":{\"line\":{\"color\":\"rgb(237,237,237)\",\"width\":0.5},\"pattern\":{\"fillmode\":\"overlay\",\"size\":10,\"solidity\":0.2}},\"type\":\"bar\"}],\"carpet\":[{\"aaxis\":{\"endlinecolor\":\"rgb(51,51,51)\",\"gridcolor\":\"white\",\"linecolor\":\"white\",\"minorgridcolor\":\"white\",\"startlinecolor\":\"rgb(51,51,51)\"},\"baxis\":{\"endlinecolor\":\"rgb(51,51,51)\",\"gridcolor\":\"white\",\"linecolor\":\"white\",\"minorgridcolor\":\"white\",\"startlinecolor\":\"rgb(51,51,51)\"},\"type\":\"carpet\"}],\"choropleth\":[{\"colorbar\":{\"outlinewidth\":0,\"tickcolor\":\"rgb(237,237,237)\",\"ticklen\":6,\"ticks\":\"inside\"},\"type\":\"choropleth\"}],\"contourcarpet\":[{\"colorbar\":{\"outlinewidth\":0,\"tickcolor\":\"rgb(237,237,237)\",\"ticklen\":6,\"ticks\":\"inside\"},\"type\":\"contourcarpet\"}],\"contour\":[{\"colorbar\":{\"outlinewidth\":0,\"tickcolor\":\"rgb(237,237,237)\",\"ticklen\":6,\"ticks\":\"inside\"},\"colorscale\":[[0,\"rgb(20,44,66)\"],[1,\"rgb(90,179,244)\"]],\"type\":\"contour\"}],\"heatmapgl\":[{\"colorbar\":{\"outlinewidth\":0,\"tickcolor\":\"rgb(237,237,237)\",\"ticklen\":6,\"ticks\":\"inside\"},\"colorscale\":[[0,\"rgb(20,44,66)\"],[1,\"rgb(90,179,244)\"]],\"type\":\"heatmapgl\"}],\"heatmap\":[{\"colorbar\":{\"outlinewidth\":0,\"tickcolor\":\"rgb(237,237,237)\",\"ticklen\":6,\"ticks\":\"inside\"},\"colorscale\":[[0,\"rgb(20,44,66)\"],[1,\"rgb(90,179,244)\"]],\"type\":\"heatmap\"}],\"histogram2dcontour\":[{\"colorbar\":{\"outlinewidth\":0,\"tickcolor\":\"rgb(237,237,237)\",\"ticklen\":6,\"ticks\":\"inside\"},\"colorscale\":[[0,\"rgb(20,44,66)\"],[1,\"rgb(90,179,244)\"]],\"type\":\"histogram2dcontour\"}],\"histogram2d\":[{\"colorbar\":{\"outlinewidth\":0,\"tickcolor\":\"rgb(237,237,237)\",\"ticklen\":6,\"ticks\":\"inside\"},\"colorscale\":[[0,\"rgb(20,44,66)\"],[1,\"rgb(90,179,244)\"]],\"type\":\"histogram2d\"}],\"histogram\":[{\"marker\":{\"pattern\":{\"fillmode\":\"overlay\",\"size\":10,\"solidity\":0.2}},\"type\":\"histogram\"}],\"mesh3d\":[{\"colorbar\":{\"outlinewidth\":0,\"tickcolor\":\"rgb(237,237,237)\",\"ticklen\":6,\"ticks\":\"inside\"},\"type\":\"mesh3d\"}],\"parcoords\":[{\"line\":{\"colorbar\":{\"outlinewidth\":0,\"tickcolor\":\"rgb(237,237,237)\",\"ticklen\":6,\"ticks\":\"inside\"}},\"type\":\"parcoords\"}],\"pie\":[{\"automargin\":true,\"type\":\"pie\"}],\"scatter3d\":[{\"line\":{\"colorbar\":{\"outlinewidth\":0,\"tickcolor\":\"rgb(237,237,237)\",\"ticklen\":6,\"ticks\":\"inside\"}},\"marker\":{\"colorbar\":{\"outlinewidth\":0,\"tickcolor\":\"rgb(237,237,237)\",\"ticklen\":6,\"ticks\":\"inside\"}},\"type\":\"scatter3d\"}],\"scattercarpet\":[{\"marker\":{\"colorbar\":{\"outlinewidth\":0,\"tickcolor\":\"rgb(237,237,237)\",\"ticklen\":6,\"ticks\":\"inside\"}},\"type\":\"scattercarpet\"}],\"scattergeo\":[{\"marker\":{\"colorbar\":{\"outlinewidth\":0,\"tickcolor\":\"rgb(237,237,237)\",\"ticklen\":6,\"ticks\":\"inside\"}},\"type\":\"scattergeo\"}],\"scattergl\":[{\"marker\":{\"colorbar\":{\"outlinewidth\":0,\"tickcolor\":\"rgb(237,237,237)\",\"ticklen\":6,\"ticks\":\"inside\"}},\"type\":\"scattergl\"}],\"scattermapbox\":[{\"marker\":{\"colorbar\":{\"outlinewidth\":0,\"tickcolor\":\"rgb(237,237,237)\",\"ticklen\":6,\"ticks\":\"inside\"}},\"type\":\"scattermapbox\"}],\"scatterpolargl\":[{\"marker\":{\"colorbar\":{\"outlinewidth\":0,\"tickcolor\":\"rgb(237,237,237)\",\"ticklen\":6,\"ticks\":\"inside\"}},\"type\":\"scatterpolargl\"}],\"scatterpolar\":[{\"marker\":{\"colorbar\":{\"outlinewidth\":0,\"tickcolor\":\"rgb(237,237,237)\",\"ticklen\":6,\"ticks\":\"inside\"}},\"type\":\"scatterpolar\"}],\"scatter\":[{\"fillpattern\":{\"fillmode\":\"overlay\",\"size\":10,\"solidity\":0.2},\"type\":\"scatter\"}],\"scatterternary\":[{\"marker\":{\"colorbar\":{\"outlinewidth\":0,\"tickcolor\":\"rgb(237,237,237)\",\"ticklen\":6,\"ticks\":\"inside\"}},\"type\":\"scatterternary\"}],\"surface\":[{\"colorbar\":{\"outlinewidth\":0,\"tickcolor\":\"rgb(237,237,237)\",\"ticklen\":6,\"ticks\":\"inside\"},\"colorscale\":[[0,\"rgb(20,44,66)\"],[1,\"rgb(90,179,244)\"]],\"type\":\"surface\"}],\"table\":[{\"cells\":{\"fill\":{\"color\":\"rgb(237,237,237)\"},\"line\":{\"color\":\"white\"}},\"header\":{\"fill\":{\"color\":\"rgb(217,217,217)\"},\"line\":{\"color\":\"white\"}},\"type\":\"table\"}]},\"layout\":{\"annotationdefaults\":{\"arrowhead\":0,\"arrowwidth\":1},\"autotypenumbers\":\"strict\",\"coloraxis\":{\"colorbar\":{\"outlinewidth\":0,\"tickcolor\":\"rgb(237,237,237)\",\"ticklen\":6,\"ticks\":\"inside\"}},\"colorscale\":{\"sequential\":[[0,\"rgb(20,44,66)\"],[1,\"rgb(90,179,244)\"]],\"sequentialminus\":[[0,\"rgb(20,44,66)\"],[1,\"rgb(90,179,244)\"]]},\"colorway\":[\"#F8766D\",\"#A3A500\",\"#00BF7D\",\"#00B0F6\",\"#E76BF3\"],\"font\":{\"color\":\"rgb(51,51,51)\"},\"geo\":{\"bgcolor\":\"white\",\"lakecolor\":\"white\",\"landcolor\":\"rgb(237,237,237)\",\"showlakes\":true,\"showland\":true,\"subunitcolor\":\"white\"},\"hoverlabel\":{\"align\":\"left\"},\"hovermode\":\"closest\",\"paper_bgcolor\":\"white\",\"plot_bgcolor\":\"rgb(237,237,237)\",\"polar\":{\"angularaxis\":{\"gridcolor\":\"white\",\"linecolor\":\"white\",\"showgrid\":true,\"tickcolor\":\"rgb(51,51,51)\",\"ticks\":\"outside\"},\"bgcolor\":\"rgb(237,237,237)\",\"radialaxis\":{\"gridcolor\":\"white\",\"linecolor\":\"white\",\"showgrid\":true,\"tickcolor\":\"rgb(51,51,51)\",\"ticks\":\"outside\"}},\"scene\":{\"xaxis\":{\"backgroundcolor\":\"rgb(237,237,237)\",\"gridcolor\":\"white\",\"gridwidth\":2,\"linecolor\":\"white\",\"showbackground\":true,\"showgrid\":true,\"tickcolor\":\"rgb(51,51,51)\",\"ticks\":\"outside\",\"zerolinecolor\":\"white\"},\"yaxis\":{\"backgroundcolor\":\"rgb(237,237,237)\",\"gridcolor\":\"white\",\"gridwidth\":2,\"linecolor\":\"white\",\"showbackground\":true,\"showgrid\":true,\"tickcolor\":\"rgb(51,51,51)\",\"ticks\":\"outside\",\"zerolinecolor\":\"white\"},\"zaxis\":{\"backgroundcolor\":\"rgb(237,237,237)\",\"gridcolor\":\"white\",\"gridwidth\":2,\"linecolor\":\"white\",\"showbackground\":true,\"showgrid\":true,\"tickcolor\":\"rgb(51,51,51)\",\"ticks\":\"outside\",\"zerolinecolor\":\"white\"}},\"shapedefaults\":{\"fillcolor\":\"black\",\"line\":{\"width\":0},\"opacity\":0.3},\"ternary\":{\"aaxis\":{\"gridcolor\":\"white\",\"linecolor\":\"white\",\"showgrid\":true,\"tickcolor\":\"rgb(51,51,51)\",\"ticks\":\"outside\"},\"baxis\":{\"gridcolor\":\"white\",\"linecolor\":\"white\",\"showgrid\":true,\"tickcolor\":\"rgb(51,51,51)\",\"ticks\":\"outside\"},\"bgcolor\":\"rgb(237,237,237)\",\"caxis\":{\"gridcolor\":\"white\",\"linecolor\":\"white\",\"showgrid\":true,\"tickcolor\":\"rgb(51,51,51)\",\"ticks\":\"outside\"}},\"xaxis\":{\"automargin\":true,\"gridcolor\":\"white\",\"linecolor\":\"white\",\"showgrid\":true,\"tickcolor\":\"rgb(51,51,51)\",\"ticks\":\"outside\",\"title\":{\"standoff\":15},\"zerolinecolor\":\"white\"},\"yaxis\":{\"automargin\":true,\"gridcolor\":\"white\",\"linecolor\":\"white\",\"showgrid\":true,\"tickcolor\":\"rgb(51,51,51)\",\"ticks\":\"outside\",\"title\":{\"standoff\":15},\"zerolinecolor\":\"white\"}}},\"title\":{\"text\":\"Predicted vs. Residuals - Full Data\"},\"xaxis\":{\"title\":{\"text\":\"Prices\"}},\"yaxis\":{\"title\":{\"text\":\"Predicted prices\"}},\"autosize\":false,\"width\":700,\"height\":500},                        {\"responsive\": true}                    ).then(function(){\n",
              "                            \n",
              "var gd = document.getElementById('f58c7ce4-bdcc-4035-ac58-99f89a2f5f82');\n",
              "var x = new MutationObserver(function (mutations, observer) {{\n",
              "        var display = window.getComputedStyle(gd).display;\n",
              "        if (!display || display === 'none') {{\n",
              "            console.log([gd, 'removed!']);\n",
              "            Plotly.purge(gd);\n",
              "            observer.disconnect();\n",
              "        }}\n",
              "}});\n",
              "\n",
              "// Listen for the removal of the full notebook cells\n",
              "var notebookContainer = gd.closest('#notebook-container');\n",
              "if (notebookContainer) {{\n",
              "    x.observe(notebookContainer, {childList: true});\n",
              "}}\n",
              "\n",
              "// Listen for the clearing of the current output cell\n",
              "var outputEl = gd.closest('.output');\n",
              "if (outputEl) {{\n",
              "    x.observe(outputEl, {childList: true});\n",
              "}}\n",
              "\n",
              "                        })                };                            </script>        </div>\n",
              "</body>\n",
              "</html>"
            ]
          },
          "metadata": {}
        }
      ]
    },
    {
      "cell_type": "code",
      "source": [
        "#Full data residuals\n",
        "fig = go.Figure()\n",
        "fig.add_trace(go.Scatter(x=y_pred_p, \n",
        "                         y=y_test_p-y_pred_p,\n",
        "                         mode='markers'))\n",
        "fig.update_layout(title=\"Predicted vs. Residuals - Puts\",\n",
        "                  xaxis_title=\"Prices\",\n",
        "                  yaxis_title=\"Predicted prices\",\n",
        "                  template='ggplot2',\n",
        "                  autosize=False,\n",
        "                  width=700,\n",
        "                  height=500,)\n",
        "fig.show()"
      ],
      "metadata": {
        "colab": {
          "base_uri": "https://localhost:8080/",
          "height": 517
        },
        "id": "CbTVdQfAtYbI",
        "outputId": "d6822f0b-d788-4be7-b53e-e77e73eb0c92"
      },
      "execution_count": null,
      "outputs": [
        {
          "output_type": "display_data",
          "data": {
            "text/html": [
              "<html>\n",
              "<head><meta charset=\"utf-8\" /></head>\n",
              "<body>\n",
              "    <div>            <script src=\"https://cdnjs.cloudflare.com/ajax/libs/mathjax/2.7.5/MathJax.js?config=TeX-AMS-MML_SVG\"></script><script type=\"text/javascript\">if (window.MathJax && window.MathJax.Hub && window.MathJax.Hub.Config) {window.MathJax.Hub.Config({SVG: {font: \"STIX-Web\"}});}</script>                <script type=\"text/javascript\">window.PlotlyConfig = {MathJaxConfig: 'local'};</script>\n",
              "        <script src=\"https://cdn.plot.ly/plotly-2.18.2.min.js\"></script>                <div id=\"855ebdad-6be2-4576-b751-51155acca753\" class=\"plotly-graph-div\" style=\"height:500px; width:700px;\"></div>            <script type=\"text/javascript\">                                    window.PLOTLYENV=window.PLOTLYENV || {};                                    if (document.getElementById(\"855ebdad-6be2-4576-b751-51155acca753\")) {                    Plotly.newPlot(                        \"855ebdad-6be2-4576-b751-51155acca753\",                        [{\"mode\":\"markers\",\"x\":[15.428299999999979,0.04999999999999991,77.4914000000001,3.8050000000000055,6.1220999999999925,14.145499999999991,0.1878999999999997,117.63460000000003,124.77930000000008,60.02530000000008,3.5024000000000024,61.054299999999984,1.2476000000000003,217.82099999999983,143.1718000000001,0.4104000000000003,36.56659999999997,7.65040000000001,40.246700000000004,43.116400000000006,13.093600000000007,22.458300000000005,0.2321,41.768800000000034,41.617399999999996,364.8111000000001,220.69389999999984,359.3562000000001,20.093199999999978,33.15140000000006,100.48229999999994,1500.318499999999,1026.5613999999994,1.5437999999999994,0.3891999999999998,237.70510000000013,120.81110000000017,52.817699999999995,89.42199999999997,871.5494999999995,23.38839999999997,18.208999999999996,0.07510000000000003,213.5639000000001,4390.366200000001,7.819599999999989,1.9772000000000007,1.1676999999999995,4.319599999999999,0.05599999999999991,129.4998999999999,24.807399999999983,0.786099999999999,1053.1237999999996,42.55989999999998,178.21899999999997,70.35370000000005,17.290999999999997,223.38409999999982,16.855800000000016,55.5432,1.3409999999999982,57.03870000000006,1966.8677999999993,47.52619999999996,14.777399999999993,0.05119999999999991,33.87780000000002,40.4597,212.9709000000001,2.4067999999999996,51.050799999999946,83.94269999999993,8.489999999999991,1.6813000000000002,325.1448999999999,160.2707000000002,0.3074,5.836500000000002,6.608200000000003,91.84980000000003,123.05269999999999,237.6613999999998,0.3820999999999997,0.051999999999999914,283.15160000000003,0.10839999999999987,58.2387,186.37670000000028,626.9743000000004,252.24070000000015,101.12689999999999,2.948500000000001,230.31580000000002,186.4676999999999,522.3628000000001,183.08459999999988,709.5598999999999,0.052199999999999906,83.0266000000001,189.46289999999996,37.91310000000001,41.70289999999998,26.037900000000004,9.685200000000004,147.00590000000017,4.2709000000000055,0.33679999999999943,361.0163,0.04819999999999992,2.457299999999996,81.10639999999998,548.1698000000001,90.27750000000006,1120.4570000000008,17.9366,55.1507,0.5496000000000003,151.65579999999986,50.355500000000035,33.066900000000054,41.27189999999998,21.02820000000003,1389.6827999999994,78.66740000000009,153.52389999999986,233.20660000000004,0.050999999999999907,128.56510000000003,7.881400000000005,131.81580000000014,61.63820000000004,5.918699999999998,20.71050000000002,6.425299999999996,257.2697,12.264100000000003,181.2817000000001,0.14490000000000014,6.8311,3.765099999999994,186.09720000000027,413.6150999999996,11.114300000000004,9.72870000000001,3.1405000000000003,61.63260000000002,36.771399999999964,268.39910000000043,0.13770000000000007,5.451000000000006,1.890800000000002,40.1374,60.14970000000007,384.9664999999999,190.07269999999994,17.509699999999988,186.995,177.72050000000013,67.8047999999999,22.5721,39.54750000000002,18.8831,8.010499999999993,133.7307,27.732200000000006,51.2043,670.0974999999999,899.7088000000009,0.08709999999999991,6.4331999999999985,11.029099999999996,86.05779999999999,2147.4146,0.0886,0.07679999999999994,14.836699999999993,2.8190999999999997,243.6336000000002,15.114600000000006,86.41560000000007,6.606900000000005,1036.5823999999984,1008.2342999999997,120.48819999999998,32.6126,22.79209999999997,189.2279999999997,59.476499999999895,4400.159399999999,59.26889999999997,166.42980000000017,6.275499999999998,130.51720000000014,10.194199999999984,45.91799999999995,1.813999999999997,63.63229999999998,37.38419999999994,26.413200000000007,54.85139999999991,2.748999999999999,11.915,51.90429999999999,6.832199999999993,120.05440000000004,223.78630000000015,36.30359999999999,197.98380000000026,102.20069999999994,27.716399999999975,54.7538,192.06229999999994,797.9457000000003,8.035699999999997,135.0788999999999,178.9450999999999,52.929299999999955,12.158000000000005,0.14400000000000013,0.9897999999999993,223.68310000000028,1.4780000000000015,80.05510000000005,22.944800000000022,0.30450000000000044,11.8376,100.98339999999995,2.310799999999999,0.7929999999999998,6.905300000000002,33.329400000000064,285.84490000000005,4338.107799999995,0.0504999999999999,1.837899999999999,28.957599999999974,16.110500000000005,6.035799999999999,131.8867000000002,212.68309999999994,6.110700000000003,160.22029999999984,0.2384999999999999,674.0292999999994,17.24889999999999,0.1340000000000001,0.29560000000000053,0.1611000000000001,156.5829000000002,43.09579999999998,74.28340000000007,9.062499999999986,2.4174000000000024,10.791099999999993,904.9022000000003,83.04389999999995,0.3259,0.25899999999999995,114.72530000000005,10.002000000000008,88.1998,3.4712,159.9540000000002,230.07780000000002,0.049999999999999906,92.37339999999995,205.73859999999993,58.78699999999998,68.89590000000007,1046.0759999999987,0.6938999999999996,1.8935000000000002,82.99820000000008,115.12979999999997,181.06939999999997,304.11250000000024,198.4093000000001,110.88769999999997,0.0507999999999999,187.1662,2.3408999999999995,19.17779999999998,11.1142,1.786300000000001,2407.362299999999,2.3794999999999966,28.000900000000005,0.6705000000000004,86.00319999999996,28.5629,211.3766,107.0103999999999,46.9711,0.7849999999999996,207.1107999999997,345.08610000000016,104.95510000000006,25.05319999999999,2.7535000000000007,20.225399999999997,206.3942,92.93439999999993,0.32519999999999977,27.251799999999974,69.08339999999997,2.4706000000000023,46.7813,144.22940000000008,710.3915000000001,16.93690000000001,223.0844999999998,102.37799999999991,63.25720000000004,9.27400000000001,87.62840000000007,199.47589999999997,27.833799999999982,1.3930000000000013,93.76909999999997,10.195400000000005,126.55689999999998,0.49630000000000046,9.035599999999992,0.0634999999999999,97.52730000000012,15.854200000000024,4.412099999999995,126.17260000000009,21.5513,9.103099999999989,50.723300000000016,39.91750000000002,19.22470000000001,5.8928999999999965,6.796799999999999,11.448300000000009,22.862799999999964,24.288799999999977,12.535500000000006,23.32580000000002,0.04999999999999991,1282.0058999999997,10.028200000000004,0.20049999999999962,2.9220000000000006,0.2930999999999996,0.15050000000000022,383.6554,964.3354000000004,2.6190999999999973,28.105399999999978,4.864100000000006,11.19600000000001,856.6275000000013,0.5363999999999998,213.3603999999999,116.71529999999996,0.6152000000000007,0.4169000000000001,28.41649999999996,0.3773999999999998,27.716800000000013,68.02859999999997,74.08630000000005,185.6112,0.5716999999999994,18.09780000000001,15.271900000000008,2.7892,25.805800000000023,140.02339999999992,0.04999999999999991,28.789000000000016,3238.4774999999963,5.859599999999997,20.31720000000001,30.57319999999998,1.4076999999999995,6.787999999999998,1096.6690999999992,50.32260000000009,1.7997000000000007,794.0249000000007,177.70739999999995,38.24150000000002,176.38449999999986,0.4647000000000002,104.5898,29.204100000000004,10.211099999999995,259.18600000000004,113.85950000000001,37.47510000000002,90.61759999999997,97.04060000000003,8.492500000000001,5.358799999999998,30.058799999999977,28.54470000000003,3.044500000000001,3.7211999999999996,92.52289999999995,2.7981000000000007,295.22329999999977,88.15840000000009,23.0486,682.7236000000006,35.505900000000004,0.14800000000000016,168.0972999999998,14.619299999999988,13.267999999999995,2333.032600000002,0.18739999999999973,11.59249999999999,1.0729999999999986,68.02159999999998,2.8343000000000003,3335.9101000000037,35.44430000000003,92.73470000000002,60.558699999999945,352.32489999999984,0.2501,102.21949999999998,79.91009999999999,23.018300000000018,339.1120999999998,3.891499999999998,0.19319999999999976,258.48570000000024,270.83140000000003,0.05149999999999991,2.8709999999999996,104.55500000000005,21.918700000000005,100.82619999999999,0.0694999999999999,2.6969999999999987,7.116800000000005,0.1494000000000002,37.52979999999998,23.461299999999973,457.08749999999964,36.13109999999997,30.874799999999983,23.32840000000001,94.68530000000004,5.645899999999998,680.3787000000004,6.753299999999996,4316.179799999998,229.8215,163.45630000000014,137.72820000000007,25.06740000000001,37.72089999999997,17.801999999999996,11.397900000000009,78.33790000000005,0.13519999999999993,53.996400000000015,0.05079999999999992,19.143300000000014,90.42360000000001,0.10050000000000008,123.93050000000005,102.4878,400.8958000000003,0.1047999999999999,0.49399999999999983,1.2001999999999984,11.180100000000005,67.18900000000005,169.09030000000013,0.5183000000000008,0.3605,1.2572000000000012,0.08749999999999991,26.80639999999999,0.14280000000000004,86.47079999999998,90.0382,4.0824000000000025,28.596300000000024,311.75349999999975,44.455800000000046,65.5554999999999,38.07190000000001,63.537400000000055,2592.091399999999,36.11190000000002,47.184799999999996,13.062399999999995,29.88599999999999,0.0524999999999999,117.94099999999997,0.6775000000000001,283.2501999999998,4.011900000000001,20.313900000000018,34.397699999999965,0.18409999999999982,112.73779999999995,3.3199000000000023,7.7351,150.97009999999992,7.307100000000002,10.480500000000008,155.91599999999988,72.53629999999994,37.477200000000025,15.943,31.65600000000001,259.86440000000016,8.144900000000002,110.40180000000005,79.95769999999997,0.49960000000000043,8.09289999999999,47.17839999999999,211.37249999999992,45.709999999999965,32.084699999999955,21.919399999999982,543.4815999999998,11.669599999999996,38.43019999999994,1930.9396999999992,273.55829999999963,6.9795000000000105,176.54769999999996,0.05229999999999992,19.76809999999998,758.2379000000004,0.27630000000000043,57.66859999999997,47.17070000000004,272.9437000000004,238.1909999999998,43.237700000000025,30.852399999999978,1118.0092999999997,0.1894999999999998,82.20420000000004,0.3097999999999999,45.70500000000001,53.4418,0.10949999999999989,19.199599999999997,51.90919999999995,37.07290000000001,24.84779999999999,84.46160000000005,583.98,124.26089999999996,18.28879999999998,5.590100000000003,1.9015000000000004,2027.950300000002,85.74929999999995,32.71389999999999,22.225899999999978,40.94660000000001,38.255700000000026,7.4402,0.2041999999999998,0.11239999999999982,17.911999999999964,336.2623,520.7403000000004,44.27989999999996,13.159000000000013,100.58949999999997,0.051999999999999914,98.51550000000006,30.595100000000038,282.4108000000001,209.4702,17.313499999999987,0.7966000000000006,113.18230000000007,56.38270000000007,0.049999999999999906,2.7299999999999973,1386.9288999999992,1.1959999999999988,545.3368999999997,72.89330000000012,64.12569999999992,183.66870000000006,252.3757000000001,51.655199999999994,39.56349999999998,0.3393999999999997,41.05829999999999,22.076200000000025,159.80840000000006,209.02420000000006,12.241900000000003,19.332400000000003,3.7012999999999967,45.16569999999999,0.4954000000000006,132.30460000000002,125.74100000000003,4346.9618,65.99800000000005,39.44569999999998,5.2932,87.2314,429.0934000000001,351.2587999999996,232.19229999999985,0.49300000000000016,144.2503000000001,35.14209999999996,10.041600000000003,7.244699999999994,19.500500000000027,3.6865000000000006,89.16269999999999,0.1916,46.22960000000002,59.24089999999992,3.783100000000001,117.08469999999997,41.75069999999999,124.25859999999992,22.698899999999984,0.12229999999999991,14.581999999999987,109.67309999999986,5.2090999999999985,5.042599999999997,180.10800000000006,16.357399999999988,73.7167999999999,0.22099999999999975,3.371400000000001,143.96240000000006,144.90320000000014,228.0137999999999,127.0909000000001,0.5390999999999994,0.3818999999999997,9.07729999999999,1.1040999999999992,179.3422000000002,76.45330000000008,3.498400000000002,53.68670000000004,170.36349999999987,2.034799999999999,817.7748000000004,408.6484999999997,158.41410000000005,0.050199999999999904,50.36190000000004,414.88650000000024,11.219499999999993,5.739199999999996,0.04999999999999991,32.05370000000002,1.3500999999999985,0.29700000000000015,229.04939999999996,210.54780000000014,3.7636999999999987,2811.6576999999984,5.463900000000002,24.297200000000018,0.4155999999999997,260.7282,3.6477999999999993,0.2238,22.083000000000023,40.54369999999999,0.27809999999999974,2.2322000000000033,0.3679999999999998,39.499700000000026,6.665800000000007,29.768300000000018,29.814799999999963,86.34509999999989,5.196699999999998,114.98279999999991,121.60190000000013,3.9785000000000013,34.78649999999996,112.29239999999986,34.52379999999995,31.443500000000018,24.361799999999985,2067.836999999999,224.99919999999997,0.755400000000001,0.839999999999999,12.779999999999987,129.33249999999998,0.25819999999999976,2.1708000000000003,0.07639999999999994,0.13760000000000006,1036.0805999999998,41.760000000000026,216.24239999999983,83.50169999999991,43.329700000000024,107.1696,71.65010000000011,59.17060000000005,29.458600000000057,11.213100000000004,83.44449999999993,2827.642399999999,135.02880000000013,159.05279999999982,135.3287000000001,682.8838999999998,45.6162,187.5278,0.15600000000000017,0.21779999999999983,70.38240000000008,0.30769999999999953,0.08879999999999999,18.473200000000013,3106.291699999999,9.386499999999998,411.5623000000001,37.32880000000001,270.16960000000006,142.05980000000014,41.589800000000004,14.308100000000014,20.968799999999966,0.5068999999999995,0.6449000000000001,58.930900000000065,332.11250000000024,25.339499999999976,136.19320000000005,25.626799999999985,82.06439999999992,0.1432000000000001,265.2609000000003,0.18269999999999997,314.69640000000055,211.07460000000003,93.58549999999995,54.73889999999999,5.738599999999996,435.5002000000001,486.2311000000006,121.92939999999992,28.29560000000002,8.337299999999997,33.491799999999955,51.889600000000016,1057.2752999999984,6.397700000000001,35.9494,73.36149999999999,12.694799999999995,826.9209000000003,19.276499999999984,62.07299999999994,17.090599999999988,0.4837999999999997,239.20950000000016,77.51890000000012,0.14390000000000017,318.24150000000014,67.93610000000005,760.1893000000008,472.82399999999944,3.2593000000000005,95.10880000000002,63.46270000000001,27.202699999999997,30.971199999999982,0.09760000000000008,51.776400000000024,402.99929999999955,5.899099999999996,30.135199999999976,0.6120999999999999,0.5009999999999997,52.94960000000004,40.94959999999996,1.6558000000000022,18.75100000000001,239.19010000000014,74.84339999999999,33.50290000000001,101.73349999999999,49.71220000000001,18.479499999999994,63.179200000000016,0.5597999999999996,1.8284999999999985,48.79550000000003,57.098599999999976,44.5208,7.648299999999998,131.58190000000005,0.0654999999999999,51.03570000000007,224.4217000000001,99.95300000000009,89.53289999999998,0.7912000000000006,63.29039999999992,0.15790000000000018,53.55229999999996,53.456100000000035,1.6638000000000022,194.1426999999999,262.54839999999973,0.24599999999999997,47.74530000000002,0.05229999999999992,4.777599999999998,0.06169999999999991,0.049999999999999906,88.51499999999994,41.83160000000004,2.5740999999999974,79.97140000000002,6.196799999999997,12.274999999999995,47.111799999999945,444.7931999999996,5.471499999999997,65.3194000000001,1067.9063999999987,104.17169999999996,0.0518999999999999,15.844400000000006,471.1563999999993,78.9837,361.6944999999999,22.908599999999982,88.2756999999999,241.39039999999974,1.735300000000001,639.9713000000008,10.569400000000012,91.3961,1.6536999999999986,0.5049999999999996,74.1180000000001,44.006300000000046,1213.970899999998,23.780800000000003,549.5787999999994,23.014499999999988,3.5114,2.2836000000000016,4.973799999999999,12.855099999999984,19.432700000000015,93.47940000000011,13.988300000000002,372.4557999999997,0.2567999999999998,8.64980000000001,3.2252000000000005,76.93100000000005,40.2693,97.34440000000006,52.148599999999995,0.13459999999999986,8.285199999999996,17.13809999999999,147.81149999999997,5.6179,98.03829999999999,115.33119999999991,109.08790000000003,0.5514999999999999,95.14260000000007,38.594599999999986,11.120300000000002,4.3435,104.66249999999991,0.2583000000000001,18.689499999999992,541.7663999999997,134.62340000000003,2.5868999999999986,5.932599999999995,254.01659999999995,61.81349999999997,4.345999999999993,42.44849999999996,44.02110000000004,0.04999999999999991,0.21050000000000021,677.5958000000008,69.80660000000002,66.18369999999996,13.460500000000007,0.12009999999999993,0.9864999999999986,15.05439999999998,12.884099999999997,263.09469999999976,4.6394000000000055,4.290599999999997,0.1971999999999997,142.37720000000002,0.8890000000000008,0.3983999999999994,87.79370000000003,473.5146999999994,0.4136999999999997,338.6356999999999,70.34959999999992,325.93270000000024,119.53779999999999,67.01349999999991,86.41550000000001,28.241,22.937400000000004,150.33520000000004,147.34880000000004,65.56699999999998,3915.032600000003,101.33709999999995,195.8045999999999,6.354699999999995,36.840400000000045,113.1804,124.24820000000004,114.67409999999992,3.6428000000000016,62.6084,1.6119000000000008,0.12600000000000006,31.53749999999998,3.176199999999996,0.13079999999999994],\"y\":[-0.06829999999997938,9.020562075079397e-17,2.038599999999903,0.6949999999999945,-0.3220999999999927,-1.865499999999992,0.012100000000000305,-7.03460000000004,7.920699999999911,1.2446999999999235,0.6975999999999978,-1.2542999999999864,0.0023999999999997357,-24.220999999999833,-4.07180000000011,0.03959999999999969,-0.9665999999999713,-0.16040000000000987,3.1732999999999976,6.473599999999998,1.386399999999993,0.041699999999995185,0.16790000000000002,-0.9688000000000372,-1.1173999999999964,-3.5211000000001036,9.786100000000147,-3.26620000000014,0.6668000000000234,-1.5414000000000598,2.857700000000065,38.8815000000011,-127.86139999999932,0.0062000000000006494,-0.08919999999999983,-18.68510000000012,0.21889999999983445,2.3723000000000027,-4.551999999999964,5.550500000000511,-0.3783999999999672,0.8910000000000053,-0.025100000000000025,10.986099999999908,258.8837999999987,-0.21959999999998914,0.27279999999999927,-0.11769999999999947,2.3804000000000007,-0.005999999999999908,29.81010000000009,-0.10739999999998417,0.06390000000000096,-193.22379999999964,0.8401000000000209,7.821000000000026,-1.7537000000000518,-2.120999999999997,-11.884099999999819,-2.155800000000017,4.386800000000001,-0.0909999999999982,0.011299999999934585,16.032200000000785,-2.726199999999963,-0.6273999999999926,-0.0011999999999999095,-0.19780000000002218,-0.7496999999999971,-25.84090000000012,0.2432000000000003,0.4192000000000533,-0.3526999999999276,-0.18999999999999062,-0.03130000000000033,6.735100000000102,-13.120700000000198,-0.03739999999999999,-0.18650000000000144,0.3517999999999972,1.8501999999999725,-0.25269999999999015,-19.631399999999786,-0.03209999999999974,-0.0019999999999999116,16.158399999999972,-0.008399999999999866,1.7113000000000014,1.0332999999997128,26.32569999999953,1.759299999999854,-9.486899999999991,-0.21850000000000103,0.4441999999999666,23.982300000000095,-7.90280000000007,-12.884599999999892,-17.979899999999816,-0.0021999999999999034,0.3433999999999031,10.537100000000038,-2.163100000000007,-4.542899999999982,-0.7579000000000029,0.04479999999999684,12.314099999999826,0.12909999999999489,-0.28679999999999944,28.183699999999988,0.0018000000000000793,0.04270000000000396,1.1436000000000206,7.830199999999877,3.6524999999999466,-39.95700000000079,-0.9365999999999985,0.20929999999999893,-0.0996000000000003,-1.3157999999998538,-0.9755000000000322,0.4230999999999483,1.93810000000002,-0.09820000000003049,56.91720000000055,-0.4874000000000791,13.676100000000133,5.883399999999966,-0.0009999999999999037,2.634899999999959,-0.8814000000000046,-0.02580000000014593,-1.5382000000000389,0.08130000000000237,0.169499999999978,-0.16529999999999578,13.470300000000009,-1.6341000000000019,2.5182999999999254,0.005099999999999855,-0.11110000000000042,-0.16509999999999403,3.442799999999721,-37.7850999999996,0.08569999999999567,-0.458700000000011,0.18949999999999978,1.067399999999985,-0.5013999999999612,-4.849100000000419,-0.03770000000000007,-5.001000000000006,-0.040800000000001946,-1.037399999999998,2.1302999999999344,32.15350000000012,19.527300000000054,0.8603000000000129,-8.375,-0.030500000000131422,0.015200000000092473,-0.9120999999999988,5.202499999999979,2.2169000000000025,0.33950000000000635,-1.1807000000000016,-0.982200000000006,-0.2143000000000015,-117.99749999999983,-0.4288000000009333,-0.03709999999999991,-0.13319999999999865,0.47090000000000387,-9.01779999999998,-21.77460000000019,-0.038599999999999995,-0.026799999999999935,-0.5366999999999926,-0.6690999999999998,-9.003600000000205,0.7153999999999936,-2.715600000000066,-0.4069000000000047,-106.0923999999984,49.365700000000174,-4.988199999999978,1.1873999999999967,-0.5720999999999705,-1.8479999999997005,0.17350000000010368,124.81060000000161,6.151100000000035,12.170199999999824,-0.17549999999999866,4.5127999999998565,-0.0041999999999848825,-0.5779999999999461,-0.11399999999999699,-2.7122999999999777,1.115800000000057,-0.37320000000000775,-0.17139999999991318,0.1710000000000007,-0.504999999999999,0.3357000000000099,-0.4321999999999928,-0.05440000000004375,-27.096300000000156,1.396400000000014,-1.8838000000002637,-4.830699999999936,-0.01639999999997599,-0.5337999999999994,-4.162299999999931,10.484299999999621,0.014300000000003976,-4.428899999999885,-3.0450999999999055,1.9707000000000434,-0.698000000000004,0.05599999999999988,0.12020000000000075,-6.763100000000293,-0.1780000000000015,-16.02510000000005,-0.16480000000002093,-0.05450000000000044,-0.18759999999999977,1.3166000000000508,-0.07079999999999886,0.007000000000000228,0.49469999999999814,-1.4194000000000635,26.00509999999997,-76.80779999999504,-0.0004999999999998964,-0.08789999999999898,-0.9575999999999745,-0.330500000000006,0.7142000000000008,8.873299999999801,-4.483099999999951,0.6292999999999971,-9.02029999999985,0.011500000000000093,-6.409299999999348,0.3411000000000115,-0.06400000000000008,-0.24560000000000054,0.03889999999999991,0.17709999999979686,-0.49579999999998137,-2.163400000000067,-0.6224999999999863,-0.2674000000000025,-0.22109999999999275,41.847799999999665,1.5061000000000462,-0.11590000000000003,-0.05899999999999994,2.774699999999953,-0.20200000000000706,8.20020000000001,0.5787999999999998,-12.054000000000201,-6.70780000000002,9.71445146547012e-17,6.906600000000054,-7.63859999999994,1.3330000000000197,-3.3559000000000623,373.2240000000013,0.006100000000000327,-0.09350000000000014,15.031799999999919,2.030200000000022,16.53060000000002,38.78749999999974,-15.22930000000008,-0.027699999999967417,-0.000799999999999898,-7.496200000000016,-0.33089999999999975,-1.5777999999999786,0.35580000000000034,-0.23630000000000106,40.907700000001114,-0.12949999999999662,-3.000900000000005,0.049499999999999544,5.896800000000042,5.137100000000004,8.51339999999999,1.1896000000000981,-2.8611000000000004,-0.044999999999999596,-15.040799999999706,7.653899999999851,2.2848999999999364,-1.003199999999989,0.0464999999999991,-5.215399999999997,3.605799999999988,-0.8643999999999323,-0.03519999999999979,-0.6017999999999759,-2.023399999999967,-0.020600000000002172,-0.7313000000000045,-38.149400000000085,1.0084999999999127,-1.6069000000000084,-8.52449999999979,6.122000000000085,-0.2972000000000392,-0.0740000000000105,2.9915999999999343,5.524100000000033,-0.883799999999983,-0.10300000000000131,-5.949099999999973,-0.4954000000000054,-9.356899999999982,-0.04630000000000045,-0.08559999999999235,-0.013499999999999901,-0.42730000000013035,-0.3542000000000236,0.117900000000005,-4.142600000000087,-0.5013000000000005,-1.0030999999999892,0.4766999999999868,1.6924999999999812,0.5752999999999915,2.127100000000003,0.3232000000000008,0.5016999999999907,0.19720000000003424,1.1612000000000222,1.1844999999999946,2.23419999999998,9.020562075079397e-17,-148.77589999999964,-0.028200000000003556,-0.0004999999999996119,-0.5720000000000005,0.026900000000000424,-0.0005000000000002225,1.6646000000000072,-237.4454000000004,-0.3690999999999973,1.3746000000000222,0.01589999999999403,-0.09600000000001074,41.132499999998686,0.06360000000000021,-2.870399999999904,-5.7152999999999565,-0.08520000000000072,0.0030999999999998806,-0.4964999999999584,-0.007399999999999796,1.773199999999985,-1.9285999999999746,4.753699999999952,6.408800000000014,-0.5216999999999994,0.00219999999999132,0.8880999999999926,-0.6392000000000002,0.18419999999997572,2.07660000000007,9.020562075079397e-17,-0.7490000000000165,165.2325000000037,-0.9095999999999966,0.18279999999998964,0.6268000000000207,-0.007699999999999596,-0.5879999999999974,-78.2590999999992,0.1773999999999134,-0.39970000000000083,104.17509999999936,2.9926000000000386,1.5184999999999746,-15.184499999999872,-0.11470000000000025,1.600200000000001,-1.6841000000000044,-0.11109999999999509,6.8139999999999645,-8.179500000000004,-0.20510000000001583,3.1824000000000296,-0.8406000000000233,-0.6825000000000019,0.3412000000000024,-0.008799999999975938,0.4352999999999696,0.37549999999999883,-0.12119999999999953,-1.1328999999999496,-0.0481000000000007,-0.12329999999974461,-2.1784000000000816,-0.4686000000000021,-8.363600000000588,-1.4759000000000029,0.0019999999999998352,-0.3372999999998001,-0.11929999999998842,-0.367999999999995,61.427399999998215,0.012600000000000278,-0.29249999999998977,-0.12299999999999867,-3.021599999999978,-0.19430000000000014,526.3498999999965,-1.1443000000000296,-0.26470000000001903,-0.5086999999999477,-4.844899999999825,0.01990000000000003,2.2605000000000217,3.2199000000000098,0.3216999999999821,-9.112099999999828,0.08850000000000202,-0.03319999999999976,3.774299999999755,6.398599999999988,-0.0014999999999999042,-0.12099999999999955,-2.8850000000000477,0.4412999999999947,-2.826199999999986,-0.019499999999999892,0.43300000000000116,1.4831999999999947,0.0005999999999997951,1.6702000000000226,0.4387000000000256,36.99250000000035,1.3489000000000289,0.925200000000018,0.17159999999999087,0.5546999999999542,0.8541000000000016,-29.478700000000458,-0.32329999999999615,-170.99979999999778,22.898500000000013,10.143699999999853,3.1817999999999245,-0.20740000000001046,-0.9408999999999708,1.5480000000000054,-0.3979000000000088,6.912099999999953,0.06480000000000008,0.9635999999999854,-0.0007999999999999188,0.34669999999998424,3.2963999999999913,-0.0005000000000000698,-12.780500000000046,6.512200000000007,11.364199999999698,0.0452000000000001,0.006000000000000172,0.2998000000000016,0.33989999999999476,-3.029000000000053,-9.990300000000133,0.031699999999999284,0.07950000000000002,0.05279999999999885,-0.03749999999999991,-0.5163999999999902,-0.04280000000000003,-2.1007999999999782,-2.1381999999999977,0.017599999999997173,0.40369999999997574,-9.053499999999758,-0.5558000000000476,6.744500000000102,-1.2719000000000094,0.2625999999999422,-353.1213999999991,-1.2119000000000213,2.8652000000000015,-0.062399999999994904,0.6640000000000121,0.047500000000000105,0.25900000000002876,-0.02750000000000008,-9.150199999999757,0.058099999999999596,1.8860999999999812,0.7023000000000366,0.015900000000000192,2.142200000000045,0.13009999999999788,0.2748999999999997,2.1299000000000774,-0.2571000000000021,0.9694999999999911,-27.915999999999883,-9.436299999999939,-0.547200000000025,-0.7329999999999988,-1.7260000000000097,-0.3844000000001415,-1.0249000000000015,3.7481999999999545,-0.9576999999999742,-0.04960000000000042,-1.2928999999999897,-3.578399999999988,1.2875000000000796,-1.4099999999999682,-1.484699999999954,0.2806000000000175,-10.411599999999794,0.00040000000000439684,3.8698000000000548,-273.4696999999992,4.641700000000355,-0.5795000000000101,14.352300000000042,-0.00229999999999992,2.0319000000000216,41.46209999999962,0.023699999999999555,-6.258599999999973,-1.4507000000000403,8.576299999999605,28.859000000000208,2.9822999999999737,2.647600000000022,-2.2992999999996755,-0.019499999999999795,4.8957999999999515,-0.03979999999999989,1.6149999999999878,2.408200000000001,0.040500000000000105,-0.519599999999997,-0.9291999999999518,-1.4029000000000096,-0.31779999999998765,-5.3616000000000525,66.30999999999995,-1.6108999999999583,-1.0687999999999818,3.109899999999996,-0.10150000000000037,8.00969999999802,-11.049299999999945,1.7361000000000146,-0.9058999999999777,0.4333999999999918,-0.22570000000002466,0.059800000000000075,-0.004199999999999787,0.007600000000000176,-0.4119999999999635,2.7777000000000385,-89.46030000000042,0.4501000000000346,-0.03900000000001391,-4.189499999999967,-0.0019999999999999116,-0.8455000000000581,0.034899999999961295,19.179199999999867,3.7797999999999945,-0.5134999999999863,0.0033999999999994035,3.3576999999999373,1.0272999999999257,9.71445146547012e-17,-0.0899999999999972,7.921100000000706,0.004000000000001114,-11.856899999999655,-0.19330000000012149,0.19430000000006942,3.0612999999999317,0.014299999999877855,6.624800000000008,1.9965000000000188,0.010600000000000276,-3.928299999999986,1.2737999999999765,1.6515999999999451,12.475799999999936,0.00809999999999711,-2.672400000000003,1.2987000000000033,0.8843000000000103,-0.04540000000000061,3.195399999999978,-3.491000000000028,697.1682000000001,1.3019999999999499,-0.10569999999997748,0.7267999999999999,3.7686000000000064,13.436599999999885,54.84120000000041,2.4077000000001476,-0.04300000000000015,5.989699999999914,-1.512099999999954,-0.14160000000000217,-0.2446999999999937,0.44949999999997203,-0.10650000000000048,1.8173000000000172,0.008400000000000019,-2.1296000000000177,2.549100000000081,0.1168999999999989,-4.22469999999997,-0.19069999999998544,-1.6585999999999217,0.09110000000001506,0.027700000000000086,0.41800000000001347,-0.13309999999985678,0.38090000000000135,1.2574000000000032,-6.878000000000071,1.1326000000000107,-3.8667999999999125,0.12900000000000023,0.428599999999999,15.867599999999953,-3.303200000000146,8.586200000000105,3.00909999999989,-0.12909999999999938,0.06810000000000033,-0.3772999999999911,0.04590000000000072,5.90779999999981,-2.233300000000085,-0.19840000000000213,-3.6867000000000374,0.8365000000001146,-0.03479999999999883,-1.9948000000003958,-10.228499999999656,5.085899999999953,-0.00019999999999990165,-0.041900000000040905,27.633499999999742,1.1605000000000079,-0.0891999999999955,0.05000000000000009,0.6762999999999764,0.019900000000001583,0.002999999999999836,3.5106000000000392,-7.547800000000137,-1.3836999999999988,-3.8576999999982036,0.03609999999999758,-1.077200000000019,-0.06559999999999971,-23.998200000000026,-0.047799999999999176,-0.0738,0.3169999999999753,2.476300000000016,-0.028099999999999736,-0.08220000000000338,0.032000000000000195,0.8202999999999747,0.13419999999999277,2.7316999999999823,-0.11479999999996338,-0.46509999999989304,0.2533000000000021,-3.482799999999912,12.128099999999861,-0.2785000000000011,0.8235000000000383,-7.7923999999998586,-2.323799999999949,-0.9735000000000191,-0.5617999999999839,132.36300000000074,-2.0291999999999746,0.49459999999999904,0.020000000000001017,0.020000000000013785,2.817500000000024,-0.05819999999999975,0.4791999999999996,-0.026399999999999937,-0.04760000000000006,-32.28059999999982,1.839999999999975,-3.5423999999998443,1.5083000000000908,-0.7797000000000267,-8.959600000000009,0.44989999999988584,2.2293999999999485,0.041399999999942594,-0.4631000000000043,3.055500000000066,102.01760000000104,-1.1288000000001261,-8.612799999999822,-6.0287000000001,4.056100000000242,0.16380000000000194,-33.087800000000016,-0.006000000000000172,-0.017799999999999816,0.6175999999999249,-0.0076999999999995405,0.011200000000000015,1.5267999999999873,-148.59169999999904,-0.18649999999999878,-7.072300000000098,1.971199999999989,0.06039999999995871,3.2601999999998554,1.0101999999999975,-0.08810000000001317,-2.1687999999999654,0.04310000000000058,0.0250999999999999,2.1890999999999323,6.637499999999761,1.4605000000000246,15.556799999999953,1.8432000000000137,-12.03439999999992,0.026799999999999907,6.529099999999744,0.26730000000000004,11.543599999999458,-8.174600000000027,2.584500000000048,1.5611000000000104,0.19140000000000335,-5.660200000000145,-20.761100000000567,-2.729399999999913,1.6843999999999788,0.06270000000000309,0.6082000000000463,0.41039999999998145,-192.45529999999837,-0.4477000000000011,4.010600000000004,-0.2914999999999992,0.3052000000000046,50.08909999999969,-0.9764999999999837,2.3270000000000692,-0.3905999999999885,-0.20379999999999965,6.83049999999983,0.18109999999988702,-0.04390000000000016,-20.691500000000133,-6.536100000000054,-81.58930000000078,-32.823999999999444,0.14069999999999938,5.191199999999981,-3.662700000000015,-0.5026999999999973,-0.07119999999998328,-0.04760000000000007,-2.086400000000026,-0.4792999999995686,-0.19909999999999606,0.8148000000000231,0.037900000000000156,0.17900000000000038,-3.2696000000000396,0.45040000000003744,-0.4558000000000022,0.6589999999999918,-5.590100000000149,1.0966000000000093,0.27709999999999013,1.1765000000000043,-0.14220000000000965,1.4705000000000048,-0.22920000000001295,0.04020000000000035,-0.17849999999999855,-2.5655000000000356,1.721400000000024,-1.7408000000000001,-0.6482999999999981,7.448099999999954,0.0345000000000001,1.2642999999999276,-2.6217000000000894,1.2169999999999135,-1.4328999999999894,-0.14120000000000055,0.9396000000000839,0.09209999999999982,-2.092299999999959,5.543899999999965,-0.3138000000000021,-9.172699999999907,8.651600000000258,0.004000000000000031,1.2046999999999812,-0.00229999999999992,1.2524000000000024,-0.011699999999999905,9.71445146547012e-17,-7.114999999999938,9.368399999999966,0.06590000000000273,3.5985999999999763,-0.4967999999999968,0.475000000000005,0.3882000000000545,-10.6231999999996,-0.21149999999999736,0.8705999999998966,-212.3063999999987,-1.0716999999999643,-0.0018999999999998948,-0.5444000000000049,-42.45639999999929,-0.6936999999999927,1.4055000000001314,0.8214000000000183,5.914300000000097,30.63960000000023,-0.11530000000000085,-37.78130000000078,-0.36940000000001305,16.7539,-0.5536999999999985,-0.05499999999999955,1.5819999999999084,-6.506300000000046,10.629100000001927,-0.4808000000000021,-17.758799999999383,-3.4844999999999864,-0.00140000000000029,-0.31360000000000166,0.5762000000000009,-0.5550999999999835,-0.23270000000001545,0.4205999999998937,1.0516999999999967,36.574200000000246,-0.056799999999999795,0.1001999999999903,-0.5652000000000004,0.04899999999994975,1.4206999999999965,4.77559999999994,-1.5485999999999933,-0.014599999999999863,0.544800000000004,-0.5380999999999894,0.5885000000000389,-0.21789999999999932,17.601700000000008,5.768800000000084,-0.5879000000000332,0.0485000000000001,12.777399999999929,-4.594599999999986,0.07969999999999722,0.05650000000000066,29.017500000000098,0.09169999999999989,-1.219499999999993,63.00360000000023,1.5265999999999735,0.03310000000000146,0.3674000000000044,2.323400000000021,0.1365000000000336,-0.19599999999999262,-0.6384999999999579,-0.6911000000000413,9.020562075079397e-17,0.039499999999999785,-4.975800000000845,-0.5966000000000236,-2.143699999999953,-0.31050000000000644,-0.020099999999999923,-0.026499999999998636,-0.1143999999999803,-0.6840999999999973,7.775300000000243,0.03059999999999441,-0.29059999999999686,-0.017199999999999716,-19.57720000000002,0.11099999999999921,-0.07839999999999941,3.2062999999999704,-44.404699999999366,-0.013699999999999657,4.724300000000142,-0.1795999999999225,5.427299999999775,-2.1977999999999867,-0.053499999999914394,-0.6955000000000098,0.7089999999999996,0.9625999999999948,-17.635200000000054,-24.608800000000045,3.133000000000024,95.99739999999701,-0.5270999999999475,-6.004599999999897,0.17530000000000534,-0.20040000000004454,-1.7704000000000093,-1.5082000000000448,-0.16409999999991953,0.2571999999999983,2.0915999999999997,-0.06190000000000073,-0.006000000000000061,0.3625000000000185,0.02380000000000404,0.01920000000000005],\"type\":\"scatter\"}],                        {\"template\":{\"data\":{\"barpolar\":[{\"marker\":{\"line\":{\"color\":\"rgb(237,237,237)\",\"width\":0.5},\"pattern\":{\"fillmode\":\"overlay\",\"size\":10,\"solidity\":0.2}},\"type\":\"barpolar\"}],\"bar\":[{\"error_x\":{\"color\":\"rgb(51,51,51)\"},\"error_y\":{\"color\":\"rgb(51,51,51)\"},\"marker\":{\"line\":{\"color\":\"rgb(237,237,237)\",\"width\":0.5},\"pattern\":{\"fillmode\":\"overlay\",\"size\":10,\"solidity\":0.2}},\"type\":\"bar\"}],\"carpet\":[{\"aaxis\":{\"endlinecolor\":\"rgb(51,51,51)\",\"gridcolor\":\"white\",\"linecolor\":\"white\",\"minorgridcolor\":\"white\",\"startlinecolor\":\"rgb(51,51,51)\"},\"baxis\":{\"endlinecolor\":\"rgb(51,51,51)\",\"gridcolor\":\"white\",\"linecolor\":\"white\",\"minorgridcolor\":\"white\",\"startlinecolor\":\"rgb(51,51,51)\"},\"type\":\"carpet\"}],\"choropleth\":[{\"colorbar\":{\"outlinewidth\":0,\"tickcolor\":\"rgb(237,237,237)\",\"ticklen\":6,\"ticks\":\"inside\"},\"type\":\"choropleth\"}],\"contourcarpet\":[{\"colorbar\":{\"outlinewidth\":0,\"tickcolor\":\"rgb(237,237,237)\",\"ticklen\":6,\"ticks\":\"inside\"},\"type\":\"contourcarpet\"}],\"contour\":[{\"colorbar\":{\"outlinewidth\":0,\"tickcolor\":\"rgb(237,237,237)\",\"ticklen\":6,\"ticks\":\"inside\"},\"colorscale\":[[0,\"rgb(20,44,66)\"],[1,\"rgb(90,179,244)\"]],\"type\":\"contour\"}],\"heatmapgl\":[{\"colorbar\":{\"outlinewidth\":0,\"tickcolor\":\"rgb(237,237,237)\",\"ticklen\":6,\"ticks\":\"inside\"},\"colorscale\":[[0,\"rgb(20,44,66)\"],[1,\"rgb(90,179,244)\"]],\"type\":\"heatmapgl\"}],\"heatmap\":[{\"colorbar\":{\"outlinewidth\":0,\"tickcolor\":\"rgb(237,237,237)\",\"ticklen\":6,\"ticks\":\"inside\"},\"colorscale\":[[0,\"rgb(20,44,66)\"],[1,\"rgb(90,179,244)\"]],\"type\":\"heatmap\"}],\"histogram2dcontour\":[{\"colorbar\":{\"outlinewidth\":0,\"tickcolor\":\"rgb(237,237,237)\",\"ticklen\":6,\"ticks\":\"inside\"},\"colorscale\":[[0,\"rgb(20,44,66)\"],[1,\"rgb(90,179,244)\"]],\"type\":\"histogram2dcontour\"}],\"histogram2d\":[{\"colorbar\":{\"outlinewidth\":0,\"tickcolor\":\"rgb(237,237,237)\",\"ticklen\":6,\"ticks\":\"inside\"},\"colorscale\":[[0,\"rgb(20,44,66)\"],[1,\"rgb(90,179,244)\"]],\"type\":\"histogram2d\"}],\"histogram\":[{\"marker\":{\"pattern\":{\"fillmode\":\"overlay\",\"size\":10,\"solidity\":0.2}},\"type\":\"histogram\"}],\"mesh3d\":[{\"colorbar\":{\"outlinewidth\":0,\"tickcolor\":\"rgb(237,237,237)\",\"ticklen\":6,\"ticks\":\"inside\"},\"type\":\"mesh3d\"}],\"parcoords\":[{\"line\":{\"colorbar\":{\"outlinewidth\":0,\"tickcolor\":\"rgb(237,237,237)\",\"ticklen\":6,\"ticks\":\"inside\"}},\"type\":\"parcoords\"}],\"pie\":[{\"automargin\":true,\"type\":\"pie\"}],\"scatter3d\":[{\"line\":{\"colorbar\":{\"outlinewidth\":0,\"tickcolor\":\"rgb(237,237,237)\",\"ticklen\":6,\"ticks\":\"inside\"}},\"marker\":{\"colorbar\":{\"outlinewidth\":0,\"tickcolor\":\"rgb(237,237,237)\",\"ticklen\":6,\"ticks\":\"inside\"}},\"type\":\"scatter3d\"}],\"scattercarpet\":[{\"marker\":{\"colorbar\":{\"outlinewidth\":0,\"tickcolor\":\"rgb(237,237,237)\",\"ticklen\":6,\"ticks\":\"inside\"}},\"type\":\"scattercarpet\"}],\"scattergeo\":[{\"marker\":{\"colorbar\":{\"outlinewidth\":0,\"tickcolor\":\"rgb(237,237,237)\",\"ticklen\":6,\"ticks\":\"inside\"}},\"type\":\"scattergeo\"}],\"scattergl\":[{\"marker\":{\"colorbar\":{\"outlinewidth\":0,\"tickcolor\":\"rgb(237,237,237)\",\"ticklen\":6,\"ticks\":\"inside\"}},\"type\":\"scattergl\"}],\"scattermapbox\":[{\"marker\":{\"colorbar\":{\"outlinewidth\":0,\"tickcolor\":\"rgb(237,237,237)\",\"ticklen\":6,\"ticks\":\"inside\"}},\"type\":\"scattermapbox\"}],\"scatterpolargl\":[{\"marker\":{\"colorbar\":{\"outlinewidth\":0,\"tickcolor\":\"rgb(237,237,237)\",\"ticklen\":6,\"ticks\":\"inside\"}},\"type\":\"scatterpolargl\"}],\"scatterpolar\":[{\"marker\":{\"colorbar\":{\"outlinewidth\":0,\"tickcolor\":\"rgb(237,237,237)\",\"ticklen\":6,\"ticks\":\"inside\"}},\"type\":\"scatterpolar\"}],\"scatter\":[{\"fillpattern\":{\"fillmode\":\"overlay\",\"size\":10,\"solidity\":0.2},\"type\":\"scatter\"}],\"scatterternary\":[{\"marker\":{\"colorbar\":{\"outlinewidth\":0,\"tickcolor\":\"rgb(237,237,237)\",\"ticklen\":6,\"ticks\":\"inside\"}},\"type\":\"scatterternary\"}],\"surface\":[{\"colorbar\":{\"outlinewidth\":0,\"tickcolor\":\"rgb(237,237,237)\",\"ticklen\":6,\"ticks\":\"inside\"},\"colorscale\":[[0,\"rgb(20,44,66)\"],[1,\"rgb(90,179,244)\"]],\"type\":\"surface\"}],\"table\":[{\"cells\":{\"fill\":{\"color\":\"rgb(237,237,237)\"},\"line\":{\"color\":\"white\"}},\"header\":{\"fill\":{\"color\":\"rgb(217,217,217)\"},\"line\":{\"color\":\"white\"}},\"type\":\"table\"}]},\"layout\":{\"annotationdefaults\":{\"arrowhead\":0,\"arrowwidth\":1},\"autotypenumbers\":\"strict\",\"coloraxis\":{\"colorbar\":{\"outlinewidth\":0,\"tickcolor\":\"rgb(237,237,237)\",\"ticklen\":6,\"ticks\":\"inside\"}},\"colorscale\":{\"sequential\":[[0,\"rgb(20,44,66)\"],[1,\"rgb(90,179,244)\"]],\"sequentialminus\":[[0,\"rgb(20,44,66)\"],[1,\"rgb(90,179,244)\"]]},\"colorway\":[\"#F8766D\",\"#A3A500\",\"#00BF7D\",\"#00B0F6\",\"#E76BF3\"],\"font\":{\"color\":\"rgb(51,51,51)\"},\"geo\":{\"bgcolor\":\"white\",\"lakecolor\":\"white\",\"landcolor\":\"rgb(237,237,237)\",\"showlakes\":true,\"showland\":true,\"subunitcolor\":\"white\"},\"hoverlabel\":{\"align\":\"left\"},\"hovermode\":\"closest\",\"paper_bgcolor\":\"white\",\"plot_bgcolor\":\"rgb(237,237,237)\",\"polar\":{\"angularaxis\":{\"gridcolor\":\"white\",\"linecolor\":\"white\",\"showgrid\":true,\"tickcolor\":\"rgb(51,51,51)\",\"ticks\":\"outside\"},\"bgcolor\":\"rgb(237,237,237)\",\"radialaxis\":{\"gridcolor\":\"white\",\"linecolor\":\"white\",\"showgrid\":true,\"tickcolor\":\"rgb(51,51,51)\",\"ticks\":\"outside\"}},\"scene\":{\"xaxis\":{\"backgroundcolor\":\"rgb(237,237,237)\",\"gridcolor\":\"white\",\"gridwidth\":2,\"linecolor\":\"white\",\"showbackground\":true,\"showgrid\":true,\"tickcolor\":\"rgb(51,51,51)\",\"ticks\":\"outside\",\"zerolinecolor\":\"white\"},\"yaxis\":{\"backgroundcolor\":\"rgb(237,237,237)\",\"gridcolor\":\"white\",\"gridwidth\":2,\"linecolor\":\"white\",\"showbackground\":true,\"showgrid\":true,\"tickcolor\":\"rgb(51,51,51)\",\"ticks\":\"outside\",\"zerolinecolor\":\"white\"},\"zaxis\":{\"backgroundcolor\":\"rgb(237,237,237)\",\"gridcolor\":\"white\",\"gridwidth\":2,\"linecolor\":\"white\",\"showbackground\":true,\"showgrid\":true,\"tickcolor\":\"rgb(51,51,51)\",\"ticks\":\"outside\",\"zerolinecolor\":\"white\"}},\"shapedefaults\":{\"fillcolor\":\"black\",\"line\":{\"width\":0},\"opacity\":0.3},\"ternary\":{\"aaxis\":{\"gridcolor\":\"white\",\"linecolor\":\"white\",\"showgrid\":true,\"tickcolor\":\"rgb(51,51,51)\",\"ticks\":\"outside\"},\"baxis\":{\"gridcolor\":\"white\",\"linecolor\":\"white\",\"showgrid\":true,\"tickcolor\":\"rgb(51,51,51)\",\"ticks\":\"outside\"},\"bgcolor\":\"rgb(237,237,237)\",\"caxis\":{\"gridcolor\":\"white\",\"linecolor\":\"white\",\"showgrid\":true,\"tickcolor\":\"rgb(51,51,51)\",\"ticks\":\"outside\"}},\"xaxis\":{\"automargin\":true,\"gridcolor\":\"white\",\"linecolor\":\"white\",\"showgrid\":true,\"tickcolor\":\"rgb(51,51,51)\",\"ticks\":\"outside\",\"title\":{\"standoff\":15},\"zerolinecolor\":\"white\"},\"yaxis\":{\"automargin\":true,\"gridcolor\":\"white\",\"linecolor\":\"white\",\"showgrid\":true,\"tickcolor\":\"rgb(51,51,51)\",\"ticks\":\"outside\",\"title\":{\"standoff\":15},\"zerolinecolor\":\"white\"}}},\"title\":{\"text\":\"Predicted vs. Residuals - Puts\"},\"xaxis\":{\"title\":{\"text\":\"Prices\"}},\"yaxis\":{\"title\":{\"text\":\"Predicted prices\"}},\"autosize\":false,\"width\":700,\"height\":500},                        {\"responsive\": true}                    ).then(function(){\n",
              "                            \n",
              "var gd = document.getElementById('855ebdad-6be2-4576-b751-51155acca753');\n",
              "var x = new MutationObserver(function (mutations, observer) {{\n",
              "        var display = window.getComputedStyle(gd).display;\n",
              "        if (!display || display === 'none') {{\n",
              "            console.log([gd, 'removed!']);\n",
              "            Plotly.purge(gd);\n",
              "            observer.disconnect();\n",
              "        }}\n",
              "}});\n",
              "\n",
              "// Listen for the removal of the full notebook cells\n",
              "var notebookContainer = gd.closest('#notebook-container');\n",
              "if (notebookContainer) {{\n",
              "    x.observe(notebookContainer, {childList: true});\n",
              "}}\n",
              "\n",
              "// Listen for the clearing of the current output cell\n",
              "var outputEl = gd.closest('.output');\n",
              "if (outputEl) {{\n",
              "    x.observe(outputEl, {childList: true});\n",
              "}}\n",
              "\n",
              "                        })                };                            </script>        </div>\n",
              "</body>\n",
              "</html>"
            ]
          },
          "metadata": {}
        }
      ]
    },
    {
      "cell_type": "code",
      "source": [
        "#Full data residuals\n",
        "fig = go.Figure()\n",
        "fig.add_trace(go.Scatter(x=y_pred_c, \n",
        "                         y=y_test_c-y_pred_c,\n",
        "                         mode='markers'))\n",
        "fig.update_layout(title=\"Predicted vs. Residuals - Calls\",\n",
        "                  xaxis_title=\"Prices\",\n",
        "                  yaxis_title=\"Predicted prices\",\n",
        "                  template='ggplot2',\n",
        "                  autosize=False,\n",
        "                  width=700,\n",
        "                  height=500,)\n",
        "fig.show()"
      ],
      "metadata": {
        "colab": {
          "base_uri": "https://localhost:8080/",
          "height": 517
        },
        "id": "W8pqnIQ2tYlJ",
        "outputId": "eb0cc6b4-de73-41fa-f527-f22170408f58"
      },
      "execution_count": null,
      "outputs": [
        {
          "output_type": "display_data",
          "data": {
            "text/html": [
              "<html>\n",
              "<head><meta charset=\"utf-8\" /></head>\n",
              "<body>\n",
              "    <div>            <script src=\"https://cdnjs.cloudflare.com/ajax/libs/mathjax/2.7.5/MathJax.js?config=TeX-AMS-MML_SVG\"></script><script type=\"text/javascript\">if (window.MathJax && window.MathJax.Hub && window.MathJax.Hub.Config) {window.MathJax.Hub.Config({SVG: {font: \"STIX-Web\"}});}</script>                <script type=\"text/javascript\">window.PlotlyConfig = {MathJaxConfig: 'local'};</script>\n",
              "        <script src=\"https://cdn.plot.ly/plotly-2.18.2.min.js\"></script>                <div id=\"24a24eaf-43c2-46dc-84d4-a1ad217ac381\" class=\"plotly-graph-div\" style=\"height:500px; width:700px;\"></div>            <script type=\"text/javascript\">                                    window.PLOTLYENV=window.PLOTLYENV || {};                                    if (document.getElementById(\"24a24eaf-43c2-46dc-84d4-a1ad217ac381\")) {                    Plotly.newPlot(                        \"24a24eaf-43c2-46dc-84d4-a1ad217ac381\",                        [{\"mode\":\"markers\",\"x\":[0.39899999999999985,1059.6781000000003,5.067900000000004,252.64179999999982,101.2229999999999,790.1616999999997,0.05209999999999991,104.1806,199.07419999999993,797.2894000000005,407.1135000000003,418.5521999999999,88.68720000000003,1583.8677000000005,150.1199999999999,557.2287999999996,292.4678999999996,161.73940000000002,556.9777999999999,0.051599999999999896,27.22239999999999,299.51870000000036,125.11330000000005,1013.8004000000005,21.69290000000001,0.09729999999999998,0.4502000000000004,106.63170000000011,89.24970000000009,111.01210000000003,80.03460000000008,295.05790000000025,14.241200000000001,0.24270000000000014,109.07680000000006,13.2521,276.4906999999999,422.6325000000002,34.99649999999998,461.8612999999998,5.020300000000002,0.8288999999999994,4.512900000000001,75.68889999999996,504.5857000000005,1.3912000000000015,0.06920000000000008,110.74259999999987,0.0636,839.5028,1260.6475000000007,93.45440000000002,167.09620000000004,132.41429999999983,2.2874999999999988,122.9171000000001,0.05139999999999991,16.21009999999999,63.266300000000044,603.2376999999998,1.1643000000000006,469.1636999999997,417.2524000000001,139.37760000000006,120.27129999999997,17.15389999999999,0.5522999999999996,282.2948999999997,1.3973000000000002,2.3685000000000027,0.05759999999999991,111.18329999999996,697.6703000000007,510.0326000000001,1224.1721000000018,1175.7066000000011,0.47290000000000004,174.46919999999997,2632.224300000002,1729.7987,36.781399999999955,1068.1892,410.5592,758.3613999999997,538.0574000000001,535.2895000000009,3.537199999999995,37.62119999999996,182.1262000000001,162.48019999999985,87.76090000000003,1053.2064000000003,56.97870000000001,1988.7779,127.43240000000009,389.8294,1063.2252999999994,510.3880999999998,570.9357999999999,42.885,54.14560000000002,826.6420000000002,323.9168,1171.7434999999996,2517.957600000002,249.63599999999977,563.3164999999997,0.44210000000000044,224.17689999999985,480.1776000000001,273.03820000000024,306.1151999999999,5.253599999999997,1119.8875999999989,395.60200000000003,5.697299999999998,199.58270000000007,181.8309999999998,11.899999999999988,185.36820000000006,16.078500000000002,43.5638,23.78690000000001,1.055199999999999,1096.397499999999,78.58259999999994,171.50439999999998,543.0778,16.718600000000002,196.47890000000007,7.380700000000003,0.06549999999999989,555.0742999999998,223.06990000000008,266.03950000000003,675.3062999999999,292.3347,538.4414999999997,0.049999999999999906,2.1974999999999993,0.0636,0.26020000000000004,0.056799999999999934,1425.7704999999994,11.765899999999998,2.0168999999999992,0.0582999999999999,257.9974000000001,467.63019999999983,37.31350000000002,28.958999999999993,451.2896000000003,4.379699999999997,379.29019999999997,3.9023999999999988,26.458399999999994,214.97479999999993,884.3142000000003,114.26240000000006,1.7087,410.4758,315.6967999999999,1254.7342,743.5308999999996,0.5940999999999999,6.304100000000005,24.261400000000013,9.599599999999988,877.8489999999997,50.32609999999999,2148.254600000002,696.6034000000004,99.24179999999996,417.86139999999983,56.36990000000009,2.278300000000001,487.7406000000007,0.14520000000000008,0.048199999999999917,174.81790000000004,0.12400000000000003,3722.470800000001,242.59549999999984,0.19349999999999995,0.2559,0.07379999999999996,0.21470000000000003,342.8561000000001,6.557400000000006,31.57089999999996,118.88440000000003,287.96730000000025,345.7133999999998,206.55229999999975,1194.2545000000002,0.7672000000000003,133.2996999999998,139.35440000000003,3117.6191000000003,224.4243999999998,6.906799999999995,181.97309999999987,30.37919999999999,0.05149999999999991,47.46990000000001,410.28990000000005,193.42350000000013,0.037799999999999924,140.5434000000001,52.65419999999995,0.22999999999999993,10.6142,11.624699999999994,13.542999999999996,22.55940000000003,133.47370000000012,239.81470000000013,10.138599999999999,211.6645999999998,83.79589999999996,1248.3819000000005,337.3072,0.19049999999999975,3503.364399999996,1018.725699999999,61.097899999999974,0.4951000000000005,0.13020000000000012,429.95980000000003,96.93130000000001,757.9007999999995,1.0386999999999997,73.22229999999996,292.93950000000007,0.049999999999999906,0.9215000000000001,1179.3930999999986,1.9976999999999985,4.227800000000003,299.5242000000003,3096.9733000000006,495.8182,5.059600000000003,640.2531,79.54029999999997,319.8278000000001,13.763800000000005,0.3589000000000003,5.6558,16.967700000000026,8.676999999999996,658.6490000000003,3.2538999999999993,53.491200000000056,382.30880000000036,1.002,2.569699999999997,367.7500000000003,271.77510000000007,187.9912999999999,108.23260000000003,206.84259999999998,64.44910000000009,589.2809000000001,5.613899999999997,669.7072000000004,50.62460000000004,463.5073000000006,2.2943999999999996,697.0474000000008,630.0083999999995,3.6348999999999996,1736.4979999999985,3.6720000000000046,0.14930000000000018,8.068900000000003,379.98679999999973,11.1358,99.49050000000003,12.776900000000005,0.7406999999999998,0.04959999999999992,184.9150999999998,0.7908000000000002,138.74769999999998,75.51209999999993,678.1418000000001,78.15769999999995,263.12350000000004,367.5738999999999,208.1151999999999,788.4847999999993,147.40689999999992,130.97839999999997,808.2750000000003,523.4180000000001,281.24600000000015,1578.6272,763.3524000000002,2930.1403000000005,63.71790000000006,33.945800000000006,0.8664000000000007,30.263799999999982,576.7761999999998,0.08410000000000002,1736.8254000000002,65.61439999999995,3700.9136999999955,429.5751999999993,80.0087,98.62490000000011,48.669700000000006,1011.3177000000005,603.6212000000003,412.4756999999999,479.9541000000003,6.714700000000004,225.5009,109.73730000000005,205.6605999999998,465.2121000000004,221.9216000000001,0.051899999999999905,0.5103999999999999,1064.4081000000003,474.92470000000003,966.8682999999999,212.84489999999988,524.2818999999998,250.88449999999997,407.8465000000001,1283.2745999999997,30.91230000000002,298.5602,217.7952999999999,5.238900000000001,5.1821999999999955,1.8375999999999997,0.049999999999999906,6.221499999999992,0.05089999999999991,89.70540000000001,243.49729999999997,49.419699999999956,122.0221000000001,0.17730000000000015,473.89539999999977,12.5673,90.25169999999997,319.6607999999999,3524.8194999999973,92.95649999999999,629.5783000000007,138.8847999999998,644.6763000000008,182.3876000000001,6.9291000000000045,14.610700000000014,239.1772,43.6113,13.977200000000025,659.0779000000007,12.26960000000001,274.6416999999997,0.19109999999999983,2921.520500000001,794.9878000000004,322.2061000000003,140.4184,1.776600000000002,834.0264,1426.5882999999992,2930.4777000000004,1.202400000000001,153.76650000000006,227.9282000000003,1201.0688999999998,1574.0036999999998,2099.439600000001,1618.0448999999994,90.16739999999999,1017.6365,20.307800000000004,11.074900000000007,27.159600000000005,7.4087,52.18919999999997,114.19160000000012,263.86069999999984,18.31950000000002,1402.4742999999999,201.01820000000004,320.74859999999956,583.2221999999997,319.56800000000044,597.8195,206.95739999999995,0.09519999999999998,103.28850000000004,239.93539999999967,445.47349999999955,3310.1306000000004,52.852799999999995,161.29669999999982,639.6431000000008,130.6037,8.560899999999998,3907.0793999999996,179.78810000000024,497.0400999999998,3506.776099999996,1083.9166000000005,186.53780000000006,0.18200000000000002,190.32819999999995,125.63390000000008,2419.4633999999974,283.24009999999953,270.4503000000001,11.611299999999996,0.26659999999999984,77.82579999999997,839.885600000001,0.24439999999999962,39.15810000000002,2192.723400000001,130.49259999999995,52.93369999999995,153.03689999999992,207.25659999999988,227.26089999999982,162.5516000000001,0.07400000000000005,199.72289999999992,0.8791000000000011,184.3650999999999,254.18360000000007,401.3039000000001,45.6598,191.46549999999982,0.2562,195.73819999999995,202.94419999999994,4.136700000000006,11.01249999999999,606.5380999999996,32.676799999999986,377.7185999999998,91.96480000000005,0.6647000000000003,30.537199999999995,1.2961000000000005,0.05089999999999991,6.2768000000000015,5.5559999999999965,87.02320000000003,22.04090000000001,0.22499999999999992,74.80930000000006,0.18339999999999995,618.6322999999999,269.12559999999985,93.00389999999996,711.6002999999997,347.0851999999998,1369.7616000000012,191.70940000000002,807.8129999999998,339.1566,193.6756999999998,3307.9088999999963,131.45810000000006,30.75759999999999,2.2775999999999983,48.38750000000001,338.3135999999998,66.06070000000014,532.5284999999994,221.85110000000014,389.25619999999975,1695.1761000000008,102.7917,342.1098000000001,47.49179999999998,0.6416999999999997,592.2296999999999,866.7781000000002,471.28259999999995,101.60469999999995,381.6660000000003,1.3975999999999993,272.9110999999998,0.049999999999999906,102.37049999999999,0.8116000000000004,7.658600000000004,932.8821000000004,498.24399999999935,118.33079999999997,626.0343000000003,11.1361,5.405600000000003,269.29549999999995,0.05099999999999991,0.2867,545.3509000000006,219.25010000000006,12.04270000000001,124.12440000000008,5.767700000000002,293.0155999999998,22.1248,0.14680000000000004,1.9712,808.2468000000001,890.9808999999991,307.71100000000035,42.4512,149.3545000000002,30.259199999999993,102.69849999999992,677.7277000000005,51.43170000000003,21.333500000000022,128.91810000000004,8.174500000000002,188.82150000000001,0.18650000000000005,247.76139999999995,0.3161,400.3361000000001,650.4117999999996,12.670400000000013,1271.6589000000004,224.24080000000032,318.0887,82.94409999999996,419.5445,180.85850000000016,443.50930000000017,270.16950000000014,282.47969999999964,606.3296999999994,3.3905999999999983,185.16049999999984,717.8376000000006,123.91290000000005,37.28379999999996,417.95139999999986,13.6033,539.0029,154.5327999999999,214.66249999999974,573.7450999999998,125.87619999999994,329.34970000000015,48.359199999999944,320.18020000000047,90.5403,350.8184000000001,11.637999999999993,2104.035500000001,367.42670000000015,61.16720000000001,308.12100000000015,149.38459999999986,732.1848999999997,1684.4674999999995,0.4879999999999994,0.4883999999999996,68.15329999999997,64.9544,52.16289999999995,401.01390000000026,466.36689999999965,743.4073999999995,72.1574,487.52780000000035,1118.6581000000008,3.0990999999999986,155.3133999999999,27.460200000000015,1287.572899999999,148.9514,419.29219999999987,81.58770000000005,108.66190000000002,297.07460000000026,431.9465999999998,4.325299999999996,3.641299999999995,256.7713000000002,0.042399999999999924,211.3705000000001,855.4798999999991,216.29110000000034,237.0211000000001,195.20880000000005,57.90630000000007,23.90730000000001,198.24620000000007,45.136300000000034,3108.9618000000023,4.113400000000001,210.3946999999998,75.49579999999999,3347.0867000000035,14.647999999999993,0.05559999999999991,151.23160000000018,146.9362,0.05329999999999991,370.68650000000014,390.99540000000013,0.15569999999999984,47.6575,455.7716999999999,0.10780000000000008,110.30740000000009,59.801100000000005,118.06150000000008,270.5887999999999,54.39710000000004,344.6569999999998,622.2591000000002,303.31820000000016,20.23569999999998,4.193700000000002,94.98460000000006,395.81380000000007,564.2148999999998,1029.5363,0.08959999999999996,19.277699999999992,408.6388000000001,82.69639999999995,605.4161000000001,133.92760000000015,35.77709999999999,10.351199999999995,379.7440999999999,1600.9183999999993,842.5588999999995,388.3974000000002,12.097000000000007,3.480499999999999,4.196599999999998,558.1594999999998,335.32410000000004,236.27460000000008,0.5347000000000003,336.0052999999999,479.7289000000004,626.0462000000001,274.7016999999999,293.1309000000003,396.2117,4.097199999999998,11.713600000000012,397.9395999999999,0.21799999999999986,2.643200000000002,288.64120000000014,2126.098299999998,97.07749999999994,229.17599999999956,0.1344999999999999,99.50750000000008,269.21630000000005,11.033200000000011,732.6093000000004,0.5276,1293.7337999999995,1571.3452000000007,0.1253000000000001,285.7724000000001,33.93420000000005,190.0376999999999,290.43759999999975,328.7198999999999,135.81500000000025,124.19760000000005,3493.6051999999972,25.091900000000038,0.04999999999999991,0.38970000000000027,914.2644000000005,468.8530000000002,114.25959999999988,152.99760000000026,108.42820000000009,0.050699999999999926,21.740000000000006,51.24440000000005,185.17780000000005,5.664600000000003,233.1471000000001,1249.698400000001,470.30570000000034,714.0419000000003,617.8735000000003,352.4019000000003,46.00799999999997,613.9005000000004,0.14850000000000016,177.40570000000014,32.322499999999984,1250.1933000000013,370.3926,188.65739999999994,356.8457000000003,229.27179999999996,0.05869999999999992,994.4103999999996,292.1590999999997,747.8485000000002,50.31849999999994,514.7823999999994,194.34760000000006,104.16059999999997,634.2233999999993,224.54810000000032,648.5408000000009,17.909100000000024,51.67699999999998,343.3954000000001,578.0593000000003,427.0925999999995,605.8192999999998,38.27520000000002,447.23510000000005,154.9845000000001,0.049699999999999925,27.01980000000002,1.729,2168.238700000002,88.02870000000003,324.6330000000002,33.115100000000005,487.6758000000002,61.43830000000007,520.5532000000004,1220.4472000000007,1181.3379000000007,150.4869,616.3941000000002,0.06399999999999989,2131.6209000000017,962.1244000000012,810.2127000000006,462.94769999999994,332.18700000000007,1065.2691000000004,469.6460999999999,8.09469999999999,63.63960000000001,26.42049999999999,943.3799,2.039100000000002,203.0116999999999,120.92450000000008,614.6770999999997,3671.5289000000007,187.37389999999996,0.050199999999999904,5.144699999999998,734.3582999999995,407.70189999999974,186.46180000000012,0.6976999999999994,334.5595999999998,3096.9733000000006,290.9076,60.99310000000002,147.09650000000013,102.96559999999998,3116.710599999997,0.7726000000000002,379.6354000000006,1434.6770999999999,34.2955,887.7145000000004,1004.7755999999999,7.487300000000002,43.82700000000004,339.3041000000002,31.127199999999995,0.10549999999999983,70.38859999999998,68.66800000000003,149.4509000000001,397.1976000000002,206.04509999999985,889.3808999999994,0.24079999999999996,306.8566000000001,87.79149999999998],\"y\":[0.10100000000000015,-57.40810000000033,-0.16790000000000393,10.618200000000172,-11.412999999999897,69.83830000000034,-0.0020999999999999075,-4.470600000000005,-3.704199999999929,-25.059400000000437,3.486499999999751,9.007800000000088,-0.5872000000000384,2.5322999999996227,-9.749999999999886,-46.72879999999964,15.042100000000403,-2.79940000000002,-38.52779999999984,-0.0015999999999998932,-0.22239999999998972,-15.408700000000351,-14.013300000000058,40.24959999999942,0.17709999999999226,0.05270000000000001,-0.1002000000000004,5.028299999999888,2.920299999999912,3.757899999999964,-16.33460000000008,-0.5079000000002338,-0.05120000000000147,-0.09270000000000014,2.333199999999934,-1.8321000000000005,-0.6306999999998766,1.2574999999997658,0.8035000000000139,-4.9912999999997965,0.17969999999999775,0.09110000000000062,0.5370999999999988,-8.668899999999965,13.654299999999523,-0.07120000000000148,0.030799999999999925,-2.1625999999998697,-0.013600000000000001,31.807199999999966,8.062499999999318,2.6455999999999733,7.293799999999948,1.1357000000001847,-0.4674999999999987,-20.81710000000011,-0.0013999999999999083,-0.010099999999990672,-2.5263000000000417,-0.5576999999998407,-0.0943000000000005,7.376300000000299,15.507599999999911,-7.177600000000069,13.69870000000003,0.44610000000001193,-0.0022999999999995246,2.225100000000282,-0.3973000000000002,-0.20850000000000257,-0.0075999999999999054,8.216700000000046,-14.690300000000661,-31.962600000000123,-67.87210000000186,32.68339999999898,-0.17290000000000005,0.5608000000000288,-25.30430000000206,60.48129999999992,1.9186000000000476,-29.569200000000137,14.11080000000004,3.848600000000374,8.532599999999888,-1.5595000000008667,-0.10719999999999485,0.5788000000000437,0.7537999999998988,-12.63019999999986,-1.5909000000000333,-34.71640000000025,-1.4287000000000134,-105.63789999999995,-0.562400000000082,15.980599999999981,44.64470000000051,-6.048099999999806,23.254200000000196,-3.585000000000001,0.594399999999979,12.217999999999847,-16.766800000000046,-0.15349999999966712,-62.38760000000184,4.014000000000237,11.483500000000276,-0.19210000000000044,0.7731000000001416,-20.317600000000084,-5.208200000000261,23.554800000000114,0.04640000000000288,-32.27759999999898,14.237999999999943,-0.7172999999999972,-15.782700000000062,-8.130999999999801,-0.6099999999999888,-15.348200000000048,-0.5985000000000014,11.666199999999996,-0.7869000000000099,-0.145199999999999,21.762500000001182,0.6374000000000564,2.195600000000013,-14.917800000000057,20.931399999999996,-9.828900000000061,-0.8407000000000027,-0.015499999999999889,-36.17429999999979,4.010099999999937,-1.9395000000000095,7.943700000000149,-1.9347000000000207,48.63850000000036,9.71445146547012e-17,-0.7474999999999994,-0.013600000000000001,-0.06020000000000003,-0.006799999999999931,6.63950000000068,-1.6158999999999981,-0.026899999999999258,-0.008299999999999898,21.002599999999916,9.719800000000191,3.2864999999999824,-1.6589999999999918,14.350399999999695,0.020300000000003315,2.609800000000007,-1.352399999999999,0.7416000000000054,1.255200000000059,51.255799999999795,15.847599999999957,-0.008700000000000152,23.114199999999983,15.503200000000106,-6.384200000000192,-10.820899999999597,-0.044099999999999806,-0.9641000000000055,-1.9614000000000118,-0.39959999999998885,-4.558999999999742,-1.176099999999991,32.33539999999812,25.1265999999996,-0.08179999999995857,7.378600000000176,1.04009999999991,0.17169999999999908,4.4593999999992775,0.024799999999999933,0.0018000000000000863,-11.917900000000031,-0.02400000000000002,-81.17080000000078,11.484500000000168,-0.09349999999999994,-0.005900000000000016,-0.003799999999999956,-0.014700000000000019,-4.82610000000011,-0.1574000000000053,-0.2708999999999584,4.285599999999974,23.912699999999745,3.8266000000002123,14.60770000000025,-8.894500000000335,-0.06720000000000037,2.900300000000186,12.945599999999985,-0.2891000000004169,5.915600000000211,0.4932000000000052,-2.633099999999871,2.0208000000000084,-0.0014999999999999042,-1.9899000000000129,21.63009999999997,2.536499999999876,0.012200000000000079,-0.2034000000001015,5.015800000000048,-0.12999999999999992,-1.334200000000001,-1.104699999999994,3.6570000000000036,-5.739400000000028,3.3462999999998715,12.545299999999884,0.4914000000000023,-3.5045999999998116,1.8041000000000338,-22.411900000000514,4.072799999999972,-0.09049999999999975,0.5656000000039967,-40.835699999999065,-13.897899999999971,-0.2051000000000005,-0.08020000000000012,4.25019999999995,-0.7313000000000045,-20.49079999999958,-0.1386999999999997,-4.55229999999996,-40.53950000000006,9.71445146547012e-17,-0.13150000000000006,-14.39309999999864,-1.2276999999999985,1.072199999999997,30.32579999999973,18.256699999999455,-10.408199999999965,1.4903999999999966,26.21690000000001,7.209700000000026,-3.9278000000001043,-0.3438000000000052,-0.008900000000000297,-1.4558,0.5622999999999756,-0.5769999999999964,-6.479000000000383,-0.6638999999999995,-0.19120000000005888,11.431199999999649,-0.052000000000000046,-0.569699999999997,5.739999999999725,5.39489999999995,-35.15129999999991,6.987399999999965,11.897400000000033,4.990899999999911,-16.250900000000115,-0.2138999999999962,-7.29720000000043,0.07539999999996638,-21.2073000000006,0.30560000000000054,-4.647400000000857,-10.008399999999483,-0.21489999999999965,103.50200000000154,0.47799999999999576,-0.029300000000000187,1.5710999999999977,10.843200000000252,0.19420000000000037,4.609499999999969,0.06309999999999505,-0.22069999999999979,0.00040000000000008085,-0.2550999999997998,-0.09080000000000021,-0.04769999999999186,-16.042099999999934,30.578199999999924,-8.957699999999946,1.25649999999996,-4.163899999999899,3.904800000000108,-18.84479999999928,17.89310000000009,19.481600000000043,6.164999999999736,16.121999999999844,-2.1460000000001287,-3.6171999999999116,-33.40240000000017,1.5396999999993568,0.782099999999943,2.8541999999999916,-0.26640000000000075,-4.773799999999984,12.343800000000215,0.015899999999999984,167.72459999999978,-2.754399999999947,178.58630000000448,-18.20519999999931,-6.76870000000001,-6.024900000000116,2.030299999999997,29.402299999999514,-29.62120000000027,4.88430000000011,7.245899999999665,0.4652999999999956,-30.130899999999997,1.1926999999999595,-18.290599999999785,14.657899999999586,24.678399999999897,-0.0018999999999999018,-0.06039999999999984,29.531899999999723,24.37529999999998,-34.26829999999984,-6.424899999999894,-33.37189999999981,-8.084499999999963,12.113499999999874,-84.33459999999968,2.227699999999981,6.039800000000014,3.1647000000000958,0.7310999999999988,-1.9021999999999957,0.11240000000000028,9.71445146547012e-17,-0.3414999999999919,-0.0008999999999999078,0.3445999999999856,-1.187299999999965,-2.6896999999999593,-0.3221000000000913,0.0026999999999998414,-8.42539999999974,-1.4672999999999998,-0.10169999999996548,3.8792000000001394,59.58050000000276,-1.4864999999999924,-10.868300000000659,-17.384799999999814,-4.196300000000747,-6.447600000000108,0.37089999999999534,-0.11070000000001379,-9.97720000000001,-1.4712999999999994,0.322799999999976,3.6620999999993273,-2.81960000000001,23.858300000000327,-0.04109999999999983,-21.03050000000121,29.372199999999566,14.613899999999717,15.991600000000005,-0.17660000000000187,-8.186399999999935,14.721700000000737,-12.807700000000295,-0.302400000000001,-30.25650000000006,-0.9582000000002893,-10.018899999999803,-91.66369999999984,66.03039999999874,33.455100000000584,10.392600000000016,23.17349999999999,-1.6078000000000046,0.3550999999999931,0.6403999999999961,-2.1087,-8.639199999999974,-6.391600000000125,-0.4806999999998425,1.88049999999998,39.76570000000015,-1.8882000000000403,10.561400000000447,13.177800000000275,13.951999999999543,-21.41949999999997,0.012600000000048794,-0.015199999999999977,11.711499999999958,-11.785399999999669,29.11650000000043,2.249399999999696,9.227200000000003,5.303300000000178,-11.863100000000827,2.8362999999999943,-1.0608999999999984,-42.07939999999962,4.411899999999747,9.169900000000155,-3.2960999999959313,-85.18660000000045,6.132199999999926,0.017999999999999988,-13.868199999999945,-1.4339000000000794,37.11660000000256,15.269900000000462,15.599699999999928,-0.8112999999999957,-0.016599999999999837,-4.655799999999971,-34.68560000000093,-0.044399999999999606,0.8418999999999812,84.4765999999986,-0.10259999999996694,5.466300000000047,-13.066899999999919,-3.8965999999998644,4.219100000000168,-6.351600000000104,-0.02400000000000005,-20.962899999999934,-0.4791000000000011,-17.285099999999886,-2.073600000000056,14.416099999999915,0.5402000000000058,-8.755499999999813,-0.006199999999999983,-24.53819999999996,-20.74419999999995,-0.03670000000000595,-0.11249999999999005,0.6319000000003143,-3.706799999999987,1.001400000000217,-2.294800000000052,0.13529999999999975,0.5628000000000064,-0.006100000000000438,-0.0008999999999999078,0.4231999999999987,0.9240000000000039,-2.6232000000000255,1.159099999999988,0.07500000000000007,-5.43930000000006,-0.04339999999999994,29.66770000000008,-15.205599999999862,-5.1638999999999555,44.71970000000033,-6.405199999999809,-33.90160000000128,-38.80940000000001,-26.012999999999806,-0.4566000000000372,-11.525699999999802,0.171100000003662,-24.498100000000065,1.0424000000000113,0.0724000000000018,-0.12750000000001194,7.5064000000002125,-0.1607000000001335,-20.78849999999943,3.9588999999998578,-2.506199999999751,57.62389999999914,-6.541700000000006,-22.279800000000137,-2.0417999999999736,-0.04169999999999974,18.550300000000107,26.451899999999796,-14.392599999999959,-0.40469999999994855,4.763999999999726,-0.1475999999999993,2.118900000000167,9.71445146547012e-17,3.029500000000013,-0.06160000000000043,-1.3586000000000045,-44.41210000000035,8.276000000000636,-9.61079999999997,-4.644300000000271,1.6738999999999997,0.09439999999999671,6.014500000000055,-0.0009999999999999107,0.0032999999999999696,1.7090999999993528,-2.25010000000006,-1.6427000000000103,6.285599999999917,0.13229999999999809,-2.8855999999997834,-1.3247999999999998,-0.046800000000000036,-0.7212000000000001,26.413199999999847,19.819100000000844,5.948999999999671,-1.931199999999997,-23.0445000000002,-0.7991999999999919,1.8315000000000765,6.4122999999995045,-3.461700000000029,-0.9835000000000207,-34.51810000000003,-0.874500000000002,-0.9215000000000089,-0.08650000000000005,23.55860000000004,-0.016100000000000003,10.413899999999899,-8.971799999999575,1.2295999999999871,53.131099999999606,-2.7208000000003096,15.071300000000008,-0.3540999999999599,20.555499999999995,18.531499999999824,3.8006999999998357,-2.86950000000013,53.300300000000334,5.770300000000589,0.3094000000000019,-25.56049999999985,26.322399999999334,3.9870999999999555,-5.133799999999958,6.658600000000149,-1.3033000000000001,38.36710000000005,3.3972000000001117,3.887500000000273,-28.095099999999775,-4.1761999999999375,-7.109700000000146,4.500800000000055,-9.550200000000473,6.459699999999998,-5.9884000000001265,-2.877999999999993,50.91449999999895,34.87329999999986,-6.7372000000000085,27.838999999999828,4.165400000000147,2.2551000000003114,-64.74749999999949,-0.08799999999999936,0.011600000000000388,-0.3832999999999771,-4.754400000000004,-4.662899999999951,-9.043900000000235,45.75310000000036,-20.487399999999525,21.27260000000001,1.9921999999996274,-20.45810000000074,-0.22909999999999853,3.5066000000001054,-0.2602000000000153,18.617100000001074,-0.6014000000000124,-5.9321999999998525,-5.937700000000049,-14.581900000000019,-7.664600000000235,12.863400000000183,-0.925299999999996,-0.041299999999994785,6.178699999999765,-0.012399999999999925,-15.680500000000109,-34.92989999999918,0.3088999999996531,-4.151100000000099,1.7911999999999466,-0.34630000000007044,0.0426999999999893,-3.1862000000000705,1.7636999999999645,29.738199999997505,-0.7134000000000014,4.755300000000204,3.2042000000000144,426.4132999999965,-4.217999999999993,-0.005599999999999911,1.0483999999998161,6.363799999999998,-0.003299999999999907,-7.626500000000135,-10.145400000000109,-0.005699999999999844,2.1925000000000026,-16.531699999999887,-0.057800000000000074,0.09259999999991919,-0.30110000000000525,11.748499999999922,27.531200000000126,-2.77710000000004,25.1430000000002,17.680899999999838,19.001799999999832,3.9043000000000205,0.7362999999999973,6.425399999999939,-25.2838000000001,26.085100000000125,-22.406299999999987,-0.039599999999999955,-1.0176999999999907,17.861199999999883,-9.886399999999952,-7.626100000000179,-16.427600000000155,-3.9270999999999887,-1.8011999999999944,-4.704099999999869,21.131600000000617,-2.8288999999995212,0.012599999999849842,-0.8370000000000068,0.2595000000000014,-0.2965999999999984,30.010500000000206,30.29589999999996,13.285399999999925,-0.1847000000000003,-35.75529999999992,-18.188900000000388,10.653799999999933,0.1883000000000834,-7.12090000000029,37.99829999999997,0.09280000000000221,-0.36360000000001236,22.79040000000009,0.03200000000000014,-0.09320000000000217,13.018799999999885,79.1117000000022,-0.5674999999999386,8.394000000000432,-0.03449999999999989,-9.637500000000074,-14.03630000000004,0.16679999999998785,15.410699999999565,-0.027599999999999958,56.36620000000039,61.63479999999936,-0.0753000000000001,7.027599999999893,0.06579999999995323,0.4223000000001207,3.362400000000264,2.060100000000091,-19.00500000000025,1.562399999999954,6.174800000002961,0.8080999999999605,9.020562075079397e-17,-0.13970000000000027,4.89559999999949,-12.023000000000195,-0.5695999999998804,-6.897600000000267,-3.428200000000089,-0.0006999999999999229,-1.7600000000000051,1.8155999999999537,-4.6778000000000475,-0.46460000000000257,5.402899999999903,6.771599999999125,-7.99570000000034,-17.861900000000333,-4.903500000000236,-15.901900000000296,-1.4079999999999657,20.60949999999957,-0.048500000000000154,1.9942999999998676,1.6775000000000162,53.46669999999881,-18.51260000000002,-14.927399999999949,4.054299999999671,4.228200000000044,-0.008699999999999916,29.34960000000035,30.280900000000315,-46.138500000000136,8.481500000000054,2.877600000000598,16.152399999999943,0.4994000000000227,-10.923399999999333,1.171899999999681,35.9591999999991,0.09089999999997644,-0.17699999999997829,2.7345999999998867,-15.259300000000394,-12.932599999999468,-3.6892999999997755,1.1247999999999791,-3.7351000000000454,1.5154999999998893,0.020300000000000082,0.33019999999998007,-0.17900000000000005,19.761299999997846,18.97129999999997,-10.773000000000195,1.1248999999999967,27.164199999999823,7.861699999999928,-13.553200000000402,19.422799999999143,3.2420999999992546,-0.6868999999999801,21.77589999999975,-0.013999999999999888,36.06909999999834,29.885599999998817,20.587299999999345,-10.927699999999959,-10.45700000000005,-4.279100000000426,14.98390000000012,0.3053000000000097,0.5603999999999942,-1.1204999999999892,-10.469900000000052,-0.22910000000000208,-17.931699999999893,-1.92450000000008,12.302900000000363,-42.09890000000087,5.476100000000031,-0.00019999999999990165,0.25530000000000275,17.351700000000505,29.808100000000252,6.88819999999987,-0.1476999999999994,13.340400000000159,19.456699999999273,-22.907600000000002,-4.56310000000002,-5.896500000000145,0.32440000000002556,1.5794000000028063,-0.12260000000000015,16.854599999999436,12.10290000000009,-0.3954999999999984,28.865499999999656,4.394400000000019,-0.617300000000002,0.9429999999999623,-4.564100000000167,-6.327199999999994,-0.0054999999999998245,0.35140000000001237,-3.3680000000000376,1.5490999999998962,11.572399999999789,-2.3050999999998396,-25.98089999999945,-0.04079999999999995,14.233399999999847,-0.11149999999997817],\"type\":\"scatter\"}],                        {\"template\":{\"data\":{\"barpolar\":[{\"marker\":{\"line\":{\"color\":\"rgb(237,237,237)\",\"width\":0.5},\"pattern\":{\"fillmode\":\"overlay\",\"size\":10,\"solidity\":0.2}},\"type\":\"barpolar\"}],\"bar\":[{\"error_x\":{\"color\":\"rgb(51,51,51)\"},\"error_y\":{\"color\":\"rgb(51,51,51)\"},\"marker\":{\"line\":{\"color\":\"rgb(237,237,237)\",\"width\":0.5},\"pattern\":{\"fillmode\":\"overlay\",\"size\":10,\"solidity\":0.2}},\"type\":\"bar\"}],\"carpet\":[{\"aaxis\":{\"endlinecolor\":\"rgb(51,51,51)\",\"gridcolor\":\"white\",\"linecolor\":\"white\",\"minorgridcolor\":\"white\",\"startlinecolor\":\"rgb(51,51,51)\"},\"baxis\":{\"endlinecolor\":\"rgb(51,51,51)\",\"gridcolor\":\"white\",\"linecolor\":\"white\",\"minorgridcolor\":\"white\",\"startlinecolor\":\"rgb(51,51,51)\"},\"type\":\"carpet\"}],\"choropleth\":[{\"colorbar\":{\"outlinewidth\":0,\"tickcolor\":\"rgb(237,237,237)\",\"ticklen\":6,\"ticks\":\"inside\"},\"type\":\"choropleth\"}],\"contourcarpet\":[{\"colorbar\":{\"outlinewidth\":0,\"tickcolor\":\"rgb(237,237,237)\",\"ticklen\":6,\"ticks\":\"inside\"},\"type\":\"contourcarpet\"}],\"contour\":[{\"colorbar\":{\"outlinewidth\":0,\"tickcolor\":\"rgb(237,237,237)\",\"ticklen\":6,\"ticks\":\"inside\"},\"colorscale\":[[0,\"rgb(20,44,66)\"],[1,\"rgb(90,179,244)\"]],\"type\":\"contour\"}],\"heatmapgl\":[{\"colorbar\":{\"outlinewidth\":0,\"tickcolor\":\"rgb(237,237,237)\",\"ticklen\":6,\"ticks\":\"inside\"},\"colorscale\":[[0,\"rgb(20,44,66)\"],[1,\"rgb(90,179,244)\"]],\"type\":\"heatmapgl\"}],\"heatmap\":[{\"colorbar\":{\"outlinewidth\":0,\"tickcolor\":\"rgb(237,237,237)\",\"ticklen\":6,\"ticks\":\"inside\"},\"colorscale\":[[0,\"rgb(20,44,66)\"],[1,\"rgb(90,179,244)\"]],\"type\":\"heatmap\"}],\"histogram2dcontour\":[{\"colorbar\":{\"outlinewidth\":0,\"tickcolor\":\"rgb(237,237,237)\",\"ticklen\":6,\"ticks\":\"inside\"},\"colorscale\":[[0,\"rgb(20,44,66)\"],[1,\"rgb(90,179,244)\"]],\"type\":\"histogram2dcontour\"}],\"histogram2d\":[{\"colorbar\":{\"outlinewidth\":0,\"tickcolor\":\"rgb(237,237,237)\",\"ticklen\":6,\"ticks\":\"inside\"},\"colorscale\":[[0,\"rgb(20,44,66)\"],[1,\"rgb(90,179,244)\"]],\"type\":\"histogram2d\"}],\"histogram\":[{\"marker\":{\"pattern\":{\"fillmode\":\"overlay\",\"size\":10,\"solidity\":0.2}},\"type\":\"histogram\"}],\"mesh3d\":[{\"colorbar\":{\"outlinewidth\":0,\"tickcolor\":\"rgb(237,237,237)\",\"ticklen\":6,\"ticks\":\"inside\"},\"type\":\"mesh3d\"}],\"parcoords\":[{\"line\":{\"colorbar\":{\"outlinewidth\":0,\"tickcolor\":\"rgb(237,237,237)\",\"ticklen\":6,\"ticks\":\"inside\"}},\"type\":\"parcoords\"}],\"pie\":[{\"automargin\":true,\"type\":\"pie\"}],\"scatter3d\":[{\"line\":{\"colorbar\":{\"outlinewidth\":0,\"tickcolor\":\"rgb(237,237,237)\",\"ticklen\":6,\"ticks\":\"inside\"}},\"marker\":{\"colorbar\":{\"outlinewidth\":0,\"tickcolor\":\"rgb(237,237,237)\",\"ticklen\":6,\"ticks\":\"inside\"}},\"type\":\"scatter3d\"}],\"scattercarpet\":[{\"marker\":{\"colorbar\":{\"outlinewidth\":0,\"tickcolor\":\"rgb(237,237,237)\",\"ticklen\":6,\"ticks\":\"inside\"}},\"type\":\"scattercarpet\"}],\"scattergeo\":[{\"marker\":{\"colorbar\":{\"outlinewidth\":0,\"tickcolor\":\"rgb(237,237,237)\",\"ticklen\":6,\"ticks\":\"inside\"}},\"type\":\"scattergeo\"}],\"scattergl\":[{\"marker\":{\"colorbar\":{\"outlinewidth\":0,\"tickcolor\":\"rgb(237,237,237)\",\"ticklen\":6,\"ticks\":\"inside\"}},\"type\":\"scattergl\"}],\"scattermapbox\":[{\"marker\":{\"colorbar\":{\"outlinewidth\":0,\"tickcolor\":\"rgb(237,237,237)\",\"ticklen\":6,\"ticks\":\"inside\"}},\"type\":\"scattermapbox\"}],\"scatterpolargl\":[{\"marker\":{\"colorbar\":{\"outlinewidth\":0,\"tickcolor\":\"rgb(237,237,237)\",\"ticklen\":6,\"ticks\":\"inside\"}},\"type\":\"scatterpolargl\"}],\"scatterpolar\":[{\"marker\":{\"colorbar\":{\"outlinewidth\":0,\"tickcolor\":\"rgb(237,237,237)\",\"ticklen\":6,\"ticks\":\"inside\"}},\"type\":\"scatterpolar\"}],\"scatter\":[{\"fillpattern\":{\"fillmode\":\"overlay\",\"size\":10,\"solidity\":0.2},\"type\":\"scatter\"}],\"scatterternary\":[{\"marker\":{\"colorbar\":{\"outlinewidth\":0,\"tickcolor\":\"rgb(237,237,237)\",\"ticklen\":6,\"ticks\":\"inside\"}},\"type\":\"scatterternary\"}],\"surface\":[{\"colorbar\":{\"outlinewidth\":0,\"tickcolor\":\"rgb(237,237,237)\",\"ticklen\":6,\"ticks\":\"inside\"},\"colorscale\":[[0,\"rgb(20,44,66)\"],[1,\"rgb(90,179,244)\"]],\"type\":\"surface\"}],\"table\":[{\"cells\":{\"fill\":{\"color\":\"rgb(237,237,237)\"},\"line\":{\"color\":\"white\"}},\"header\":{\"fill\":{\"color\":\"rgb(217,217,217)\"},\"line\":{\"color\":\"white\"}},\"type\":\"table\"}]},\"layout\":{\"annotationdefaults\":{\"arrowhead\":0,\"arrowwidth\":1},\"autotypenumbers\":\"strict\",\"coloraxis\":{\"colorbar\":{\"outlinewidth\":0,\"tickcolor\":\"rgb(237,237,237)\",\"ticklen\":6,\"ticks\":\"inside\"}},\"colorscale\":{\"sequential\":[[0,\"rgb(20,44,66)\"],[1,\"rgb(90,179,244)\"]],\"sequentialminus\":[[0,\"rgb(20,44,66)\"],[1,\"rgb(90,179,244)\"]]},\"colorway\":[\"#F8766D\",\"#A3A500\",\"#00BF7D\",\"#00B0F6\",\"#E76BF3\"],\"font\":{\"color\":\"rgb(51,51,51)\"},\"geo\":{\"bgcolor\":\"white\",\"lakecolor\":\"white\",\"landcolor\":\"rgb(237,237,237)\",\"showlakes\":true,\"showland\":true,\"subunitcolor\":\"white\"},\"hoverlabel\":{\"align\":\"left\"},\"hovermode\":\"closest\",\"paper_bgcolor\":\"white\",\"plot_bgcolor\":\"rgb(237,237,237)\",\"polar\":{\"angularaxis\":{\"gridcolor\":\"white\",\"linecolor\":\"white\",\"showgrid\":true,\"tickcolor\":\"rgb(51,51,51)\",\"ticks\":\"outside\"},\"bgcolor\":\"rgb(237,237,237)\",\"radialaxis\":{\"gridcolor\":\"white\",\"linecolor\":\"white\",\"showgrid\":true,\"tickcolor\":\"rgb(51,51,51)\",\"ticks\":\"outside\"}},\"scene\":{\"xaxis\":{\"backgroundcolor\":\"rgb(237,237,237)\",\"gridcolor\":\"white\",\"gridwidth\":2,\"linecolor\":\"white\",\"showbackground\":true,\"showgrid\":true,\"tickcolor\":\"rgb(51,51,51)\",\"ticks\":\"outside\",\"zerolinecolor\":\"white\"},\"yaxis\":{\"backgroundcolor\":\"rgb(237,237,237)\",\"gridcolor\":\"white\",\"gridwidth\":2,\"linecolor\":\"white\",\"showbackground\":true,\"showgrid\":true,\"tickcolor\":\"rgb(51,51,51)\",\"ticks\":\"outside\",\"zerolinecolor\":\"white\"},\"zaxis\":{\"backgroundcolor\":\"rgb(237,237,237)\",\"gridcolor\":\"white\",\"gridwidth\":2,\"linecolor\":\"white\",\"showbackground\":true,\"showgrid\":true,\"tickcolor\":\"rgb(51,51,51)\",\"ticks\":\"outside\",\"zerolinecolor\":\"white\"}},\"shapedefaults\":{\"fillcolor\":\"black\",\"line\":{\"width\":0},\"opacity\":0.3},\"ternary\":{\"aaxis\":{\"gridcolor\":\"white\",\"linecolor\":\"white\",\"showgrid\":true,\"tickcolor\":\"rgb(51,51,51)\",\"ticks\":\"outside\"},\"baxis\":{\"gridcolor\":\"white\",\"linecolor\":\"white\",\"showgrid\":true,\"tickcolor\":\"rgb(51,51,51)\",\"ticks\":\"outside\"},\"bgcolor\":\"rgb(237,237,237)\",\"caxis\":{\"gridcolor\":\"white\",\"linecolor\":\"white\",\"showgrid\":true,\"tickcolor\":\"rgb(51,51,51)\",\"ticks\":\"outside\"}},\"xaxis\":{\"automargin\":true,\"gridcolor\":\"white\",\"linecolor\":\"white\",\"showgrid\":true,\"tickcolor\":\"rgb(51,51,51)\",\"ticks\":\"outside\",\"title\":{\"standoff\":15},\"zerolinecolor\":\"white\"},\"yaxis\":{\"automargin\":true,\"gridcolor\":\"white\",\"linecolor\":\"white\",\"showgrid\":true,\"tickcolor\":\"rgb(51,51,51)\",\"ticks\":\"outside\",\"title\":{\"standoff\":15},\"zerolinecolor\":\"white\"}}},\"title\":{\"text\":\"Predicted vs. Residuals - Calls\"},\"xaxis\":{\"title\":{\"text\":\"Prices\"}},\"yaxis\":{\"title\":{\"text\":\"Predicted prices\"}},\"autosize\":false,\"width\":700,\"height\":500},                        {\"responsive\": true}                    ).then(function(){\n",
              "                            \n",
              "var gd = document.getElementById('24a24eaf-43c2-46dc-84d4-a1ad217ac381');\n",
              "var x = new MutationObserver(function (mutations, observer) {{\n",
              "        var display = window.getComputedStyle(gd).display;\n",
              "        if (!display || display === 'none') {{\n",
              "            console.log([gd, 'removed!']);\n",
              "            Plotly.purge(gd);\n",
              "            observer.disconnect();\n",
              "        }}\n",
              "}});\n",
              "\n",
              "// Listen for the removal of the full notebook cells\n",
              "var notebookContainer = gd.closest('#notebook-container');\n",
              "if (notebookContainer) {{\n",
              "    x.observe(notebookContainer, {childList: true});\n",
              "}}\n",
              "\n",
              "// Listen for the clearing of the current output cell\n",
              "var outputEl = gd.closest('.output');\n",
              "if (outputEl) {{\n",
              "    x.observe(outputEl, {childList: true});\n",
              "}}\n",
              "\n",
              "                        })                };                            </script>        </div>\n",
              "</body>\n",
              "</html>"
            ]
          },
          "metadata": {}
        }
      ]
    },
    {
      "cell_type": "code",
      "source": [
        "# Cross validation - full data\n",
        "scores = cross_val_score(reg, X_train, y_train, cv=100)\n",
        "scores"
      ],
      "metadata": {
        "colab": {
          "base_uri": "https://localhost:8080/"
        },
        "id": "GVh9YhnczAX5",
        "outputId": "3ba7b535-33c2-4c5f-9e54-1711ab9aba27"
      },
      "execution_count": null,
      "outputs": [
        {
          "output_type": "execute_result",
          "data": {
            "text/plain": [
              "array([0.99938608, 0.99601149, 0.99906298, 0.99926218, 0.99949137,\n",
              "       0.99650436, 0.99883189, 0.99913199, 0.99929621, 0.99843961,\n",
              "       0.99786177, 0.99594045, 0.99888175, 0.99887328, 0.99844324,\n",
              "       0.99842716, 0.99819086, 0.99858912, 0.99926688, 0.99909213,\n",
              "       0.99873909, 0.9989895 , 0.99880892, 0.99889872, 0.99942482,\n",
              "       0.99580533, 0.99956216, 0.9986303 , 0.99678851, 0.99922688,\n",
              "       0.99857244, 0.99866051, 0.99377244, 0.99817081, 0.99893755,\n",
              "       0.99826293, 0.99870972, 0.99966777, 0.99879328, 0.9988277 ,\n",
              "       0.99869993, 0.99961514, 0.9884181 , 0.9988126 , 0.99516487,\n",
              "       0.99745319, 0.99786639, 0.99851309, 0.9984256 , 0.99949338,\n",
              "       0.99936885, 0.99954634, 0.99850982, 0.99699821, 0.99963193,\n",
              "       0.99920305, 0.99790599, 0.99883042, 0.99672769, 0.99380026,\n",
              "       0.99917915, 0.998437  , 0.99868713, 0.99864581, 0.99774023,\n",
              "       0.99906124, 0.99908115, 0.99963682, 0.99967955, 0.99904663,\n",
              "       0.99857758, 0.99953993, 0.99917617, 0.99751328, 0.99954937,\n",
              "       0.99762107, 0.99925923, 0.99927426, 0.99756779, 0.99830199,\n",
              "       0.99947849, 0.99858741, 0.98754011, 0.99855751, 0.99849805,\n",
              "       0.99872284, 0.99714994, 0.9983625 , 0.99709419, 0.99924031,\n",
              "       0.9995513 , 0.99947935, 0.99910934, 0.99722925, 0.99943882,\n",
              "       0.99863579, 0.99865167, 0.99901037, 0.99954481, 0.99803223])"
            ]
          },
          "metadata": {},
          "execution_count": 81
        }
      ]
    },
    {
      "cell_type": "code",
      "source": [
        "# Cross validation - puts\n",
        "scores = cross_val_score(reg, X_train_p, y_train_p, cv=100)\n",
        "scores"
      ],
      "metadata": {
        "id": "xAP5VlsMzJtA",
        "colab": {
          "base_uri": "https://localhost:8080/"
        },
        "outputId": "7cbd4f7c-57cc-4383-c828-c5ec10762165"
      },
      "execution_count": null,
      "outputs": [
        {
          "output_type": "execute_result",
          "data": {
            "text/plain": [
              "array([0.99454017, 0.9992343 , 0.99810666, 0.99968852, 0.98994461,\n",
              "       0.99683738, 0.99913645, 0.99703169, 0.99903185, 0.9975738 ,\n",
              "       0.98803268, 0.96293083, 0.99945821, 0.95021903, 0.99914409,\n",
              "       0.99414035, 0.98961272, 0.97237575, 0.99770909, 0.98479492,\n",
              "       0.9977972 , 0.99879857, 0.99905092, 0.99894435, 0.99576992,\n",
              "       0.99645415, 0.99771893, 0.92294367, 0.9874337 , 0.99235272,\n",
              "       0.99836006, 0.99076239, 0.99879106, 0.95530902, 0.99066436,\n",
              "       0.99796048, 0.99902511, 0.99817779, 0.99010771, 0.99669498,\n",
              "       0.99555334, 0.99147624, 0.99461837, 0.9862179 , 0.9975129 ,\n",
              "       0.99768601, 0.98541248, 0.99745908, 0.99781502, 0.99139871,\n",
              "       0.99925617, 0.99337513, 0.99924634, 0.99881288, 0.99656498,\n",
              "       0.99555817, 0.99466925, 0.95811311, 0.99749172, 0.97448488,\n",
              "       0.97561433, 0.99711687, 0.99883675, 0.99808902, 0.99825113,\n",
              "       0.9946328 , 0.98267662, 0.99947113, 0.99676711, 0.9954812 ,\n",
              "       0.99539638, 0.99936521, 0.98554229, 0.99831911, 0.99975206,\n",
              "       0.99314851, 0.9994684 , 0.99906836, 0.99831681, 0.99374859,\n",
              "       0.99527264, 0.98346871, 0.99619907, 0.99886608, 0.99945097,\n",
              "       0.97135172, 0.99475178, 0.99677916, 0.99892393, 0.97299957,\n",
              "       0.99026385, 0.99795476, 0.99687313, 0.99201318, 0.99176164,\n",
              "       0.99375231, 0.98552691, 0.99831275, 0.99334718, 0.99963363])"
            ]
          },
          "metadata": {},
          "execution_count": 82
        }
      ]
    },
    {
      "cell_type": "code",
      "source": [
        "# Cross validation - calls\n",
        "scores = cross_val_score(reg, X_train_c, y_train_c, cv=100)\n",
        "scores"
      ],
      "metadata": {
        "colab": {
          "base_uri": "https://localhost:8080/"
        },
        "id": "gg0S2kpmtIgs",
        "outputId": "c65f0b34-0cf6-46c8-c94d-aa640fd74de6"
      },
      "execution_count": null,
      "outputs": [
        {
          "output_type": "execute_result",
          "data": {
            "text/plain": [
              "array([0.99934791, 0.9962401 , 0.99881534, 0.99933785, 0.99948721,\n",
              "       0.99627938, 0.99884144, 0.99910493, 0.99916786, 0.99859441,\n",
              "       0.99781145, 0.99549053, 0.99909048, 0.99867921, 0.99841907,\n",
              "       0.99834727, 0.998326  , 0.99848663, 0.99933164, 0.99910647,\n",
              "       0.99887532, 0.99899518, 0.99884384, 0.99886559, 0.99954483,\n",
              "       0.99608329, 0.99959811, 0.9984672 , 0.99613314, 0.99920466,\n",
              "       0.99865085, 0.99857415, 0.99447337, 0.99834381, 0.99901876,\n",
              "       0.99818282, 0.99867278, 0.99966374, 0.99895049, 0.99881439,\n",
              "       0.99867658, 0.99962693, 0.98898629, 0.99878887, 0.9955279 ,\n",
              "       0.99727646, 0.99800018, 0.99843691, 0.99845286, 0.99947326,\n",
              "       0.99942438, 0.99963719, 0.99840898, 0.99701391, 0.99965386,\n",
              "       0.99921413, 0.99793599, 0.99885028, 0.99653852, 0.99347166,\n",
              "       0.99896775, 0.99829953, 0.99858481, 0.99837794, 0.99791182,\n",
              "       0.99909864, 0.99897723, 0.99962141, 0.99970327, 0.99913922,\n",
              "       0.99863629, 0.99953217, 0.9991553 , 0.9969699 , 0.99952415,\n",
              "       0.99759857, 0.99930388, 0.99929062, 0.99781436, 0.99822913,\n",
              "       0.99947819, 0.99853649, 0.98676985, 0.99858381, 0.99862789,\n",
              "       0.99893259, 0.99728397, 0.99864139, 0.9974853 , 0.99925777,\n",
              "       0.99956194, 0.99949835, 0.99891435, 0.9973107 , 0.99937904,\n",
              "       0.99851432, 0.9985143 , 0.9990881 , 0.99950907, 0.99830935])"
            ]
          },
          "metadata": {},
          "execution_count": 83
        }
      ]
    },
    {
      "cell_type": "markdown",
      "source": [
        "# III.Out-Sample Prediction"
      ],
      "metadata": {
        "id": "66uIGdhm9zUK"
      }
    },
    {
      "cell_type": "markdown",
      "source": [
        "## Test Data"
      ],
      "metadata": {
        "id": "HJ3-Rgmwgo34"
      }
    },
    {
      "cell_type": "code",
      "source": [
        "tau=2/365;\n",
        "S0=4130.11\n",
        "C=[31.55,15.3,4.15]\n",
        "C=np.array(C).reshape([len(C),1])\n",
        "\n",
        "P=[7.61,14.65,32.93]\n",
        "P=np.array(P).reshape([len(P),1])\n",
        "\n",
        "K=[4110.0,4130.0,4160.0]\n",
        "K=np.array(K).reshape([len(K),1])\n",
        "\n",
        "Moneyness_c = K/S0"
      ],
      "metadata": {
        "id": "UMB7GqTg951t"
      },
      "execution_count": null,
      "outputs": []
    },
    {
      "cell_type": "markdown",
      "source": [
        "## Calibrated Black-Scholes"
      ],
      "metadata": {
        "id": "UuG-Vl4P-l_W"
      }
    },
    {
      "cell_type": "code",
      "source": [
        "C_os_bs=np.zeros([len(C),1])\n",
        "P_os_bs=np.zeros([len(P),1])\n",
        "\n",
        "sigma_c,r_c=result_c.x\n",
        "sigma_p,r_p=result_p.x\n",
        "for i in range(len(C)):\n",
        "  C_os_bs[i]=BS_Price('C',S0,K[i],sigma_c,tau,r_c)\n",
        "  P_os_bs[i]=BS_Price('P',S0,K[i],sigma_p,tau,r_p)\n",
        "\n"
      ],
      "metadata": {
        "id": "vHcyHg8e-pZL"
      },
      "execution_count": null,
      "outputs": []
    },
    {
      "cell_type": "code",
      "source": [
        "#calculating metrics\n",
        "BS_RMSE=my_RMSE(C_os_bs,C),my_RMSE(P_os_bs,P)\n",
        "BS_MAE=my_MAE(C_os_bs,C),my_MAE(P_os_bs,P)\n",
        "BS_R2=my_R2(C_os_bs,C),my_R2(P_os_bs,P)"
      ],
      "metadata": {
        "id": "7ZZL1HqE_e2J"
      },
      "execution_count": null,
      "outputs": []
    },
    {
      "cell_type": "markdown",
      "source": [
        "### Performance"
      ],
      "metadata": {
        "id": "d1_4CwZ1gye_"
      }
    },
    {
      "cell_type": "code",
      "source": [
        "BS_metric=pd.DataFrame([BS_RMSE,BS_MAE,BS_R2],['RMSE','MAE','R^2'])\n",
        "BS_metric.columns=['Call(Out_sample)','Put(Out_Sample)']\n",
        "BS_metric"
      ],
      "metadata": {
        "id": "yyfIc1wW_6q3",
        "colab": {
          "base_uri": "https://localhost:8080/",
          "height": 143
        },
        "outputId": "40bed9e1-a2d1-4a60-fbab-81f7f0ce4b24"
      },
      "execution_count": null,
      "outputs": [
        {
          "output_type": "execute_result",
          "data": {
            "text/plain": [
              "      Call(Out_sample)  Put(Out_Sample)\n",
              "RMSE          2.893775         4.423085\n",
              "MAE           4.568652         7.631901\n",
              "R^2           0.801521         0.484575"
            ],
            "text/html": [
              "\n",
              "  <div id=\"df-73a2e664-141a-4550-827f-7cceaa92e79e\">\n",
              "    <div class=\"colab-df-container\">\n",
              "      <div>\n",
              "<style scoped>\n",
              "    .dataframe tbody tr th:only-of-type {\n",
              "        vertical-align: middle;\n",
              "    }\n",
              "\n",
              "    .dataframe tbody tr th {\n",
              "        vertical-align: top;\n",
              "    }\n",
              "\n",
              "    .dataframe thead th {\n",
              "        text-align: right;\n",
              "    }\n",
              "</style>\n",
              "<table border=\"1\" class=\"dataframe\">\n",
              "  <thead>\n",
              "    <tr style=\"text-align: right;\">\n",
              "      <th></th>\n",
              "      <th>Call(Out_sample)</th>\n",
              "      <th>Put(Out_Sample)</th>\n",
              "    </tr>\n",
              "  </thead>\n",
              "  <tbody>\n",
              "    <tr>\n",
              "      <th>RMSE</th>\n",
              "      <td>2.893775</td>\n",
              "      <td>4.423085</td>\n",
              "    </tr>\n",
              "    <tr>\n",
              "      <th>MAE</th>\n",
              "      <td>4.568652</td>\n",
              "      <td>7.631901</td>\n",
              "    </tr>\n",
              "    <tr>\n",
              "      <th>R^2</th>\n",
              "      <td>0.801521</td>\n",
              "      <td>0.484575</td>\n",
              "    </tr>\n",
              "  </tbody>\n",
              "</table>\n",
              "</div>\n",
              "      <button class=\"colab-df-convert\" onclick=\"convertToInteractive('df-73a2e664-141a-4550-827f-7cceaa92e79e')\"\n",
              "              title=\"Convert this dataframe to an interactive table.\"\n",
              "              style=\"display:none;\">\n",
              "        \n",
              "  <svg xmlns=\"http://www.w3.org/2000/svg\" height=\"24px\"viewBox=\"0 0 24 24\"\n",
              "       width=\"24px\">\n",
              "    <path d=\"M0 0h24v24H0V0z\" fill=\"none\"/>\n",
              "    <path d=\"M18.56 5.44l.94 2.06.94-2.06 2.06-.94-2.06-.94-.94-2.06-.94 2.06-2.06.94zm-11 1L8.5 8.5l.94-2.06 2.06-.94-2.06-.94L8.5 2.5l-.94 2.06-2.06.94zm10 10l.94 2.06.94-2.06 2.06-.94-2.06-.94-.94-2.06-.94 2.06-2.06.94z\"/><path d=\"M17.41 7.96l-1.37-1.37c-.4-.4-.92-.59-1.43-.59-.52 0-1.04.2-1.43.59L10.3 9.45l-7.72 7.72c-.78.78-.78 2.05 0 2.83L4 21.41c.39.39.9.59 1.41.59.51 0 1.02-.2 1.41-.59l7.78-7.78 2.81-2.81c.8-.78.8-2.07 0-2.86zM5.41 20L4 18.59l7.72-7.72 1.47 1.35L5.41 20z\"/>\n",
              "  </svg>\n",
              "      </button>\n",
              "      \n",
              "  <style>\n",
              "    .colab-df-container {\n",
              "      display:flex;\n",
              "      flex-wrap:wrap;\n",
              "      gap: 12px;\n",
              "    }\n",
              "\n",
              "    .colab-df-convert {\n",
              "      background-color: #E8F0FE;\n",
              "      border: none;\n",
              "      border-radius: 50%;\n",
              "      cursor: pointer;\n",
              "      display: none;\n",
              "      fill: #1967D2;\n",
              "      height: 32px;\n",
              "      padding: 0 0 0 0;\n",
              "      width: 32px;\n",
              "    }\n",
              "\n",
              "    .colab-df-convert:hover {\n",
              "      background-color: #E2EBFA;\n",
              "      box-shadow: 0px 1px 2px rgba(60, 64, 67, 0.3), 0px 1px 3px 1px rgba(60, 64, 67, 0.15);\n",
              "      fill: #174EA6;\n",
              "    }\n",
              "\n",
              "    [theme=dark] .colab-df-convert {\n",
              "      background-color: #3B4455;\n",
              "      fill: #D2E3FC;\n",
              "    }\n",
              "\n",
              "    [theme=dark] .colab-df-convert:hover {\n",
              "      background-color: #434B5C;\n",
              "      box-shadow: 0px 1px 3px 1px rgba(0, 0, 0, 0.15);\n",
              "      filter: drop-shadow(0px 1px 2px rgba(0, 0, 0, 0.3));\n",
              "      fill: #FFFFFF;\n",
              "    }\n",
              "  </style>\n",
              "\n",
              "      <script>\n",
              "        const buttonEl =\n",
              "          document.querySelector('#df-73a2e664-141a-4550-827f-7cceaa92e79e button.colab-df-convert');\n",
              "        buttonEl.style.display =\n",
              "          google.colab.kernel.accessAllowed ? 'block' : 'none';\n",
              "\n",
              "        async function convertToInteractive(key) {\n",
              "          const element = document.querySelector('#df-73a2e664-141a-4550-827f-7cceaa92e79e');\n",
              "          const dataTable =\n",
              "            await google.colab.kernel.invokeFunction('convertToInteractive',\n",
              "                                                     [key], {});\n",
              "          if (!dataTable) return;\n",
              "\n",
              "          const docLinkHtml = 'Like what you see? Visit the ' +\n",
              "            '<a target=\"_blank\" href=https://colab.research.google.com/notebooks/data_table.ipynb>data table notebook</a>'\n",
              "            + ' to learn more about interactive tables.';\n",
              "          element.innerHTML = '';\n",
              "          dataTable['output_type'] = 'display_data';\n",
              "          await google.colab.output.renderOutput(dataTable, element);\n",
              "          const docLink = document.createElement('div');\n",
              "          docLink.innerHTML = docLinkHtml;\n",
              "          element.appendChild(docLink);\n",
              "        }\n",
              "      </script>\n",
              "    </div>\n",
              "  </div>\n",
              "  "
            ]
          },
          "metadata": {},
          "execution_count": 87
        }
      ]
    },
    {
      "cell_type": "markdown",
      "source": [
        "## Linear regression "
      ],
      "metadata": {
        "id": "n-eLUxaFJfA_"
      }
    },
    {
      "cell_type": "code",
      "source": [
        "def compute_measures(y_true,y_pred):\n",
        "  mae = tf.keras.losses.MeanAbsoluteError()\n",
        "  mae1 = mae(y_true, y_pred).numpy()\n",
        "  mse = tf.keras.losses.MeanSquaredError()\n",
        "  rmse = np.sqrt(mse(y_true, y_pred).numpy())\n",
        "  R2 = my_R2(y_pred,y_true) \n",
        "\n",
        "  return mae1,rmse,R2\n"
      ],
      "metadata": {
        "id": "DphdbqLvlr4O"
      },
      "execution_count": null,
      "outputs": []
    },
    {
      "cell_type": "code",
      "source": [
        "#For call\n",
        "X_test = pd.DataFrame({'Tau':[2/365 for i in range(len(Moneyness_c))], 'Moneyness': Moneyness_c.reshape(len(Moneyness_c))})\n",
        "test_predictions = reg_model_c.predict(X_test)\n",
        "test_predictions.shape\n",
        "y_true = C   #Real call prices\n",
        "y_pred = np.array(test_predictions)\n",
        "print('ytrue',y_true)\n",
        "print()\n",
        "print('ypred',y_pred)\n",
        "mae1, rmse, R2 = compute_measures(y_true, y_pred)\n",
        "\n",
        "#For put\n",
        "test_predictions = reg_model_p.predict(X_test)\n",
        "test_predictions.shape\n",
        "y_true = P   #Real call prices\n",
        "y_pred = np.array(test_predictions)\n",
        "print('ytrue',y_true)\n",
        "print()\n",
        "print('ypred',y_pred)\n",
        "mae1_p, rmse_p, R2_p = compute_measures(y_true, y_pred)\n",
        "\n",
        "rmsel = [rmse,rmse_p]\n",
        "mael = [mae1, mae1_p]\n",
        "R2l = [R2, R2_p]\n",
        "\n",
        "LR_metric = pd.DataFrame([rmsel, mael, R2l],['RMSE','MAE', 'R^2'])\n",
        "LR_metric.columns=['Call(Out_sample)', 'Put(Out_Sample)']\n",
        "LR_metric\n",
        "\n"
      ],
      "metadata": {
        "colab": {
          "base_uri": "https://localhost:8080/",
          "height": 429
        },
        "id": "7mkXvSC4JmBS",
        "outputId": "0e0eaeef-26a0-4c80-ab9b-35052ec2535a"
      },
      "execution_count": null,
      "outputs": [
        {
          "output_type": "stream",
          "name": "stdout",
          "text": [
            "1/1 [==============================] - 0s 18ms/step\n",
            "ytrue [[31.55]\n",
            " [15.3 ]\n",
            " [ 4.15]]\n",
            "\n",
            "ypred [[104.023544]\n",
            " [ 90.573944]\n",
            " [ 70.399475]]\n",
            "1/1 [==============================] - 0s 19ms/step\n",
            "ytrue [[ 7.61]\n",
            " [14.65]\n",
            " [32.93]]\n",
            "\n",
            "ypred [[53.511448]\n",
            " [55.876648]\n",
            " [59.424458]]\n"
          ]
        },
        {
          "output_type": "execute_result",
          "data": {
            "text/plain": [
              "      Call(Out_sample)  Put(Out_Sample)\n",
              "RMSE         71.431953        38.766544\n",
              "MAE          71.332314        37.874187\n",
              "R^2         -39.313325       -12.198001"
            ],
            "text/html": [
              "\n",
              "  <div id=\"df-02febb3c-5ce1-440e-a112-d650e7027f4e\">\n",
              "    <div class=\"colab-df-container\">\n",
              "      <div>\n",
              "<style scoped>\n",
              "    .dataframe tbody tr th:only-of-type {\n",
              "        vertical-align: middle;\n",
              "    }\n",
              "\n",
              "    .dataframe tbody tr th {\n",
              "        vertical-align: top;\n",
              "    }\n",
              "\n",
              "    .dataframe thead th {\n",
              "        text-align: right;\n",
              "    }\n",
              "</style>\n",
              "<table border=\"1\" class=\"dataframe\">\n",
              "  <thead>\n",
              "    <tr style=\"text-align: right;\">\n",
              "      <th></th>\n",
              "      <th>Call(Out_sample)</th>\n",
              "      <th>Put(Out_Sample)</th>\n",
              "    </tr>\n",
              "  </thead>\n",
              "  <tbody>\n",
              "    <tr>\n",
              "      <th>RMSE</th>\n",
              "      <td>71.431953</td>\n",
              "      <td>38.766544</td>\n",
              "    </tr>\n",
              "    <tr>\n",
              "      <th>MAE</th>\n",
              "      <td>71.332314</td>\n",
              "      <td>37.874187</td>\n",
              "    </tr>\n",
              "    <tr>\n",
              "      <th>R^2</th>\n",
              "      <td>-39.313325</td>\n",
              "      <td>-12.198001</td>\n",
              "    </tr>\n",
              "  </tbody>\n",
              "</table>\n",
              "</div>\n",
              "      <button class=\"colab-df-convert\" onclick=\"convertToInteractive('df-02febb3c-5ce1-440e-a112-d650e7027f4e')\"\n",
              "              title=\"Convert this dataframe to an interactive table.\"\n",
              "              style=\"display:none;\">\n",
              "        \n",
              "  <svg xmlns=\"http://www.w3.org/2000/svg\" height=\"24px\"viewBox=\"0 0 24 24\"\n",
              "       width=\"24px\">\n",
              "    <path d=\"M0 0h24v24H0V0z\" fill=\"none\"/>\n",
              "    <path d=\"M18.56 5.44l.94 2.06.94-2.06 2.06-.94-2.06-.94-.94-2.06-.94 2.06-2.06.94zm-11 1L8.5 8.5l.94-2.06 2.06-.94-2.06-.94L8.5 2.5l-.94 2.06-2.06.94zm10 10l.94 2.06.94-2.06 2.06-.94-2.06-.94-.94-2.06-.94 2.06-2.06.94z\"/><path d=\"M17.41 7.96l-1.37-1.37c-.4-.4-.92-.59-1.43-.59-.52 0-1.04.2-1.43.59L10.3 9.45l-7.72 7.72c-.78.78-.78 2.05 0 2.83L4 21.41c.39.39.9.59 1.41.59.51 0 1.02-.2 1.41-.59l7.78-7.78 2.81-2.81c.8-.78.8-2.07 0-2.86zM5.41 20L4 18.59l7.72-7.72 1.47 1.35L5.41 20z\"/>\n",
              "  </svg>\n",
              "      </button>\n",
              "      \n",
              "  <style>\n",
              "    .colab-df-container {\n",
              "      display:flex;\n",
              "      flex-wrap:wrap;\n",
              "      gap: 12px;\n",
              "    }\n",
              "\n",
              "    .colab-df-convert {\n",
              "      background-color: #E8F0FE;\n",
              "      border: none;\n",
              "      border-radius: 50%;\n",
              "      cursor: pointer;\n",
              "      display: none;\n",
              "      fill: #1967D2;\n",
              "      height: 32px;\n",
              "      padding: 0 0 0 0;\n",
              "      width: 32px;\n",
              "    }\n",
              "\n",
              "    .colab-df-convert:hover {\n",
              "      background-color: #E2EBFA;\n",
              "      box-shadow: 0px 1px 2px rgba(60, 64, 67, 0.3), 0px 1px 3px 1px rgba(60, 64, 67, 0.15);\n",
              "      fill: #174EA6;\n",
              "    }\n",
              "\n",
              "    [theme=dark] .colab-df-convert {\n",
              "      background-color: #3B4455;\n",
              "      fill: #D2E3FC;\n",
              "    }\n",
              "\n",
              "    [theme=dark] .colab-df-convert:hover {\n",
              "      background-color: #434B5C;\n",
              "      box-shadow: 0px 1px 3px 1px rgba(0, 0, 0, 0.15);\n",
              "      filter: drop-shadow(0px 1px 2px rgba(0, 0, 0, 0.3));\n",
              "      fill: #FFFFFF;\n",
              "    }\n",
              "  </style>\n",
              "\n",
              "      <script>\n",
              "        const buttonEl =\n",
              "          document.querySelector('#df-02febb3c-5ce1-440e-a112-d650e7027f4e button.colab-df-convert');\n",
              "        buttonEl.style.display =\n",
              "          google.colab.kernel.accessAllowed ? 'block' : 'none';\n",
              "\n",
              "        async function convertToInteractive(key) {\n",
              "          const element = document.querySelector('#df-02febb3c-5ce1-440e-a112-d650e7027f4e');\n",
              "          const dataTable =\n",
              "            await google.colab.kernel.invokeFunction('convertToInteractive',\n",
              "                                                     [key], {});\n",
              "          if (!dataTable) return;\n",
              "\n",
              "          const docLinkHtml = 'Like what you see? Visit the ' +\n",
              "            '<a target=\"_blank\" href=https://colab.research.google.com/notebooks/data_table.ipynb>data table notebook</a>'\n",
              "            + ' to learn more about interactive tables.';\n",
              "          element.innerHTML = '';\n",
              "          dataTable['output_type'] = 'display_data';\n",
              "          await google.colab.output.renderOutput(dataTable, element);\n",
              "          const docLink = document.createElement('div');\n",
              "          docLink.innerHTML = docLinkHtml;\n",
              "          element.appendChild(docLink);\n",
              "        }\n",
              "      </script>\n",
              "    </div>\n",
              "  </div>\n",
              "  "
            ]
          },
          "metadata": {},
          "execution_count": 89
        }
      ]
    },
    {
      "cell_type": "markdown",
      "source": [
        "## DNN Regression"
      ],
      "metadata": {
        "id": "-Rj5SbXXR9Gc"
      }
    },
    {
      "cell_type": "code",
      "source": [
        "#For call\n",
        "X_test = pd.DataFrame({'Tau':[2/365 for i in range(len(Moneyness_c))], 'Moneyness': Moneyness_c.reshape(len(Moneyness_c))})\n",
        "test_predictions = DNN_model.predict(X_test)\n",
        "test_predictions.shape\n",
        "y_true = C   #Real call prices\n",
        "y_pred = np.array(test_predictions)\n",
        "print('ytrue',y_true)\n",
        "print()\n",
        "print('ypred',y_pred)\n",
        "mae1, rmse, R2 = compute_measures(y_true, y_pred)\n",
        "\n",
        "#For Put\n",
        "test_predictions = DNN_model_p.predict(X_test)\n",
        "test_predictions.shape\n",
        "y_true = P   #Real call prices\n",
        "y_pred = np.array(test_predictions)\n",
        "print('ytrue',y_true)\n",
        "print()\n",
        "print('ypred',y_pred)\n",
        "mae1_p, rmse_p, R2_p = compute_measures(y_true, y_pred)\n",
        "\n",
        "rmsel = [rmse,rmse_p]\n",
        "mael = [mae1, mae1_p]\n",
        "R2l = [R2, R2_p]\n",
        "\n",
        "DNN_metric = pd.DataFrame([rmsel, mael, R2l],['RMSE','MAE','R^2'])\n",
        "DNN_metric.columns=['Call(Out_sample)', 'Put(Out_Sample)']\n",
        "DNN_metric"
      ],
      "metadata": {
        "colab": {
          "base_uri": "https://localhost:8080/",
          "height": 429
        },
        "id": "XLMPgeRMN6Dm",
        "outputId": "1be351d3-2fc7-40ae-eaac-65dd4b60712a"
      },
      "execution_count": null,
      "outputs": [
        {
          "output_type": "stream",
          "name": "stdout",
          "text": [
            "1/1 [==============================] - 0s 19ms/step\n",
            "ytrue [[31.55]\n",
            " [15.3 ]\n",
            " [ 4.15]]\n",
            "\n",
            "ypred [[45.92736]\n",
            " [32.19661]\n",
            " [16.69007]]\n",
            "1/1 [==============================] - 0s 33ms/step\n",
            "ytrue [[ 7.61]\n",
            " [14.65]\n",
            " [32.93]]\n",
            "\n",
            "ypred [[19.47534 ]\n",
            " [25.050926]\n",
            " [37.21514 ]]\n"
          ]
        },
        {
          "output_type": "execute_result",
          "data": {
            "text/plain": [
              "      Call(Out_sample)  Put(Out_Sample)\n",
              "RMSE         14.713456         9.439774\n",
              "MAE          14.604680         8.850469\n",
              "R^2          -0.710381         0.217441"
            ],
            "text/html": [
              "\n",
              "  <div id=\"df-143315c7-9208-449c-857e-425af8a630a2\">\n",
              "    <div class=\"colab-df-container\">\n",
              "      <div>\n",
              "<style scoped>\n",
              "    .dataframe tbody tr th:only-of-type {\n",
              "        vertical-align: middle;\n",
              "    }\n",
              "\n",
              "    .dataframe tbody tr th {\n",
              "        vertical-align: top;\n",
              "    }\n",
              "\n",
              "    .dataframe thead th {\n",
              "        text-align: right;\n",
              "    }\n",
              "</style>\n",
              "<table border=\"1\" class=\"dataframe\">\n",
              "  <thead>\n",
              "    <tr style=\"text-align: right;\">\n",
              "      <th></th>\n",
              "      <th>Call(Out_sample)</th>\n",
              "      <th>Put(Out_Sample)</th>\n",
              "    </tr>\n",
              "  </thead>\n",
              "  <tbody>\n",
              "    <tr>\n",
              "      <th>RMSE</th>\n",
              "      <td>14.713456</td>\n",
              "      <td>9.439774</td>\n",
              "    </tr>\n",
              "    <tr>\n",
              "      <th>MAE</th>\n",
              "      <td>14.604680</td>\n",
              "      <td>8.850469</td>\n",
              "    </tr>\n",
              "    <tr>\n",
              "      <th>R^2</th>\n",
              "      <td>-0.710381</td>\n",
              "      <td>0.217441</td>\n",
              "    </tr>\n",
              "  </tbody>\n",
              "</table>\n",
              "</div>\n",
              "      <button class=\"colab-df-convert\" onclick=\"convertToInteractive('df-143315c7-9208-449c-857e-425af8a630a2')\"\n",
              "              title=\"Convert this dataframe to an interactive table.\"\n",
              "              style=\"display:none;\">\n",
              "        \n",
              "  <svg xmlns=\"http://www.w3.org/2000/svg\" height=\"24px\"viewBox=\"0 0 24 24\"\n",
              "       width=\"24px\">\n",
              "    <path d=\"M0 0h24v24H0V0z\" fill=\"none\"/>\n",
              "    <path d=\"M18.56 5.44l.94 2.06.94-2.06 2.06-.94-2.06-.94-.94-2.06-.94 2.06-2.06.94zm-11 1L8.5 8.5l.94-2.06 2.06-.94-2.06-.94L8.5 2.5l-.94 2.06-2.06.94zm10 10l.94 2.06.94-2.06 2.06-.94-2.06-.94-.94-2.06-.94 2.06-2.06.94z\"/><path d=\"M17.41 7.96l-1.37-1.37c-.4-.4-.92-.59-1.43-.59-.52 0-1.04.2-1.43.59L10.3 9.45l-7.72 7.72c-.78.78-.78 2.05 0 2.83L4 21.41c.39.39.9.59 1.41.59.51 0 1.02-.2 1.41-.59l7.78-7.78 2.81-2.81c.8-.78.8-2.07 0-2.86zM5.41 20L4 18.59l7.72-7.72 1.47 1.35L5.41 20z\"/>\n",
              "  </svg>\n",
              "      </button>\n",
              "      \n",
              "  <style>\n",
              "    .colab-df-container {\n",
              "      display:flex;\n",
              "      flex-wrap:wrap;\n",
              "      gap: 12px;\n",
              "    }\n",
              "\n",
              "    .colab-df-convert {\n",
              "      background-color: #E8F0FE;\n",
              "      border: none;\n",
              "      border-radius: 50%;\n",
              "      cursor: pointer;\n",
              "      display: none;\n",
              "      fill: #1967D2;\n",
              "      height: 32px;\n",
              "      padding: 0 0 0 0;\n",
              "      width: 32px;\n",
              "    }\n",
              "\n",
              "    .colab-df-convert:hover {\n",
              "      background-color: #E2EBFA;\n",
              "      box-shadow: 0px 1px 2px rgba(60, 64, 67, 0.3), 0px 1px 3px 1px rgba(60, 64, 67, 0.15);\n",
              "      fill: #174EA6;\n",
              "    }\n",
              "\n",
              "    [theme=dark] .colab-df-convert {\n",
              "      background-color: #3B4455;\n",
              "      fill: #D2E3FC;\n",
              "    }\n",
              "\n",
              "    [theme=dark] .colab-df-convert:hover {\n",
              "      background-color: #434B5C;\n",
              "      box-shadow: 0px 1px 3px 1px rgba(0, 0, 0, 0.15);\n",
              "      filter: drop-shadow(0px 1px 2px rgba(0, 0, 0, 0.3));\n",
              "      fill: #FFFFFF;\n",
              "    }\n",
              "  </style>\n",
              "\n",
              "      <script>\n",
              "        const buttonEl =\n",
              "          document.querySelector('#df-143315c7-9208-449c-857e-425af8a630a2 button.colab-df-convert');\n",
              "        buttonEl.style.display =\n",
              "          google.colab.kernel.accessAllowed ? 'block' : 'none';\n",
              "\n",
              "        async function convertToInteractive(key) {\n",
              "          const element = document.querySelector('#df-143315c7-9208-449c-857e-425af8a630a2');\n",
              "          const dataTable =\n",
              "            await google.colab.kernel.invokeFunction('convertToInteractive',\n",
              "                                                     [key], {});\n",
              "          if (!dataTable) return;\n",
              "\n",
              "          const docLinkHtml = 'Like what you see? Visit the ' +\n",
              "            '<a target=\"_blank\" href=https://colab.research.google.com/notebooks/data_table.ipynb>data table notebook</a>'\n",
              "            + ' to learn more about interactive tables.';\n",
              "          element.innerHTML = '';\n",
              "          dataTable['output_type'] = 'display_data';\n",
              "          await google.colab.output.renderOutput(dataTable, element);\n",
              "          const docLink = document.createElement('div');\n",
              "          docLink.innerHTML = docLinkHtml;\n",
              "          element.appendChild(docLink);\n",
              "        }\n",
              "      </script>\n",
              "    </div>\n",
              "  </div>\n",
              "  "
            ]
          },
          "metadata": {},
          "execution_count": 91
        }
      ]
    },
    {
      "cell_type": "markdown",
      "source": [
        "## Random Forest Regression"
      ],
      "metadata": {
        "id": "fmS6sGJHIOi8"
      }
    },
    {
      "cell_type": "code",
      "source": [
        "#Fit regression models\n",
        "rf_results_c = pd.DataFrame(data=[], columns=[])\n",
        "rf_results_c['C'] = [31.55, 15.3, 4.15]\n",
        "y_observed = np.array([31.55, 15.30, 4.15])\n",
        "\n",
        "y_pred_c = reg_c.predict(X_test)\n",
        "rf_results_c['y_pred_c'] = y_pred_c\n",
        "\n",
        "rf_results_c"
      ],
      "metadata": {
        "colab": {
          "base_uri": "https://localhost:8080/",
          "height": 143
        },
        "id": "_pw258HvITxt",
        "outputId": "622be21b-239d-4529-e5dc-44e330e70abc"
      },
      "execution_count": null,
      "outputs": [
        {
          "output_type": "execute_result",
          "data": {
            "text/plain": [
              "       C  y_pred_c\n",
              "0  31.55   37.1469\n",
              "1  15.30   24.5321\n",
              "2   4.15   11.1456"
            ],
            "text/html": [
              "\n",
              "  <div id=\"df-6b9e5cba-68c9-4c16-a6e0-e86da3653e7f\">\n",
              "    <div class=\"colab-df-container\">\n",
              "      <div>\n",
              "<style scoped>\n",
              "    .dataframe tbody tr th:only-of-type {\n",
              "        vertical-align: middle;\n",
              "    }\n",
              "\n",
              "    .dataframe tbody tr th {\n",
              "        vertical-align: top;\n",
              "    }\n",
              "\n",
              "    .dataframe thead th {\n",
              "        text-align: right;\n",
              "    }\n",
              "</style>\n",
              "<table border=\"1\" class=\"dataframe\">\n",
              "  <thead>\n",
              "    <tr style=\"text-align: right;\">\n",
              "      <th></th>\n",
              "      <th>C</th>\n",
              "      <th>y_pred_c</th>\n",
              "    </tr>\n",
              "  </thead>\n",
              "  <tbody>\n",
              "    <tr>\n",
              "      <th>0</th>\n",
              "      <td>31.55</td>\n",
              "      <td>37.1469</td>\n",
              "    </tr>\n",
              "    <tr>\n",
              "      <th>1</th>\n",
              "      <td>15.30</td>\n",
              "      <td>24.5321</td>\n",
              "    </tr>\n",
              "    <tr>\n",
              "      <th>2</th>\n",
              "      <td>4.15</td>\n",
              "      <td>11.1456</td>\n",
              "    </tr>\n",
              "  </tbody>\n",
              "</table>\n",
              "</div>\n",
              "      <button class=\"colab-df-convert\" onclick=\"convertToInteractive('df-6b9e5cba-68c9-4c16-a6e0-e86da3653e7f')\"\n",
              "              title=\"Convert this dataframe to an interactive table.\"\n",
              "              style=\"display:none;\">\n",
              "        \n",
              "  <svg xmlns=\"http://www.w3.org/2000/svg\" height=\"24px\"viewBox=\"0 0 24 24\"\n",
              "       width=\"24px\">\n",
              "    <path d=\"M0 0h24v24H0V0z\" fill=\"none\"/>\n",
              "    <path d=\"M18.56 5.44l.94 2.06.94-2.06 2.06-.94-2.06-.94-.94-2.06-.94 2.06-2.06.94zm-11 1L8.5 8.5l.94-2.06 2.06-.94-2.06-.94L8.5 2.5l-.94 2.06-2.06.94zm10 10l.94 2.06.94-2.06 2.06-.94-2.06-.94-.94-2.06-.94 2.06-2.06.94z\"/><path d=\"M17.41 7.96l-1.37-1.37c-.4-.4-.92-.59-1.43-.59-.52 0-1.04.2-1.43.59L10.3 9.45l-7.72 7.72c-.78.78-.78 2.05 0 2.83L4 21.41c.39.39.9.59 1.41.59.51 0 1.02-.2 1.41-.59l7.78-7.78 2.81-2.81c.8-.78.8-2.07 0-2.86zM5.41 20L4 18.59l7.72-7.72 1.47 1.35L5.41 20z\"/>\n",
              "  </svg>\n",
              "      </button>\n",
              "      \n",
              "  <style>\n",
              "    .colab-df-container {\n",
              "      display:flex;\n",
              "      flex-wrap:wrap;\n",
              "      gap: 12px;\n",
              "    }\n",
              "\n",
              "    .colab-df-convert {\n",
              "      background-color: #E8F0FE;\n",
              "      border: none;\n",
              "      border-radius: 50%;\n",
              "      cursor: pointer;\n",
              "      display: none;\n",
              "      fill: #1967D2;\n",
              "      height: 32px;\n",
              "      padding: 0 0 0 0;\n",
              "      width: 32px;\n",
              "    }\n",
              "\n",
              "    .colab-df-convert:hover {\n",
              "      background-color: #E2EBFA;\n",
              "      box-shadow: 0px 1px 2px rgba(60, 64, 67, 0.3), 0px 1px 3px 1px rgba(60, 64, 67, 0.15);\n",
              "      fill: #174EA6;\n",
              "    }\n",
              "\n",
              "    [theme=dark] .colab-df-convert {\n",
              "      background-color: #3B4455;\n",
              "      fill: #D2E3FC;\n",
              "    }\n",
              "\n",
              "    [theme=dark] .colab-df-convert:hover {\n",
              "      background-color: #434B5C;\n",
              "      box-shadow: 0px 1px 3px 1px rgba(0, 0, 0, 0.15);\n",
              "      filter: drop-shadow(0px 1px 2px rgba(0, 0, 0, 0.3));\n",
              "      fill: #FFFFFF;\n",
              "    }\n",
              "  </style>\n",
              "\n",
              "      <script>\n",
              "        const buttonEl =\n",
              "          document.querySelector('#df-6b9e5cba-68c9-4c16-a6e0-e86da3653e7f button.colab-df-convert');\n",
              "        buttonEl.style.display =\n",
              "          google.colab.kernel.accessAllowed ? 'block' : 'none';\n",
              "\n",
              "        async function convertToInteractive(key) {\n",
              "          const element = document.querySelector('#df-6b9e5cba-68c9-4c16-a6e0-e86da3653e7f');\n",
              "          const dataTable =\n",
              "            await google.colab.kernel.invokeFunction('convertToInteractive',\n",
              "                                                     [key], {});\n",
              "          if (!dataTable) return;\n",
              "\n",
              "          const docLinkHtml = 'Like what you see? Visit the ' +\n",
              "            '<a target=\"_blank\" href=https://colab.research.google.com/notebooks/data_table.ipynb>data table notebook</a>'\n",
              "            + ' to learn more about interactive tables.';\n",
              "          element.innerHTML = '';\n",
              "          dataTable['output_type'] = 'display_data';\n",
              "          await google.colab.output.renderOutput(dataTable, element);\n",
              "          const docLink = document.createElement('div');\n",
              "          docLink.innerHTML = docLinkHtml;\n",
              "          element.appendChild(docLink);\n",
              "        }\n",
              "      </script>\n",
              "    </div>\n",
              "  </div>\n",
              "  "
            ]
          },
          "metadata": {},
          "execution_count": 136
        }
      ]
    },
    {
      "cell_type": "code",
      "source": [
        "mae_c, rmse_c, r2_c = compute_measures(y_observed, y_pred_c)"
      ],
      "metadata": {
        "id": "aXEFKj_VR8KV"
      },
      "execution_count": null,
      "outputs": []
    },
    {
      "cell_type": "code",
      "source": [
        "#Fit regression models\n",
        "rf_results_p = pd.DataFrame(data=[], columns=[])\n",
        "rf_results_p['P'] = [7.61, 14.65, 32.93]\n",
        "y_observed = np.array([7.61, 14.65, 32.93])\n",
        "\n",
        "y_pred_p = reg_p.predict(X_test)\n",
        "rf_results_p['y_pred_p'] = y_pred_p\n",
        "\n",
        "rf_results_p"
      ],
      "metadata": {
        "colab": {
          "base_uri": "https://localhost:8080/",
          "height": 143
        },
        "id": "MQYag_KuJgzH",
        "outputId": "55f5efd8-c85c-4531-a9c9-646bb6d11d3b"
      },
      "execution_count": null,
      "outputs": [
        {
          "output_type": "execute_result",
          "data": {
            "text/plain": [
              "       P  y_pred_p\n",
              "0   7.61   13.4533\n",
              "1  14.65   20.7353\n",
              "2  32.93   37.1873"
            ],
            "text/html": [
              "\n",
              "  <div id=\"df-9a98ccbf-b34f-4d95-bc7d-7ce81a33d7dd\">\n",
              "    <div class=\"colab-df-container\">\n",
              "      <div>\n",
              "<style scoped>\n",
              "    .dataframe tbody tr th:only-of-type {\n",
              "        vertical-align: middle;\n",
              "    }\n",
              "\n",
              "    .dataframe tbody tr th {\n",
              "        vertical-align: top;\n",
              "    }\n",
              "\n",
              "    .dataframe thead th {\n",
              "        text-align: right;\n",
              "    }\n",
              "</style>\n",
              "<table border=\"1\" class=\"dataframe\">\n",
              "  <thead>\n",
              "    <tr style=\"text-align: right;\">\n",
              "      <th></th>\n",
              "      <th>P</th>\n",
              "      <th>y_pred_p</th>\n",
              "    </tr>\n",
              "  </thead>\n",
              "  <tbody>\n",
              "    <tr>\n",
              "      <th>0</th>\n",
              "      <td>7.61</td>\n",
              "      <td>13.4533</td>\n",
              "    </tr>\n",
              "    <tr>\n",
              "      <th>1</th>\n",
              "      <td>14.65</td>\n",
              "      <td>20.7353</td>\n",
              "    </tr>\n",
              "    <tr>\n",
              "      <th>2</th>\n",
              "      <td>32.93</td>\n",
              "      <td>37.1873</td>\n",
              "    </tr>\n",
              "  </tbody>\n",
              "</table>\n",
              "</div>\n",
              "      <button class=\"colab-df-convert\" onclick=\"convertToInteractive('df-9a98ccbf-b34f-4d95-bc7d-7ce81a33d7dd')\"\n",
              "              title=\"Convert this dataframe to an interactive table.\"\n",
              "              style=\"display:none;\">\n",
              "        \n",
              "  <svg xmlns=\"http://www.w3.org/2000/svg\" height=\"24px\"viewBox=\"0 0 24 24\"\n",
              "       width=\"24px\">\n",
              "    <path d=\"M0 0h24v24H0V0z\" fill=\"none\"/>\n",
              "    <path d=\"M18.56 5.44l.94 2.06.94-2.06 2.06-.94-2.06-.94-.94-2.06-.94 2.06-2.06.94zm-11 1L8.5 8.5l.94-2.06 2.06-.94-2.06-.94L8.5 2.5l-.94 2.06-2.06.94zm10 10l.94 2.06.94-2.06 2.06-.94-2.06-.94-.94-2.06-.94 2.06-2.06.94z\"/><path d=\"M17.41 7.96l-1.37-1.37c-.4-.4-.92-.59-1.43-.59-.52 0-1.04.2-1.43.59L10.3 9.45l-7.72 7.72c-.78.78-.78 2.05 0 2.83L4 21.41c.39.39.9.59 1.41.59.51 0 1.02-.2 1.41-.59l7.78-7.78 2.81-2.81c.8-.78.8-2.07 0-2.86zM5.41 20L4 18.59l7.72-7.72 1.47 1.35L5.41 20z\"/>\n",
              "  </svg>\n",
              "      </button>\n",
              "      \n",
              "  <style>\n",
              "    .colab-df-container {\n",
              "      display:flex;\n",
              "      flex-wrap:wrap;\n",
              "      gap: 12px;\n",
              "    }\n",
              "\n",
              "    .colab-df-convert {\n",
              "      background-color: #E8F0FE;\n",
              "      border: none;\n",
              "      border-radius: 50%;\n",
              "      cursor: pointer;\n",
              "      display: none;\n",
              "      fill: #1967D2;\n",
              "      height: 32px;\n",
              "      padding: 0 0 0 0;\n",
              "      width: 32px;\n",
              "    }\n",
              "\n",
              "    .colab-df-convert:hover {\n",
              "      background-color: #E2EBFA;\n",
              "      box-shadow: 0px 1px 2px rgba(60, 64, 67, 0.3), 0px 1px 3px 1px rgba(60, 64, 67, 0.15);\n",
              "      fill: #174EA6;\n",
              "    }\n",
              "\n",
              "    [theme=dark] .colab-df-convert {\n",
              "      background-color: #3B4455;\n",
              "      fill: #D2E3FC;\n",
              "    }\n",
              "\n",
              "    [theme=dark] .colab-df-convert:hover {\n",
              "      background-color: #434B5C;\n",
              "      box-shadow: 0px 1px 3px 1px rgba(0, 0, 0, 0.15);\n",
              "      filter: drop-shadow(0px 1px 2px rgba(0, 0, 0, 0.3));\n",
              "      fill: #FFFFFF;\n",
              "    }\n",
              "  </style>\n",
              "\n",
              "      <script>\n",
              "        const buttonEl =\n",
              "          document.querySelector('#df-9a98ccbf-b34f-4d95-bc7d-7ce81a33d7dd button.colab-df-convert');\n",
              "        buttonEl.style.display =\n",
              "          google.colab.kernel.accessAllowed ? 'block' : 'none';\n",
              "\n",
              "        async function convertToInteractive(key) {\n",
              "          const element = document.querySelector('#df-9a98ccbf-b34f-4d95-bc7d-7ce81a33d7dd');\n",
              "          const dataTable =\n",
              "            await google.colab.kernel.invokeFunction('convertToInteractive',\n",
              "                                                     [key], {});\n",
              "          if (!dataTable) return;\n",
              "\n",
              "          const docLinkHtml = 'Like what you see? Visit the ' +\n",
              "            '<a target=\"_blank\" href=https://colab.research.google.com/notebooks/data_table.ipynb>data table notebook</a>'\n",
              "            + ' to learn more about interactive tables.';\n",
              "          element.innerHTML = '';\n",
              "          dataTable['output_type'] = 'display_data';\n",
              "          await google.colab.output.renderOutput(dataTable, element);\n",
              "          const docLink = document.createElement('div');\n",
              "          docLink.innerHTML = docLinkHtml;\n",
              "          element.appendChild(docLink);\n",
              "        }\n",
              "      </script>\n",
              "    </div>\n",
              "  </div>\n",
              "  "
            ]
          },
          "metadata": {},
          "execution_count": 138
        }
      ]
    },
    {
      "cell_type": "code",
      "source": [
        "mae_p, rmse_p, r2_p = compute_measures(y_observed, y_pred_p)"
      ],
      "metadata": {
        "id": "5o_dVw80MbSH"
      },
      "execution_count": null,
      "outputs": []
    },
    {
      "cell_type": "code",
      "source": [
        "r2 = [r2_c, r2_p]\n",
        "mae = [mae_c, mae_p]\n",
        "rmse = [rmse_c, rmse_p]\n",
        "\n",
        "metrics = pd.DataFrame([r2, mae, rmse],['R^2', 'MAE', 'RMSE'])\n",
        "metrics.columns=['Call', 'Put']\n",
        "metrics"
      ],
      "metadata": {
        "colab": {
          "base_uri": "https://localhost:8080/",
          "height": 143
        },
        "id": "QGNLtAqhMfCA",
        "outputId": "dcafe5f0-e2a3-4c47-f25c-56e674da7b1d"
      },
      "execution_count": null,
      "outputs": [
        {
          "output_type": "execute_result",
          "data": {
            "text/plain": [
              "          Call       Put\n",
              "R^2   0.564159  0.738590\n",
              "MAE   7.274867  5.395300\n",
              "RMSE  7.427323  5.455873"
            ],
            "text/html": [
              "\n",
              "  <div id=\"df-04a594aa-5a90-4953-8477-69eba7c7162a\">\n",
              "    <div class=\"colab-df-container\">\n",
              "      <div>\n",
              "<style scoped>\n",
              "    .dataframe tbody tr th:only-of-type {\n",
              "        vertical-align: middle;\n",
              "    }\n",
              "\n",
              "    .dataframe tbody tr th {\n",
              "        vertical-align: top;\n",
              "    }\n",
              "\n",
              "    .dataframe thead th {\n",
              "        text-align: right;\n",
              "    }\n",
              "</style>\n",
              "<table border=\"1\" class=\"dataframe\">\n",
              "  <thead>\n",
              "    <tr style=\"text-align: right;\">\n",
              "      <th></th>\n",
              "      <th>Call</th>\n",
              "      <th>Put</th>\n",
              "    </tr>\n",
              "  </thead>\n",
              "  <tbody>\n",
              "    <tr>\n",
              "      <th>R^2</th>\n",
              "      <td>0.564159</td>\n",
              "      <td>0.738590</td>\n",
              "    </tr>\n",
              "    <tr>\n",
              "      <th>MAE</th>\n",
              "      <td>7.274867</td>\n",
              "      <td>5.395300</td>\n",
              "    </tr>\n",
              "    <tr>\n",
              "      <th>RMSE</th>\n",
              "      <td>7.427323</td>\n",
              "      <td>5.455873</td>\n",
              "    </tr>\n",
              "  </tbody>\n",
              "</table>\n",
              "</div>\n",
              "      <button class=\"colab-df-convert\" onclick=\"convertToInteractive('df-04a594aa-5a90-4953-8477-69eba7c7162a')\"\n",
              "              title=\"Convert this dataframe to an interactive table.\"\n",
              "              style=\"display:none;\">\n",
              "        \n",
              "  <svg xmlns=\"http://www.w3.org/2000/svg\" height=\"24px\"viewBox=\"0 0 24 24\"\n",
              "       width=\"24px\">\n",
              "    <path d=\"M0 0h24v24H0V0z\" fill=\"none\"/>\n",
              "    <path d=\"M18.56 5.44l.94 2.06.94-2.06 2.06-.94-2.06-.94-.94-2.06-.94 2.06-2.06.94zm-11 1L8.5 8.5l.94-2.06 2.06-.94-2.06-.94L8.5 2.5l-.94 2.06-2.06.94zm10 10l.94 2.06.94-2.06 2.06-.94-2.06-.94-.94-2.06-.94 2.06-2.06.94z\"/><path d=\"M17.41 7.96l-1.37-1.37c-.4-.4-.92-.59-1.43-.59-.52 0-1.04.2-1.43.59L10.3 9.45l-7.72 7.72c-.78.78-.78 2.05 0 2.83L4 21.41c.39.39.9.59 1.41.59.51 0 1.02-.2 1.41-.59l7.78-7.78 2.81-2.81c.8-.78.8-2.07 0-2.86zM5.41 20L4 18.59l7.72-7.72 1.47 1.35L5.41 20z\"/>\n",
              "  </svg>\n",
              "      </button>\n",
              "      \n",
              "  <style>\n",
              "    .colab-df-container {\n",
              "      display:flex;\n",
              "      flex-wrap:wrap;\n",
              "      gap: 12px;\n",
              "    }\n",
              "\n",
              "    .colab-df-convert {\n",
              "      background-color: #E8F0FE;\n",
              "      border: none;\n",
              "      border-radius: 50%;\n",
              "      cursor: pointer;\n",
              "      display: none;\n",
              "      fill: #1967D2;\n",
              "      height: 32px;\n",
              "      padding: 0 0 0 0;\n",
              "      width: 32px;\n",
              "    }\n",
              "\n",
              "    .colab-df-convert:hover {\n",
              "      background-color: #E2EBFA;\n",
              "      box-shadow: 0px 1px 2px rgba(60, 64, 67, 0.3), 0px 1px 3px 1px rgba(60, 64, 67, 0.15);\n",
              "      fill: #174EA6;\n",
              "    }\n",
              "\n",
              "    [theme=dark] .colab-df-convert {\n",
              "      background-color: #3B4455;\n",
              "      fill: #D2E3FC;\n",
              "    }\n",
              "\n",
              "    [theme=dark] .colab-df-convert:hover {\n",
              "      background-color: #434B5C;\n",
              "      box-shadow: 0px 1px 3px 1px rgba(0, 0, 0, 0.15);\n",
              "      filter: drop-shadow(0px 1px 2px rgba(0, 0, 0, 0.3));\n",
              "      fill: #FFFFFF;\n",
              "    }\n",
              "  </style>\n",
              "\n",
              "      <script>\n",
              "        const buttonEl =\n",
              "          document.querySelector('#df-04a594aa-5a90-4953-8477-69eba7c7162a button.colab-df-convert');\n",
              "        buttonEl.style.display =\n",
              "          google.colab.kernel.accessAllowed ? 'block' : 'none';\n",
              "\n",
              "        async function convertToInteractive(key) {\n",
              "          const element = document.querySelector('#df-04a594aa-5a90-4953-8477-69eba7c7162a');\n",
              "          const dataTable =\n",
              "            await google.colab.kernel.invokeFunction('convertToInteractive',\n",
              "                                                     [key], {});\n",
              "          if (!dataTable) return;\n",
              "\n",
              "          const docLinkHtml = 'Like what you see? Visit the ' +\n",
              "            '<a target=\"_blank\" href=https://colab.research.google.com/notebooks/data_table.ipynb>data table notebook</a>'\n",
              "            + ' to learn more about interactive tables.';\n",
              "          element.innerHTML = '';\n",
              "          dataTable['output_type'] = 'display_data';\n",
              "          await google.colab.output.renderOutput(dataTable, element);\n",
              "          const docLink = document.createElement('div');\n",
              "          docLink.innerHTML = docLinkHtml;\n",
              "          element.appendChild(docLink);\n",
              "        }\n",
              "      </script>\n",
              "    </div>\n",
              "  </div>\n",
              "  "
            ]
          },
          "metadata": {},
          "execution_count": 141
        }
      ]
    },
    {
      "cell_type": "code",
      "source": [],
      "metadata": {
        "id": "XF7FBdJQRCsZ"
      },
      "execution_count": null,
      "outputs": []
    }
  ],
  "metadata": {
    "accelerator": "GPU",
    "colab": {
      "provenance": [],
      "toc_visible": true,
      "include_colab_link": true
    },
    "gpuClass": "standard",
    "kernelspec": {
      "display_name": "Python 3",
      "name": "python3"
    },
    "language_info": {
      "name": "python"
    }
  },
  "nbformat": 4,
  "nbformat_minor": 0
}